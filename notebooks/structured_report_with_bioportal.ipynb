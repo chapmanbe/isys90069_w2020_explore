{
 "cells": [
  {
   "cell_type": "markdown",
   "metadata": {},
   "source": [
    "# Dynamic Documentation with Bioportal\n",
    "\n",
    "In order to complete this notebook, you will need to create a [Bioportal account](https://bioportal.bioontology.org/accounts/new). Once you have created your account in the cell below replace `REPLACE THIS WITH YOUR API KEY` with your api key and run the cell.. From the Bioportal documentation, \"Your API key will be listed in plain text on your account page.\" Also replace `username` below with your University of Melbourne login.\n"
   ]
  },
  {
   "cell_type": "code",
   "execution_count": null,
   "metadata": {},
   "outputs": [],
   "source": [
    "from IPython.display import YouTubeVideo\n",
    "YouTubeVideo(\"xZe_xtyyLb4\")"
   ]
  },
  {
   "cell_type": "code",
   "execution_count": null,
   "metadata": {},
   "outputs": [],
   "source": []
  },
  {
   "cell_type": "code",
   "execution_count": null,
   "metadata": {},
   "outputs": [],
   "source": [
    "apiKey = \"REPLACE THIS WITH YOUR API KEY\"\n",
    "username = \"username\"\n",
    "with open(\".apikey\", \"w\") as f:\n",
    "    f.write(apiKey)"
   ]
  },
  {
   "cell_type": "code",
   "execution_count": null,
   "metadata": {},
   "outputs": [],
   "source": [
    "from cdsutils.bioportal.metadataCollector import *\n",
    "import ipywidgets as ipw\n",
    "import os"
   ]
  },
  {
   "cell_type": "code",
   "execution_count": null,
   "metadata": {},
   "outputs": [],
   "source": [
    "REPORT_DIR = \"/home/shared/gen_reports\"\n",
    "DIAGNOSES_ONTOLOGIES = [\"ICD10CM\", \"DOID\"]\n",
    "MODIFIER_ONTOLOGIES = [\"RADLEX\", \"SNOMDCT\", \"LOINC\"]\n",
    "ANATOMY_ONTOLOGIES = [\"RADLEX\", \"FMA\", 'UBERON']\n",
    "FINDING_ONTOLOGIES = [\"RADLEX\", \"SNOMEDCT\", \"LOINC\"]\n",
    "PROCEDURE_ONTOLOGIES = [\"RADLEX\", \"CPT\", \"LOINC\"]"
   ]
  },
  {
   "cell_type": "code",
   "execution_count": null,
   "metadata": {},
   "outputs": [],
   "source": [
    "proc=ipw.SelectMultiple(options=PROCEDURE_ONTOLOGIES)\n",
    "find=ipw.SelectMultiple(options=FINDING_ONTOLOGIES)\n",
    "anat=ipw.SelectMultiple(options=ANATOMY_ONTOLOGIES)\n",
    "modi=ipw.SelectMultiple(options=MODIFIER_ONTOLOGIES)\n",
    "diag=ipw.SelectMultiple(options=DIAGNOSES_ONTOLOGIES)\n",
    "onts=\\\n",
    "ipw.HBox([ipw.VBox([ipw.Label(\"Procedures\"),proc], layout=ipw.Layout(width=\"15%\")),\n",
    "          ipw.VBox([ipw.Label(\"Findings\"),find], layout=ipw.Layout(width=\"15%\")),\n",
    "          ipw.VBox([ipw.Label(\"Anatomy\"), anat], layout=ipw.Layout(width=\"15%\")), \n",
    "          ipw.VBox([ipw.Label(\"Modifiers\"), modi], layout=ipw.Layout(width=\"15%\")),\n",
    "          ipw.VBox([ipw.Label(\"Diagnoses\"), diag], layout=ipw.Layout(width=\"15%\"))])\n"
   ]
  },
  {
   "cell_type": "code",
   "execution_count": null,
   "metadata": {},
   "outputs": [],
   "source": [
    "with open(\".apikey\") as f0:\n",
    "    apiKey = f0.read().strip()\n",
    "username=\"bcchap\"\n",
    "OUTDIR = os.path.join(REPORT_DIR, username)\n",
    "if not os.path.exists(OUTDIR):\n",
    "    os.makedirs(OUTDIR)"
   ]
  },
  {
   "cell_type": "code",
   "execution_count": null,
   "metadata": {},
   "outputs": [],
   "source": [
    "display(onts)"
   ]
  },
  {
   "cell_type": "code",
   "execution_count": null,
   "metadata": {},
   "outputs": [],
   "source": [
    "rr = RadiologyReport(apiKey, OUTDIR,\n",
    "                             procedures=proc.value,\n",
    "                             anatomy=anat.value,\n",
    "                             finding=find.value,\n",
    "                             fmodifier=modi.value,\n",
    "                             diagnosis=diag.value,\n",
    "                             dmodifier=modi.value)\n",
    "rr.display()"
   ]
  },
  {
   "cell_type": "code",
   "execution_count": null,
   "metadata": {},
   "outputs": [],
   "source": [
    "rr._rdir"
   ]
  },
  {
   "cell_type": "code",
   "execution_count": null,
   "metadata": {},
   "outputs": [],
   "source": [
    "rr.create_report()"
   ]
  },
  {
   "cell_type": "code",
   "execution_count": null,
   "metadata": {},
   "outputs": [],
   "source": [
    "import json\n",
    "import copy"
   ]
  },
  {
   "cell_type": "code",
   "execution_count": null,
   "metadata": {},
   "outputs": [],
   "source": [
    "tmp = copy.copy(rr._report)"
   ]
  },
  {
   "cell_type": "code",
   "execution_count": null,
   "metadata": {},
   "outputs": [],
   "source": [
    "tmp=defaultdict(list,\n",
    "            {'procedures': [('Superselective catheter placement (one or more second order or higher renal artery branches) renal artery and any accessory renal artery(s) for renal angiography, including arterial puncture, catheterization, fluoroscopy, contrast injection(s), image postprocessing, permanent recording of images, and radiological supervision and interpretation, including pressure gradient measurements when performed, and flush aortogram when performed',\n",
    "               'http://purl.bioontology.org/ontology/CPT/1020905')],\n",
    "             'findings': [(('right ureter', 'http://radlex.org/RID/RID30844'),\n",
    "               ('tortuous', 'http://radlex.org/RID/RID5916'),\n",
    "               ('severe', 'http://radlex.org/RID/RID5673')),\n",
    "              (('mass', 'http://radlex.org/RID/RID3874'),\n",
    "               ('right kidney', 'http://radlex.org/RID/RID29662'),\n",
    "               ('large', 'http://radlex.org/RID/RID5778')),\n",
    "              (('left kidney', 'http://radlex.org/RID/RID29663'),\n",
    "               ('normal', 'http://radlex.org/RID/RID13173'),\n",
    "               ('definite', 'http://radlex.org/RID/RID39047'))],\n",
    "             'diagnoses': []})"
   ]
  },
  {
   "cell_type": "code",
   "execution_count": null,
   "metadata": {},
   "outputs": [],
   "source": [
    "json.dumps(tmp)"
   ]
  },
  {
   "cell_type": "code",
   "execution_count": null,
   "metadata": {},
   "outputs": [],
   "source": []
  }
 ],
 "metadata": {
  "kernelspec": {
   "display_name": "Python 3",
   "language": "python",
   "name": "python3"
  },
  "language_info": {
   "codemirror_mode": {
    "name": "ipython",
    "version": 3
   },
   "file_extension": ".py",
   "mimetype": "text/x-python",
   "name": "python",
   "nbconvert_exporter": "python",
   "pygments_lexer": "ipython3",
   "version": "3.7.6"
  }
 },
 "nbformat": 4,
 "nbformat_minor": 4
}

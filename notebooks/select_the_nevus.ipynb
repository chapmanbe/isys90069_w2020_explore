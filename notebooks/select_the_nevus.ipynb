{
 "cells": [
  {
   "cell_type": "markdown",
   "metadata": {},
   "source": [
    "# What Defines Quality in Medicine?\n",
    "\n",
    "If you were to ask a medical imaging researcher (a well informed researcher), \"What defines image quality?\" she would response, \"Image quality is always tasks dependent and is related to the ability to accurately extract relevant information from the image.\"\n",
    "\n",
    "The same goes for documents. A quality document is a document from which you can accurately extract relevant information from the document. Here is a simple experiment to explore this. I have taken the descriptions you created earlier in the term of one of the four randomly selected moles.\n",
    "\n",
    "In the experiment below, you will be shown a description of a mole written by one of the students. You then select which of the four moles (a-d) you believe is being described.\n",
    "\n",
    "Since the term is over, to encourage you to participate I will give __20 dollars__ to the student who completes the task with the highest percent correct answers. I will also give __10 dollars__ to the student who completes the task and provided the description with the highest percent correct answers from the other students. In case of a tie, we will come up with a tie breaker (or split the award)!\n",
    "\n",
    "## Instructions\n",
    "\n",
    "- Run each of the cells below\n",
    "- In the second cell, select the image you believe is being described (a-d) then click on __submit__.\n",
    "- If you want to continue, then click on __continue__.\n",
    "\n",
    "You can do this over multiple sessions. The experiment will pick up where you left off.\n",
    "\n",
    "This does not work in Jupyterlab. You need to run it as a classical Jupyter notebook. The link I generate for you, should open it as a classical notebook."
   ]
  },
  {
   "cell_type": "code",
   "execution_count": 1,
   "metadata": {},
   "outputs": [],
   "source": [
    "from cdsutils.afc.afc import *"
   ]
  },
  {
   "cell_type": "code",
   "execution_count": 2,
   "metadata": {},
   "outputs": [
    {
     "data": {
      "application/vnd.jupyter.widget-view+json": {
       "model_id": "4e95fde4d8fc4f93a5c082e8166124fc",
       "version_major": 2,
       "version_minor": 0
      },
      "text/plain": [
       "AFC4(children=(HTML(value='<h2>Select the image being described by the text</h2>'), Label(value=''), HTML(valu…"
      ]
     },
     "metadata": {},
     "output_type": "display_data"
    }
   ],
   "source": [
    "AFC4(username)"
   ]
  },
  {
   "cell_type": "code",
   "execution_count": null,
   "metadata": {},
   "outputs": [],
   "source": []
  }
 ],
 "metadata": {
  "kernelspec": {
   "display_name": "Python 3",
   "language": "python",
   "name": "python3"
  },
  "language_info": {
   "codemirror_mode": {
    "name": "ipython",
    "version": 3
   },
   "file_extension": ".py",
   "mimetype": "text/x-python",
   "name": "python",
   "nbconvert_exporter": "python",
   "pygments_lexer": "ipython3",
   "version": "3.7.6"
  }
 },
 "nbformat": 4,
 "nbformat_minor": 4
}

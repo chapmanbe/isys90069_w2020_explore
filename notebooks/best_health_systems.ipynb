{
 "cells": [
  {
   "cell_type": "markdown",
   "metadata": {},
   "source": [
    "# What are our favorite health systems?\n",
    "### From those discussed by Reid in \"Sick Around the World\"\n",
    "\n",
    "In this notebook I'm going to use some simple NLP to try to explore what were our favorite health systems. In the process I hope to demonstrate some of the data-wrangling challenges that go along with NLP."
   ]
  },
  {
   "cell_type": "markdown",
   "metadata": {},
   "source": [
    "### Get Data from Canvas\n",
    "\n",
    "Canvas has a RESTful API. I'm going to use it to pull down the responses to the homework assignments.\n",
    "\n",
    "By the way, you can also use the Canvas API to access your data.\n",
    "\n",
    "The cell below contains the code I used to get the data from Canvas."
   ]
  },
  {
   "cell_type": "markdown",
   "metadata": {},
   "source": [
    "```Python\n",
    "import os\n",
    "with open(os.path.join(os.path.expanduser(\"~\"), \".canvaslms\", \"quiz_token\")) as f:\n",
    "    token = f.read()\n",
    "    \n",
    "from canvasapi import Canvas\n",
    "from bs4 import BeautifulSoup\n",
    "import unicodedata\n",
    "\n",
    "\n",
    "API_URL = \"https://canvas.lms.unimelb.edu.au/\"\n",
    "canvas = Canvas(API_URL, token)\n",
    "bec = canvas.get_user(canvas.get_current_user().id)\n",
    "ehealth = canvas.get_course(110024)\n",
    "\n",
    "assignments = ehealth.get_assignments()\n",
    "\n",
    "for a in assignments:\n",
    "    print(a)\n",
    "\n",
    "# This is the id number for the assignment\n",
    "healthsystem_id = 139425\n",
    "\n",
    "healthsystems = ehealth.get_assignment(healthsystem_id)\n",
    "\n",
    "healthsystem_submissions = healthsystems.get_submissions()\n",
    "\n",
    "responses = [(b.user_id, b.body) for b in healthsystem_submissions]\n",
    "\n",
    "\n",
    "len(responses)\n",
    "\n",
    "len(set([r[0] for r in responses]))\n",
    "\n",
    "healthsystem_text = [unicodedata.normalize(\"NFKC\", BeautifulSoup(r[1]).getText()) for r in responses if r[1]]\n",
    "\n",
    "with open(\"health_systems.json\", \"w\") as f:\n",
    "    json.dump(healthsystem_text, f)\n",
    "```"
   ]
  },
  {
   "cell_type": "code",
   "execution_count": 1,
   "metadata": {},
   "outputs": [],
   "source": [
    "import os\n",
    "import pandas as pd\n",
    "from collections import Counter\n",
    "import json\n",
    "# get token\n",
    "import random\n",
    "import matplotlib.pyplot as plt\n"
   ]
  },
  {
   "cell_type": "markdown",
   "metadata": {},
   "source": [
    "### "
   ]
  },
  {
   "cell_type": "code",
   "execution_count": 2,
   "metadata": {},
   "outputs": [],
   "source": [
    "with open(\"health_systems.json\", \"r\") as f:\n",
    "    healthsystem_text = json.load(f)"
   ]
  },
  {
   "cell_type": "code",
   "execution_count": 3,
   "metadata": {},
   "outputs": [
    {
     "data": {
      "text/plain": [
       "[\"By watching sick around the world, I think Taiwan's medical system is the one I like the most.\\nFrom the perspective of people's experience, it is very similar to the system being used in mainland China. Almost everyone has the right to medical insurance, and then the government will pay for all mainstream medical care, and the people only need to pay the basic expenses. The most convenient thing in this system is the use of the medical insurance card, which is quite convenient. By recording the user's medical history in detail, the doctor can see the patient's condition at a glance and make a proper diagnosis. Moreover, the payment information of the user is also stored in the card, which makes the payment extremely convenient and extremely friendly to the elderly and the disabled.\\nThis highly unified system also eliminates waiting time, allowing people to receive treatment in time before their body conditions change, which can greatly improve people's recovery rate and satisfaction.\",\n",
       " \"Among these 5 health systems, the one that is most interesting to me is New Zealand's healthcare system. I think that many countries have the problem of the lack of medical resources. Many residents need to make appointments with doctors a few days or even weeks in advance or stay in the clinic for a long time. New Zealand's family doctor policy can alleviate a lot of the need to go to the hospital. Because most of the time, patients are suffering from minor symptoms such as colds, that some community doctor or family doctor is able to solve. Only when encountering intractable diseases or surgical operations, the family doctor will introduce the patient to a public or private hospital for examination and treatment by experts. This means that the number of patients going to the hospital will be greatly reduced, which can greatly alleviate the pressure of the hospital, and will not waste too many medical resources.In addition, the family doctor will be more familiar with the physical condition of the residents and can infer the patient's condition more quickly. There are even medical records issued by family doctors that can help patients avoid allergic drugs.However, this policy will also lead to a shortage of resources for family doctors, because regardless of the size of the disease, residents need to notify the family doctor as soon as possible, so the ratio of the population to the family doctor will be a very important decision.\",\n",
       " \"As a Chinese, I am more interested in Taiwan's health care system, to compare with the Chinese health care system. Taiwan and China had similar background back in the 1950s, but Taiwan had started early to build their health care system, they referenced all the developed countries' health care system development, and learned from the good routes and avoided the traps in as an example. Therefore, Taiwan has built an appropriate system that suits them best.  The health sector issues health care like an ID to every citizen, the citizen uses this health card all the time when they look for a doctor,  the card stores all the history of health records, directly connects with pharmacy and insurance department, the drug bill will be covered right away, so the public won't concern drug expenses and they all satisfy with their health system. Also, Taiwanese don't set GP, the patients see doctors directly, therefore their medical processes are efficient, the IT technique supports the health care system to become more efficient and inexpensive. China currently has the similar methods for health care, however, the government started late and the population is enormous, therefore, it takes a long time to develop.\",\n",
       " \"I am most interested in the health system in Taiwan, China. First of all, there is very high satisfaction. Taiwan’s healthcare companies rank among the top in the world for their most effective healthcare systems and capabilities. The advantages of Taiwan's medical system are good accessibility, comprehensive population coverage, short waiting time, high quality, affordable prices, leading technology, patient-centric services, and leading physicians to provide comprehensive professional services.\",\n",
       " 'I choose Taiwan as the most interesting country. I lived in Taiwan during my university life for almost 4 years. The medical insurance policy in Taiwan is the best in the world. Every resident in Taiwan needs to opt in the insurance program. Patients only carry the smart card when they need to see the doctor. Medical service and insurance are tied together. Patients only take the card and see the doctor and pay a little fee. Everyone, whatever rich or poor, all people are cared for by the national medical system.',\n",
       " \"I will be more interested in the British medical system. Reid's book describes the British medical system. In the UK, nationals do not need to provide additional medical expenses. All medical expenses will be raised by the National Health Service (NHS) established by the government through taxation. This is social medicine in the traditional sense. Under this medical system, the competition will occur between hospitals, so as to achieve the purpose of being selected by patients. Such a system greatly enhances the hospital's research capabilities. In the country where I live, although the government will pay a part of the medical expenses for people, people still need to pay for medical treatment. When people get a very serious disease, some people cannot see a doctor because of poverty.\",\n",
       " '我更喜欢从日本的卫生系统获得医疗保健。我认为日本的医疗保健系统介于英国和美国之间。英国采用公共医疗系统。尽管这种“社会化药品价格便宜,但可能导致效率相对较低。美国的医疗保健已完全私有化。尽管医疗水平很高,但穷人负担不起。在日本,医疗服务由私营部门和医疗机构提供。费用由政府负担,这不仅确保效率,而且大大缓解了医疗困难且费用昂贵的问题,同时,日本没有转诊系统,患者可以随时随地去任何专科医生求诊。他们喜欢,这不仅节省了成本,而且大大减少了患者可能遇到的麻烦。',\n",
       " 'When arguing about which country I prefer from the VIDEO, I choose Japan. The reason is because Japan has a ‘social insurance’. This policy provide people who can’t afford a medical help could receive health care, which means Japan gave a wider access to its citizens and shorten the gap between rich people and poor people in health care. Moreover, people could select their own health care option, for example, people with higher income could select private health care and poor people could receive social insurance, this promotes the fairness. ',\n",
       " 'I prefer to get my healthcare from Switzerland’s health system. Compare to the no bills, shorter NHS waiting lists, with excellent preventive medicine and great preventive care in UK, and the longest life expectancy, excellent health results, no waiting lists and rock bottom costs in Japan. Everybody in Switzerland buy insurance with the state paying for the poor. In return, it guaranteed a comprehensive package of medical care for all. Although it has challenge that having achieved universal health care, it has to decide how much citizens are willing to pay. It’s already the second most expensive health care system in the world. Switzerland provides a more comprehensive healthcare system, which achieves social equity and reduces the burden on low-income people.',\n",
       " 'After watching Sick Around the World, I prefer to get healthcare from Japan most. I think that the price problem and the allocation of medical resources are challenges faced by medical systems all over the world. The Japanese medical system responds to this problem in a very special way, which is to set a uniform price for medical prices across the country. This measure allows citizens to enjoy relatively equal medical resources and acceptable prices to the greatest extent. Of course, as mentioned in the video, this measure also exposes most Japanese hospitals to fiscal deficits. If it can be successfully resolved, how to ensure the interests of the patients while ensuring the benefits of the hospital, I think the Japanese medical system will become a very successful example.',\n",
       " \"As said in the video, Healthcare must be every person's right irrespective of their employability status. As in the case of Taiwan deciding its healthcare policies by picking out the best attributes from healthcare systems around the world and refining to make a better is in fact the optimal solution to current day healthcare. However, I am most intrigued by the Japanese healthcare system as the entire public is covered for health care irrespective of their status. Most prices are negotiated to keep in mind the records of people visiting and the need of that particular medicine/service. Since there is very little to no waiting time, it is optimal for any patient at any given time(even in case of an emergency) to get the right treatment on time.\\nOn top of all these, there is a proper management system in place that can account for 126million people enrolled on the single payment system that keeps track of every visit/medication used/ future visits needed etc.\",\n",
       " 'I would like to choose the health system from Switzerland. It is known that health insurance is compulsory for all long-term residents in Switzerland and the premium is the same in principle regardless of age, sex and state of health. Specially, government will pay for the poor for the health service. This law makes sure that all the residents can receive good health service and ensure the human right to have a private health care when they get hurt. Besides, as all the residents entitled to health insurance, it eliminates the fear of medical disputes and safeguards the interests of the members. In addition, as the state determines the price of medicines and medical services, the insurance company can only attract people by improving their service, the healthy competition among company control the cost of care and ensure the quality of service at the same time. Furthermore, as patients are protecting by the health insurance, they have the right to change doctor at any time. indeed, Swiss doctors talk directly with patients, ensuring that each patient fully understands and participates in all decisions.',\n",
       " \"I would like to choose the Japanese medical system. I think the Japanese medical system is somewhere between the Nordic and American models. The Nordic countries mostly adopt public medical systems, which are relatively inefficient. The United States is privatized. Although the level of medical care is high, the poor are burdened with suffering. Medical services in Japan are provided by the private sector, while the government pays for medical expenses. This not only ensures efficiency but also solves the problems of difficult and expensive medical treatment. Japan implements national public medical insurance, which has already covered all citizens. Thanks to this system, the burden on Japanese people when seeking medical treatment is very small, and many diseases can be detected and treated early, eliminating the need for more expensive treatment costs after the disease worsens. The proportion of public expenditure in Japan's total medical expenses is relatively high. Citizens are divided by age, and benefits are equal regardless of income in the same age group. Young people and high-income earners take on more responsibilities. The preference for the poor, children and the elderly is a manifestation of social justice. Pay attention to the value of medical workers and enrich the supply of social medical resources.\",\n",
       " 'After watching the video, I am most intrigued by Germany\\'s health system. \\nThe reason I choose this system is that, firstly, it uses a social insurance model and Germans are free to buy their insurance from one of more than 200 private, nonprofit \"sickness funds.\" Even though the average family premium is $750 per month which is higher than other countries mentioned in the video, the co-payments is pretty low compared to other countries in my opinion.\\nSecond reason is that Germans can choose to see a specialist straightaway without seeing a gatekeeper first, provided that they are happy to pay a higher co-payments. And it also allows the richest 10 percent Germans opt out of the sickness funds in favor of U.S.-style for-profit insurance. These patients are able to see doctors faster in general. \\nI prefer this way because it gives citizens more options based on their level of income so people are divided up to different types of hospitals/clinics. Richer people do not need to wait as long as others and it will also reduce the workload for \"sickness funds\" and improves efficiency.\\nThirdly, the percentage of GDP spent on health care is 10.7 which seems to be a reasonable number to me, not too much and not too less like Japan.',\n",
       " \"I prefer to get healthcare from Japan. In Japan, residents pay for medical insurance. The results shown by the Japanese medical system are excellent health result, no waiting lists and rock bottom costs. These are very good for patients, people can be diagnosed immediately when they are sick, and using MRI and other machines is not very expensive. Patients will not cause bankruptcy and other things because of illness. At the same time, because the cost is low and there is no need to wait, people do not have to worry about the cost, but can go to the hospital for regular examinations. This is very helpful to extend people's life.\",\n",
       " '\\nThe good thing of Germany’s health care system is that it covers many areas such as mental health, therapist. It not only care about people’s physical condition but also their mental health and other feelings. Which align with the definition of health from WHO we talked about before. It’s different to America that it allows everyone to enjoy the system. Poor people gets help from the government. The speed of seeing doctor is reasonable, faster than the British. In addition, sickness fund negotiate with different sectors to provide low price. the shortage of this might be that doctors didn’t get satisfied. But it looks like better than in Japan.',\n",
       " 'I prefer to get my healthcare from Japan for the following reasons. \\n\\nCHEAP: The healthcare system in Japan covers everybody, anybody, anywhere, anytime, and it is cheap. It spends half as much as the United States per capita – for just 8% of GDP. If you lose your job in Japan, you don’t lose your healthcare insurance. The average premium for a Japanese family is only $280 a month with the employer paying half of it. Insurance companies cannot make a profit.\\nCONVENIENCE: 80% of the hospitals are private. There are no gatekeepers, so Japanese can go see any specialist they want. Compared to Australia, I have to book an appointment with the GP and only can see a specialist if the GP recommends. \\nSTANDARD PRICE EVERYWHERE IN JAPAN: Japanese patients like technology like scans. However, the cost is kept under control because the Japanese Health Ministry tightly controls the price of health care down to the smallest detail. Every two years the physicians and health ministry negotiate a fixed price for every single procedure and drug. There is a standard price for each of those and is same everywhere in Japan. Doctors can only charge what the official book dictates. \\n',\n",
       " 'I prefer Japan. The main reason is there is no waiting time, and no need to make  reservations. In case of feeling sick, you can go to the doctors immediately, or the doctors come to you.  In addition, there are annual health examinations. The prices of treatments/medicines are reviewed and adjusted periodically, and unified in the whole country. In general, from my opinion, healthcare in Japan is easy and fair to access.',\n",
       " ' After watching Sick Around the World,  I were most intrigued by the Japanese health system and I prefer to get my healthcare from Japan. The reasion is quite simple. The medical expenses in Japan are very low and everyone in Japan is covered by the healthcare insurance. Whenever I feel that I need to see a doctor, I don’t have to worry about expensive medical expenses in Japan. However, the healthcare system in Japan is not that good for doctors.',\n",
       " 'By watching Sick Around the World, Japan is the country that I was most intrigued by and prefer to get your healthcare from. \\nFirstly, all citizens in Japan are covered. The Japanese are prodigious consumers, they go to the doctors three times as often as Americans do, and they can go see any specialist they want. \\nSecondly, the cost for seeing a doctor is cheap. The Japanese Health Ministry tightly controls the price of healthcare right down to the smallest details. \\nThirdly, due to the frequency of seeing doctors, the consumers are only need few minutes. ',\n",
       " \"Among the countries that Reid visited, I prefer to get my healthcare from the health system of UK. Although it seems that I am still a healthy young woman, as far as this problem is concerned, I personally prefer to consider it from the worst perspective. If it is in the other countries, I would worry that I might not have the financial capacity to pay for medical expenses when I am poor, so I dare not seek medical treatment, or I may not get the government's financial support in time to help me get proper treatment. On the one hand, I may not be able to afford the high medical expenses in the United States and Switzerland based on my current family conditions and financial ability. On the other hand, if I had the same disease that need to be treated urgently with another person who was richer and more generous than me, in Germany, that person would obtain the treatment better and earlier since he paid more than I did. Life is thus measured by money, and no longer equal because of life itself. I cannot accept this reality. Without enough wealth, I dare not entrust my life and health to such a medical system easily. In contrast, although there are still problems with the British medical insurance system, at least, except for some out-of-pocket expenses for dental care, glasses, and 5% prescription drugs, as long as I am a taxpayer in this country, I am guaranteed with free healthcare.\",\n",
       " 'I prefer to get healthcare from Japan according to three reasons listed below. First, everything is covered by health insurance. Patients don’t have to worry about the medical bill because of the rock bottom price decided by the Japanese government. Second, even though the cost of visiting a doctor is cheap, there is no waiting list. Patients can go to the hospital and receive the examinations without making an appointment. This makes sure the patients’ conditions can be well controlled if symptoms are severe or start suddenly. Last, health insurance is cheap and sustainable. The average premium for a family is only 280 dollars per month. And it will not be stopped if you lose your job. The government will take care of it to make sure every citizen have health insurance.  ',\n",
       " '  I prefer the Japanese system. I am Japanese and I never heard someone is bankrupt because of medical bills like he mentioned in the video. Moreover, there are a lot of private hospitals or clinics even in rural areas, so patients can go there sooner if they feel sick and usually do not have to wait for getting treatments. Actually, the number of dental clinics in Japan is more than the number of convenience stores and medical bills for it are also covered by insurance, so patients do not have to spend much money on even dental treatments. For example, the cost for a decayed tooth is less than $50 at anywhere for everyone.\\n  However, not only running hospitals is endangered, but also decreasing the number of doctors is another problem. Japan faces a serious problem that the low birth rate and it affects the medical aspect as well. Although the number of doctors is diminishing, the number of elderlies increases due to established medicare and they often go to take it. Hence, the workload for each doctor becomes higher as well. We might have to adopt some medical systems from other countries to improve labor conditions for doctors.',\n",
       " 'After watching the video, the most intrigued country to me is Japan. I prefer for Japanese health care system for several reasons. Firstly, there is no waiting line for seeing a doctor. I find it really annoying to wait for a long time just for some small problems. When I was studying in America. I remember once, one of my friends was having a fever for 5 days and she really felt uncomfortable. I decided to drive her to the emergency department. After we arrived at the hospital, we spent 7 hours that day in the hospital for some simple tests and medicines, which I believe will never happen in Japan.  Secondly, Japan does not have gatekeepers in hospitals. Patients can choose their doctors without administration fees. Private hospitals offer more options for patients to find doctors they trust rather than assign by some gatekeepers. Personally speaking, I think private hospital usually have better services when they have to compete with other hospitals, since the price are fixed.',\n",
       " 'After comparing health care systems in many countries, I am more interested in healthcare systems in the UK. They did not establish special medical bills (or call medical insurance), so that all people can get free medical care to a certain extent. They also set up a special family doctor, which is very similar to Australia, but these are not seen in the United States and China. You know, at some moments in China, hospitals are very crowded, and setting up some GPs can save government expenditures and secondly save patients\\' time to see doctors. Secondly, in the UK, their doctors can get a better income, and these incomes are closely related to the number of patients they see, which greatly improves the enthusiasm of medical practitioners. In China, the income of doctors is not high, which indirectly leads to poor patient experience. Finally, in the UK, the medical care industry seems to be \"monopoly\", and people maintain this NHS through taxation. Some improper transactions will not involve the national medical health. This is worth learning.But I also have a problem here. The UK did not perform well during COVID-19. We can see that when major unpredictable diseases come, the daily medical system is not enough to maintain or satisfy people\\'s current needs. So how should it be improved?',\n",
       " \"I find Japan's health-care system to be the most intriguing not only because I've never thought about how they handle it, but because it is another universal health-care system like Australia's. Helping produce excellent results like the longest healthy life expectancy and lowest infant mortality rate, I am surprised that they have achieved this without anyone going broke from medical bills. Unlike taxes paying for medicine like Australia's Medicare levy, the Japanese use social insurance combined with a single payment system and price book to keep costs low and consistent. This makes doctor visits more accessible, frequent and in my opinion, routine. I think that getting regular health check-ups is important for early detection and treatment if required, and I am willing to bet that in non-universal health-care systems, a barrier for some people to these check-ups is the cost of appointments and medications.\",\n",
       " 'I am most intrigued by the Taiwan Healthcare System. The fact that they looked all over the world and adopted some of the international initiatives the thought it could work on their country makes it a great system in my opinion. They literally thought outside the box and took advantage of all the efficiency and effectiveness that Information Technologies could provide and put them to use. There is the issue of Big Brother from the Government, but personally I would value more an efficient and effective system than the government having access to my data if that means it can save my life in case of serious illness.',\n",
       " 'Taiwan!!!!! has the best health case system as Emanuel mentioned, because in Taiwan the fee for health care costs is really low, even for the drugs or surgery. People pay for the health system in the tax and the tax for the health system is very low as well. And the residents get a high quality of services. Even for families with low income, the government provides subsidies for them to pay the health care tax, therefore, they can also have the same quality of healthcare with other people. For the homeless group of people, there are few specific clinics set up by the government for them. ',\n",
       " 'Japanese health system.\\nBecause, it could cover all citizens firstly and the system broadly distributes every aspects, including the use of medical devices, medications, services, etc.  Meanwhile,  the payment of citizens depends on their incomes. Therefore, this system ensures every citizen could afford the medical bill to avoid the serious consequences due to be illness, e.g. bankruptcy or death.',\n",
       " 'I am most intrigued by the American health system. \\nOn the one hand, it is undeniable that the United States has a developed medical system and the most advanced medical technology and the highest quality medical personnel. \\nOn the other hand, although medical costs in the U.S. are high, there are many types of medical insurance in the United States. This means no matter what class you are in, you can have suitable medical insurance. The United States government-led social medical insurance focuses on protecting the elderly (Medicare) and vulnerable groups (Medicaid), while medical insurance for working people is provided by commercial insurance institutions. This seems very reasonable to me. First of all, it guarantees the most difficult human rights basic medical services (because the elderly and the poor usually have no source of income). Secondly, healthy competition between commercial insurance can better promote the development of health care.\\n ',\n",
       " \"\\nAfter watching Sick Around the World, I was most intrigued by Japan's Healthcare system.\\nI believe the overall quality and fairness is good in Japan compared to others.I liked morale right to healthcare for everyone, best health statistic, No waiting (noGatekeeper), equal access to care ,very cost-effective. \\nBest health statistics may be due to lifestyle and diet, which i came across while reading book Ikigai sometime back.\\nThis was also  a reason i got more intrigued by its healthcare system.\\nEven though there is a limitation ;50% Japan's Hospitals operating in the red ,but i think even if japan increases the overall spending on healthcare it can solve this issue and still be a cheaper healthcare system.\\n\",\n",
       " \"For me, I would like to choose the health system of Japan. Since I am not a doctor or any other medical worker, I will be the patient more often. Therefore, most things I care about are the fee and waiting time. \\nAs Reid introduced in the video, there is no waiting time for the patient to see the doctor in Japan and Taiwan. For instance, If I have a severe cold or abdominal pain, of course, I don't want to wait for 2 or more weeks. That's why I won't choose the health system in Germany, the USA, or other western countries mentioned in the video. Meanwhile, as mentioned in the video the treatment fee in Japan are fixed and cheap, all the fee has been defined by the government and recorded in the book. So I like the health system of Japan the most.\",\n",
       " 'I would say that I am going to choose the Japanese health care system for the following reasons. Firstly, which is the most important one I think, is the efficiency of getting treatment. In the Japanese health system, there is no gatekeeper such as GP. You do not need to make an appointment, if you are sick you can get straight to the doctor. Also, the time spent in the hospital is less than other systems, sometimes just 3-5 minutes. For me, I do not want to wait for like 1 week to get treatment when I get sick since it is suffering for me to wait when I am feeling uncomfortable. Secondly, the price of health care is very cheap, it only cost 98$ for MRI. In conclusion, I think the Japanese health system can provide cheap and fast treatment to patients, so I would like to choose it.',\n",
       " \"After watching Sick Around the World, I would like to choose Japanese healthcare system. In China, we have similar healthcare system but there are still many differences. \\nThe reasons could be:\\n\\n The medical bills are cheap. As Chinese, our medical bills are actually cheaper than most countries but according to this movie, Japan maybe cheaper.\\n The insurance policy is standard in the whole country. Not only the insurance fee but the policy. It's really helpful for all citizens, especially who are in poor financial conditions and who already have some diseases. In China, the insurance fees differ and some insurance policy from private insurance company would refuse to pay for people who already have diseases like diabetes.\\n No GP requirement. Both China and Japan have no GP policy, and I am used to seeing doctors directly and quickly as long as I go to the hospital.\\n Although hospitals are suffering broken which may cause difficulty for patients to seeing doctor, I believe the government would adjust the policy to keep the balance.\\n\",\n",
       " \"As far as I'm concerned, I prefer the Japanese health system. There are the following reasons. First of all, Japan's health system is covered by its full name, which is a kind of social insurance. Compared with many countries, such as China, many poor people are unable to see a doctor. Japan provides health services for everyone, which is worth learning from. In addition, Japan's fast medical service, no need to make an appointment is also an attractive place for me. In China, it often takes a lot of time to see an illness, and sometimes it takes half a day to complete a small examination. But in Japan, the average medical treatment for each person is often only three to five minutes, which makes me very envious. Finally, I was also attracted by the abundance of medical devices and the low price of inspection in Japan. In China, some complex medical projects need to go to other cities, which is very troublesome.\",\n",
       " 'I think the health system in Australia is very good, and which consists of two systems, public and private. Every citizen of Australia can access care for free or at a lower cost through Medicare. Medicare was funded by the tax(funded by local, state and federal governments). for the private system, which includes health service providers that are owned and managed privately, like private hospitals, specialist medical and allied health, and pharmacies(funded by a combination of government and private entities). The whole health system in Australia ensure very people who live in Australia can enjoy the benefits of the system and easier to support the cost of healing. \\n \\n ',\n",
       " 'In the video introduction, I hope to get medical care from the German medical system. The German medical system is a market-based system. Under this medical system, patients can be allowed to perform various medical care at any time. In this kind of medical system, statutory medical insurance occupies the main position. At the same time, private insurance is used as an auxiliary.The advantage of this medical system is that it can, first, effectively avoid the possibility of doctors charging indiscriminately. Second, medical resources can be allocated more efficiently. Third, the division of labor and collaboration can be carried out more effectively.Therefore, I hope to get medical care in the German medical system.',\n",
       " \"From my perspective, I prefer to get my healthcare from Taiwan. The Average family premium: $650 per year for a family for four, which is relatively cheap. What attracts me most is the smart card every citizen owns can be used to record users' medical history and the system also helps public health officials monitor standards and effect policy changes nationwide. Thus, the administrative costs of Taiwan is the lowest in the world. \",\n",
       " \"Germany has one of the best health care systems in the world, with universal coverage, which means germans don't have to worry about huge health costs.One of the reasons why Germany's health-care system is so good is that it is almost cover everything.\\n1.Universal health care: Germany has universal health insurance, which means that everyone living in Germany must have health insurance.2. Percentage of public and private health insurance: Most people have public health insurance and about 10 percent have private health insurance.3.  percentage covered by health insurance: 100%.4. number of pharmacies: Germany has more than 20,000 pharmacies or one for every 4,000 people.5. number of hospitals: about 2,000.\",\n",
       " 'I would chose to get my health care from Taiwan, as mentioned in the documentary they learnt and adapted different aspects of successful health care systems from different countries. I particularly like that there is no opt out option and everyone joins and pays the same amount to get the same care. It also has no gatekeepers and no high waiting times meaning citizens are able to get diagnosed and treatment efficiently. Additionally, unlike the other health care systems mentioned in the documentary every citizen of Taiwan is issued with a smart card which dramatically reduces administrative costs and also makes it easier for both the practitioner and patient to transport medical records. Moreover, the system includes drug benefits and includes all types of care including optical and other types of extras. Ultimately, I believe Taiwan has found an optimal system where all citizens contribute to the health care system, receive adequate care and the government is not spending a high amount of GDP.',\n",
       " 'For the countries mentioned by Reid in the interview, I am most interested in the medical system in Taiwan. The reason is that I grew up here, the overall medical environment is very convenient, with a sound medical system, people can use the health insurance card to record the contents of each visit and the type of medicines given by the doctor, and the visit only costs about 8 Australian dollars. At the same time, the popularity of clinics and hospitals is also quite high, and citizens who need medical resources can see the doctor quickly and also without the pressure to bear high medical expenses. I think that a sound medical system is based on the efforts of the government and all the people, such as the prevention of COVID-19. I returned to Taiwan last week for 14 days of independent isolation. The health bureau uses mobile phones to locate and control whether or not I leave the quarantine at any time, and public representatives of the block contact me every day to understand my physical condition so that I can report and treat in time when I am unwell. However, the convenient and low-cost medical resources have also extended the problem of the national health insurance financial deficit. Although the national satisfaction with health system has reached 87%, the number of visits per capita is three times higher than in developed countries, which has led to a continuous increase in losses. It is a topic worth discussing.',\n",
       " 'Healthcare in Switzerland\\nAfter watching the video, I think the health system of Switzerland is the best among all the countries that Reid visited. The reasons are as follows:\\n\\nThe law requires Swiss residents to purchase health insurance (compulsory health insurance or MHI).\\nNo one will be refused to provide pre-existing diseases.\\nThe government provides Mitsubishi Heavy Industries subsidies for low-income people.\\nPatients can get all levels of care directly-no referrals required.\\nMHI allows patients to choose their own provider.\\nThere is a little waiting time.\\nMaternity insurance is excellent: it includes prenatal care, all costs related to childbirth, and a one-week hospitalization after childbirth (teaching baby care skills during this period). Qualified midwives will also make post-natal family calls.\\n',\n",
       " \"I prefer to get services from the health care system in Japan. Japan's medical services are provided by the private sector, while the medical expenses are borne by the government. I don't have to worry about the cost, because as long as I'm insured, most of my medical expenses will be borne by the government. There are many small medical institutions in Japan. I can get medical services nearby and refer to large hospitals when necessary. This saves me a lot of time and the tedious appointment.\",\n",
       " \"I prefer to get healthcare from Taiwan. After Taiwan learnt experience of health system from many countries, Taiwan established effective health system. There are  three reason I pick Taiwan that I am most intrigued by. Firstly, all medical treatments and medicines will be covered by governance, everyone is treated equally. Secondly, there is no gatekeeper or waiting time in Taiwan's health system, clinic even open on the weekend, and there is no need to see GP firstly. Finally, health system of Taiwan is most convenient, everyone has owner smart card to get healthcare, and doctor can read all medical histories by smart cards. In addition, bill can be sent to governance insurance and paid automatically.  \",\n",
       " \"As a country with the purest air, the happiest people, and rated as the greenest country in the world, Finland does its best to make people enjoy a healthy life. Finland also boasts one of the most efficient healthcare systems globally, with many companies offering digital solutions to improve efficiency. One of the largest hospitals in Europe, HUS Helsinki University Hospital is the first hospital in the world to use boron neutron capture therapy (BNCT) in medical devices to treat cancer patients. Through its branch (HYKSin), medical services are provided to international patients. Currently, many digital health care solutions are designed to reduce patient waiting times. Data management company Avaintec, for example, set up a Sino-Finnish ARTIFICIAL intelligence and Innovation Research center in China with partners in early 2018. One of the projects is to provide an emergency center with a diagnostic system using artificial intelligence and machine learning. The neural network system can make the best guess based on the medical data input by the doctor.Moreover, NewIcon was founded in 2007 in Kuopio, central Finland, specializing in pharmaceutical management and pharmacy automation systems. The pharmacy at Helsinki University Hospital has used the company's automated system for years. Bone Index develops an index in Kuopio. It is a handy hand-held device for detecting the risk of osteoporosis. The goal is to get more people diagnosed early, prevent fractures, and help doctors make decisions. In genetic research, Finland has successfully combined genetic information with electronic health care data for research, with more than 98 percent of Finnish cases stored in electronic documents. FinnGen, a unique and unprecedented research project that has attracted international attention, aims to analyze half a million different blood samples from the Finnish biobank to understand the mechanisms of disease better and make more targeted individual treatment plans.\",\n",
       " 'Japan is the country  I was most intrigued by.  I prefer the health system in Japan because the health insurance company there covers everyone in their society, even those poor people. And also, there are lower drug prices and no waiting time if the patient needs to communicate with a doctor face to face. For example,  the health care system in Japan saves more money for me if I would like to visit the dentist or doctor regularly.',\n",
       " 'I am intrigued by the healthcare system of Taiwan. There are two factors I think that are essential for the patients. First is the waiting time. As a patient, waiting time may be suffering from pain. It may also leads to the pressure since patients may have no knowledge of their sickness and being worried from the information gaining online. Therefore, building a healthcare system without any waiting time is an essential factors that affecting the physical and mental wellbeing for the patients. Another feature is the building of a completed infomation system. Taiwan provides a card that it is swiped when meeting with the doctors. The card stores the medical record for every single meeting, which enables the doctors to know about the medicial history, prognisis and previous treatments and help to have a better diagnosis. I think this is essential, as it is convenient for the patients to changing from different hospitals and get better treatments. ',\n",
       " 'I would prefer the Japanese healthcare system due to a multitude of reasons. Firstly, due to its predetermined fixed costs whilst still being able to attend private care practices. Secondly, due to the short waiting times. Since there are no gatekeepers, an individual is able to go see any specialist they like without making an appointment. One thing I was most intrigued by in the Japanese healthcare system was their ability to innovate despite having tightly controlled price mechanisms. An example of this was the development of inexpensive MRI machines in response to the lower prices for MRIs. ',\n",
       " \"After comparing health systems in those countries, I prefer Taiwan's health care system. The reasons are as follows.\\nFirstly, from the patient's perspective, everyone can afford the treatment. And there 's no gatekeeper and no waiting time. \\nSecondly, as for doctors, they can make diagnoses more quickly and accurately by knowing the patient's previous treatment records via the patient's smart card, which also improves patients' experience.\",\n",
       " \"After watching Sick Around the World, I am interested in the health care system of Taiwan. Experts in Taiwan realized that the health systems of other developed countries, such as the United States, were not a module that could be replicated, they need to find a unique track. So the experts learned from the advantages of the health care system from all the other countries and unified them. Finally, they developed a system that was more efficient and cost-effective which has the lowest administrative cost in the world. Specifically, Patients in Taiwan do not have to make an appointment with GP, and they can go almost anytime during the day to see the doctor. Moreover, information technology is also used widely in the health care system. For instance, every Taiwanese has a smart medical card, and it records the patient's history, medications and other information, which just like some kind of EMR (Electronic Medical Record). However, there are still some obstacles to the development of Taiwan's health care system for the government in Taiwan, it needs to balance the hope of patients and the expectations of doctors. To be more specific, though the government has problems related to the funds of health care systems, the politicians are reluctant to increase premiums, because they are afraid to lose the voters from the public. Generally speaking, I prefer to get medical services from Taiwan's medical system.\",\n",
       " \"As a Taiwanese, I'm still most intrigued by our own health system. After watching the video, I would say I'm really proud of our health system. Compared to systems in other country, Taiwanese can spend much fewer money but get high-quality medical services. \",\n",
       " \"I am most intrigued by the health system in Taiwan. Because people in Taiwan only need to spend a small amount of money to the health insurance system to get a comprehensive healthcare service. In Taiwan, people do not need to make appointments or get referrals to see the doctors, they can access the medical resources easily and immediately when the clinics or the hospitals open. On the other hand, people in Taiwan need to hold the National Health Insurance card (NHI card) to access medical resources. The NHI card contains lots of the information of the patients (e.g. the insurance data, the diagnoses, and the drug prescriptions), which helps the doctors to assess the patients' body condition with the integrated data. \",\n",
       " 'As an Asian, I always know Japan has a good reputation in many aspects but I never know anything about its health care system. Besides the longest life expectancy and the lowest infant mortality, its health care system is very convenient and cheap for Japanese patients. All prices of medical-related items are strictly negotiated and set by the government, which maximizes the patients’ right. There is no waiting list and patients can choose any hospital or doctors that they prefer. Although the medical equipment may be cheaper than those in other countries with the same function, based on the quality of Japanese manufacture, patients do not have to worry about medical operation quality. \\nPerhaps, as Professor Saito Hidero said, there may be only one defect of Japanese health care system, which is 50% of hospitals are in financial deficit because hospitals can never earn more money outside the strict procedures. The concerns were raised that the number of hospitals may decrease. However, I think the Japanese government may take some actions to prevent the reduction. Most of all, the Japanese health care system provides patients with the cheapest (relatively) prices and considerable quality of medical care, which intrigues me the most from my perspective.',\n",
       " \"I would prefer to get healthcare from Japan. First of all, there are no GPs so I can see the specialists directly without waiting. Secondly, the price is acceptable. Since the price is unified over Japan and negotiated once a year, the residents would find the price satisfying.  Frankly, if I were a doctor, I would not work in Japan because the salary is not as much as the British. However, just because of this, the health system puts people's needs first.  The patients only need to pay a little part of the bills.\",\n",
       " \"The problem between the Medication system and patients may exist permanently. If you want medical bills are affordable, the doctors or hospitals may earn little or the government may spend much more effort.\\nBesides, every country have different nation conditions, some country has huge populations, and wealth is distributed unequally, some country has small populations and the fortune is distributed nearly equally. So is hard to compare wich country's system is good.\\nBut if we forget about those preconditions, I prefer Taiwan’s health system. For a patient side, they don't need the waiting line to see doctors. There is no one go bankrupt by medical bills. For the doctor side, government pay the remaining medical bills and hospital don't need to in deficit and doctors isn't earn as little as Japanese doctors. Also, the government and hospital try to lower the cost, they use a kind of ID card to record information. As Taiwan’s health system proficiently use informatics, administration cost is low and paperwork is less. As the cost decrease, the doctor's revenue will increase. \",\n",
       " 'I’d like to choose Japan: No Gatekeepers. Patients in Japan can go see any specialist they want. A doctor usually only needs to spend 3-5 minutes to diagnose a patient because the patient’s needs are sometimes very simple and clear. The lack of Gatekeepers reduces the procedures for patients to see a doctor, and also increases the workload of specialist doctors. Nevertheless, the cost of seeing a doctor in Japan is very low, which is a good benefit for ordinary people.',\n",
       " \"After viewed this documentary, in my views, I will vote for Japan's healthcare system, since it more completed and fair for every citizen.\\n1. All the Japanese have carried healthcare insurance by law with cheap price and it provides top level medical services. Besides, the healthcare price has highly restricted by the government and there has no deference between different area and city.\\n2. Japan's healthcare system is more efficiency, people don't need to make an appointment to see the doctors, which is convenient for populous country's residents.\\n3. From the statistics of WHO , Japanese has the highest life expectancy compared to other countries, which  indicated that Japan has a high standard healthcare system except the reason that Japanese have good eating habits.\\nIn conclusion, I may choose Japan to live my retire life for living longer.\",\n",
       " \"I like UK's NHS system because they provide incentive for doctors to improve well-being of their patients. I haven't seen similar program in the documentary and I found it very useful. same as any other business, providing incentives helps the business and its owner. but because NHS is a tax-paid organization, it provides benefits to the British people by incentivizing doctors to keep people healthy. a surprising fact to me was the 180% incentive for the Doctor who helped his patients stay healthier.  \",\n",
       " 'I want to get my healthcare from the United Kingdom. The British system is regarded as \"socialized medicine\" because the government not only provides health care but also pays for health care. Also, there is no family premium. Moreover, reforms are instituted by the British government to help to give patients more choice and make care more competitive, so patients can choose the location where they want to be treated for many procedures.\\n ',\n",
       " \"I like the health system of Japan most. I think Japan's health system is the balance of the European countries like the UK and Germany: most of the hospitals are private but all the poor people can enjoy medical care without a bill, while other people rely on the health insurance policy. Unlike Germany, this policy can save a lot of budget for the government but it also can cover all the poor people; therefore, I think Japan's policy is more efficient than many other countries.\",\n",
       " 'In my opinion, the health system in Japan is efficient. First, medical products and medical services are uniformly priced and inexpensive in the country. Second, the waiting time for obtaining effective treatment is shorter than in the United Kingdom and Germany, because  people can directly receive treatment from specialist doctors without GP. These are the main reasons why I chose the Japanese health system.',\n",
       " \"I probably prefer the Japanese healthcare system. There are three main reasons. First of all, under this medical system, there is no waiting to see a doctor, so that many patients will not miss the best time to see a doctor. Second, under the Japanese health care system, its charge fairly cheap, and it's charging system with strict rules and restrictions, even wound of different size has different price regulation, this also makes the doctor or hospital can't random to control health care costs, although this may result in many hospitals the fiscal deficit,  through the whole of price regulation is to be able to alleviate this situation. The last point is that in Japan, there are more physical health tests, such as MRIs, which can effectively detect potential diseases in time, so that they can be treated as soon as possible.\",\n",
       " 'I think the answer would very much depend on my own personal circumstances! As a health care worker myself, I would advocate for a system that balances affordability and appropriate renumeration to the workers. To that end, the blended approach by the Swiss would be the most attractive to me, for the following reasons\\n- Application of a universal health insurance system,with government coverage those who cannot afford it. Universal cover creates a social safety net for all citizens, and government support / regulation of insurance company profiteering helps to ensure fees are kept accessible for all.\\n- Requiring patients to co-pay for their insurance/healthcare (if they are able to) creates a social reminder that healthcare is a limited resource, and potentially prevents misuse of the service as described in the NHS/Japanese sections - where patients visit doctors for what sounds like social reasons, or minor issues(do you really need to see a specialist for a 3 minute blood pressure checkup??)\\n- Permitting some profit making on supplemental insurance policies. Although this leads to higher overall costs (2nd most expensive in the world) , it promotes sustainability, particularly in view of the increasing complexity and cost of delivering healthcare. It also allows for appropriate wages to be paid to healthcare workers for delivering highly skilled services (remembering the old axiom \"pay peanuts and we get monkeys\").\\n- \\nCheers\\nSing',\n",
       " 'fdgdfd',\n",
       " 'Of the five health-care systems discussed in “Sick Around the World”, I was the most intrigued by the Taiwan’s single-payer success story. It is fascinating to see that within the short period of 30 years, Taiwan was able to move from a broken health care system (with over 40% not covered by any form of health insurance) to a national health insurance program approved by majority of the population. Through its single-payer system, many ranks Taiwanese health care to be of high-quality, affordable, accessible and innovative.\\nHigh-quality care: Taiwan is well-known for its first-class quality of medicine and talent. The health insurance provided is comprehensive providing both inpatient and outpatient care which includes dental care, over-the-counter drugs and traditional Chinese medicine.\\nImpressive access and affordability: Patients can choose services from almost any provider with short wait times and be directed to specialty care without a referral. The premiums are paid for by the government, employers and employees. The share paid by each depends on income, with the low-income paying a smaller proportion compared to the wealthy segment.  \\nInnovative and efficient: The Taiwanese program runs with extraordinary efficiency through a simple smart card system which is aided by its advanced IT infrastructure. The medtech also plays a vital role in transforming care across the health value-chain.\\nWhilst it is not a healthcare system without shortcomings, Taiwan’s system is perceived as the rising star in providing adequate care to citizens.',\n",
       " '‘Sick Around the World’ framed Taiwan as an obvious choice for good universal healthcare. With the ability to fuse together what worked from different like GDP countries, Taiwan has successfully created a system to be admired. Especially, with its growing acceptance and role of technology\\nThere was one primary reason that Taiwan stood out for myself. The NHI IC cards which has a complete history of a patient and their associated medication. For someone, such as myself, who has chronic illnesses and is on a number of medications the ability to have it all together available to any doctor, at any location seems brilliant. This would also prove beneficial in an emergency situation when a patient may not be able to verbalise their allergies or medical history.',\n",
       " \"The obvious answer is the Taiwanese health care system as it takes the best attributes from high performing health systems across the world. But the reason it intrigues me is the use of the health care card with their medical information and billing integrated within it. I would love to find out more about how this works. Is there also a network/cloud based solution for those that don't have a card? What kind of information is stored on the card? Is it also used in the same way as our medi-alert wrist bands?\",\n",
       " \"Hi Brian\\nI favour Switzerland's system as my preferred health care provider. It appears more financially robust than Taiwan's system and there was no mention of clinician salary issues like those in Germany. Switzerland's non profit insurance companies competed in other ways to attract and retain customers and this results in a better customer experience - from an administration perspective at least. I thought Taiwan's 'no gatekeeper' approach odd in the sense that I would think vetting patients before seeing a specialist is a better use of everyone's time. There was also room in Switzerland's model for people who wanted and could afford better rooms. This supplemental coverage generates competition which is key for investment and driving better outcomes for patients.\\nregards\\nBriette\",\n",
       " 'The doco would have benefited from the Inclusion of a comparison of one of the Scandanavian countries where the populations accept high taxes for universal health care and other social benefits.\\n \\nHaving worked in three of the reported countries I would say the Swiss system is best. Few delays at a reasonable price with a social catch net. Although the Taiwanese system appeared very efficient.\\n \\nThe UK’s NHS waiting times have improved dramatically over the last 20 years or so but many of the Trusts are essentially bankrupt. Despite the difficulty in registering in a GP practice because they have reached their quota the NHS is a source of national pride.  It would take a brave politician to privatise the system which has been mooted on more than one occasion. Tax for national insurance contributions (which also includes pension contributions) is high. It is a surprise obesity is such a problem given the effort invested in preventative medicine. \\n \\nNotwithstanding overwork and high work related alcohol consumption, Japan is interesting as the health of the society is cultural (diet, exercise, regular GP visits). However, during my time, there were many scandals surrounding medical school entry. I know of people whose tumours were only discovered after seeking a second opinion back home in Australia. ',\n",
       " 'I pick Switzerland as the healthcare system  ,\\nthe waiting list and services were reasonable, the healthcare workers are not underpaid unlike Germany, the healthcare providers are not financially short like Taiwan or Japan, the insurance companies compete over the services they provide not based on their profit, there is no waste on admin while 5% very reasonable \\nwith having the healthcare workers satisfied with their wage , the direct effect is on the patient well being, also it does not cut out the next generation to peruse this as a career which is the demand of future,']"
      ]
     },
     "execution_count": 3,
     "metadata": {},
     "output_type": "execute_result"
    }
   ],
   "source": [
    "healthsystem_text"
   ]
  },
  {
   "cell_type": "markdown",
   "metadata": {},
   "source": [
    "### We are going to use the very popular [Spacy](https://spacy.io/) NLP package.\n",
    "\n",
    "If you are interested in learning more about Spacy, we have some notebooks [here](https://github.com/Melbourne-BMDS/md3nlp_20020) that you can run online with binder to learn more."
   ]
  },
  {
   "cell_type": "code",
   "execution_count": 4,
   "metadata": {},
   "outputs": [],
   "source": [
    "import spacy\n",
    "from IPython.display import SVG, YouTubeVideo\n",
    "from spacy import displacy\n",
    "nlp = spacy.load(\"en_core_web_sm\")\n",
    "from spacy.lemmatizer import Lemmatizer\n",
    "from spacy.matcher import Matcher\n"
   ]
  },
  {
   "cell_type": "markdown",
   "metadata": {},
   "source": [
    "#### Entity Recognition\n",
    "\n",
    "Spacy will parse the sentences and then try to recognize different entitites that are named in the text, such as people or organizations or diseases. Let's see how it works."
   ]
  },
  {
   "cell_type": "code",
   "execution_count": 5,
   "metadata": {},
   "outputs": [
    {
     "data": {
      "text/html": [
       "<span class=\"tex2jax_ignore\"><div class=\"entities\" style=\"line-height: 2.5; direction: ltr\">By watching sick around the world, I think \n",
       "<mark class=\"entity\" style=\"background: #feca74; padding: 0.45em 0.6em; margin: 0 0.25em; line-height: 1; border-radius: 0.35em;\">\n",
       "    Taiwan\n",
       "    <span style=\"font-size: 0.8em; font-weight: bold; line-height: 1; border-radius: 0.35em; text-transform: uppercase; vertical-align: middle; margin-left: 0.5rem\">GPE</span>\n",
       "</mark>\n",
       "'s medical system is the one I like the most.</br>From the perspective of people's experience, it is very similar to the system being used in mainland \n",
       "<mark class=\"entity\" style=\"background: #feca74; padding: 0.45em 0.6em; margin: 0 0.25em; line-height: 1; border-radius: 0.35em;\">\n",
       "    China\n",
       "    <span style=\"font-size: 0.8em; font-weight: bold; line-height: 1; border-radius: 0.35em; text-transform: uppercase; vertical-align: middle; margin-left: 0.5rem\">GPE</span>\n",
       "</mark>\n",
       ". Almost everyone has the right to medical insurance, and then the government will pay for all mainstream medical care, and the people only need to pay the basic expenses. The most convenient thing in this system is the use of the medical insurance card, which is quite convenient. By recording the user's medical history in detail, the doctor can see the patient's condition at a glance and make a proper diagnosis. Moreover, the payment information of the user is also stored in the card, which makes the payment extremely convenient and extremely friendly to the elderly and the disabled.\n",
       "This highly unified system also eliminates waiting time, allowing people to receive treatment in time before their body conditions change, which can greatly improve people's recovery rate and satisfaction.</div></span>"
      ],
      "text/plain": [
       "<IPython.core.display.HTML object>"
      ]
     },
     "metadata": {},
     "output_type": "display_data"
    },
    {
     "name": "stdout",
     "output_type": "stream",
     "text": [
      "------------------------------------------------------------------------\n"
     ]
    },
    {
     "data": {
      "text/html": [
       "<span class=\"tex2jax_ignore\"><div class=\"entities\" style=\"line-height: 2.5; direction: ltr\">Among these \n",
       "<mark class=\"entity\" style=\"background: #e4e7d2; padding: 0.45em 0.6em; margin: 0 0.25em; line-height: 1; border-radius: 0.35em;\">\n",
       "    5\n",
       "    <span style=\"font-size: 0.8em; font-weight: bold; line-height: 1; border-radius: 0.35em; text-transform: uppercase; vertical-align: middle; margin-left: 0.5rem\">CARDINAL</span>\n",
       "</mark>\n",
       " health systems, the one that is most interesting to me is \n",
       "<mark class=\"entity\" style=\"background: #feca74; padding: 0.45em 0.6em; margin: 0 0.25em; line-height: 1; border-radius: 0.35em;\">\n",
       "    New Zealand's\n",
       "    <span style=\"font-size: 0.8em; font-weight: bold; line-height: 1; border-radius: 0.35em; text-transform: uppercase; vertical-align: middle; margin-left: 0.5rem\">GPE</span>\n",
       "</mark>\n",
       " healthcare system. I think that many countries have the problem of the lack of medical resources. Many residents need to make appointments with doctors \n",
       "<mark class=\"entity\" style=\"background: #bfe1d9; padding: 0.45em 0.6em; margin: 0 0.25em; line-height: 1; border-radius: 0.35em;\">\n",
       "    a few days\n",
       "    <span style=\"font-size: 0.8em; font-weight: bold; line-height: 1; border-radius: 0.35em; text-transform: uppercase; vertical-align: middle; margin-left: 0.5rem\">DATE</span>\n",
       "</mark>\n",
       " or even \n",
       "<mark class=\"entity\" style=\"background: #bfe1d9; padding: 0.45em 0.6em; margin: 0 0.25em; line-height: 1; border-radius: 0.35em;\">\n",
       "    weeks\n",
       "    <span style=\"font-size: 0.8em; font-weight: bold; line-height: 1; border-radius: 0.35em; text-transform: uppercase; vertical-align: middle; margin-left: 0.5rem\">DATE</span>\n",
       "</mark>\n",
       " in advance or stay in the clinic for a long time. \n",
       "<mark class=\"entity\" style=\"background: #feca74; padding: 0.45em 0.6em; margin: 0 0.25em; line-height: 1; border-radius: 0.35em;\">\n",
       "    New Zealand's\n",
       "    <span style=\"font-size: 0.8em; font-weight: bold; line-height: 1; border-radius: 0.35em; text-transform: uppercase; vertical-align: middle; margin-left: 0.5rem\">GPE</span>\n",
       "</mark>\n",
       " family doctor policy can alleviate a lot of the need to go to the hospital. Because most of the time, patients are suffering from minor symptoms such as colds, that some community doctor or family doctor is able to solve. Only when encountering intractable diseases or surgical operations, the family doctor will introduce the patient to a public or private hospital for examination and treatment by experts. This means that the number of patients going to the hospital will be greatly reduced, which can greatly alleviate the pressure of the hospital, and will not waste too many medical resources.In addition, the family doctor will be more familiar with the physical condition of the residents and can infer the patient's condition more quickly. There are even medical records issued by family doctors that can help patients avoid allergic drugs.However, this policy will also lead to a shortage of resources for family doctors, because regardless of the size of the disease, residents need to notify the family doctor as soon as possible, so the ratio of the population to the family doctor will be a very important decision.</div></span>"
      ],
      "text/plain": [
       "<IPython.core.display.HTML object>"
      ]
     },
     "metadata": {},
     "output_type": "display_data"
    },
    {
     "name": "stdout",
     "output_type": "stream",
     "text": [
      "------------------------------------------------------------------------\n"
     ]
    },
    {
     "data": {
      "text/html": [
       "<span class=\"tex2jax_ignore\"><div class=\"entities\" style=\"line-height: 2.5; direction: ltr\">As a \n",
       "<mark class=\"entity\" style=\"background: #c887fb; padding: 0.45em 0.6em; margin: 0 0.25em; line-height: 1; border-radius: 0.35em;\">\n",
       "    Chinese\n",
       "    <span style=\"font-size: 0.8em; font-weight: bold; line-height: 1; border-radius: 0.35em; text-transform: uppercase; vertical-align: middle; margin-left: 0.5rem\">NORP</span>\n",
       "</mark>\n",
       ", I am more interested in \n",
       "<mark class=\"entity\" style=\"background: #feca74; padding: 0.45em 0.6em; margin: 0 0.25em; line-height: 1; border-radius: 0.35em;\">\n",
       "    Taiwan\n",
       "    <span style=\"font-size: 0.8em; font-weight: bold; line-height: 1; border-radius: 0.35em; text-transform: uppercase; vertical-align: middle; margin-left: 0.5rem\">GPE</span>\n",
       "</mark>\n",
       "'s health care system, to compare with the \n",
       "<mark class=\"entity\" style=\"background: #c887fb; padding: 0.45em 0.6em; margin: 0 0.25em; line-height: 1; border-radius: 0.35em;\">\n",
       "    Chinese\n",
       "    <span style=\"font-size: 0.8em; font-weight: bold; line-height: 1; border-radius: 0.35em; text-transform: uppercase; vertical-align: middle; margin-left: 0.5rem\">NORP</span>\n",
       "</mark>\n",
       " health care system. \n",
       "<mark class=\"entity\" style=\"background: #feca74; padding: 0.45em 0.6em; margin: 0 0.25em; line-height: 1; border-radius: 0.35em;\">\n",
       "    Taiwan\n",
       "    <span style=\"font-size: 0.8em; font-weight: bold; line-height: 1; border-radius: 0.35em; text-transform: uppercase; vertical-align: middle; margin-left: 0.5rem\">GPE</span>\n",
       "</mark>\n",
       " and \n",
       "<mark class=\"entity\" style=\"background: #feca74; padding: 0.45em 0.6em; margin: 0 0.25em; line-height: 1; border-radius: 0.35em;\">\n",
       "    China\n",
       "    <span style=\"font-size: 0.8em; font-weight: bold; line-height: 1; border-radius: 0.35em; text-transform: uppercase; vertical-align: middle; margin-left: 0.5rem\">GPE</span>\n",
       "</mark>\n",
       " had similar background back in \n",
       "<mark class=\"entity\" style=\"background: #bfe1d9; padding: 0.45em 0.6em; margin: 0 0.25em; line-height: 1; border-radius: 0.35em;\">\n",
       "    the 1950s\n",
       "    <span style=\"font-size: 0.8em; font-weight: bold; line-height: 1; border-radius: 0.35em; text-transform: uppercase; vertical-align: middle; margin-left: 0.5rem\">DATE</span>\n",
       "</mark>\n",
       ", but \n",
       "<mark class=\"entity\" style=\"background: #feca74; padding: 0.45em 0.6em; margin: 0 0.25em; line-height: 1; border-radius: 0.35em;\">\n",
       "    Taiwan\n",
       "    <span style=\"font-size: 0.8em; font-weight: bold; line-height: 1; border-radius: 0.35em; text-transform: uppercase; vertical-align: middle; margin-left: 0.5rem\">GPE</span>\n",
       "</mark>\n",
       " had started early to build their health care system, they referenced all the developed countries' health care system development, and learned from the good routes and avoided the traps in as an example. Therefore, \n",
       "<mark class=\"entity\" style=\"background: #feca74; padding: 0.45em 0.6em; margin: 0 0.25em; line-height: 1; border-radius: 0.35em;\">\n",
       "    Taiwan\n",
       "    <span style=\"font-size: 0.8em; font-weight: bold; line-height: 1; border-radius: 0.35em; text-transform: uppercase; vertical-align: middle; margin-left: 0.5rem\">GPE</span>\n",
       "</mark>\n",
       " has built an appropriate system that suits them best.  The health sector issues health care like an ID to every citizen, the citizen uses this health card all the time when they look for a doctor,  the card stores all the history of health records, directly connects with pharmacy and insurance department, the drug bill will be covered right away, so the public won't concern drug expenses and they all satisfy with their health system. Also, \n",
       "<mark class=\"entity\" style=\"background: #c887fb; padding: 0.45em 0.6em; margin: 0 0.25em; line-height: 1; border-radius: 0.35em;\">\n",
       "    Taiwanese\n",
       "    <span style=\"font-size: 0.8em; font-weight: bold; line-height: 1; border-radius: 0.35em; text-transform: uppercase; vertical-align: middle; margin-left: 0.5rem\">NORP</span>\n",
       "</mark>\n",
       " don't set \n",
       "<mark class=\"entity\" style=\"background: #7aecec; padding: 0.45em 0.6em; margin: 0 0.25em; line-height: 1; border-radius: 0.35em;\">\n",
       "    GP\n",
       "    <span style=\"font-size: 0.8em; font-weight: bold; line-height: 1; border-radius: 0.35em; text-transform: uppercase; vertical-align: middle; margin-left: 0.5rem\">ORG</span>\n",
       "</mark>\n",
       ", the patients see doctors directly, therefore their medical processes are efficient, the IT technique supports the health care system to become more efficient and inexpensive. \n",
       "<mark class=\"entity\" style=\"background: #feca74; padding: 0.45em 0.6em; margin: 0 0.25em; line-height: 1; border-radius: 0.35em;\">\n",
       "    China\n",
       "    <span style=\"font-size: 0.8em; font-weight: bold; line-height: 1; border-radius: 0.35em; text-transform: uppercase; vertical-align: middle; margin-left: 0.5rem\">GPE</span>\n",
       "</mark>\n",
       " currently has the similar methods for health care, however, the government started late and the population is enormous, therefore, it takes a long time to develop.</div></span>"
      ],
      "text/plain": [
       "<IPython.core.display.HTML object>"
      ]
     },
     "metadata": {},
     "output_type": "display_data"
    },
    {
     "name": "stdout",
     "output_type": "stream",
     "text": [
      "------------------------------------------------------------------------\n"
     ]
    },
    {
     "data": {
      "text/html": [
       "<span class=\"tex2jax_ignore\"><div class=\"entities\" style=\"line-height: 2.5; direction: ltr\">I am most interested in the health system in \n",
       "<mark class=\"entity\" style=\"background: #feca74; padding: 0.45em 0.6em; margin: 0 0.25em; line-height: 1; border-radius: 0.35em;\">\n",
       "    Taiwan\n",
       "    <span style=\"font-size: 0.8em; font-weight: bold; line-height: 1; border-radius: 0.35em; text-transform: uppercase; vertical-align: middle; margin-left: 0.5rem\">GPE</span>\n",
       "</mark>\n",
       ", \n",
       "<mark class=\"entity\" style=\"background: #feca74; padding: 0.45em 0.6em; margin: 0 0.25em; line-height: 1; border-radius: 0.35em;\">\n",
       "    China\n",
       "    <span style=\"font-size: 0.8em; font-weight: bold; line-height: 1; border-radius: 0.35em; text-transform: uppercase; vertical-align: middle; margin-left: 0.5rem\">GPE</span>\n",
       "</mark>\n",
       ". \n",
       "<mark class=\"entity\" style=\"background: #e4e7d2; padding: 0.45em 0.6em; margin: 0 0.25em; line-height: 1; border-radius: 0.35em;\">\n",
       "    First\n",
       "    <span style=\"font-size: 0.8em; font-weight: bold; line-height: 1; border-radius: 0.35em; text-transform: uppercase; vertical-align: middle; margin-left: 0.5rem\">ORDINAL</span>\n",
       "</mark>\n",
       " of all, there is very high satisfaction. \n",
       "<mark class=\"entity\" style=\"background: #feca74; padding: 0.45em 0.6em; margin: 0 0.25em; line-height: 1; border-radius: 0.35em;\">\n",
       "    Taiwan\n",
       "    <span style=\"font-size: 0.8em; font-weight: bold; line-height: 1; border-radius: 0.35em; text-transform: uppercase; vertical-align: middle; margin-left: 0.5rem\">GPE</span>\n",
       "</mark>\n",
       "’s healthcare companies rank among the top in the world for their most effective healthcare systems and capabilities. The advantages of \n",
       "<mark class=\"entity\" style=\"background: #feca74; padding: 0.45em 0.6em; margin: 0 0.25em; line-height: 1; border-radius: 0.35em;\">\n",
       "    Taiwan\n",
       "    <span style=\"font-size: 0.8em; font-weight: bold; line-height: 1; border-radius: 0.35em; text-transform: uppercase; vertical-align: middle; margin-left: 0.5rem\">GPE</span>\n",
       "</mark>\n",
       "'s medical system are good accessibility, comprehensive population coverage, short waiting time, high quality, affordable prices, leading technology, patient-centric services, and leading physicians to provide comprehensive professional services.</div></span>"
      ],
      "text/plain": [
       "<IPython.core.display.HTML object>"
      ]
     },
     "metadata": {},
     "output_type": "display_data"
    },
    {
     "name": "stdout",
     "output_type": "stream",
     "text": [
      "------------------------------------------------------------------------\n"
     ]
    },
    {
     "data": {
      "text/html": [
       "<span class=\"tex2jax_ignore\"><div class=\"entities\" style=\"line-height: 2.5; direction: ltr\">I choose \n",
       "<mark class=\"entity\" style=\"background: #feca74; padding: 0.45em 0.6em; margin: 0 0.25em; line-height: 1; border-radius: 0.35em;\">\n",
       "    Taiwan\n",
       "    <span style=\"font-size: 0.8em; font-weight: bold; line-height: 1; border-radius: 0.35em; text-transform: uppercase; vertical-align: middle; margin-left: 0.5rem\">GPE</span>\n",
       "</mark>\n",
       " as the most interesting country. I lived in \n",
       "<mark class=\"entity\" style=\"background: #feca74; padding: 0.45em 0.6em; margin: 0 0.25em; line-height: 1; border-radius: 0.35em;\">\n",
       "    Taiwan\n",
       "    <span style=\"font-size: 0.8em; font-weight: bold; line-height: 1; border-radius: 0.35em; text-transform: uppercase; vertical-align: middle; margin-left: 0.5rem\">GPE</span>\n",
       "</mark>\n",
       " during my university life for \n",
       "<mark class=\"entity\" style=\"background: #bfe1d9; padding: 0.45em 0.6em; margin: 0 0.25em; line-height: 1; border-radius: 0.35em;\">\n",
       "    almost 4 years\n",
       "    <span style=\"font-size: 0.8em; font-weight: bold; line-height: 1; border-radius: 0.35em; text-transform: uppercase; vertical-align: middle; margin-left: 0.5rem\">DATE</span>\n",
       "</mark>\n",
       ". The medical insurance policy in \n",
       "<mark class=\"entity\" style=\"background: #feca74; padding: 0.45em 0.6em; margin: 0 0.25em; line-height: 1; border-radius: 0.35em;\">\n",
       "    Taiwan\n",
       "    <span style=\"font-size: 0.8em; font-weight: bold; line-height: 1; border-radius: 0.35em; text-transform: uppercase; vertical-align: middle; margin-left: 0.5rem\">GPE</span>\n",
       "</mark>\n",
       " is the best in the world. Every resident in \n",
       "<mark class=\"entity\" style=\"background: #feca74; padding: 0.45em 0.6em; margin: 0 0.25em; line-height: 1; border-radius: 0.35em;\">\n",
       "    Taiwan\n",
       "    <span style=\"font-size: 0.8em; font-weight: bold; line-height: 1; border-radius: 0.35em; text-transform: uppercase; vertical-align: middle; margin-left: 0.5rem\">GPE</span>\n",
       "</mark>\n",
       " needs to opt in the insurance program. Patients only carry the smart card when they need to see the doctor. Medical service and insurance are tied together. Patients only take the card and see the doctor and pay a little fee. Everyone, whatever rich or poor, all people are cared for by the national medical system.</div></span>"
      ],
      "text/plain": [
       "<IPython.core.display.HTML object>"
      ]
     },
     "metadata": {},
     "output_type": "display_data"
    },
    {
     "name": "stdout",
     "output_type": "stream",
     "text": [
      "------------------------------------------------------------------------\n"
     ]
    },
    {
     "data": {
      "text/html": [
       "<span class=\"tex2jax_ignore\"><div class=\"entities\" style=\"line-height: 2.5; direction: ltr\">I will be more interested in the \n",
       "<mark class=\"entity\" style=\"background: #c887fb; padding: 0.45em 0.6em; margin: 0 0.25em; line-height: 1; border-radius: 0.35em;\">\n",
       "    British\n",
       "    <span style=\"font-size: 0.8em; font-weight: bold; line-height: 1; border-radius: 0.35em; text-transform: uppercase; vertical-align: middle; margin-left: 0.5rem\">NORP</span>\n",
       "</mark>\n",
       " medical system. \n",
       "<mark class=\"entity\" style=\"background: #aa9cfc; padding: 0.45em 0.6em; margin: 0 0.25em; line-height: 1; border-radius: 0.35em;\">\n",
       "    Reid\n",
       "    <span style=\"font-size: 0.8em; font-weight: bold; line-height: 1; border-radius: 0.35em; text-transform: uppercase; vertical-align: middle; margin-left: 0.5rem\">PERSON</span>\n",
       "</mark>\n",
       "'s book describes the \n",
       "<mark class=\"entity\" style=\"background: #c887fb; padding: 0.45em 0.6em; margin: 0 0.25em; line-height: 1; border-radius: 0.35em;\">\n",
       "    British\n",
       "    <span style=\"font-size: 0.8em; font-weight: bold; line-height: 1; border-radius: 0.35em; text-transform: uppercase; vertical-align: middle; margin-left: 0.5rem\">NORP</span>\n",
       "</mark>\n",
       " medical system. In the \n",
       "<mark class=\"entity\" style=\"background: #feca74; padding: 0.45em 0.6em; margin: 0 0.25em; line-height: 1; border-radius: 0.35em;\">\n",
       "    UK\n",
       "    <span style=\"font-size: 0.8em; font-weight: bold; line-height: 1; border-radius: 0.35em; text-transform: uppercase; vertical-align: middle; margin-left: 0.5rem\">GPE</span>\n",
       "</mark>\n",
       ", nationals do not need to provide additional medical expenses. All medical expenses will be raised by \n",
       "<mark class=\"entity\" style=\"background: #7aecec; padding: 0.45em 0.6em; margin: 0 0.25em; line-height: 1; border-radius: 0.35em;\">\n",
       "    the National Health Service\n",
       "    <span style=\"font-size: 0.8em; font-weight: bold; line-height: 1; border-radius: 0.35em; text-transform: uppercase; vertical-align: middle; margin-left: 0.5rem\">ORG</span>\n",
       "</mark>\n",
       " (NHS) established by the government through taxation. This is social medicine in the traditional sense. Under this medical system, the competition will occur between hospitals, so as to achieve the purpose of being selected by patients. Such a system greatly enhances the hospital's research capabilities. In the country where I live, although the government will pay a part of the medical expenses for people, people still need to pay for medical treatment. When people get a very serious disease, some people cannot see a doctor because of poverty.</div></span>"
      ],
      "text/plain": [
       "<IPython.core.display.HTML object>"
      ]
     },
     "metadata": {},
     "output_type": "display_data"
    },
    {
     "name": "stdout",
     "output_type": "stream",
     "text": [
      "------------------------------------------------------------------------\n"
     ]
    },
    {
     "name": "stderr",
     "output_type": "stream",
     "text": [
      "/Users/brian/anaconda3/envs/nlp/lib/python3.7/runpy.py:193: UserWarning: [W006] No entities to visualize found in Doc object. If this is surprising to you, make sure the Doc was processed using a model that supports named entity recognition, and check the `doc.ents` property manually if necessary.\n",
      "  \"__main__\", mod_spec)\n"
     ]
    },
    {
     "data": {
      "text/html": [
       "<span class=\"tex2jax_ignore\"><div class=\"entities\" style=\"line-height: 2.5; direction: ltr\">我更喜欢从日本的卫生系统获得医疗保健。我认为日本的医疗保健系统介于英国和美国之间。英国采用公共医疗系统。尽管这种“社会化药品价格便宜,但可能导致效率相对较低。美国的医疗保健已完全私有化。尽管医疗水平很高,但穷人负担不起。在日本,医疗服务由私营部门和医疗机构提供。费用由政府负担,这不仅确保效率,而且大大缓解了医疗困难且费用昂贵的问题,同时,日本没有转诊系统,患者可以随时随地去任何专科医生求诊。他们喜欢,这不仅节省了成本,而且大大减少了患者可能遇到的麻烦。</div></span>"
      ],
      "text/plain": [
       "<IPython.core.display.HTML object>"
      ]
     },
     "metadata": {},
     "output_type": "display_data"
    },
    {
     "name": "stdout",
     "output_type": "stream",
     "text": [
      "------------------------------------------------------------------------\n"
     ]
    },
    {
     "data": {
      "text/html": [
       "<span class=\"tex2jax_ignore\"><div class=\"entities\" style=\"line-height: 2.5; direction: ltr\">When arguing about which country I prefer from the VIDEO, I choose \n",
       "<mark class=\"entity\" style=\"background: #feca74; padding: 0.45em 0.6em; margin: 0 0.25em; line-height: 1; border-radius: 0.35em;\">\n",
       "    Japan\n",
       "    <span style=\"font-size: 0.8em; font-weight: bold; line-height: 1; border-radius: 0.35em; text-transform: uppercase; vertical-align: middle; margin-left: 0.5rem\">GPE</span>\n",
       "</mark>\n",
       ". The reason is because \n",
       "<mark class=\"entity\" style=\"background: #feca74; padding: 0.45em 0.6em; margin: 0 0.25em; line-height: 1; border-radius: 0.35em;\">\n",
       "    Japan\n",
       "    <span style=\"font-size: 0.8em; font-weight: bold; line-height: 1; border-radius: 0.35em; text-transform: uppercase; vertical-align: middle; margin-left: 0.5rem\">GPE</span>\n",
       "</mark>\n",
       " has a ‘social insurance’. This policy provide people who can’t afford a medical help could receive health care, which means \n",
       "<mark class=\"entity\" style=\"background: #feca74; padding: 0.45em 0.6em; margin: 0 0.25em; line-height: 1; border-radius: 0.35em;\">\n",
       "    Japan\n",
       "    <span style=\"font-size: 0.8em; font-weight: bold; line-height: 1; border-radius: 0.35em; text-transform: uppercase; vertical-align: middle; margin-left: 0.5rem\">GPE</span>\n",
       "</mark>\n",
       " gave a wider access to its citizens and shorten the gap between rich people and poor people in health care. Moreover, people could select their own health care option, for example, people with higher income could select private health care and poor people could receive social insurance, this promotes the fairness. </div></span>"
      ],
      "text/plain": [
       "<IPython.core.display.HTML object>"
      ]
     },
     "metadata": {},
     "output_type": "display_data"
    },
    {
     "name": "stdout",
     "output_type": "stream",
     "text": [
      "------------------------------------------------------------------------\n"
     ]
    },
    {
     "data": {
      "text/html": [
       "<span class=\"tex2jax_ignore\"><div class=\"entities\" style=\"line-height: 2.5; direction: ltr\">I prefer to get my healthcare from \n",
       "<mark class=\"entity\" style=\"background: #feca74; padding: 0.45em 0.6em; margin: 0 0.25em; line-height: 1; border-radius: 0.35em;\">\n",
       "    Switzerland\n",
       "    <span style=\"font-size: 0.8em; font-weight: bold; line-height: 1; border-radius: 0.35em; text-transform: uppercase; vertical-align: middle; margin-left: 0.5rem\">GPE</span>\n",
       "</mark>\n",
       "’s health system. Compare to the no bills, shorter NHS waiting lists, with excellent preventive medicine and great preventive care in \n",
       "<mark class=\"entity\" style=\"background: #feca74; padding: 0.45em 0.6em; margin: 0 0.25em; line-height: 1; border-radius: 0.35em;\">\n",
       "    UK\n",
       "    <span style=\"font-size: 0.8em; font-weight: bold; line-height: 1; border-radius: 0.35em; text-transform: uppercase; vertical-align: middle; margin-left: 0.5rem\">GPE</span>\n",
       "</mark>\n",
       ", and the longest life expectancy, excellent health results, no waiting lists and rock bottom costs in \n",
       "<mark class=\"entity\" style=\"background: #feca74; padding: 0.45em 0.6em; margin: 0 0.25em; line-height: 1; border-radius: 0.35em;\">\n",
       "    Japan\n",
       "    <span style=\"font-size: 0.8em; font-weight: bold; line-height: 1; border-radius: 0.35em; text-transform: uppercase; vertical-align: middle; margin-left: 0.5rem\">GPE</span>\n",
       "</mark>\n",
       ". Everybody in \n",
       "<mark class=\"entity\" style=\"background: #feca74; padding: 0.45em 0.6em; margin: 0 0.25em; line-height: 1; border-radius: 0.35em;\">\n",
       "    Switzerland\n",
       "    <span style=\"font-size: 0.8em; font-weight: bold; line-height: 1; border-radius: 0.35em; text-transform: uppercase; vertical-align: middle; margin-left: 0.5rem\">GPE</span>\n",
       "</mark>\n",
       " buy insurance with the state paying for the poor. In return, it guaranteed a comprehensive package of medical care for all. Although it has challenge that having achieved universal health care, it has to decide how much citizens are willing to pay. It’s already the \n",
       "<mark class=\"entity\" style=\"background: #e4e7d2; padding: 0.45em 0.6em; margin: 0 0.25em; line-height: 1; border-radius: 0.35em;\">\n",
       "    second\n",
       "    <span style=\"font-size: 0.8em; font-weight: bold; line-height: 1; border-radius: 0.35em; text-transform: uppercase; vertical-align: middle; margin-left: 0.5rem\">ORDINAL</span>\n",
       "</mark>\n",
       " most expensive health care system in the world. \n",
       "<mark class=\"entity\" style=\"background: #feca74; padding: 0.45em 0.6em; margin: 0 0.25em; line-height: 1; border-radius: 0.35em;\">\n",
       "    Switzerland\n",
       "    <span style=\"font-size: 0.8em; font-weight: bold; line-height: 1; border-radius: 0.35em; text-transform: uppercase; vertical-align: middle; margin-left: 0.5rem\">GPE</span>\n",
       "</mark>\n",
       " provides a more comprehensive healthcare system, which achieves social equity and reduces the burden on low-income people.</div></span>"
      ],
      "text/plain": [
       "<IPython.core.display.HTML object>"
      ]
     },
     "metadata": {},
     "output_type": "display_data"
    },
    {
     "name": "stdout",
     "output_type": "stream",
     "text": [
      "------------------------------------------------------------------------\n"
     ]
    },
    {
     "data": {
      "text/html": [
       "<span class=\"tex2jax_ignore\"><div class=\"entities\" style=\"line-height: 2.5; direction: ltr\">After watching \n",
       "<mark class=\"entity\" style=\"background: #aa9cfc; padding: 0.45em 0.6em; margin: 0 0.25em; line-height: 1; border-radius: 0.35em;\">\n",
       "    Sick Around the World\n",
       "    <span style=\"font-size: 0.8em; font-weight: bold; line-height: 1; border-radius: 0.35em; text-transform: uppercase; vertical-align: middle; margin-left: 0.5rem\">PERSON</span>\n",
       "</mark>\n",
       ", I prefer to get healthcare from \n",
       "<mark class=\"entity\" style=\"background: #feca74; padding: 0.45em 0.6em; margin: 0 0.25em; line-height: 1; border-radius: 0.35em;\">\n",
       "    Japan\n",
       "    <span style=\"font-size: 0.8em; font-weight: bold; line-height: 1; border-radius: 0.35em; text-transform: uppercase; vertical-align: middle; margin-left: 0.5rem\">GPE</span>\n",
       "</mark>\n",
       " most. I think that the price problem and the allocation of medical resources are challenges faced by medical systems all over the world. The \n",
       "<mark class=\"entity\" style=\"background: #c887fb; padding: 0.45em 0.6em; margin: 0 0.25em; line-height: 1; border-radius: 0.35em;\">\n",
       "    Japanese\n",
       "    <span style=\"font-size: 0.8em; font-weight: bold; line-height: 1; border-radius: 0.35em; text-transform: uppercase; vertical-align: middle; margin-left: 0.5rem\">NORP</span>\n",
       "</mark>\n",
       " medical system responds to this problem in a very special way, which is to set a uniform price for medical prices across the country. This measure allows citizens to enjoy relatively equal medical resources and acceptable prices to the greatest extent. Of course, as mentioned in the video, this measure also exposes most \n",
       "<mark class=\"entity\" style=\"background: #c887fb; padding: 0.45em 0.6em; margin: 0 0.25em; line-height: 1; border-radius: 0.35em;\">\n",
       "    Japanese\n",
       "    <span style=\"font-size: 0.8em; font-weight: bold; line-height: 1; border-radius: 0.35em; text-transform: uppercase; vertical-align: middle; margin-left: 0.5rem\">NORP</span>\n",
       "</mark>\n",
       " hospitals to fiscal deficits. If it can be successfully resolved, how to ensure the interests of the patients while ensuring the benefits of the hospital, I think the \n",
       "<mark class=\"entity\" style=\"background: #c887fb; padding: 0.45em 0.6em; margin: 0 0.25em; line-height: 1; border-radius: 0.35em;\">\n",
       "    Japanese\n",
       "    <span style=\"font-size: 0.8em; font-weight: bold; line-height: 1; border-radius: 0.35em; text-transform: uppercase; vertical-align: middle; margin-left: 0.5rem\">NORP</span>\n",
       "</mark>\n",
       " medical system will become a very successful example.</div></span>"
      ],
      "text/plain": [
       "<IPython.core.display.HTML object>"
      ]
     },
     "metadata": {},
     "output_type": "display_data"
    },
    {
     "name": "stdout",
     "output_type": "stream",
     "text": [
      "------------------------------------------------------------------------\n"
     ]
    },
    {
     "data": {
      "text/html": [
       "<span class=\"tex2jax_ignore\"><div class=\"entities\" style=\"line-height: 2.5; direction: ltr\">As said in the video, \n",
       "<mark class=\"entity\" style=\"background: #7aecec; padding: 0.45em 0.6em; margin: 0 0.25em; line-height: 1; border-radius: 0.35em;\">\n",
       "    Healthcare\n",
       "    <span style=\"font-size: 0.8em; font-weight: bold; line-height: 1; border-radius: 0.35em; text-transform: uppercase; vertical-align: middle; margin-left: 0.5rem\">ORG</span>\n",
       "</mark>\n",
       " must be every person's right irrespective of their employability status. As in the case of \n",
       "<mark class=\"entity\" style=\"background: #feca74; padding: 0.45em 0.6em; margin: 0 0.25em; line-height: 1; border-radius: 0.35em;\">\n",
       "    Taiwan\n",
       "    <span style=\"font-size: 0.8em; font-weight: bold; line-height: 1; border-radius: 0.35em; text-transform: uppercase; vertical-align: middle; margin-left: 0.5rem\">GPE</span>\n",
       "</mark>\n",
       " deciding its healthcare policies by picking out the best attributes from healthcare systems around the world and refining to make a better is in fact the optimal solution to current day healthcare. However, I am most intrigued by the \n",
       "<mark class=\"entity\" style=\"background: #c887fb; padding: 0.45em 0.6em; margin: 0 0.25em; line-height: 1; border-radius: 0.35em;\">\n",
       "    Japanese\n",
       "    <span style=\"font-size: 0.8em; font-weight: bold; line-height: 1; border-radius: 0.35em; text-transform: uppercase; vertical-align: middle; margin-left: 0.5rem\">NORP</span>\n",
       "</mark>\n",
       " healthcare system as the entire public is covered for health care irrespective of their status. Most prices are negotiated to keep in mind the records of people visiting and the need of that particular medicine/service. Since there is very little to no waiting time, it is optimal for any patient at any given time(even in case of an emergency) to get the right treatment on time.\n",
       "On top of all these, there is a proper management system in place that can account for 126million people enrolled on the single payment system that keeps track of every visit/medication used/ future visits needed etc.</div></span>"
      ],
      "text/plain": [
       "<IPython.core.display.HTML object>"
      ]
     },
     "metadata": {},
     "output_type": "display_data"
    },
    {
     "name": "stdout",
     "output_type": "stream",
     "text": [
      "------------------------------------------------------------------------\n"
     ]
    },
    {
     "data": {
      "text/html": [
       "<span class=\"tex2jax_ignore\"><div class=\"entities\" style=\"line-height: 2.5; direction: ltr\">I would like to choose the health system from \n",
       "<mark class=\"entity\" style=\"background: #feca74; padding: 0.45em 0.6em; margin: 0 0.25em; line-height: 1; border-radius: 0.35em;\">\n",
       "    Switzerland\n",
       "    <span style=\"font-size: 0.8em; font-weight: bold; line-height: 1; border-radius: 0.35em; text-transform: uppercase; vertical-align: middle; margin-left: 0.5rem\">GPE</span>\n",
       "</mark>\n",
       ". It is known that health insurance is compulsory for all long-term residents in \n",
       "<mark class=\"entity\" style=\"background: #feca74; padding: 0.45em 0.6em; margin: 0 0.25em; line-height: 1; border-radius: 0.35em;\">\n",
       "    Switzerland\n",
       "    <span style=\"font-size: 0.8em; font-weight: bold; line-height: 1; border-radius: 0.35em; text-transform: uppercase; vertical-align: middle; margin-left: 0.5rem\">GPE</span>\n",
       "</mark>\n",
       " and the premium is the same in principle regardless of age, sex and state of health. Specially, government will pay for the poor for the health service. This law makes sure that all the residents can receive good health service and ensure the human right to have a private health care when they get hurt. Besides, as all the residents entitled to health insurance, it eliminates the fear of medical disputes and safeguards the interests of the members. In addition, as the state determines the price of medicines and medical services, the insurance company can only attract people by improving their service, the healthy competition among company control the cost of care and ensure the quality of service at the same time. Furthermore, as patients are protecting by the health insurance, they have the right to change doctor at any time. indeed, \n",
       "<mark class=\"entity\" style=\"background: #c887fb; padding: 0.45em 0.6em; margin: 0 0.25em; line-height: 1; border-radius: 0.35em;\">\n",
       "    Swiss\n",
       "    <span style=\"font-size: 0.8em; font-weight: bold; line-height: 1; border-radius: 0.35em; text-transform: uppercase; vertical-align: middle; margin-left: 0.5rem\">NORP</span>\n",
       "</mark>\n",
       " doctors talk directly with patients, ensuring that each patient fully understands and participates in all decisions.</div></span>"
      ],
      "text/plain": [
       "<IPython.core.display.HTML object>"
      ]
     },
     "metadata": {},
     "output_type": "display_data"
    },
    {
     "name": "stdout",
     "output_type": "stream",
     "text": [
      "------------------------------------------------------------------------\n"
     ]
    },
    {
     "data": {
      "text/html": [
       "<span class=\"tex2jax_ignore\"><div class=\"entities\" style=\"line-height: 2.5; direction: ltr\">I would like to choose the \n",
       "<mark class=\"entity\" style=\"background: #c887fb; padding: 0.45em 0.6em; margin: 0 0.25em; line-height: 1; border-radius: 0.35em;\">\n",
       "    Japanese\n",
       "    <span style=\"font-size: 0.8em; font-weight: bold; line-height: 1; border-radius: 0.35em; text-transform: uppercase; vertical-align: middle; margin-left: 0.5rem\">NORP</span>\n",
       "</mark>\n",
       " medical system. I think the \n",
       "<mark class=\"entity\" style=\"background: #c887fb; padding: 0.45em 0.6em; margin: 0 0.25em; line-height: 1; border-radius: 0.35em;\">\n",
       "    Japanese\n",
       "    <span style=\"font-size: 0.8em; font-weight: bold; line-height: 1; border-radius: 0.35em; text-transform: uppercase; vertical-align: middle; margin-left: 0.5rem\">NORP</span>\n",
       "</mark>\n",
       " medical system is somewhere between the \n",
       "<mark class=\"entity\" style=\"background: #c887fb; padding: 0.45em 0.6em; margin: 0 0.25em; line-height: 1; border-radius: 0.35em;\">\n",
       "    Nordic\n",
       "    <span style=\"font-size: 0.8em; font-weight: bold; line-height: 1; border-radius: 0.35em; text-transform: uppercase; vertical-align: middle; margin-left: 0.5rem\">NORP</span>\n",
       "</mark>\n",
       " and \n",
       "<mark class=\"entity\" style=\"background: #c887fb; padding: 0.45em 0.6em; margin: 0 0.25em; line-height: 1; border-radius: 0.35em;\">\n",
       "    American\n",
       "    <span style=\"font-size: 0.8em; font-weight: bold; line-height: 1; border-radius: 0.35em; text-transform: uppercase; vertical-align: middle; margin-left: 0.5rem\">NORP</span>\n",
       "</mark>\n",
       " models. The \n",
       "<mark class=\"entity\" style=\"background: #7aecec; padding: 0.45em 0.6em; margin: 0 0.25em; line-height: 1; border-radius: 0.35em;\">\n",
       "    Nordic\n",
       "    <span style=\"font-size: 0.8em; font-weight: bold; line-height: 1; border-radius: 0.35em; text-transform: uppercase; vertical-align: middle; margin-left: 0.5rem\">ORG</span>\n",
       "</mark>\n",
       " countries mostly adopt public medical systems, which are relatively inefficient. \n",
       "<mark class=\"entity\" style=\"background: #feca74; padding: 0.45em 0.6em; margin: 0 0.25em; line-height: 1; border-radius: 0.35em;\">\n",
       "    The United States\n",
       "    <span style=\"font-size: 0.8em; font-weight: bold; line-height: 1; border-radius: 0.35em; text-transform: uppercase; vertical-align: middle; margin-left: 0.5rem\">GPE</span>\n",
       "</mark>\n",
       " is privatized. Although the level of medical care is high, the poor are burdened with suffering. Medical services in \n",
       "<mark class=\"entity\" style=\"background: #feca74; padding: 0.45em 0.6em; margin: 0 0.25em; line-height: 1; border-radius: 0.35em;\">\n",
       "    Japan\n",
       "    <span style=\"font-size: 0.8em; font-weight: bold; line-height: 1; border-radius: 0.35em; text-transform: uppercase; vertical-align: middle; margin-left: 0.5rem\">GPE</span>\n",
       "</mark>\n",
       " are provided by the private sector, while the government pays for medical expenses. This not only ensures efficiency but also solves the problems of difficult and expensive medical treatment. \n",
       "<mark class=\"entity\" style=\"background: #feca74; padding: 0.45em 0.6em; margin: 0 0.25em; line-height: 1; border-radius: 0.35em;\">\n",
       "    Japan\n",
       "    <span style=\"font-size: 0.8em; font-weight: bold; line-height: 1; border-radius: 0.35em; text-transform: uppercase; vertical-align: middle; margin-left: 0.5rem\">GPE</span>\n",
       "</mark>\n",
       " implements national public medical insurance, which has already covered all citizens. Thanks to this system, the burden on \n",
       "<mark class=\"entity\" style=\"background: #c887fb; padding: 0.45em 0.6em; margin: 0 0.25em; line-height: 1; border-radius: 0.35em;\">\n",
       "    Japanese\n",
       "    <span style=\"font-size: 0.8em; font-weight: bold; line-height: 1; border-radius: 0.35em; text-transform: uppercase; vertical-align: middle; margin-left: 0.5rem\">NORP</span>\n",
       "</mark>\n",
       " people when seeking medical treatment is very small, and many diseases can be detected and treated early, eliminating the need for more expensive treatment costs after the disease worsens. The proportion of public expenditure in \n",
       "<mark class=\"entity\" style=\"background: #feca74; padding: 0.45em 0.6em; margin: 0 0.25em; line-height: 1; border-radius: 0.35em;\">\n",
       "    Japan\n",
       "    <span style=\"font-size: 0.8em; font-weight: bold; line-height: 1; border-radius: 0.35em; text-transform: uppercase; vertical-align: middle; margin-left: 0.5rem\">GPE</span>\n",
       "</mark>\n",
       "'s total medical expenses is relatively high. Citizens are divided by age, and benefits are equal regardless of income in the same age group. Young people and high-income earners take on more responsibilities. The preference for the poor, children and the elderly is a manifestation of social justice. Pay attention to the value of medical workers and enrich the supply of social medical resources.</div></span>"
      ],
      "text/plain": [
       "<IPython.core.display.HTML object>"
      ]
     },
     "metadata": {},
     "output_type": "display_data"
    },
    {
     "name": "stdout",
     "output_type": "stream",
     "text": [
      "------------------------------------------------------------------------\n"
     ]
    },
    {
     "data": {
      "text/html": [
       "<span class=\"tex2jax_ignore\"><div class=\"entities\" style=\"line-height: 2.5; direction: ltr\">After watching the video, I am most intrigued by \n",
       "<mark class=\"entity\" style=\"background: #feca74; padding: 0.45em 0.6em; margin: 0 0.25em; line-height: 1; border-radius: 0.35em;\">\n",
       "    Germany\n",
       "    <span style=\"font-size: 0.8em; font-weight: bold; line-height: 1; border-radius: 0.35em; text-transform: uppercase; vertical-align: middle; margin-left: 0.5rem\">GPE</span>\n",
       "</mark>\n",
       "'s health system. </br>The reason I choose this system is that, \n",
       "<mark class=\"entity\" style=\"background: #e4e7d2; padding: 0.45em 0.6em; margin: 0 0.25em; line-height: 1; border-radius: 0.35em;\">\n",
       "    firstly\n",
       "    <span style=\"font-size: 0.8em; font-weight: bold; line-height: 1; border-radius: 0.35em; text-transform: uppercase; vertical-align: middle; margin-left: 0.5rem\">ORDINAL</span>\n",
       "</mark>\n",
       ", it uses a social insurance model and \n",
       "<mark class=\"entity\" style=\"background: #c887fb; padding: 0.45em 0.6em; margin: 0 0.25em; line-height: 1; border-radius: 0.35em;\">\n",
       "    Germans\n",
       "    <span style=\"font-size: 0.8em; font-weight: bold; line-height: 1; border-radius: 0.35em; text-transform: uppercase; vertical-align: middle; margin-left: 0.5rem\">NORP</span>\n",
       "</mark>\n",
       " are free to buy their insurance from \n",
       "<mark class=\"entity\" style=\"background: #e4e7d2; padding: 0.45em 0.6em; margin: 0 0.25em; line-height: 1; border-radius: 0.35em;\">\n",
       "    one\n",
       "    <span style=\"font-size: 0.8em; font-weight: bold; line-height: 1; border-radius: 0.35em; text-transform: uppercase; vertical-align: middle; margin-left: 0.5rem\">CARDINAL</span>\n",
       "</mark>\n",
       " of \n",
       "<mark class=\"entity\" style=\"background: #e4e7d2; padding: 0.45em 0.6em; margin: 0 0.25em; line-height: 1; border-radius: 0.35em;\">\n",
       "    more than 200\n",
       "    <span style=\"font-size: 0.8em; font-weight: bold; line-height: 1; border-radius: 0.35em; text-transform: uppercase; vertical-align: middle; margin-left: 0.5rem\">CARDINAL</span>\n",
       "</mark>\n",
       " private, nonprofit &quot;sickness funds.&quot; Even though the average family premium is $\n",
       "<mark class=\"entity\" style=\"background: #e4e7d2; padding: 0.45em 0.6em; margin: 0 0.25em; line-height: 1; border-radius: 0.35em;\">\n",
       "    750\n",
       "    <span style=\"font-size: 0.8em; font-weight: bold; line-height: 1; border-radius: 0.35em; text-transform: uppercase; vertical-align: middle; margin-left: 0.5rem\">MONEY</span>\n",
       "</mark>\n",
       " per month which is higher than other countries mentioned in the video, the co-payments is pretty low compared to other countries in my opinion.</br>\n",
       "<mark class=\"entity\" style=\"background: #e4e7d2; padding: 0.45em 0.6em; margin: 0 0.25em; line-height: 1; border-radius: 0.35em;\">\n",
       "    Second\n",
       "    <span style=\"font-size: 0.8em; font-weight: bold; line-height: 1; border-radius: 0.35em; text-transform: uppercase; vertical-align: middle; margin-left: 0.5rem\">ORDINAL</span>\n",
       "</mark>\n",
       " reason is that \n",
       "<mark class=\"entity\" style=\"background: #c887fb; padding: 0.45em 0.6em; margin: 0 0.25em; line-height: 1; border-radius: 0.35em;\">\n",
       "    Germans\n",
       "    <span style=\"font-size: 0.8em; font-weight: bold; line-height: 1; border-radius: 0.35em; text-transform: uppercase; vertical-align: middle; margin-left: 0.5rem\">NORP</span>\n",
       "</mark>\n",
       " can choose to see a specialist straightaway without seeing a gatekeeper \n",
       "<mark class=\"entity\" style=\"background: #e4e7d2; padding: 0.45em 0.6em; margin: 0 0.25em; line-height: 1; border-radius: 0.35em;\">\n",
       "    first\n",
       "    <span style=\"font-size: 0.8em; font-weight: bold; line-height: 1; border-radius: 0.35em; text-transform: uppercase; vertical-align: middle; margin-left: 0.5rem\">ORDINAL</span>\n",
       "</mark>\n",
       ", provided that they are happy to pay a higher co-payments. And it also allows the richest \n",
       "<mark class=\"entity\" style=\"background: #e4e7d2; padding: 0.45em 0.6em; margin: 0 0.25em; line-height: 1; border-radius: 0.35em;\">\n",
       "    10 percent\n",
       "    <span style=\"font-size: 0.8em; font-weight: bold; line-height: 1; border-radius: 0.35em; text-transform: uppercase; vertical-align: middle; margin-left: 0.5rem\">PERCENT</span>\n",
       "</mark>\n",
       " \n",
       "<mark class=\"entity\" style=\"background: #c887fb; padding: 0.45em 0.6em; margin: 0 0.25em; line-height: 1; border-radius: 0.35em;\">\n",
       "    Germans\n",
       "    <span style=\"font-size: 0.8em; font-weight: bold; line-height: 1; border-radius: 0.35em; text-transform: uppercase; vertical-align: middle; margin-left: 0.5rem\">NORP</span>\n",
       "</mark>\n",
       " opt out of the sickness funds in favor of U.S.-style for-profit insurance. These patients are able to see doctors faster in general. </br>I prefer this way because it gives citizens more options based on their level of income so people are divided up to different types of hospitals/clinics. Richer people do not need to wait as long as others and it will also reduce the workload for &quot;sickness funds&quot; and improves efficiency.</br>\n",
       "<mark class=\"entity\" style=\"background: #e4e7d2; padding: 0.45em 0.6em; margin: 0 0.25em; line-height: 1; border-radius: 0.35em;\">\n",
       "    Thirdly\n",
       "    <span style=\"font-size: 0.8em; font-weight: bold; line-height: 1; border-radius: 0.35em; text-transform: uppercase; vertical-align: middle; margin-left: 0.5rem\">ORDINAL</span>\n",
       "</mark>\n",
       ", the percentage of GDP spent on health care is \n",
       "<mark class=\"entity\" style=\"background: #e4e7d2; padding: 0.45em 0.6em; margin: 0 0.25em; line-height: 1; border-radius: 0.35em;\">\n",
       "    10.7\n",
       "    <span style=\"font-size: 0.8em; font-weight: bold; line-height: 1; border-radius: 0.35em; text-transform: uppercase; vertical-align: middle; margin-left: 0.5rem\">CARDINAL</span>\n",
       "</mark>\n",
       " which seems to be a reasonable number to me, not too much and not too less like \n",
       "<mark class=\"entity\" style=\"background: #feca74; padding: 0.45em 0.6em; margin: 0 0.25em; line-height: 1; border-radius: 0.35em;\">\n",
       "    Japan\n",
       "    <span style=\"font-size: 0.8em; font-weight: bold; line-height: 1; border-radius: 0.35em; text-transform: uppercase; vertical-align: middle; margin-left: 0.5rem\">GPE</span>\n",
       "</mark>\n",
       ".</div></span>"
      ],
      "text/plain": [
       "<IPython.core.display.HTML object>"
      ]
     },
     "metadata": {},
     "output_type": "display_data"
    },
    {
     "name": "stdout",
     "output_type": "stream",
     "text": [
      "------------------------------------------------------------------------\n"
     ]
    },
    {
     "data": {
      "text/html": [
       "<span class=\"tex2jax_ignore\"><div class=\"entities\" style=\"line-height: 2.5; direction: ltr\">I prefer to get healthcare from \n",
       "<mark class=\"entity\" style=\"background: #feca74; padding: 0.45em 0.6em; margin: 0 0.25em; line-height: 1; border-radius: 0.35em;\">\n",
       "    Japan\n",
       "    <span style=\"font-size: 0.8em; font-weight: bold; line-height: 1; border-radius: 0.35em; text-transform: uppercase; vertical-align: middle; margin-left: 0.5rem\">GPE</span>\n",
       "</mark>\n",
       ". In \n",
       "<mark class=\"entity\" style=\"background: #feca74; padding: 0.45em 0.6em; margin: 0 0.25em; line-height: 1; border-radius: 0.35em;\">\n",
       "    Japan\n",
       "    <span style=\"font-size: 0.8em; font-weight: bold; line-height: 1; border-radius: 0.35em; text-transform: uppercase; vertical-align: middle; margin-left: 0.5rem\">GPE</span>\n",
       "</mark>\n",
       ", residents pay for medical insurance. The results shown by the \n",
       "<mark class=\"entity\" style=\"background: #c887fb; padding: 0.45em 0.6em; margin: 0 0.25em; line-height: 1; border-radius: 0.35em;\">\n",
       "    Japanese\n",
       "    <span style=\"font-size: 0.8em; font-weight: bold; line-height: 1; border-radius: 0.35em; text-transform: uppercase; vertical-align: middle; margin-left: 0.5rem\">NORP</span>\n",
       "</mark>\n",
       " medical system are excellent health result, no waiting lists and rock bottom costs. These are very good for patients, people can be diagnosed immediately when they are sick, and using MRI and other machines is not very expensive. Patients will not cause bankruptcy and other things because of illness. At the same time, because the cost is low and there is no need to wait, people do not have to worry about the cost, but can go to the hospital for regular examinations. This is very helpful to extend people's life.</div></span>"
      ],
      "text/plain": [
       "<IPython.core.display.HTML object>"
      ]
     },
     "metadata": {},
     "output_type": "display_data"
    },
    {
     "name": "stdout",
     "output_type": "stream",
     "text": [
      "------------------------------------------------------------------------\n"
     ]
    },
    {
     "data": {
      "text/html": [
       "<span class=\"tex2jax_ignore\"><div class=\"entities\" style=\"line-height: 2.5; direction: ltr\"></br>The good thing of \n",
       "<mark class=\"entity\" style=\"background: #feca74; padding: 0.45em 0.6em; margin: 0 0.25em; line-height: 1; border-radius: 0.35em;\">\n",
       "    Germany\n",
       "    <span style=\"font-size: 0.8em; font-weight: bold; line-height: 1; border-radius: 0.35em; text-transform: uppercase; vertical-align: middle; margin-left: 0.5rem\">GPE</span>\n",
       "</mark>\n",
       "’s health care system is that it covers many areas such as mental health, therapist. It not only care about people’s physical condition but also their mental health and other feelings. Which align with the definition of health from WHO we talked about before. It’s different to \n",
       "<mark class=\"entity\" style=\"background: #feca74; padding: 0.45em 0.6em; margin: 0 0.25em; line-height: 1; border-radius: 0.35em;\">\n",
       "    America\n",
       "    <span style=\"font-size: 0.8em; font-weight: bold; line-height: 1; border-radius: 0.35em; text-transform: uppercase; vertical-align: middle; margin-left: 0.5rem\">GPE</span>\n",
       "</mark>\n",
       " that it allows everyone to enjoy the system. Poor people gets help from the government. The speed of seeing doctor is reasonable, faster than the \n",
       "<mark class=\"entity\" style=\"background: #c887fb; padding: 0.45em 0.6em; margin: 0 0.25em; line-height: 1; border-radius: 0.35em;\">\n",
       "    British\n",
       "    <span style=\"font-size: 0.8em; font-weight: bold; line-height: 1; border-radius: 0.35em; text-transform: uppercase; vertical-align: middle; margin-left: 0.5rem\">NORP</span>\n",
       "</mark>\n",
       ". In addition, sickness fund negotiate with different sectors to provide low price. the shortage of this might be that doctors didn’t get satisfied. But it looks like better than in \n",
       "<mark class=\"entity\" style=\"background: #feca74; padding: 0.45em 0.6em; margin: 0 0.25em; line-height: 1; border-radius: 0.35em;\">\n",
       "    Japan\n",
       "    <span style=\"font-size: 0.8em; font-weight: bold; line-height: 1; border-radius: 0.35em; text-transform: uppercase; vertical-align: middle; margin-left: 0.5rem\">GPE</span>\n",
       "</mark>\n",
       ".</div></span>"
      ],
      "text/plain": [
       "<IPython.core.display.HTML object>"
      ]
     },
     "metadata": {},
     "output_type": "display_data"
    },
    {
     "name": "stdout",
     "output_type": "stream",
     "text": [
      "------------------------------------------------------------------------\n"
     ]
    },
    {
     "data": {
      "text/html": [
       "<span class=\"tex2jax_ignore\"><div class=\"entities\" style=\"line-height: 2.5; direction: ltr\">I prefer to get my healthcare from \n",
       "<mark class=\"entity\" style=\"background: #feca74; padding: 0.45em 0.6em; margin: 0 0.25em; line-height: 1; border-radius: 0.35em;\">\n",
       "    Japan\n",
       "    <span style=\"font-size: 0.8em; font-weight: bold; line-height: 1; border-radius: 0.35em; text-transform: uppercase; vertical-align: middle; margin-left: 0.5rem\">GPE</span>\n",
       "</mark>\n",
       " for the following reasons. </br></br>CHEAP: The healthcare system in \n",
       "<mark class=\"entity\" style=\"background: #feca74; padding: 0.45em 0.6em; margin: 0 0.25em; line-height: 1; border-radius: 0.35em;\">\n",
       "    Japan\n",
       "    <span style=\"font-size: 0.8em; font-weight: bold; line-height: 1; border-radius: 0.35em; text-transform: uppercase; vertical-align: middle; margin-left: 0.5rem\">GPE</span>\n",
       "</mark>\n",
       " covers everybody, anybody, anywhere, anytime, and it is cheap. It spends \n",
       "<mark class=\"entity\" style=\"background: #e4e7d2; padding: 0.45em 0.6em; margin: 0 0.25em; line-height: 1; border-radius: 0.35em;\">\n",
       "    half\n",
       "    <span style=\"font-size: 0.8em; font-weight: bold; line-height: 1; border-radius: 0.35em; text-transform: uppercase; vertical-align: middle; margin-left: 0.5rem\">CARDINAL</span>\n",
       "</mark>\n",
       " as much as \n",
       "<mark class=\"entity\" style=\"background: #feca74; padding: 0.45em 0.6em; margin: 0 0.25em; line-height: 1; border-radius: 0.35em;\">\n",
       "    the United States\n",
       "    <span style=\"font-size: 0.8em; font-weight: bold; line-height: 1; border-radius: 0.35em; text-transform: uppercase; vertical-align: middle; margin-left: 0.5rem\">GPE</span>\n",
       "</mark>\n",
       " per capita – for \n",
       "<mark class=\"entity\" style=\"background: #e4e7d2; padding: 0.45em 0.6em; margin: 0 0.25em; line-height: 1; border-radius: 0.35em;\">\n",
       "    just 8%\n",
       "    <span style=\"font-size: 0.8em; font-weight: bold; line-height: 1; border-radius: 0.35em; text-transform: uppercase; vertical-align: middle; margin-left: 0.5rem\">PERCENT</span>\n",
       "</mark>\n",
       " of GDP. If you lose your job in \n",
       "<mark class=\"entity\" style=\"background: #feca74; padding: 0.45em 0.6em; margin: 0 0.25em; line-height: 1; border-radius: 0.35em;\">\n",
       "    Japan\n",
       "    <span style=\"font-size: 0.8em; font-weight: bold; line-height: 1; border-radius: 0.35em; text-transform: uppercase; vertical-align: middle; margin-left: 0.5rem\">GPE</span>\n",
       "</mark>\n",
       ", you don’t lose your healthcare insurance. The average premium for a \n",
       "<mark class=\"entity\" style=\"background: #c887fb; padding: 0.45em 0.6em; margin: 0 0.25em; line-height: 1; border-radius: 0.35em;\">\n",
       "    Japanese\n",
       "    <span style=\"font-size: 0.8em; font-weight: bold; line-height: 1; border-radius: 0.35em; text-transform: uppercase; vertical-align: middle; margin-left: 0.5rem\">NORP</span>\n",
       "</mark>\n",
       " family is \n",
       "<mark class=\"entity\" style=\"background: #e4e7d2; padding: 0.45em 0.6em; margin: 0 0.25em; line-height: 1; border-radius: 0.35em;\">\n",
       "    only $280\n",
       "    <span style=\"font-size: 0.8em; font-weight: bold; line-height: 1; border-radius: 0.35em; text-transform: uppercase; vertical-align: middle; margin-left: 0.5rem\">MONEY</span>\n",
       "</mark>\n",
       " a month with the employer paying \n",
       "<mark class=\"entity\" style=\"background: #e4e7d2; padding: 0.45em 0.6em; margin: 0 0.25em; line-height: 1; border-radius: 0.35em;\">\n",
       "    half\n",
       "    <span style=\"font-size: 0.8em; font-weight: bold; line-height: 1; border-radius: 0.35em; text-transform: uppercase; vertical-align: middle; margin-left: 0.5rem\">CARDINAL</span>\n",
       "</mark>\n",
       " of it. Insurance companies cannot make a profit.</br>CONVENIENCE: \n",
       "<mark class=\"entity\" style=\"background: #e4e7d2; padding: 0.45em 0.6em; margin: 0 0.25em; line-height: 1; border-radius: 0.35em;\">\n",
       "    80%\n",
       "    <span style=\"font-size: 0.8em; font-weight: bold; line-height: 1; border-radius: 0.35em; text-transform: uppercase; vertical-align: middle; margin-left: 0.5rem\">PERCENT</span>\n",
       "</mark>\n",
       " of the hospitals are private. There are no gatekeepers, so \n",
       "<mark class=\"entity\" style=\"background: #c887fb; padding: 0.45em 0.6em; margin: 0 0.25em; line-height: 1; border-radius: 0.35em;\">\n",
       "    Japanese\n",
       "    <span style=\"font-size: 0.8em; font-weight: bold; line-height: 1; border-radius: 0.35em; text-transform: uppercase; vertical-align: middle; margin-left: 0.5rem\">NORP</span>\n",
       "</mark>\n",
       " can go see any specialist they want. Compared to \n",
       "<mark class=\"entity\" style=\"background: #feca74; padding: 0.45em 0.6em; margin: 0 0.25em; line-height: 1; border-radius: 0.35em;\">\n",
       "    Australia\n",
       "    <span style=\"font-size: 0.8em; font-weight: bold; line-height: 1; border-radius: 0.35em; text-transform: uppercase; vertical-align: middle; margin-left: 0.5rem\">GPE</span>\n",
       "</mark>\n",
       ", I have to book an appointment with the \n",
       "<mark class=\"entity\" style=\"background: #7aecec; padding: 0.45em 0.6em; margin: 0 0.25em; line-height: 1; border-radius: 0.35em;\">\n",
       "    GP\n",
       "    <span style=\"font-size: 0.8em; font-weight: bold; line-height: 1; border-radius: 0.35em; text-transform: uppercase; vertical-align: middle; margin-left: 0.5rem\">ORG</span>\n",
       "</mark>\n",
       " and only can see a specialist if the \n",
       "<mark class=\"entity\" style=\"background: #7aecec; padding: 0.45em 0.6em; margin: 0 0.25em; line-height: 1; border-radius: 0.35em;\">\n",
       "    GP\n",
       "    <span style=\"font-size: 0.8em; font-weight: bold; line-height: 1; border-radius: 0.35em; text-transform: uppercase; vertical-align: middle; margin-left: 0.5rem\">ORG</span>\n",
       "</mark>\n",
       " recommends. </br>\n",
       "<mark class=\"entity\" style=\"background: #7aecec; padding: 0.45em 0.6em; margin: 0 0.25em; line-height: 1; border-radius: 0.35em;\">\n",
       "    STANDARD\n",
       "    <span style=\"font-size: 0.8em; font-weight: bold; line-height: 1; border-radius: 0.35em; text-transform: uppercase; vertical-align: middle; margin-left: 0.5rem\">ORG</span>\n",
       "</mark>\n",
       " PRICE EVERYWHERE IN \n",
       "<mark class=\"entity\" style=\"background: #feca74; padding: 0.45em 0.6em; margin: 0 0.25em; line-height: 1; border-radius: 0.35em;\">\n",
       "    JAPAN\n",
       "    <span style=\"font-size: 0.8em; font-weight: bold; line-height: 1; border-radius: 0.35em; text-transform: uppercase; vertical-align: middle; margin-left: 0.5rem\">GPE</span>\n",
       "</mark>\n",
       ": \n",
       "<mark class=\"entity\" style=\"background: #c887fb; padding: 0.45em 0.6em; margin: 0 0.25em; line-height: 1; border-radius: 0.35em;\">\n",
       "    Japanese\n",
       "    <span style=\"font-size: 0.8em; font-weight: bold; line-height: 1; border-radius: 0.35em; text-transform: uppercase; vertical-align: middle; margin-left: 0.5rem\">NORP</span>\n",
       "</mark>\n",
       " patients like technology like scans. However, the cost is kept under control because \n",
       "<mark class=\"entity\" style=\"background: #7aecec; padding: 0.45em 0.6em; margin: 0 0.25em; line-height: 1; border-radius: 0.35em;\">\n",
       "    the Japanese Health Ministry\n",
       "    <span style=\"font-size: 0.8em; font-weight: bold; line-height: 1; border-radius: 0.35em; text-transform: uppercase; vertical-align: middle; margin-left: 0.5rem\">ORG</span>\n",
       "</mark>\n",
       " tightly controls the price of health care down to the smallest detail. Every \n",
       "<mark class=\"entity\" style=\"background: #bfe1d9; padding: 0.45em 0.6em; margin: 0 0.25em; line-height: 1; border-radius: 0.35em;\">\n",
       "    two years\n",
       "    <span style=\"font-size: 0.8em; font-weight: bold; line-height: 1; border-radius: 0.35em; text-transform: uppercase; vertical-align: middle; margin-left: 0.5rem\">DATE</span>\n",
       "</mark>\n",
       " the physicians and health ministry negotiate a fixed price for every single procedure and drug. There is a standard price for each of those and is same everywhere in \n",
       "<mark class=\"entity\" style=\"background: #feca74; padding: 0.45em 0.6em; margin: 0 0.25em; line-height: 1; border-radius: 0.35em;\">\n",
       "    Japan\n",
       "    <span style=\"font-size: 0.8em; font-weight: bold; line-height: 1; border-radius: 0.35em; text-transform: uppercase; vertical-align: middle; margin-left: 0.5rem\">GPE</span>\n",
       "</mark>\n",
       ". Doctors can only charge what the official book dictates. \n",
       "</div></span>"
      ],
      "text/plain": [
       "<IPython.core.display.HTML object>"
      ]
     },
     "metadata": {},
     "output_type": "display_data"
    },
    {
     "name": "stdout",
     "output_type": "stream",
     "text": [
      "------------------------------------------------------------------------\n"
     ]
    },
    {
     "data": {
      "text/html": [
       "<span class=\"tex2jax_ignore\"><div class=\"entities\" style=\"line-height: 2.5; direction: ltr\">I prefer \n",
       "<mark class=\"entity\" style=\"background: #feca74; padding: 0.45em 0.6em; margin: 0 0.25em; line-height: 1; border-radius: 0.35em;\">\n",
       "    Japan\n",
       "    <span style=\"font-size: 0.8em; font-weight: bold; line-height: 1; border-radius: 0.35em; text-transform: uppercase; vertical-align: middle; margin-left: 0.5rem\">GPE</span>\n",
       "</mark>\n",
       ". The main reason is there is no waiting time, and no need to make  reservations. In case of feeling sick, you can go to the doctors immediately, or the doctors come to you.  In addition, there are \n",
       "<mark class=\"entity\" style=\"background: #bfe1d9; padding: 0.45em 0.6em; margin: 0 0.25em; line-height: 1; border-radius: 0.35em;\">\n",
       "    annual\n",
       "    <span style=\"font-size: 0.8em; font-weight: bold; line-height: 1; border-radius: 0.35em; text-transform: uppercase; vertical-align: middle; margin-left: 0.5rem\">DATE</span>\n",
       "</mark>\n",
       " health examinations. The prices of treatments/medicines are reviewed and adjusted periodically, and unified in the whole country. In general, from my opinion, healthcare in \n",
       "<mark class=\"entity\" style=\"background: #feca74; padding: 0.45em 0.6em; margin: 0 0.25em; line-height: 1; border-radius: 0.35em;\">\n",
       "    Japan\n",
       "    <span style=\"font-size: 0.8em; font-weight: bold; line-height: 1; border-radius: 0.35em; text-transform: uppercase; vertical-align: middle; margin-left: 0.5rem\">GPE</span>\n",
       "</mark>\n",
       " is easy and fair to access.</div></span>"
      ],
      "text/plain": [
       "<IPython.core.display.HTML object>"
      ]
     },
     "metadata": {},
     "output_type": "display_data"
    },
    {
     "name": "stdout",
     "output_type": "stream",
     "text": [
      "------------------------------------------------------------------------\n"
     ]
    },
    {
     "data": {
      "text/html": [
       "<span class=\"tex2jax_ignore\"><div class=\"entities\" style=\"line-height: 2.5; direction: ltr\"> After watching \n",
       "<mark class=\"entity\" style=\"background: #aa9cfc; padding: 0.45em 0.6em; margin: 0 0.25em; line-height: 1; border-radius: 0.35em;\">\n",
       "    Sick Around the World\n",
       "    <span style=\"font-size: 0.8em; font-weight: bold; line-height: 1; border-radius: 0.35em; text-transform: uppercase; vertical-align: middle; margin-left: 0.5rem\">PERSON</span>\n",
       "</mark>\n",
       ",  I were most intrigued by the \n",
       "<mark class=\"entity\" style=\"background: #c887fb; padding: 0.45em 0.6em; margin: 0 0.25em; line-height: 1; border-radius: 0.35em;\">\n",
       "    Japanese\n",
       "    <span style=\"font-size: 0.8em; font-weight: bold; line-height: 1; border-radius: 0.35em; text-transform: uppercase; vertical-align: middle; margin-left: 0.5rem\">NORP</span>\n",
       "</mark>\n",
       " health system and I prefer to get my healthcare from \n",
       "<mark class=\"entity\" style=\"background: #feca74; padding: 0.45em 0.6em; margin: 0 0.25em; line-height: 1; border-radius: 0.35em;\">\n",
       "    Japan\n",
       "    <span style=\"font-size: 0.8em; font-weight: bold; line-height: 1; border-radius: 0.35em; text-transform: uppercase; vertical-align: middle; margin-left: 0.5rem\">GPE</span>\n",
       "</mark>\n",
       ". The reasion is quite simple. The medical expenses in \n",
       "<mark class=\"entity\" style=\"background: #feca74; padding: 0.45em 0.6em; margin: 0 0.25em; line-height: 1; border-radius: 0.35em;\">\n",
       "    Japan\n",
       "    <span style=\"font-size: 0.8em; font-weight: bold; line-height: 1; border-radius: 0.35em; text-transform: uppercase; vertical-align: middle; margin-left: 0.5rem\">GPE</span>\n",
       "</mark>\n",
       " are very low and everyone in \n",
       "<mark class=\"entity\" style=\"background: #feca74; padding: 0.45em 0.6em; margin: 0 0.25em; line-height: 1; border-radius: 0.35em;\">\n",
       "    Japan\n",
       "    <span style=\"font-size: 0.8em; font-weight: bold; line-height: 1; border-radius: 0.35em; text-transform: uppercase; vertical-align: middle; margin-left: 0.5rem\">GPE</span>\n",
       "</mark>\n",
       " is covered by the healthcare insurance. Whenever I feel that I need to see a doctor, I don’t have to worry about expensive medical expenses in \n",
       "<mark class=\"entity\" style=\"background: #feca74; padding: 0.45em 0.6em; margin: 0 0.25em; line-height: 1; border-radius: 0.35em;\">\n",
       "    Japan\n",
       "    <span style=\"font-size: 0.8em; font-weight: bold; line-height: 1; border-radius: 0.35em; text-transform: uppercase; vertical-align: middle; margin-left: 0.5rem\">GPE</span>\n",
       "</mark>\n",
       ". However, the healthcare system in \n",
       "<mark class=\"entity\" style=\"background: #feca74; padding: 0.45em 0.6em; margin: 0 0.25em; line-height: 1; border-radius: 0.35em;\">\n",
       "    Japan\n",
       "    <span style=\"font-size: 0.8em; font-weight: bold; line-height: 1; border-radius: 0.35em; text-transform: uppercase; vertical-align: middle; margin-left: 0.5rem\">GPE</span>\n",
       "</mark>\n",
       " is not that good for doctors.</div></span>"
      ],
      "text/plain": [
       "<IPython.core.display.HTML object>"
      ]
     },
     "metadata": {},
     "output_type": "display_data"
    },
    {
     "name": "stdout",
     "output_type": "stream",
     "text": [
      "------------------------------------------------------------------------\n"
     ]
    },
    {
     "data": {
      "text/html": [
       "<span class=\"tex2jax_ignore\"><div class=\"entities\" style=\"line-height: 2.5; direction: ltr\">By watching \n",
       "<mark class=\"entity\" style=\"background: #aa9cfc; padding: 0.45em 0.6em; margin: 0 0.25em; line-height: 1; border-radius: 0.35em;\">\n",
       "    Sick Around the World\n",
       "    <span style=\"font-size: 0.8em; font-weight: bold; line-height: 1; border-radius: 0.35em; text-transform: uppercase; vertical-align: middle; margin-left: 0.5rem\">PERSON</span>\n",
       "</mark>\n",
       ", \n",
       "<mark class=\"entity\" style=\"background: #feca74; padding: 0.45em 0.6em; margin: 0 0.25em; line-height: 1; border-radius: 0.35em;\">\n",
       "    Japan\n",
       "    <span style=\"font-size: 0.8em; font-weight: bold; line-height: 1; border-radius: 0.35em; text-transform: uppercase; vertical-align: middle; margin-left: 0.5rem\">GPE</span>\n",
       "</mark>\n",
       " is the country that I was most intrigued by and prefer to get your healthcare from. </br>\n",
       "<mark class=\"entity\" style=\"background: #e4e7d2; padding: 0.45em 0.6em; margin: 0 0.25em; line-height: 1; border-radius: 0.35em;\">\n",
       "    Firstly\n",
       "    <span style=\"font-size: 0.8em; font-weight: bold; line-height: 1; border-radius: 0.35em; text-transform: uppercase; vertical-align: middle; margin-left: 0.5rem\">ORDINAL</span>\n",
       "</mark>\n",
       ", all citizens in \n",
       "<mark class=\"entity\" style=\"background: #feca74; padding: 0.45em 0.6em; margin: 0 0.25em; line-height: 1; border-radius: 0.35em;\">\n",
       "    Japan\n",
       "    <span style=\"font-size: 0.8em; font-weight: bold; line-height: 1; border-radius: 0.35em; text-transform: uppercase; vertical-align: middle; margin-left: 0.5rem\">GPE</span>\n",
       "</mark>\n",
       " are covered. The \n",
       "<mark class=\"entity\" style=\"background: #c887fb; padding: 0.45em 0.6em; margin: 0 0.25em; line-height: 1; border-radius: 0.35em;\">\n",
       "    Japanese\n",
       "    <span style=\"font-size: 0.8em; font-weight: bold; line-height: 1; border-radius: 0.35em; text-transform: uppercase; vertical-align: middle; margin-left: 0.5rem\">NORP</span>\n",
       "</mark>\n",
       " are prodigious consumers, they go to the doctors \n",
       "<mark class=\"entity\" style=\"background: #e4e7d2; padding: 0.45em 0.6em; margin: 0 0.25em; line-height: 1; border-radius: 0.35em;\">\n",
       "    three\n",
       "    <span style=\"font-size: 0.8em; font-weight: bold; line-height: 1; border-radius: 0.35em; text-transform: uppercase; vertical-align: middle; margin-left: 0.5rem\">CARDINAL</span>\n",
       "</mark>\n",
       " times as often as \n",
       "<mark class=\"entity\" style=\"background: #c887fb; padding: 0.45em 0.6em; margin: 0 0.25em; line-height: 1; border-radius: 0.35em;\">\n",
       "    Americans\n",
       "    <span style=\"font-size: 0.8em; font-weight: bold; line-height: 1; border-radius: 0.35em; text-transform: uppercase; vertical-align: middle; margin-left: 0.5rem\">NORP</span>\n",
       "</mark>\n",
       " do, and they can go see any specialist they want. </br>\n",
       "<mark class=\"entity\" style=\"background: #e4e7d2; padding: 0.45em 0.6em; margin: 0 0.25em; line-height: 1; border-radius: 0.35em;\">\n",
       "    Secondly\n",
       "    <span style=\"font-size: 0.8em; font-weight: bold; line-height: 1; border-radius: 0.35em; text-transform: uppercase; vertical-align: middle; margin-left: 0.5rem\">ORDINAL</span>\n",
       "</mark>\n",
       ", the cost for seeing a doctor is cheap. \n",
       "<mark class=\"entity\" style=\"background: #7aecec; padding: 0.45em 0.6em; margin: 0 0.25em; line-height: 1; border-radius: 0.35em;\">\n",
       "    The Japanese Health Ministry\n",
       "    <span style=\"font-size: 0.8em; font-weight: bold; line-height: 1; border-radius: 0.35em; text-transform: uppercase; vertical-align: middle; margin-left: 0.5rem\">ORG</span>\n",
       "</mark>\n",
       " tightly controls the price of healthcare right down to the smallest details. </br>\n",
       "<mark class=\"entity\" style=\"background: #e4e7d2; padding: 0.45em 0.6em; margin: 0 0.25em; line-height: 1; border-radius: 0.35em;\">\n",
       "    Thirdly\n",
       "    <span style=\"font-size: 0.8em; font-weight: bold; line-height: 1; border-radius: 0.35em; text-transform: uppercase; vertical-align: middle; margin-left: 0.5rem\">ORDINAL</span>\n",
       "</mark>\n",
       ", due to the frequency of seeing doctors, the consumers are only need \n",
       "<mark class=\"entity\" style=\"background: #bfe1d9; padding: 0.45em 0.6em; margin: 0 0.25em; line-height: 1; border-radius: 0.35em;\">\n",
       "    few minutes\n",
       "    <span style=\"font-size: 0.8em; font-weight: bold; line-height: 1; border-radius: 0.35em; text-transform: uppercase; vertical-align: middle; margin-left: 0.5rem\">TIME</span>\n",
       "</mark>\n",
       ". </div></span>"
      ],
      "text/plain": [
       "<IPython.core.display.HTML object>"
      ]
     },
     "metadata": {},
     "output_type": "display_data"
    },
    {
     "name": "stdout",
     "output_type": "stream",
     "text": [
      "------------------------------------------------------------------------\n"
     ]
    },
    {
     "data": {
      "text/html": [
       "<span class=\"tex2jax_ignore\"><div class=\"entities\" style=\"line-height: 2.5; direction: ltr\">Among the countries that \n",
       "<mark class=\"entity\" style=\"background: #aa9cfc; padding: 0.45em 0.6em; margin: 0 0.25em; line-height: 1; border-radius: 0.35em;\">\n",
       "    Reid\n",
       "    <span style=\"font-size: 0.8em; font-weight: bold; line-height: 1; border-radius: 0.35em; text-transform: uppercase; vertical-align: middle; margin-left: 0.5rem\">PERSON</span>\n",
       "</mark>\n",
       " visited, I prefer to get my healthcare from the health system of \n",
       "<mark class=\"entity\" style=\"background: #feca74; padding: 0.45em 0.6em; margin: 0 0.25em; line-height: 1; border-radius: 0.35em;\">\n",
       "    UK\n",
       "    <span style=\"font-size: 0.8em; font-weight: bold; line-height: 1; border-radius: 0.35em; text-transform: uppercase; vertical-align: middle; margin-left: 0.5rem\">GPE</span>\n",
       "</mark>\n",
       ". Although it seems that I am still a healthy young woman, as far as this problem is concerned, I personally prefer to consider it from the worst perspective. If it is in the other countries, I would worry that I might not have the financial capacity to pay for medical expenses when I am poor, so I dare not seek medical treatment, or I may not get the government's financial support in time to help me get proper treatment. On the one hand, I may not be able to afford the high medical expenses in \n",
       "<mark class=\"entity\" style=\"background: #feca74; padding: 0.45em 0.6em; margin: 0 0.25em; line-height: 1; border-radius: 0.35em;\">\n",
       "    the United States\n",
       "    <span style=\"font-size: 0.8em; font-weight: bold; line-height: 1; border-radius: 0.35em; text-transform: uppercase; vertical-align: middle; margin-left: 0.5rem\">GPE</span>\n",
       "</mark>\n",
       " and \n",
       "<mark class=\"entity\" style=\"background: #feca74; padding: 0.45em 0.6em; margin: 0 0.25em; line-height: 1; border-radius: 0.35em;\">\n",
       "    Switzerland\n",
       "    <span style=\"font-size: 0.8em; font-weight: bold; line-height: 1; border-radius: 0.35em; text-transform: uppercase; vertical-align: middle; margin-left: 0.5rem\">GPE</span>\n",
       "</mark>\n",
       " based on my current family conditions and financial ability. On the other hand, if I had the same disease that need to be treated urgently with another person who was richer and more generous than me, in \n",
       "<mark class=\"entity\" style=\"background: #feca74; padding: 0.45em 0.6em; margin: 0 0.25em; line-height: 1; border-radius: 0.35em;\">\n",
       "    Germany\n",
       "    <span style=\"font-size: 0.8em; font-weight: bold; line-height: 1; border-radius: 0.35em; text-transform: uppercase; vertical-align: middle; margin-left: 0.5rem\">GPE</span>\n",
       "</mark>\n",
       ", that person would obtain the treatment better and earlier since he paid more than I did. Life is thus measured by money, and no longer equal because of life itself. I cannot accept this reality. Without enough wealth, I dare not entrust my life and health to such a medical system easily. In contrast, although there are still problems with the \n",
       "<mark class=\"entity\" style=\"background: #c887fb; padding: 0.45em 0.6em; margin: 0 0.25em; line-height: 1; border-radius: 0.35em;\">\n",
       "    British\n",
       "    <span style=\"font-size: 0.8em; font-weight: bold; line-height: 1; border-radius: 0.35em; text-transform: uppercase; vertical-align: middle; margin-left: 0.5rem\">NORP</span>\n",
       "</mark>\n",
       " medical insurance system, at least, except for some out-of-pocket expenses for dental care, glasses, and \n",
       "<mark class=\"entity\" style=\"background: #e4e7d2; padding: 0.45em 0.6em; margin: 0 0.25em; line-height: 1; border-radius: 0.35em;\">\n",
       "    5%\n",
       "    <span style=\"font-size: 0.8em; font-weight: bold; line-height: 1; border-radius: 0.35em; text-transform: uppercase; vertical-align: middle; margin-left: 0.5rem\">PERCENT</span>\n",
       "</mark>\n",
       " prescription drugs, as long as I am a taxpayer in this country, I am guaranteed with free healthcare.</div></span>"
      ],
      "text/plain": [
       "<IPython.core.display.HTML object>"
      ]
     },
     "metadata": {},
     "output_type": "display_data"
    },
    {
     "name": "stdout",
     "output_type": "stream",
     "text": [
      "------------------------------------------------------------------------\n"
     ]
    },
    {
     "data": {
      "text/html": [
       "<span class=\"tex2jax_ignore\"><div class=\"entities\" style=\"line-height: 2.5; direction: ltr\">I prefer to get healthcare from \n",
       "<mark class=\"entity\" style=\"background: #feca74; padding: 0.45em 0.6em; margin: 0 0.25em; line-height: 1; border-radius: 0.35em;\">\n",
       "    Japan\n",
       "    <span style=\"font-size: 0.8em; font-weight: bold; line-height: 1; border-radius: 0.35em; text-transform: uppercase; vertical-align: middle; margin-left: 0.5rem\">GPE</span>\n",
       "</mark>\n",
       " according to \n",
       "<mark class=\"entity\" style=\"background: #e4e7d2; padding: 0.45em 0.6em; margin: 0 0.25em; line-height: 1; border-radius: 0.35em;\">\n",
       "    three\n",
       "    <span style=\"font-size: 0.8em; font-weight: bold; line-height: 1; border-radius: 0.35em; text-transform: uppercase; vertical-align: middle; margin-left: 0.5rem\">CARDINAL</span>\n",
       "</mark>\n",
       " reasons listed below. \n",
       "<mark class=\"entity\" style=\"background: #e4e7d2; padding: 0.45em 0.6em; margin: 0 0.25em; line-height: 1; border-radius: 0.35em;\">\n",
       "    First\n",
       "    <span style=\"font-size: 0.8em; font-weight: bold; line-height: 1; border-radius: 0.35em; text-transform: uppercase; vertical-align: middle; margin-left: 0.5rem\">ORDINAL</span>\n",
       "</mark>\n",
       ", everything is covered by health insurance. Patients don’t have to worry about the medical bill because of the rock bottom price decided by the \n",
       "<mark class=\"entity\" style=\"background: #c887fb; padding: 0.45em 0.6em; margin: 0 0.25em; line-height: 1; border-radius: 0.35em;\">\n",
       "    Japanese\n",
       "    <span style=\"font-size: 0.8em; font-weight: bold; line-height: 1; border-radius: 0.35em; text-transform: uppercase; vertical-align: middle; margin-left: 0.5rem\">NORP</span>\n",
       "</mark>\n",
       " government. \n",
       "<mark class=\"entity\" style=\"background: #e4e7d2; padding: 0.45em 0.6em; margin: 0 0.25em; line-height: 1; border-radius: 0.35em;\">\n",
       "    Second\n",
       "    <span style=\"font-size: 0.8em; font-weight: bold; line-height: 1; border-radius: 0.35em; text-transform: uppercase; vertical-align: middle; margin-left: 0.5rem\">ORDINAL</span>\n",
       "</mark>\n",
       ", even though the cost of visiting a doctor is cheap, there is no waiting list. Patients can go to the hospital and receive the examinations without making an appointment. This makes sure the patients’ conditions can be well controlled if symptoms are severe or start suddenly. Last, health insurance is cheap and sustainable. The average premium for a family is \n",
       "<mark class=\"entity\" style=\"background: #e4e7d2; padding: 0.45em 0.6em; margin: 0 0.25em; line-height: 1; border-radius: 0.35em;\">\n",
       "    only 280 dollars\n",
       "    <span style=\"font-size: 0.8em; font-weight: bold; line-height: 1; border-radius: 0.35em; text-transform: uppercase; vertical-align: middle; margin-left: 0.5rem\">MONEY</span>\n",
       "</mark>\n",
       " per month. And it will not be stopped if you lose your job. The government will take care of it to make sure every citizen have health insurance.  </div></span>"
      ],
      "text/plain": [
       "<IPython.core.display.HTML object>"
      ]
     },
     "metadata": {},
     "output_type": "display_data"
    },
    {
     "name": "stdout",
     "output_type": "stream",
     "text": [
      "------------------------------------------------------------------------\n"
     ]
    },
    {
     "data": {
      "text/html": [
       "<span class=\"tex2jax_ignore\"><div class=\"entities\" style=\"line-height: 2.5; direction: ltr\">  I prefer the \n",
       "<mark class=\"entity\" style=\"background: #c887fb; padding: 0.45em 0.6em; margin: 0 0.25em; line-height: 1; border-radius: 0.35em;\">\n",
       "    Japanese\n",
       "    <span style=\"font-size: 0.8em; font-weight: bold; line-height: 1; border-radius: 0.35em; text-transform: uppercase; vertical-align: middle; margin-left: 0.5rem\">NORP</span>\n",
       "</mark>\n",
       " system. I am \n",
       "<mark class=\"entity\" style=\"background: #c887fb; padding: 0.45em 0.6em; margin: 0 0.25em; line-height: 1; border-radius: 0.35em;\">\n",
       "    Japanese\n",
       "    <span style=\"font-size: 0.8em; font-weight: bold; line-height: 1; border-radius: 0.35em; text-transform: uppercase; vertical-align: middle; margin-left: 0.5rem\">NORP</span>\n",
       "</mark>\n",
       " and I never heard someone is bankrupt because of medical bills like he mentioned in the video. Moreover, there are a lot of private hospitals or clinics even in rural areas, so patients can go there sooner if they feel sick and usually do not have to wait for getting treatments. Actually, the number of dental clinics in \n",
       "<mark class=\"entity\" style=\"background: #feca74; padding: 0.45em 0.6em; margin: 0 0.25em; line-height: 1; border-radius: 0.35em;\">\n",
       "    Japan\n",
       "    <span style=\"font-size: 0.8em; font-weight: bold; line-height: 1; border-radius: 0.35em; text-transform: uppercase; vertical-align: middle; margin-left: 0.5rem\">GPE</span>\n",
       "</mark>\n",
       " is more than the number of convenience stores and medical bills for it are also covered by insurance, so patients do not have to spend much money on even dental treatments. For example, the cost for a decayed tooth is \n",
       "<mark class=\"entity\" style=\"background: #e4e7d2; padding: 0.45em 0.6em; margin: 0 0.25em; line-height: 1; border-radius: 0.35em;\">\n",
       "    less than $50\n",
       "    <span style=\"font-size: 0.8em; font-weight: bold; line-height: 1; border-radius: 0.35em; text-transform: uppercase; vertical-align: middle; margin-left: 0.5rem\">MONEY</span>\n",
       "</mark>\n",
       " at anywhere for everyone.</br>  However, not only running hospitals is endangered, but also decreasing the number of doctors is another problem. \n",
       "<mark class=\"entity\" style=\"background: #feca74; padding: 0.45em 0.6em; margin: 0 0.25em; line-height: 1; border-radius: 0.35em;\">\n",
       "    Japan\n",
       "    <span style=\"font-size: 0.8em; font-weight: bold; line-height: 1; border-radius: 0.35em; text-transform: uppercase; vertical-align: middle; margin-left: 0.5rem\">GPE</span>\n",
       "</mark>\n",
       " faces a serious problem that the low birth rate and it affects the medical aspect as well. Although the number of doctors is diminishing, the number of elderlies increases due to established \n",
       "<mark class=\"entity\" style=\"background: #7aecec; padding: 0.45em 0.6em; margin: 0 0.25em; line-height: 1; border-radius: 0.35em;\">\n",
       "    medicare\n",
       "    <span style=\"font-size: 0.8em; font-weight: bold; line-height: 1; border-radius: 0.35em; text-transform: uppercase; vertical-align: middle; margin-left: 0.5rem\">ORG</span>\n",
       "</mark>\n",
       " and they often go to take it. Hence, the workload for each doctor becomes higher as well. We might have to adopt some medical systems from other countries to improve labor conditions for doctors.</div></span>"
      ],
      "text/plain": [
       "<IPython.core.display.HTML object>"
      ]
     },
     "metadata": {},
     "output_type": "display_data"
    },
    {
     "name": "stdout",
     "output_type": "stream",
     "text": [
      "------------------------------------------------------------------------\n"
     ]
    },
    {
     "data": {
      "text/html": [
       "<span class=\"tex2jax_ignore\"><div class=\"entities\" style=\"line-height: 2.5; direction: ltr\">After watching the video, the most intrigued country to me is \n",
       "<mark class=\"entity\" style=\"background: #feca74; padding: 0.45em 0.6em; margin: 0 0.25em; line-height: 1; border-radius: 0.35em;\">\n",
       "    Japan\n",
       "    <span style=\"font-size: 0.8em; font-weight: bold; line-height: 1; border-radius: 0.35em; text-transform: uppercase; vertical-align: middle; margin-left: 0.5rem\">GPE</span>\n",
       "</mark>\n",
       ". I prefer for \n",
       "<mark class=\"entity\" style=\"background: #c887fb; padding: 0.45em 0.6em; margin: 0 0.25em; line-height: 1; border-radius: 0.35em;\">\n",
       "    Japanese\n",
       "    <span style=\"font-size: 0.8em; font-weight: bold; line-height: 1; border-radius: 0.35em; text-transform: uppercase; vertical-align: middle; margin-left: 0.5rem\">NORP</span>\n",
       "</mark>\n",
       " health care system for several reasons. \n",
       "<mark class=\"entity\" style=\"background: #e4e7d2; padding: 0.45em 0.6em; margin: 0 0.25em; line-height: 1; border-radius: 0.35em;\">\n",
       "    Firstly\n",
       "    <span style=\"font-size: 0.8em; font-weight: bold; line-height: 1; border-radius: 0.35em; text-transform: uppercase; vertical-align: middle; margin-left: 0.5rem\">ORDINAL</span>\n",
       "</mark>\n",
       ", there is no waiting line for seeing a doctor. I find it really annoying to wait for a long time just for some small problems. When I was studying in \n",
       "<mark class=\"entity\" style=\"background: #feca74; padding: 0.45em 0.6em; margin: 0 0.25em; line-height: 1; border-radius: 0.35em;\">\n",
       "    America\n",
       "    <span style=\"font-size: 0.8em; font-weight: bold; line-height: 1; border-radius: 0.35em; text-transform: uppercase; vertical-align: middle; margin-left: 0.5rem\">GPE</span>\n",
       "</mark>\n",
       ". I remember once, one of my friends was having a fever for \n",
       "<mark class=\"entity\" style=\"background: #bfe1d9; padding: 0.45em 0.6em; margin: 0 0.25em; line-height: 1; border-radius: 0.35em;\">\n",
       "    5 days\n",
       "    <span style=\"font-size: 0.8em; font-weight: bold; line-height: 1; border-radius: 0.35em; text-transform: uppercase; vertical-align: middle; margin-left: 0.5rem\">DATE</span>\n",
       "</mark>\n",
       " and she really felt uncomfortable. I decided to drive her to the emergency department. After we arrived at the hospital, we spent \n",
       "<mark class=\"entity\" style=\"background: #bfe1d9; padding: 0.45em 0.6em; margin: 0 0.25em; line-height: 1; border-radius: 0.35em;\">\n",
       "    7 hours\n",
       "    <span style=\"font-size: 0.8em; font-weight: bold; line-height: 1; border-radius: 0.35em; text-transform: uppercase; vertical-align: middle; margin-left: 0.5rem\">TIME</span>\n",
       "</mark>\n",
       " that day in the hospital for some simple tests and medicines, which I believe will never happen in \n",
       "<mark class=\"entity\" style=\"background: #feca74; padding: 0.45em 0.6em; margin: 0 0.25em; line-height: 1; border-radius: 0.35em;\">\n",
       "    Japan\n",
       "    <span style=\"font-size: 0.8em; font-weight: bold; line-height: 1; border-radius: 0.35em; text-transform: uppercase; vertical-align: middle; margin-left: 0.5rem\">GPE</span>\n",
       "</mark>\n",
       ".  \n",
       "<mark class=\"entity\" style=\"background: #e4e7d2; padding: 0.45em 0.6em; margin: 0 0.25em; line-height: 1; border-radius: 0.35em;\">\n",
       "    Secondly\n",
       "    <span style=\"font-size: 0.8em; font-weight: bold; line-height: 1; border-radius: 0.35em; text-transform: uppercase; vertical-align: middle; margin-left: 0.5rem\">ORDINAL</span>\n",
       "</mark>\n",
       ", \n",
       "<mark class=\"entity\" style=\"background: #feca74; padding: 0.45em 0.6em; margin: 0 0.25em; line-height: 1; border-radius: 0.35em;\">\n",
       "    Japan\n",
       "    <span style=\"font-size: 0.8em; font-weight: bold; line-height: 1; border-radius: 0.35em; text-transform: uppercase; vertical-align: middle; margin-left: 0.5rem\">GPE</span>\n",
       "</mark>\n",
       " does not have gatekeepers in hospitals. Patients can choose their doctors without administration fees. Private hospitals offer more options for patients to find doctors they trust rather than assign by some gatekeepers. Personally speaking, I think private hospital usually have better services when they have to compete with other hospitals, since the price are fixed.</div></span>"
      ],
      "text/plain": [
       "<IPython.core.display.HTML object>"
      ]
     },
     "metadata": {},
     "output_type": "display_data"
    },
    {
     "name": "stdout",
     "output_type": "stream",
     "text": [
      "------------------------------------------------------------------------\n"
     ]
    },
    {
     "data": {
      "text/html": [
       "<span class=\"tex2jax_ignore\"><div class=\"entities\" style=\"line-height: 2.5; direction: ltr\">After comparing health care systems in many countries, I am more interested in healthcare systems in the \n",
       "<mark class=\"entity\" style=\"background: #feca74; padding: 0.45em 0.6em; margin: 0 0.25em; line-height: 1; border-radius: 0.35em;\">\n",
       "    UK\n",
       "    <span style=\"font-size: 0.8em; font-weight: bold; line-height: 1; border-radius: 0.35em; text-transform: uppercase; vertical-align: middle; margin-left: 0.5rem\">GPE</span>\n",
       "</mark>\n",
       ". They did not establish special medical bills (or call medical insurance), so that all people can get free medical care to a certain extent. They also set up a special family doctor, which is very similar to \n",
       "<mark class=\"entity\" style=\"background: #feca74; padding: 0.45em 0.6em; margin: 0 0.25em; line-height: 1; border-radius: 0.35em;\">\n",
       "    Australia\n",
       "    <span style=\"font-size: 0.8em; font-weight: bold; line-height: 1; border-radius: 0.35em; text-transform: uppercase; vertical-align: middle; margin-left: 0.5rem\">GPE</span>\n",
       "</mark>\n",
       ", but these are not seen in \n",
       "<mark class=\"entity\" style=\"background: #feca74; padding: 0.45em 0.6em; margin: 0 0.25em; line-height: 1; border-radius: 0.35em;\">\n",
       "    the United States\n",
       "    <span style=\"font-size: 0.8em; font-weight: bold; line-height: 1; border-radius: 0.35em; text-transform: uppercase; vertical-align: middle; margin-left: 0.5rem\">GPE</span>\n",
       "</mark>\n",
       " and \n",
       "<mark class=\"entity\" style=\"background: #feca74; padding: 0.45em 0.6em; margin: 0 0.25em; line-height: 1; border-radius: 0.35em;\">\n",
       "    China\n",
       "    <span style=\"font-size: 0.8em; font-weight: bold; line-height: 1; border-radius: 0.35em; text-transform: uppercase; vertical-align: middle; margin-left: 0.5rem\">GPE</span>\n",
       "</mark>\n",
       ". You know, at some moments in \n",
       "<mark class=\"entity\" style=\"background: #feca74; padding: 0.45em 0.6em; margin: 0 0.25em; line-height: 1; border-radius: 0.35em;\">\n",
       "    China\n",
       "    <span style=\"font-size: 0.8em; font-weight: bold; line-height: 1; border-radius: 0.35em; text-transform: uppercase; vertical-align: middle; margin-left: 0.5rem\">GPE</span>\n",
       "</mark>\n",
       ", hospitals are very crowded, and setting up some GPs can save government expenditures and \n",
       "<mark class=\"entity\" style=\"background: #e4e7d2; padding: 0.45em 0.6em; margin: 0 0.25em; line-height: 1; border-radius: 0.35em;\">\n",
       "    secondly\n",
       "    <span style=\"font-size: 0.8em; font-weight: bold; line-height: 1; border-radius: 0.35em; text-transform: uppercase; vertical-align: middle; margin-left: 0.5rem\">ORDINAL</span>\n",
       "</mark>\n",
       " save patients' time to see doctors. \n",
       "<mark class=\"entity\" style=\"background: #e4e7d2; padding: 0.45em 0.6em; margin: 0 0.25em; line-height: 1; border-radius: 0.35em;\">\n",
       "    Secondly\n",
       "    <span style=\"font-size: 0.8em; font-weight: bold; line-height: 1; border-radius: 0.35em; text-transform: uppercase; vertical-align: middle; margin-left: 0.5rem\">ORDINAL</span>\n",
       "</mark>\n",
       ", in the \n",
       "<mark class=\"entity\" style=\"background: #feca74; padding: 0.45em 0.6em; margin: 0 0.25em; line-height: 1; border-radius: 0.35em;\">\n",
       "    UK\n",
       "    <span style=\"font-size: 0.8em; font-weight: bold; line-height: 1; border-radius: 0.35em; text-transform: uppercase; vertical-align: middle; margin-left: 0.5rem\">GPE</span>\n",
       "</mark>\n",
       ", their doctors can get a better income, and these incomes are closely related to the number of patients they see, which greatly improves the enthusiasm of medical practitioners. In \n",
       "<mark class=\"entity\" style=\"background: #feca74; padding: 0.45em 0.6em; margin: 0 0.25em; line-height: 1; border-radius: 0.35em;\">\n",
       "    China\n",
       "    <span style=\"font-size: 0.8em; font-weight: bold; line-height: 1; border-radius: 0.35em; text-transform: uppercase; vertical-align: middle; margin-left: 0.5rem\">GPE</span>\n",
       "</mark>\n",
       ", the income of doctors is not high, which indirectly leads to poor patient experience. Finally, in the \n",
       "<mark class=\"entity\" style=\"background: #feca74; padding: 0.45em 0.6em; margin: 0 0.25em; line-height: 1; border-radius: 0.35em;\">\n",
       "    UK\n",
       "    <span style=\"font-size: 0.8em; font-weight: bold; line-height: 1; border-radius: 0.35em; text-transform: uppercase; vertical-align: middle; margin-left: 0.5rem\">GPE</span>\n",
       "</mark>\n",
       ", the medical care industry seems to be &quot;monopoly&quot;, and people maintain this NHS through taxation. Some improper transactions will not involve the national medical health. This is worth learning.But I also have a problem here. The \n",
       "<mark class=\"entity\" style=\"background: #feca74; padding: 0.45em 0.6em; margin: 0 0.25em; line-height: 1; border-radius: 0.35em;\">\n",
       "    UK\n",
       "    <span style=\"font-size: 0.8em; font-weight: bold; line-height: 1; border-radius: 0.35em; text-transform: uppercase; vertical-align: middle; margin-left: 0.5rem\">GPE</span>\n",
       "</mark>\n",
       " did not perform well during COVID-19. We can see that when major unpredictable diseases come, the daily medical system is not enough to maintain or satisfy people's current needs. So how should it be improved?</div></span>"
      ],
      "text/plain": [
       "<IPython.core.display.HTML object>"
      ]
     },
     "metadata": {},
     "output_type": "display_data"
    },
    {
     "name": "stdout",
     "output_type": "stream",
     "text": [
      "------------------------------------------------------------------------\n"
     ]
    },
    {
     "data": {
      "text/html": [
       "<span class=\"tex2jax_ignore\"><div class=\"entities\" style=\"line-height: 2.5; direction: ltr\">I find \n",
       "<mark class=\"entity\" style=\"background: #feca74; padding: 0.45em 0.6em; margin: 0 0.25em; line-height: 1; border-radius: 0.35em;\">\n",
       "    Japan\n",
       "    <span style=\"font-size: 0.8em; font-weight: bold; line-height: 1; border-radius: 0.35em; text-transform: uppercase; vertical-align: middle; margin-left: 0.5rem\">GPE</span>\n",
       "</mark>\n",
       "'s health-care system to be the most intriguing not only because I've never thought about how they handle it, but because it is another universal health-care system like \n",
       "<mark class=\"entity\" style=\"background: #feca74; padding: 0.45em 0.6em; margin: 0 0.25em; line-height: 1; border-radius: 0.35em;\">\n",
       "    Australia\n",
       "    <span style=\"font-size: 0.8em; font-weight: bold; line-height: 1; border-radius: 0.35em; text-transform: uppercase; vertical-align: middle; margin-left: 0.5rem\">GPE</span>\n",
       "</mark>\n",
       "'s. Helping produce excellent results like the longest healthy life expectancy and lowest infant mortality rate, I am surprised that they have achieved this without anyone going broke from medical bills. Unlike taxes paying for medicine like \n",
       "<mark class=\"entity\" style=\"background: #feca74; padding: 0.45em 0.6em; margin: 0 0.25em; line-height: 1; border-radius: 0.35em;\">\n",
       "    Australia\n",
       "    <span style=\"font-size: 0.8em; font-weight: bold; line-height: 1; border-radius: 0.35em; text-transform: uppercase; vertical-align: middle; margin-left: 0.5rem\">GPE</span>\n",
       "</mark>\n",
       "'s \n",
       "<mark class=\"entity\" style=\"background: #7aecec; padding: 0.45em 0.6em; margin: 0 0.25em; line-height: 1; border-radius: 0.35em;\">\n",
       "    Medicare\n",
       "    <span style=\"font-size: 0.8em; font-weight: bold; line-height: 1; border-radius: 0.35em; text-transform: uppercase; vertical-align: middle; margin-left: 0.5rem\">ORG</span>\n",
       "</mark>\n",
       " levy, the \n",
       "<mark class=\"entity\" style=\"background: #c887fb; padding: 0.45em 0.6em; margin: 0 0.25em; line-height: 1; border-radius: 0.35em;\">\n",
       "    Japanese\n",
       "    <span style=\"font-size: 0.8em; font-weight: bold; line-height: 1; border-radius: 0.35em; text-transform: uppercase; vertical-align: middle; margin-left: 0.5rem\">NORP</span>\n",
       "</mark>\n",
       " use social insurance combined with a single payment system and price book to keep costs low and consistent. This makes doctor visits more accessible, frequent and in my opinion, routine. I think that getting regular health check-ups is important for early detection and treatment if required, and I am willing to bet that in non-universal health-care systems, a barrier for some people to these check-ups is the cost of appointments and medications.</div></span>"
      ],
      "text/plain": [
       "<IPython.core.display.HTML object>"
      ]
     },
     "metadata": {},
     "output_type": "display_data"
    },
    {
     "name": "stdout",
     "output_type": "stream",
     "text": [
      "------------------------------------------------------------------------\n"
     ]
    },
    {
     "data": {
      "text/html": [
       "<span class=\"tex2jax_ignore\"><div class=\"entities\" style=\"line-height: 2.5; direction: ltr\">I am most intrigued by \n",
       "<mark class=\"entity\" style=\"background: #7aecec; padding: 0.45em 0.6em; margin: 0 0.25em; line-height: 1; border-radius: 0.35em;\">\n",
       "    the Taiwan Healthcare System\n",
       "    <span style=\"font-size: 0.8em; font-weight: bold; line-height: 1; border-radius: 0.35em; text-transform: uppercase; vertical-align: middle; margin-left: 0.5rem\">ORG</span>\n",
       "</mark>\n",
       ". The fact that they looked all over the world and adopted some of the international initiatives the thought it could work on their country makes it a great system in my opinion. They literally thought outside the box and took advantage of all the efficiency and effectiveness that \n",
       "<mark class=\"entity\" style=\"background: #7aecec; padding: 0.45em 0.6em; margin: 0 0.25em; line-height: 1; border-radius: 0.35em;\">\n",
       "    Information Technologies\n",
       "    <span style=\"font-size: 0.8em; font-weight: bold; line-height: 1; border-radius: 0.35em; text-transform: uppercase; vertical-align: middle; margin-left: 0.5rem\">ORG</span>\n",
       "</mark>\n",
       " could provide and put them to use. There is the issue of \n",
       "<mark class=\"entity\" style=\"background: #7aecec; padding: 0.45em 0.6em; margin: 0 0.25em; line-height: 1; border-radius: 0.35em;\">\n",
       "    Big Brother\n",
       "    <span style=\"font-size: 0.8em; font-weight: bold; line-height: 1; border-radius: 0.35em; text-transform: uppercase; vertical-align: middle; margin-left: 0.5rem\">ORG</span>\n",
       "</mark>\n",
       " from the Government, but personally I would value more an efficient and effective system than the government having access to my data if that means it can save my life in case of serious illness.</div></span>"
      ],
      "text/plain": [
       "<IPython.core.display.HTML object>"
      ]
     },
     "metadata": {},
     "output_type": "display_data"
    },
    {
     "name": "stdout",
     "output_type": "stream",
     "text": [
      "------------------------------------------------------------------------\n"
     ]
    },
    {
     "data": {
      "text/html": [
       "<span class=\"tex2jax_ignore\"><div class=\"entities\" style=\"line-height: 2.5; direction: ltr\">\n",
       "<mark class=\"entity\" style=\"background: #feca74; padding: 0.45em 0.6em; margin: 0 0.25em; line-height: 1; border-radius: 0.35em;\">\n",
       "    Taiwan\n",
       "    <span style=\"font-size: 0.8em; font-weight: bold; line-height: 1; border-radius: 0.35em; text-transform: uppercase; vertical-align: middle; margin-left: 0.5rem\">GPE</span>\n",
       "</mark>\n",
       "!!!!! has the best health case system as \n",
       "<mark class=\"entity\" style=\"background: #aa9cfc; padding: 0.45em 0.6em; margin: 0 0.25em; line-height: 1; border-radius: 0.35em;\">\n",
       "    Emanuel\n",
       "    <span style=\"font-size: 0.8em; font-weight: bold; line-height: 1; border-radius: 0.35em; text-transform: uppercase; vertical-align: middle; margin-left: 0.5rem\">PERSON</span>\n",
       "</mark>\n",
       " mentioned, because in \n",
       "<mark class=\"entity\" style=\"background: #feca74; padding: 0.45em 0.6em; margin: 0 0.25em; line-height: 1; border-radius: 0.35em;\">\n",
       "    Taiwan\n",
       "    <span style=\"font-size: 0.8em; font-weight: bold; line-height: 1; border-radius: 0.35em; text-transform: uppercase; vertical-align: middle; margin-left: 0.5rem\">GPE</span>\n",
       "</mark>\n",
       " the fee for health care costs is really low, even for the drugs or surgery. People pay for the health system in the tax and the tax for the health system is very low as well. And the residents get a high quality of services. Even for families with low income, the government provides subsidies for them to pay the health care tax, therefore, they can also have the same quality of healthcare with other people. For the homeless group of people, there are few specific clinics set up by the government for them. </div></span>"
      ],
      "text/plain": [
       "<IPython.core.display.HTML object>"
      ]
     },
     "metadata": {},
     "output_type": "display_data"
    },
    {
     "name": "stdout",
     "output_type": "stream",
     "text": [
      "------------------------------------------------------------------------\n"
     ]
    },
    {
     "data": {
      "text/html": [
       "<span class=\"tex2jax_ignore\"><div class=\"entities\" style=\"line-height: 2.5; direction: ltr\">\n",
       "<mark class=\"entity\" style=\"background: #c887fb; padding: 0.45em 0.6em; margin: 0 0.25em; line-height: 1; border-radius: 0.35em;\">\n",
       "    Japanese\n",
       "    <span style=\"font-size: 0.8em; font-weight: bold; line-height: 1; border-radius: 0.35em; text-transform: uppercase; vertical-align: middle; margin-left: 0.5rem\">NORP</span>\n",
       "</mark>\n",
       " health system.\n",
       "Because, it could cover all citizens firstly and the system broadly distributes every aspects, including the use of medical devices, medications, services, etc.  Meanwhile,  the payment of citizens depends on their incomes. Therefore, this system ensures every citizen could afford the medical bill to avoid the serious consequences due to be illness, e.g. bankruptcy or death.</div></span>"
      ],
      "text/plain": [
       "<IPython.core.display.HTML object>"
      ]
     },
     "metadata": {},
     "output_type": "display_data"
    },
    {
     "name": "stdout",
     "output_type": "stream",
     "text": [
      "------------------------------------------------------------------------\n"
     ]
    },
    {
     "data": {
      "text/html": [
       "<span class=\"tex2jax_ignore\"><div class=\"entities\" style=\"line-height: 2.5; direction: ltr\">I am most intrigued by the \n",
       "<mark class=\"entity\" style=\"background: #c887fb; padding: 0.45em 0.6em; margin: 0 0.25em; line-height: 1; border-radius: 0.35em;\">\n",
       "    American\n",
       "    <span style=\"font-size: 0.8em; font-weight: bold; line-height: 1; border-radius: 0.35em; text-transform: uppercase; vertical-align: middle; margin-left: 0.5rem\">NORP</span>\n",
       "</mark>\n",
       " health system. </br>On the one hand, it is undeniable that \n",
       "<mark class=\"entity\" style=\"background: #feca74; padding: 0.45em 0.6em; margin: 0 0.25em; line-height: 1; border-radius: 0.35em;\">\n",
       "    the United States\n",
       "    <span style=\"font-size: 0.8em; font-weight: bold; line-height: 1; border-radius: 0.35em; text-transform: uppercase; vertical-align: middle; margin-left: 0.5rem\">GPE</span>\n",
       "</mark>\n",
       " has a developed medical system and the most advanced medical technology and the highest quality medical personnel. </br>On the other hand, although medical costs in the \n",
       "<mark class=\"entity\" style=\"background: #feca74; padding: 0.45em 0.6em; margin: 0 0.25em; line-height: 1; border-radius: 0.35em;\">\n",
       "    U.S.\n",
       "    <span style=\"font-size: 0.8em; font-weight: bold; line-height: 1; border-radius: 0.35em; text-transform: uppercase; vertical-align: middle; margin-left: 0.5rem\">GPE</span>\n",
       "</mark>\n",
       " are high, there are many types of medical insurance in \n",
       "<mark class=\"entity\" style=\"background: #feca74; padding: 0.45em 0.6em; margin: 0 0.25em; line-height: 1; border-radius: 0.35em;\">\n",
       "    the United States\n",
       "    <span style=\"font-size: 0.8em; font-weight: bold; line-height: 1; border-radius: 0.35em; text-transform: uppercase; vertical-align: middle; margin-left: 0.5rem\">GPE</span>\n",
       "</mark>\n",
       ". This means no matter what class you are in, you can have suitable medical insurance. The \n",
       "<mark class=\"entity\" style=\"background: #feca74; padding: 0.45em 0.6em; margin: 0 0.25em; line-height: 1; border-radius: 0.35em;\">\n",
       "    United States\n",
       "    <span style=\"font-size: 0.8em; font-weight: bold; line-height: 1; border-radius: 0.35em; text-transform: uppercase; vertical-align: middle; margin-left: 0.5rem\">GPE</span>\n",
       "</mark>\n",
       " government-led social medical insurance focuses on protecting the elderly (\n",
       "<mark class=\"entity\" style=\"background: #7aecec; padding: 0.45em 0.6em; margin: 0 0.25em; line-height: 1; border-radius: 0.35em;\">\n",
       "    Medicare\n",
       "    <span style=\"font-size: 0.8em; font-weight: bold; line-height: 1; border-radius: 0.35em; text-transform: uppercase; vertical-align: middle; margin-left: 0.5rem\">ORG</span>\n",
       "</mark>\n",
       ") and vulnerable groups (\n",
       "<mark class=\"entity\" style=\"background: #7aecec; padding: 0.45em 0.6em; margin: 0 0.25em; line-height: 1; border-radius: 0.35em;\">\n",
       "    Medicaid\n",
       "    <span style=\"font-size: 0.8em; font-weight: bold; line-height: 1; border-radius: 0.35em; text-transform: uppercase; vertical-align: middle; margin-left: 0.5rem\">ORG</span>\n",
       "</mark>\n",
       "), while medical insurance for working people is provided by commercial insurance institutions. This seems very reasonable to me. \n",
       "<mark class=\"entity\" style=\"background: #e4e7d2; padding: 0.45em 0.6em; margin: 0 0.25em; line-height: 1; border-radius: 0.35em;\">\n",
       "    First\n",
       "    <span style=\"font-size: 0.8em; font-weight: bold; line-height: 1; border-radius: 0.35em; text-transform: uppercase; vertical-align: middle; margin-left: 0.5rem\">ORDINAL</span>\n",
       "</mark>\n",
       " of all, it guarantees the most difficult human rights basic medical services (because the elderly and the poor usually have no source of income). \n",
       "<mark class=\"entity\" style=\"background: #e4e7d2; padding: 0.45em 0.6em; margin: 0 0.25em; line-height: 1; border-radius: 0.35em;\">\n",
       "    Secondly\n",
       "    <span style=\"font-size: 0.8em; font-weight: bold; line-height: 1; border-radius: 0.35em; text-transform: uppercase; vertical-align: middle; margin-left: 0.5rem\">ORDINAL</span>\n",
       "</mark>\n",
       ", healthy competition between commercial insurance can better promote the development of health care.\n",
       " </div></span>"
      ],
      "text/plain": [
       "<IPython.core.display.HTML object>"
      ]
     },
     "metadata": {},
     "output_type": "display_data"
    },
    {
     "name": "stdout",
     "output_type": "stream",
     "text": [
      "------------------------------------------------------------------------\n"
     ]
    },
    {
     "data": {
      "text/html": [
       "<span class=\"tex2jax_ignore\"><div class=\"entities\" style=\"line-height: 2.5; direction: ltr\"></br>After watching \n",
       "<mark class=\"entity\" style=\"background: #aa9cfc; padding: 0.45em 0.6em; margin: 0 0.25em; line-height: 1; border-radius: 0.35em;\">\n",
       "    Sick Around the World\n",
       "    <span style=\"font-size: 0.8em; font-weight: bold; line-height: 1; border-radius: 0.35em; text-transform: uppercase; vertical-align: middle; margin-left: 0.5rem\">PERSON</span>\n",
       "</mark>\n",
       ", I was most intrigued by \n",
       "<mark class=\"entity\" style=\"background: #feca74; padding: 0.45em 0.6em; margin: 0 0.25em; line-height: 1; border-radius: 0.35em;\">\n",
       "    Japan\n",
       "    <span style=\"font-size: 0.8em; font-weight: bold; line-height: 1; border-radius: 0.35em; text-transform: uppercase; vertical-align: middle; margin-left: 0.5rem\">GPE</span>\n",
       "</mark>\n",
       "'s \n",
       "<mark class=\"entity\" style=\"background: #7aecec; padding: 0.45em 0.6em; margin: 0 0.25em; line-height: 1; border-radius: 0.35em;\">\n",
       "    Healthcare\n",
       "    <span style=\"font-size: 0.8em; font-weight: bold; line-height: 1; border-radius: 0.35em; text-transform: uppercase; vertical-align: middle; margin-left: 0.5rem\">ORG</span>\n",
       "</mark>\n",
       " system.</br>I believe the overall quality and fairness is good in \n",
       "<mark class=\"entity\" style=\"background: #feca74; padding: 0.45em 0.6em; margin: 0 0.25em; line-height: 1; border-radius: 0.35em;\">\n",
       "    Japan\n",
       "    <span style=\"font-size: 0.8em; font-weight: bold; line-height: 1; border-radius: 0.35em; text-transform: uppercase; vertical-align: middle; margin-left: 0.5rem\">GPE</span>\n",
       "</mark>\n",
       " compared to others.I liked morale right to healthcare for everyone, best health statistic, No waiting (\n",
       "<mark class=\"entity\" style=\"background: #aa9cfc; padding: 0.45em 0.6em; margin: 0 0.25em; line-height: 1; border-radius: 0.35em;\">\n",
       "    noGatekeeper\n",
       "    <span style=\"font-size: 0.8em; font-weight: bold; line-height: 1; border-radius: 0.35em; text-transform: uppercase; vertical-align: middle; margin-left: 0.5rem\">PERSON</span>\n",
       "</mark>\n",
       "), equal access to care ,very cost-effective. </br>Best health statistics may be due to lifestyle and diet, which i came across while reading book \n",
       "<mark class=\"entity\" style=\"background: #7aecec; padding: 0.45em 0.6em; margin: 0 0.25em; line-height: 1; border-radius: 0.35em;\">\n",
       "    Ikigai\n",
       "    <span style=\"font-size: 0.8em; font-weight: bold; line-height: 1; border-radius: 0.35em; text-transform: uppercase; vertical-align: middle; margin-left: 0.5rem\">ORG</span>\n",
       "</mark>\n",
       " sometime back.</br>This was also  a reason i got more intrigued by its healthcare system.</br>Even though there is a limitation ;\n",
       "<mark class=\"entity\" style=\"background: #e4e7d2; padding: 0.45em 0.6em; margin: 0 0.25em; line-height: 1; border-radius: 0.35em;\">\n",
       "    50%\n",
       "    <span style=\"font-size: 0.8em; font-weight: bold; line-height: 1; border-radius: 0.35em; text-transform: uppercase; vertical-align: middle; margin-left: 0.5rem\">PERCENT</span>\n",
       "</mark>\n",
       " \n",
       "<mark class=\"entity\" style=\"background: #feca74; padding: 0.45em 0.6em; margin: 0 0.25em; line-height: 1; border-radius: 0.35em;\">\n",
       "    Japan\n",
       "    <span style=\"font-size: 0.8em; font-weight: bold; line-height: 1; border-radius: 0.35em; text-transform: uppercase; vertical-align: middle; margin-left: 0.5rem\">GPE</span>\n",
       "</mark>\n",
       "'s \n",
       "<mark class=\"entity\" style=\"background: #ff9561; padding: 0.45em 0.6em; margin: 0 0.25em; line-height: 1; border-radius: 0.35em;\">\n",
       "    Hospitals\n",
       "    <span style=\"font-size: 0.8em; font-weight: bold; line-height: 1; border-radius: 0.35em; text-transform: uppercase; vertical-align: middle; margin-left: 0.5rem\">LOC</span>\n",
       "</mark>\n",
       " operating in the red ,but i think even if \n",
       "<mark class=\"entity\" style=\"background: #feca74; padding: 0.45em 0.6em; margin: 0 0.25em; line-height: 1; border-radius: 0.35em;\">\n",
       "    japan\n",
       "    <span style=\"font-size: 0.8em; font-weight: bold; line-height: 1; border-radius: 0.35em; text-transform: uppercase; vertical-align: middle; margin-left: 0.5rem\">GPE</span>\n",
       "</mark>\n",
       " increases the overall spending on healthcare it can solve this issue and still be a cheaper healthcare system.\n",
       "</div></span>"
      ],
      "text/plain": [
       "<IPython.core.display.HTML object>"
      ]
     },
     "metadata": {},
     "output_type": "display_data"
    },
    {
     "name": "stdout",
     "output_type": "stream",
     "text": [
      "------------------------------------------------------------------------\n"
     ]
    },
    {
     "data": {
      "text/html": [
       "<span class=\"tex2jax_ignore\"><div class=\"entities\" style=\"line-height: 2.5; direction: ltr\">For me, I would like to choose the health system of \n",
       "<mark class=\"entity\" style=\"background: #feca74; padding: 0.45em 0.6em; margin: 0 0.25em; line-height: 1; border-radius: 0.35em;\">\n",
       "    Japan\n",
       "    <span style=\"font-size: 0.8em; font-weight: bold; line-height: 1; border-radius: 0.35em; text-transform: uppercase; vertical-align: middle; margin-left: 0.5rem\">GPE</span>\n",
       "</mark>\n",
       ". Since I am not a doctor or any other medical worker, I will be the patient more often. Therefore, most things I care about are the fee and waiting time. </br>As \n",
       "<mark class=\"entity\" style=\"background: #aa9cfc; padding: 0.45em 0.6em; margin: 0 0.25em; line-height: 1; border-radius: 0.35em;\">\n",
       "    Reid\n",
       "    <span style=\"font-size: 0.8em; font-weight: bold; line-height: 1; border-radius: 0.35em; text-transform: uppercase; vertical-align: middle; margin-left: 0.5rem\">PERSON</span>\n",
       "</mark>\n",
       " introduced in the video, there is no waiting time for the patient to see the doctor in \n",
       "<mark class=\"entity\" style=\"background: #feca74; padding: 0.45em 0.6em; margin: 0 0.25em; line-height: 1; border-radius: 0.35em;\">\n",
       "    Japan\n",
       "    <span style=\"font-size: 0.8em; font-weight: bold; line-height: 1; border-radius: 0.35em; text-transform: uppercase; vertical-align: middle; margin-left: 0.5rem\">GPE</span>\n",
       "</mark>\n",
       " and \n",
       "<mark class=\"entity\" style=\"background: #feca74; padding: 0.45em 0.6em; margin: 0 0.25em; line-height: 1; border-radius: 0.35em;\">\n",
       "    Taiwan\n",
       "    <span style=\"font-size: 0.8em; font-weight: bold; line-height: 1; border-radius: 0.35em; text-transform: uppercase; vertical-align: middle; margin-left: 0.5rem\">GPE</span>\n",
       "</mark>\n",
       ". For instance, If I have a severe cold or abdominal pain, of course, I don't want to wait for \n",
       "<mark class=\"entity\" style=\"background: #bfe1d9; padding: 0.45em 0.6em; margin: 0 0.25em; line-height: 1; border-radius: 0.35em;\">\n",
       "    2 or more weeks\n",
       "    <span style=\"font-size: 0.8em; font-weight: bold; line-height: 1; border-radius: 0.35em; text-transform: uppercase; vertical-align: middle; margin-left: 0.5rem\">DATE</span>\n",
       "</mark>\n",
       ". That's why I won't choose the health system in \n",
       "<mark class=\"entity\" style=\"background: #feca74; padding: 0.45em 0.6em; margin: 0 0.25em; line-height: 1; border-radius: 0.35em;\">\n",
       "    Germany\n",
       "    <span style=\"font-size: 0.8em; font-weight: bold; line-height: 1; border-radius: 0.35em; text-transform: uppercase; vertical-align: middle; margin-left: 0.5rem\">GPE</span>\n",
       "</mark>\n",
       ", the \n",
       "<mark class=\"entity\" style=\"background: #feca74; padding: 0.45em 0.6em; margin: 0 0.25em; line-height: 1; border-radius: 0.35em;\">\n",
       "    USA\n",
       "    <span style=\"font-size: 0.8em; font-weight: bold; line-height: 1; border-radius: 0.35em; text-transform: uppercase; vertical-align: middle; margin-left: 0.5rem\">GPE</span>\n",
       "</mark>\n",
       ", or other western countries mentioned in the video. Meanwhile, as mentioned in the video the treatment fee in \n",
       "<mark class=\"entity\" style=\"background: #feca74; padding: 0.45em 0.6em; margin: 0 0.25em; line-height: 1; border-radius: 0.35em;\">\n",
       "    Japan\n",
       "    <span style=\"font-size: 0.8em; font-weight: bold; line-height: 1; border-radius: 0.35em; text-transform: uppercase; vertical-align: middle; margin-left: 0.5rem\">GPE</span>\n",
       "</mark>\n",
       " are fixed and cheap, all the fee has been defined by the government and recorded in the book. So I like the health system of \n",
       "<mark class=\"entity\" style=\"background: #feca74; padding: 0.45em 0.6em; margin: 0 0.25em; line-height: 1; border-radius: 0.35em;\">\n",
       "    Japan\n",
       "    <span style=\"font-size: 0.8em; font-weight: bold; line-height: 1; border-radius: 0.35em; text-transform: uppercase; vertical-align: middle; margin-left: 0.5rem\">GPE</span>\n",
       "</mark>\n",
       " the most.</div></span>"
      ],
      "text/plain": [
       "<IPython.core.display.HTML object>"
      ]
     },
     "metadata": {},
     "output_type": "display_data"
    },
    {
     "name": "stdout",
     "output_type": "stream",
     "text": [
      "------------------------------------------------------------------------\n"
     ]
    },
    {
     "data": {
      "text/html": [
       "<span class=\"tex2jax_ignore\"><div class=\"entities\" style=\"line-height: 2.5; direction: ltr\">I would say that I am going to choose the \n",
       "<mark class=\"entity\" style=\"background: #c887fb; padding: 0.45em 0.6em; margin: 0 0.25em; line-height: 1; border-radius: 0.35em;\">\n",
       "    Japanese\n",
       "    <span style=\"font-size: 0.8em; font-weight: bold; line-height: 1; border-radius: 0.35em; text-transform: uppercase; vertical-align: middle; margin-left: 0.5rem\">NORP</span>\n",
       "</mark>\n",
       " health care system for the following reasons. \n",
       "<mark class=\"entity\" style=\"background: #e4e7d2; padding: 0.45em 0.6em; margin: 0 0.25em; line-height: 1; border-radius: 0.35em;\">\n",
       "    Firstly\n",
       "    <span style=\"font-size: 0.8em; font-weight: bold; line-height: 1; border-radius: 0.35em; text-transform: uppercase; vertical-align: middle; margin-left: 0.5rem\">ORDINAL</span>\n",
       "</mark>\n",
       ", which is the most important one I think, is the efficiency of getting treatment. In the \n",
       "<mark class=\"entity\" style=\"background: #c887fb; padding: 0.45em 0.6em; margin: 0 0.25em; line-height: 1; border-radius: 0.35em;\">\n",
       "    Japanese\n",
       "    <span style=\"font-size: 0.8em; font-weight: bold; line-height: 1; border-radius: 0.35em; text-transform: uppercase; vertical-align: middle; margin-left: 0.5rem\">NORP</span>\n",
       "</mark>\n",
       " health system, there is no gatekeeper such as \n",
       "<mark class=\"entity\" style=\"background: #7aecec; padding: 0.45em 0.6em; margin: 0 0.25em; line-height: 1; border-radius: 0.35em;\">\n",
       "    GP\n",
       "    <span style=\"font-size: 0.8em; font-weight: bold; line-height: 1; border-radius: 0.35em; text-transform: uppercase; vertical-align: middle; margin-left: 0.5rem\">ORG</span>\n",
       "</mark>\n",
       ". You do not need to make an appointment, if you are sick you can get straight to the doctor. Also, the time spent in the hospital is less than other systems, sometimes just \n",
       "<mark class=\"entity\" style=\"background: #bfe1d9; padding: 0.45em 0.6em; margin: 0 0.25em; line-height: 1; border-radius: 0.35em;\">\n",
       "    3-5 minutes\n",
       "    <span style=\"font-size: 0.8em; font-weight: bold; line-height: 1; border-radius: 0.35em; text-transform: uppercase; vertical-align: middle; margin-left: 0.5rem\">TIME</span>\n",
       "</mark>\n",
       ". For me, I do not want to wait for \n",
       "<mark class=\"entity\" style=\"background: #bfe1d9; padding: 0.45em 0.6em; margin: 0 0.25em; line-height: 1; border-radius: 0.35em;\">\n",
       "    like 1 week\n",
       "    <span style=\"font-size: 0.8em; font-weight: bold; line-height: 1; border-radius: 0.35em; text-transform: uppercase; vertical-align: middle; margin-left: 0.5rem\">DATE</span>\n",
       "</mark>\n",
       " to get treatment when I get sick since it is suffering for me to wait when I am feeling uncomfortable. \n",
       "<mark class=\"entity\" style=\"background: #e4e7d2; padding: 0.45em 0.6em; margin: 0 0.25em; line-height: 1; border-radius: 0.35em;\">\n",
       "    Secondly\n",
       "    <span style=\"font-size: 0.8em; font-weight: bold; line-height: 1; border-radius: 0.35em; text-transform: uppercase; vertical-align: middle; margin-left: 0.5rem\">ORDINAL</span>\n",
       "</mark>\n",
       ", the price of health care is very cheap, it only cost \n",
       "<mark class=\"entity\" style=\"background: #e4e7d2; padding: 0.45em 0.6em; margin: 0 0.25em; line-height: 1; border-radius: 0.35em;\">\n",
       "    98$\n",
       "    <span style=\"font-size: 0.8em; font-weight: bold; line-height: 1; border-radius: 0.35em; text-transform: uppercase; vertical-align: middle; margin-left: 0.5rem\">MONEY</span>\n",
       "</mark>\n",
       " for \n",
       "<mark class=\"entity\" style=\"background: #7aecec; padding: 0.45em 0.6em; margin: 0 0.25em; line-height: 1; border-radius: 0.35em;\">\n",
       "    MRI\n",
       "    <span style=\"font-size: 0.8em; font-weight: bold; line-height: 1; border-radius: 0.35em; text-transform: uppercase; vertical-align: middle; margin-left: 0.5rem\">ORG</span>\n",
       "</mark>\n",
       ". In conclusion, I think the \n",
       "<mark class=\"entity\" style=\"background: #c887fb; padding: 0.45em 0.6em; margin: 0 0.25em; line-height: 1; border-radius: 0.35em;\">\n",
       "    Japanese\n",
       "    <span style=\"font-size: 0.8em; font-weight: bold; line-height: 1; border-radius: 0.35em; text-transform: uppercase; vertical-align: middle; margin-left: 0.5rem\">NORP</span>\n",
       "</mark>\n",
       " health system can provide cheap and fast treatment to patients, so I would like to choose it.</div></span>"
      ],
      "text/plain": [
       "<IPython.core.display.HTML object>"
      ]
     },
     "metadata": {},
     "output_type": "display_data"
    },
    {
     "name": "stdout",
     "output_type": "stream",
     "text": [
      "------------------------------------------------------------------------\n"
     ]
    },
    {
     "data": {
      "text/html": [
       "<span class=\"tex2jax_ignore\"><div class=\"entities\" style=\"line-height: 2.5; direction: ltr\">After watching \n",
       "<mark class=\"entity\" style=\"background: #aa9cfc; padding: 0.45em 0.6em; margin: 0 0.25em; line-height: 1; border-radius: 0.35em;\">\n",
       "    Sick Around the World\n",
       "    <span style=\"font-size: 0.8em; font-weight: bold; line-height: 1; border-radius: 0.35em; text-transform: uppercase; vertical-align: middle; margin-left: 0.5rem\">PERSON</span>\n",
       "</mark>\n",
       ", I would like to choose \n",
       "<mark class=\"entity\" style=\"background: #c887fb; padding: 0.45em 0.6em; margin: 0 0.25em; line-height: 1; border-radius: 0.35em;\">\n",
       "    Japanese\n",
       "    <span style=\"font-size: 0.8em; font-weight: bold; line-height: 1; border-radius: 0.35em; text-transform: uppercase; vertical-align: middle; margin-left: 0.5rem\">NORP</span>\n",
       "</mark>\n",
       " healthcare system. In \n",
       "<mark class=\"entity\" style=\"background: #feca74; padding: 0.45em 0.6em; margin: 0 0.25em; line-height: 1; border-radius: 0.35em;\">\n",
       "    China\n",
       "    <span style=\"font-size: 0.8em; font-weight: bold; line-height: 1; border-radius: 0.35em; text-transform: uppercase; vertical-align: middle; margin-left: 0.5rem\">GPE</span>\n",
       "</mark>\n",
       ", we have similar healthcare system but there are still many differences. </br>The reasons could be:</br></br> The medical bills are cheap. As \n",
       "<mark class=\"entity\" style=\"background: #c887fb; padding: 0.45em 0.6em; margin: 0 0.25em; line-height: 1; border-radius: 0.35em;\">\n",
       "    Chinese\n",
       "    <span style=\"font-size: 0.8em; font-weight: bold; line-height: 1; border-radius: 0.35em; text-transform: uppercase; vertical-align: middle; margin-left: 0.5rem\">NORP</span>\n",
       "</mark>\n",
       ", our medical bills are actually cheaper than most countries but according to this movie, \n",
       "<mark class=\"entity\" style=\"background: #feca74; padding: 0.45em 0.6em; margin: 0 0.25em; line-height: 1; border-radius: 0.35em;\">\n",
       "    Japan\n",
       "    <span style=\"font-size: 0.8em; font-weight: bold; line-height: 1; border-radius: 0.35em; text-transform: uppercase; vertical-align: middle; margin-left: 0.5rem\">GPE</span>\n",
       "</mark>\n",
       " maybe cheaper.</br> The insurance policy is standard in the whole country. Not only the insurance fee but the policy. It's really helpful for all citizens, especially who are in poor financial conditions and who already have some diseases. In \n",
       "<mark class=\"entity\" style=\"background: #feca74; padding: 0.45em 0.6em; margin: 0 0.25em; line-height: 1; border-radius: 0.35em;\">\n",
       "    China\n",
       "    <span style=\"font-size: 0.8em; font-weight: bold; line-height: 1; border-radius: 0.35em; text-transform: uppercase; vertical-align: middle; margin-left: 0.5rem\">GPE</span>\n",
       "</mark>\n",
       ", the insurance fees differ and some insurance policy from private insurance company would refuse to pay for people who already have diseases like diabetes.</br> No GP requirement. Both \n",
       "<mark class=\"entity\" style=\"background: #feca74; padding: 0.45em 0.6em; margin: 0 0.25em; line-height: 1; border-radius: 0.35em;\">\n",
       "    China\n",
       "    <span style=\"font-size: 0.8em; font-weight: bold; line-height: 1; border-radius: 0.35em; text-transform: uppercase; vertical-align: middle; margin-left: 0.5rem\">GPE</span>\n",
       "</mark>\n",
       " and \n",
       "<mark class=\"entity\" style=\"background: #feca74; padding: 0.45em 0.6em; margin: 0 0.25em; line-height: 1; border-radius: 0.35em;\">\n",
       "    Japan\n",
       "    <span style=\"font-size: 0.8em; font-weight: bold; line-height: 1; border-radius: 0.35em; text-transform: uppercase; vertical-align: middle; margin-left: 0.5rem\">GPE</span>\n",
       "</mark>\n",
       " have no GP policy, and I am used to seeing doctors directly and quickly as long as I go to the hospital.\n",
       " Although hospitals are suffering broken which may cause difficulty for patients to seeing doctor, I believe the government would adjust the policy to keep the balance.\n",
       "</div></span>"
      ],
      "text/plain": [
       "<IPython.core.display.HTML object>"
      ]
     },
     "metadata": {},
     "output_type": "display_data"
    },
    {
     "name": "stdout",
     "output_type": "stream",
     "text": [
      "------------------------------------------------------------------------\n"
     ]
    },
    {
     "data": {
      "text/html": [
       "<span class=\"tex2jax_ignore\"><div class=\"entities\" style=\"line-height: 2.5; direction: ltr\">As far as I'm concerned, I prefer the \n",
       "<mark class=\"entity\" style=\"background: #c887fb; padding: 0.45em 0.6em; margin: 0 0.25em; line-height: 1; border-radius: 0.35em;\">\n",
       "    Japanese\n",
       "    <span style=\"font-size: 0.8em; font-weight: bold; line-height: 1; border-radius: 0.35em; text-transform: uppercase; vertical-align: middle; margin-left: 0.5rem\">NORP</span>\n",
       "</mark>\n",
       " health system. There are the following reasons. \n",
       "<mark class=\"entity\" style=\"background: #e4e7d2; padding: 0.45em 0.6em; margin: 0 0.25em; line-height: 1; border-radius: 0.35em;\">\n",
       "    First\n",
       "    <span style=\"font-size: 0.8em; font-weight: bold; line-height: 1; border-radius: 0.35em; text-transform: uppercase; vertical-align: middle; margin-left: 0.5rem\">ORDINAL</span>\n",
       "</mark>\n",
       " of all, \n",
       "<mark class=\"entity\" style=\"background: #feca74; padding: 0.45em 0.6em; margin: 0 0.25em; line-height: 1; border-radius: 0.35em;\">\n",
       "    Japan\n",
       "    <span style=\"font-size: 0.8em; font-weight: bold; line-height: 1; border-radius: 0.35em; text-transform: uppercase; vertical-align: middle; margin-left: 0.5rem\">GPE</span>\n",
       "</mark>\n",
       "'s health system is covered by its full name, which is a kind of social insurance. Compared with many countries, such as \n",
       "<mark class=\"entity\" style=\"background: #feca74; padding: 0.45em 0.6em; margin: 0 0.25em; line-height: 1; border-radius: 0.35em;\">\n",
       "    China\n",
       "    <span style=\"font-size: 0.8em; font-weight: bold; line-height: 1; border-radius: 0.35em; text-transform: uppercase; vertical-align: middle; margin-left: 0.5rem\">GPE</span>\n",
       "</mark>\n",
       ", many poor people are unable to see a doctor. \n",
       "<mark class=\"entity\" style=\"background: #feca74; padding: 0.45em 0.6em; margin: 0 0.25em; line-height: 1; border-radius: 0.35em;\">\n",
       "    Japan\n",
       "    <span style=\"font-size: 0.8em; font-weight: bold; line-height: 1; border-radius: 0.35em; text-transform: uppercase; vertical-align: middle; margin-left: 0.5rem\">GPE</span>\n",
       "</mark>\n",
       " provides health services for everyone, which is worth learning from. In addition, \n",
       "<mark class=\"entity\" style=\"background: #feca74; padding: 0.45em 0.6em; margin: 0 0.25em; line-height: 1; border-radius: 0.35em;\">\n",
       "    Japan\n",
       "    <span style=\"font-size: 0.8em; font-weight: bold; line-height: 1; border-radius: 0.35em; text-transform: uppercase; vertical-align: middle; margin-left: 0.5rem\">GPE</span>\n",
       "</mark>\n",
       "'s fast medical service, no need to make an appointment is also an attractive place for me. In \n",
       "<mark class=\"entity\" style=\"background: #feca74; padding: 0.45em 0.6em; margin: 0 0.25em; line-height: 1; border-radius: 0.35em;\">\n",
       "    China\n",
       "    <span style=\"font-size: 0.8em; font-weight: bold; line-height: 1; border-radius: 0.35em; text-transform: uppercase; vertical-align: middle; margin-left: 0.5rem\">GPE</span>\n",
       "</mark>\n",
       ", it often takes a lot of time to see an illness, and sometimes it takes \n",
       "<mark class=\"entity\" style=\"background: #bfe1d9; padding: 0.45em 0.6em; margin: 0 0.25em; line-height: 1; border-radius: 0.35em;\">\n",
       "    half a day\n",
       "    <span style=\"font-size: 0.8em; font-weight: bold; line-height: 1; border-radius: 0.35em; text-transform: uppercase; vertical-align: middle; margin-left: 0.5rem\">DATE</span>\n",
       "</mark>\n",
       " to complete a small examination. But in \n",
       "<mark class=\"entity\" style=\"background: #feca74; padding: 0.45em 0.6em; margin: 0 0.25em; line-height: 1; border-radius: 0.35em;\">\n",
       "    Japan\n",
       "    <span style=\"font-size: 0.8em; font-weight: bold; line-height: 1; border-radius: 0.35em; text-transform: uppercase; vertical-align: middle; margin-left: 0.5rem\">GPE</span>\n",
       "</mark>\n",
       ", the average medical treatment for each person is often only \n",
       "<mark class=\"entity\" style=\"background: #bfe1d9; padding: 0.45em 0.6em; margin: 0 0.25em; line-height: 1; border-radius: 0.35em;\">\n",
       "    three to five minutes\n",
       "    <span style=\"font-size: 0.8em; font-weight: bold; line-height: 1; border-radius: 0.35em; text-transform: uppercase; vertical-align: middle; margin-left: 0.5rem\">TIME</span>\n",
       "</mark>\n",
       ", which makes me very envious. Finally, I was also attracted by the abundance of medical devices and the low price of inspection in \n",
       "<mark class=\"entity\" style=\"background: #feca74; padding: 0.45em 0.6em; margin: 0 0.25em; line-height: 1; border-radius: 0.35em;\">\n",
       "    Japan\n",
       "    <span style=\"font-size: 0.8em; font-weight: bold; line-height: 1; border-radius: 0.35em; text-transform: uppercase; vertical-align: middle; margin-left: 0.5rem\">GPE</span>\n",
       "</mark>\n",
       ". In \n",
       "<mark class=\"entity\" style=\"background: #feca74; padding: 0.45em 0.6em; margin: 0 0.25em; line-height: 1; border-radius: 0.35em;\">\n",
       "    China\n",
       "    <span style=\"font-size: 0.8em; font-weight: bold; line-height: 1; border-radius: 0.35em; text-transform: uppercase; vertical-align: middle; margin-left: 0.5rem\">GPE</span>\n",
       "</mark>\n",
       ", some complex medical projects need to go to other cities, which is very troublesome.</div></span>"
      ],
      "text/plain": [
       "<IPython.core.display.HTML object>"
      ]
     },
     "metadata": {},
     "output_type": "display_data"
    },
    {
     "name": "stdout",
     "output_type": "stream",
     "text": [
      "------------------------------------------------------------------------\n"
     ]
    },
    {
     "data": {
      "text/html": [
       "<span class=\"tex2jax_ignore\"><div class=\"entities\" style=\"line-height: 2.5; direction: ltr\">I think the health system in \n",
       "<mark class=\"entity\" style=\"background: #feca74; padding: 0.45em 0.6em; margin: 0 0.25em; line-height: 1; border-radius: 0.35em;\">\n",
       "    Australia\n",
       "    <span style=\"font-size: 0.8em; font-weight: bold; line-height: 1; border-radius: 0.35em; text-transform: uppercase; vertical-align: middle; margin-left: 0.5rem\">GPE</span>\n",
       "</mark>\n",
       " is very good, and which consists of \n",
       "<mark class=\"entity\" style=\"background: #e4e7d2; padding: 0.45em 0.6em; margin: 0 0.25em; line-height: 1; border-radius: 0.35em;\">\n",
       "    two\n",
       "    <span style=\"font-size: 0.8em; font-weight: bold; line-height: 1; border-radius: 0.35em; text-transform: uppercase; vertical-align: middle; margin-left: 0.5rem\">CARDINAL</span>\n",
       "</mark>\n",
       " systems, public and private. Every citizen of \n",
       "<mark class=\"entity\" style=\"background: #feca74; padding: 0.45em 0.6em; margin: 0 0.25em; line-height: 1; border-radius: 0.35em;\">\n",
       "    Australia\n",
       "    <span style=\"font-size: 0.8em; font-weight: bold; line-height: 1; border-radius: 0.35em; text-transform: uppercase; vertical-align: middle; margin-left: 0.5rem\">GPE</span>\n",
       "</mark>\n",
       " can access care for free or at a lower cost through \n",
       "<mark class=\"entity\" style=\"background: #7aecec; padding: 0.45em 0.6em; margin: 0 0.25em; line-height: 1; border-radius: 0.35em;\">\n",
       "    Medicare\n",
       "    <span style=\"font-size: 0.8em; font-weight: bold; line-height: 1; border-radius: 0.35em; text-transform: uppercase; vertical-align: middle; margin-left: 0.5rem\">ORG</span>\n",
       "</mark>\n",
       ". \n",
       "<mark class=\"entity\" style=\"background: #7aecec; padding: 0.45em 0.6em; margin: 0 0.25em; line-height: 1; border-radius: 0.35em;\">\n",
       "    Medicare\n",
       "    <span style=\"font-size: 0.8em; font-weight: bold; line-height: 1; border-radius: 0.35em; text-transform: uppercase; vertical-align: middle; margin-left: 0.5rem\">ORG</span>\n",
       "</mark>\n",
       " was funded by the tax(funded by local, state and federal governments). for the private system, which includes health service providers that are owned and managed privately, like private hospitals, specialist medical and allied health, and pharmacies(funded by a combination of government and private entities). The whole health system in \n",
       "<mark class=\"entity\" style=\"background: #feca74; padding: 0.45em 0.6em; margin: 0 0.25em; line-height: 1; border-radius: 0.35em;\">\n",
       "    Australia\n",
       "    <span style=\"font-size: 0.8em; font-weight: bold; line-height: 1; border-radius: 0.35em; text-transform: uppercase; vertical-align: middle; margin-left: 0.5rem\">GPE</span>\n",
       "</mark>\n",
       " ensure very people who live in \n",
       "<mark class=\"entity\" style=\"background: #feca74; padding: 0.45em 0.6em; margin: 0 0.25em; line-height: 1; border-radius: 0.35em;\">\n",
       "    Australia\n",
       "    <span style=\"font-size: 0.8em; font-weight: bold; line-height: 1; border-radius: 0.35em; text-transform: uppercase; vertical-align: middle; margin-left: 0.5rem\">GPE</span>\n",
       "</mark>\n",
       " can enjoy the benefits of the system and easier to support the cost of healing. \n",
       " \n",
       " </div></span>"
      ],
      "text/plain": [
       "<IPython.core.display.HTML object>"
      ]
     },
     "metadata": {},
     "output_type": "display_data"
    },
    {
     "name": "stdout",
     "output_type": "stream",
     "text": [
      "------------------------------------------------------------------------\n"
     ]
    },
    {
     "data": {
      "text/html": [
       "<span class=\"tex2jax_ignore\"><div class=\"entities\" style=\"line-height: 2.5; direction: ltr\">In the video introduction, I hope to get medical care from the \n",
       "<mark class=\"entity\" style=\"background: #c887fb; padding: 0.45em 0.6em; margin: 0 0.25em; line-height: 1; border-radius: 0.35em;\">\n",
       "    German\n",
       "    <span style=\"font-size: 0.8em; font-weight: bold; line-height: 1; border-radius: 0.35em; text-transform: uppercase; vertical-align: middle; margin-left: 0.5rem\">NORP</span>\n",
       "</mark>\n",
       " medical system. The \n",
       "<mark class=\"entity\" style=\"background: #c887fb; padding: 0.45em 0.6em; margin: 0 0.25em; line-height: 1; border-radius: 0.35em;\">\n",
       "    German\n",
       "    <span style=\"font-size: 0.8em; font-weight: bold; line-height: 1; border-radius: 0.35em; text-transform: uppercase; vertical-align: middle; margin-left: 0.5rem\">NORP</span>\n",
       "</mark>\n",
       " medical system is a market-based system. Under this medical system, patients can be allowed to perform various medical care at any time. In this kind of medical system, statutory medical insurance occupies the main position. At the same time, private insurance is used as an auxiliary.The advantage of this medical system is that it can, \n",
       "<mark class=\"entity\" style=\"background: #e4e7d2; padding: 0.45em 0.6em; margin: 0 0.25em; line-height: 1; border-radius: 0.35em;\">\n",
       "    first\n",
       "    <span style=\"font-size: 0.8em; font-weight: bold; line-height: 1; border-radius: 0.35em; text-transform: uppercase; vertical-align: middle; margin-left: 0.5rem\">ORDINAL</span>\n",
       "</mark>\n",
       ", effectively avoid the possibility of doctors charging indiscriminately. \n",
       "<mark class=\"entity\" style=\"background: #e4e7d2; padding: 0.45em 0.6em; margin: 0 0.25em; line-height: 1; border-radius: 0.35em;\">\n",
       "    Second\n",
       "    <span style=\"font-size: 0.8em; font-weight: bold; line-height: 1; border-radius: 0.35em; text-transform: uppercase; vertical-align: middle; margin-left: 0.5rem\">ORDINAL</span>\n",
       "</mark>\n",
       ", medical resources can be allocated more efficiently. \n",
       "<mark class=\"entity\" style=\"background: #e4e7d2; padding: 0.45em 0.6em; margin: 0 0.25em; line-height: 1; border-radius: 0.35em;\">\n",
       "    Third\n",
       "    <span style=\"font-size: 0.8em; font-weight: bold; line-height: 1; border-radius: 0.35em; text-transform: uppercase; vertical-align: middle; margin-left: 0.5rem\">ORDINAL</span>\n",
       "</mark>\n",
       ", the division of labor and collaboration can be carried out more effectively.Therefore, I hope to get medical care in the \n",
       "<mark class=\"entity\" style=\"background: #c887fb; padding: 0.45em 0.6em; margin: 0 0.25em; line-height: 1; border-radius: 0.35em;\">\n",
       "    German\n",
       "    <span style=\"font-size: 0.8em; font-weight: bold; line-height: 1; border-radius: 0.35em; text-transform: uppercase; vertical-align: middle; margin-left: 0.5rem\">NORP</span>\n",
       "</mark>\n",
       " medical system.</div></span>"
      ],
      "text/plain": [
       "<IPython.core.display.HTML object>"
      ]
     },
     "metadata": {},
     "output_type": "display_data"
    },
    {
     "name": "stdout",
     "output_type": "stream",
     "text": [
      "------------------------------------------------------------------------\n"
     ]
    },
    {
     "data": {
      "text/html": [
       "<span class=\"tex2jax_ignore\"><div class=\"entities\" style=\"line-height: 2.5; direction: ltr\">From my perspective, I prefer to get my healthcare from \n",
       "<mark class=\"entity\" style=\"background: #feca74; padding: 0.45em 0.6em; margin: 0 0.25em; line-height: 1; border-radius: 0.35em;\">\n",
       "    Taiwan\n",
       "    <span style=\"font-size: 0.8em; font-weight: bold; line-height: 1; border-radius: 0.35em; text-transform: uppercase; vertical-align: middle; margin-left: 0.5rem\">GPE</span>\n",
       "</mark>\n",
       ". The Average family premium: $\n",
       "<mark class=\"entity\" style=\"background: #e4e7d2; padding: 0.45em 0.6em; margin: 0 0.25em; line-height: 1; border-radius: 0.35em;\">\n",
       "    650\n",
       "    <span style=\"font-size: 0.8em; font-weight: bold; line-height: 1; border-radius: 0.35em; text-transform: uppercase; vertical-align: middle; margin-left: 0.5rem\">MONEY</span>\n",
       "</mark>\n",
       " per year for a family for \n",
       "<mark class=\"entity\" style=\"background: #e4e7d2; padding: 0.45em 0.6em; margin: 0 0.25em; line-height: 1; border-radius: 0.35em;\">\n",
       "    four\n",
       "    <span style=\"font-size: 0.8em; font-weight: bold; line-height: 1; border-radius: 0.35em; text-transform: uppercase; vertical-align: middle; margin-left: 0.5rem\">CARDINAL</span>\n",
       "</mark>\n",
       ", which is relatively cheap. What attracts me most is the smart card every citizen owns can be used to record users' medical history and the system also helps public health officials monitor standards and effect policy changes nationwide. Thus, the administrative costs of \n",
       "<mark class=\"entity\" style=\"background: #feca74; padding: 0.45em 0.6em; margin: 0 0.25em; line-height: 1; border-radius: 0.35em;\">\n",
       "    Taiwan\n",
       "    <span style=\"font-size: 0.8em; font-weight: bold; line-height: 1; border-radius: 0.35em; text-transform: uppercase; vertical-align: middle; margin-left: 0.5rem\">GPE</span>\n",
       "</mark>\n",
       " is the lowest in the world. </div></span>"
      ],
      "text/plain": [
       "<IPython.core.display.HTML object>"
      ]
     },
     "metadata": {},
     "output_type": "display_data"
    },
    {
     "name": "stdout",
     "output_type": "stream",
     "text": [
      "------------------------------------------------------------------------\n"
     ]
    },
    {
     "data": {
      "text/html": [
       "<span class=\"tex2jax_ignore\"><div class=\"entities\" style=\"line-height: 2.5; direction: ltr\">\n",
       "<mark class=\"entity\" style=\"background: #feca74; padding: 0.45em 0.6em; margin: 0 0.25em; line-height: 1; border-radius: 0.35em;\">\n",
       "    Germany\n",
       "    <span style=\"font-size: 0.8em; font-weight: bold; line-height: 1; border-radius: 0.35em; text-transform: uppercase; vertical-align: middle; margin-left: 0.5rem\">GPE</span>\n",
       "</mark>\n",
       " has \n",
       "<mark class=\"entity\" style=\"background: #e4e7d2; padding: 0.45em 0.6em; margin: 0 0.25em; line-height: 1; border-radius: 0.35em;\">\n",
       "    one\n",
       "    <span style=\"font-size: 0.8em; font-weight: bold; line-height: 1; border-radius: 0.35em; text-transform: uppercase; vertical-align: middle; margin-left: 0.5rem\">CARDINAL</span>\n",
       "</mark>\n",
       " of the best health care systems in the world, with universal coverage, which means \n",
       "<mark class=\"entity\" style=\"background: #c887fb; padding: 0.45em 0.6em; margin: 0 0.25em; line-height: 1; border-radius: 0.35em;\">\n",
       "    germans\n",
       "    <span style=\"font-size: 0.8em; font-weight: bold; line-height: 1; border-radius: 0.35em; text-transform: uppercase; vertical-align: middle; margin-left: 0.5rem\">NORP</span>\n",
       "</mark>\n",
       " don't have to worry about huge health costs.\n",
       "<mark class=\"entity\" style=\"background: #e4e7d2; padding: 0.45em 0.6em; margin: 0 0.25em; line-height: 1; border-radius: 0.35em;\">\n",
       "    One\n",
       "    <span style=\"font-size: 0.8em; font-weight: bold; line-height: 1; border-radius: 0.35em; text-transform: uppercase; vertical-align: middle; margin-left: 0.5rem\">CARDINAL</span>\n",
       "</mark>\n",
       " of the reasons why \n",
       "<mark class=\"entity\" style=\"background: #feca74; padding: 0.45em 0.6em; margin: 0 0.25em; line-height: 1; border-radius: 0.35em;\">\n",
       "    Germany\n",
       "    <span style=\"font-size: 0.8em; font-weight: bold; line-height: 1; border-radius: 0.35em; text-transform: uppercase; vertical-align: middle; margin-left: 0.5rem\">GPE</span>\n",
       "</mark>\n",
       "'s health-care system is so good is that it is almost cover everything.</br>\n",
       "<mark class=\"entity\" style=\"background: #e4e7d2; padding: 0.45em 0.6em; margin: 0 0.25em; line-height: 1; border-radius: 0.35em;\">\n",
       "    1.Universal\n",
       "    <span style=\"font-size: 0.8em; font-weight: bold; line-height: 1; border-radius: 0.35em; text-transform: uppercase; vertical-align: middle; margin-left: 0.5rem\">CARDINAL</span>\n",
       "</mark>\n",
       " health care: \n",
       "<mark class=\"entity\" style=\"background: #feca74; padding: 0.45em 0.6em; margin: 0 0.25em; line-height: 1; border-radius: 0.35em;\">\n",
       "    Germany\n",
       "    <span style=\"font-size: 0.8em; font-weight: bold; line-height: 1; border-radius: 0.35em; text-transform: uppercase; vertical-align: middle; margin-left: 0.5rem\">GPE</span>\n",
       "</mark>\n",
       " has universal health insurance, which means that everyone living in \n",
       "<mark class=\"entity\" style=\"background: #feca74; padding: 0.45em 0.6em; margin: 0 0.25em; line-height: 1; border-radius: 0.35em;\">\n",
       "    Germany\n",
       "    <span style=\"font-size: 0.8em; font-weight: bold; line-height: 1; border-radius: 0.35em; text-transform: uppercase; vertical-align: middle; margin-left: 0.5rem\">GPE</span>\n",
       "</mark>\n",
       " must have health insurance.2. Percentage of public and private health insurance: Most people have public health insurance and \n",
       "<mark class=\"entity\" style=\"background: #e4e7d2; padding: 0.45em 0.6em; margin: 0 0.25em; line-height: 1; border-radius: 0.35em;\">\n",
       "    about 10 percent\n",
       "    <span style=\"font-size: 0.8em; font-weight: bold; line-height: 1; border-radius: 0.35em; text-transform: uppercase; vertical-align: middle; margin-left: 0.5rem\">PERCENT</span>\n",
       "</mark>\n",
       " have private health insurance.3.  percentage covered by health insurance: \n",
       "<mark class=\"entity\" style=\"background: #e4e7d2; padding: 0.45em 0.6em; margin: 0 0.25em; line-height: 1; border-radius: 0.35em;\">\n",
       "    100%.4\n",
       "    <span style=\"font-size: 0.8em; font-weight: bold; line-height: 1; border-radius: 0.35em; text-transform: uppercase; vertical-align: middle; margin-left: 0.5rem\">CARDINAL</span>\n",
       "</mark>\n",
       ". number of pharmacies: \n",
       "<mark class=\"entity\" style=\"background: #feca74; padding: 0.45em 0.6em; margin: 0 0.25em; line-height: 1; border-radius: 0.35em;\">\n",
       "    Germany\n",
       "    <span style=\"font-size: 0.8em; font-weight: bold; line-height: 1; border-radius: 0.35em; text-transform: uppercase; vertical-align: middle; margin-left: 0.5rem\">GPE</span>\n",
       "</mark>\n",
       " has \n",
       "<mark class=\"entity\" style=\"background: #e4e7d2; padding: 0.45em 0.6em; margin: 0 0.25em; line-height: 1; border-radius: 0.35em;\">\n",
       "    more than 20,000\n",
       "    <span style=\"font-size: 0.8em; font-weight: bold; line-height: 1; border-radius: 0.35em; text-transform: uppercase; vertical-align: middle; margin-left: 0.5rem\">CARDINAL</span>\n",
       "</mark>\n",
       " pharmacies or \n",
       "<mark class=\"entity\" style=\"background: #e4e7d2; padding: 0.45em 0.6em; margin: 0 0.25em; line-height: 1; border-radius: 0.35em;\">\n",
       "    one\n",
       "    <span style=\"font-size: 0.8em; font-weight: bold; line-height: 1; border-radius: 0.35em; text-transform: uppercase; vertical-align: middle; margin-left: 0.5rem\">CARDINAL</span>\n",
       "</mark>\n",
       " for every \n",
       "<mark class=\"entity\" style=\"background: #e4e7d2; padding: 0.45em 0.6em; margin: 0 0.25em; line-height: 1; border-radius: 0.35em;\">\n",
       "    4,000\n",
       "    <span style=\"font-size: 0.8em; font-weight: bold; line-height: 1; border-radius: 0.35em; text-transform: uppercase; vertical-align: middle; margin-left: 0.5rem\">CARDINAL</span>\n",
       "</mark>\n",
       " people.5. number of hospitals: \n",
       "<mark class=\"entity\" style=\"background: #e4e7d2; padding: 0.45em 0.6em; margin: 0 0.25em; line-height: 1; border-radius: 0.35em;\">\n",
       "    about 2,000\n",
       "    <span style=\"font-size: 0.8em; font-weight: bold; line-height: 1; border-radius: 0.35em; text-transform: uppercase; vertical-align: middle; margin-left: 0.5rem\">CARDINAL</span>\n",
       "</mark>\n",
       ".</div></span>"
      ],
      "text/plain": [
       "<IPython.core.display.HTML object>"
      ]
     },
     "metadata": {},
     "output_type": "display_data"
    },
    {
     "name": "stdout",
     "output_type": "stream",
     "text": [
      "------------------------------------------------------------------------\n"
     ]
    },
    {
     "data": {
      "text/html": [
       "<span class=\"tex2jax_ignore\"><div class=\"entities\" style=\"line-height: 2.5; direction: ltr\">I would chose to get my health care from \n",
       "<mark class=\"entity\" style=\"background: #feca74; padding: 0.45em 0.6em; margin: 0 0.25em; line-height: 1; border-radius: 0.35em;\">\n",
       "    Taiwan\n",
       "    <span style=\"font-size: 0.8em; font-weight: bold; line-height: 1; border-radius: 0.35em; text-transform: uppercase; vertical-align: middle; margin-left: 0.5rem\">GPE</span>\n",
       "</mark>\n",
       ", as mentioned in the documentary they learnt and adapted different aspects of successful health care systems from different countries. I particularly like that there is no opt out option and everyone joins and pays the same amount to get the same care. It also has no gatekeepers and no high waiting times meaning citizens are able to get diagnosed and treatment efficiently. Additionally, unlike the other health care systems mentioned in the documentary every citizen of \n",
       "<mark class=\"entity\" style=\"background: #feca74; padding: 0.45em 0.6em; margin: 0 0.25em; line-height: 1; border-radius: 0.35em;\">\n",
       "    Taiwan\n",
       "    <span style=\"font-size: 0.8em; font-weight: bold; line-height: 1; border-radius: 0.35em; text-transform: uppercase; vertical-align: middle; margin-left: 0.5rem\">GPE</span>\n",
       "</mark>\n",
       " is issued with a smart card which dramatically reduces administrative costs and also makes it easier for both the practitioner and patient to transport medical records. Moreover, the system includes drug benefits and includes all types of care including optical and other types of extras. Ultimately, I believe \n",
       "<mark class=\"entity\" style=\"background: #feca74; padding: 0.45em 0.6em; margin: 0 0.25em; line-height: 1; border-radius: 0.35em;\">\n",
       "    Taiwan\n",
       "    <span style=\"font-size: 0.8em; font-weight: bold; line-height: 1; border-radius: 0.35em; text-transform: uppercase; vertical-align: middle; margin-left: 0.5rem\">GPE</span>\n",
       "</mark>\n",
       " has found an optimal system where all citizens contribute to the health care system, receive adequate care and the government is not spending a high amount of GDP.</div></span>"
      ],
      "text/plain": [
       "<IPython.core.display.HTML object>"
      ]
     },
     "metadata": {},
     "output_type": "display_data"
    },
    {
     "name": "stdout",
     "output_type": "stream",
     "text": [
      "------------------------------------------------------------------------\n"
     ]
    },
    {
     "data": {
      "text/html": [
       "<span class=\"tex2jax_ignore\"><div class=\"entities\" style=\"line-height: 2.5; direction: ltr\">For the countries mentioned by \n",
       "<mark class=\"entity\" style=\"background: #aa9cfc; padding: 0.45em 0.6em; margin: 0 0.25em; line-height: 1; border-radius: 0.35em;\">\n",
       "    Reid\n",
       "    <span style=\"font-size: 0.8em; font-weight: bold; line-height: 1; border-radius: 0.35em; text-transform: uppercase; vertical-align: middle; margin-left: 0.5rem\">PERSON</span>\n",
       "</mark>\n",
       " in the interview, I am most interested in the medical system in \n",
       "<mark class=\"entity\" style=\"background: #feca74; padding: 0.45em 0.6em; margin: 0 0.25em; line-height: 1; border-radius: 0.35em;\">\n",
       "    Taiwan\n",
       "    <span style=\"font-size: 0.8em; font-weight: bold; line-height: 1; border-radius: 0.35em; text-transform: uppercase; vertical-align: middle; margin-left: 0.5rem\">GPE</span>\n",
       "</mark>\n",
       ". The reason is that I grew up here, the overall medical environment is very convenient, with a sound medical system, people can use the health insurance card to record the contents of each visit and the type of medicines given by the doctor, and the visit only costs \n",
       "<mark class=\"entity\" style=\"background: #e4e7d2; padding: 0.45em 0.6em; margin: 0 0.25em; line-height: 1; border-radius: 0.35em;\">\n",
       "    about 8 Australian dollars\n",
       "    <span style=\"font-size: 0.8em; font-weight: bold; line-height: 1; border-radius: 0.35em; text-transform: uppercase; vertical-align: middle; margin-left: 0.5rem\">MONEY</span>\n",
       "</mark>\n",
       ". At the same time, the popularity of clinics and hospitals is also quite high, and citizens who need medical resources can see the doctor quickly and also without the pressure to bear high medical expenses. I think that a sound medical system is based on the efforts of the government and all the people, such as the prevention of COVID-19. I returned to \n",
       "<mark class=\"entity\" style=\"background: #feca74; padding: 0.45em 0.6em; margin: 0 0.25em; line-height: 1; border-radius: 0.35em;\">\n",
       "    Taiwan\n",
       "    <span style=\"font-size: 0.8em; font-weight: bold; line-height: 1; border-radius: 0.35em; text-transform: uppercase; vertical-align: middle; margin-left: 0.5rem\">GPE</span>\n",
       "</mark>\n",
       " \n",
       "<mark class=\"entity\" style=\"background: #bfe1d9; padding: 0.45em 0.6em; margin: 0 0.25em; line-height: 1; border-radius: 0.35em;\">\n",
       "    last week\n",
       "    <span style=\"font-size: 0.8em; font-weight: bold; line-height: 1; border-radius: 0.35em; text-transform: uppercase; vertical-align: middle; margin-left: 0.5rem\">DATE</span>\n",
       "</mark>\n",
       " for \n",
       "<mark class=\"entity\" style=\"background: #bfe1d9; padding: 0.45em 0.6em; margin: 0 0.25em; line-height: 1; border-radius: 0.35em;\">\n",
       "    14 days\n",
       "    <span style=\"font-size: 0.8em; font-weight: bold; line-height: 1; border-radius: 0.35em; text-transform: uppercase; vertical-align: middle; margin-left: 0.5rem\">DATE</span>\n",
       "</mark>\n",
       " of independent isolation. The health bureau uses mobile phones to locate and control whether or not I leave the quarantine at any time, and public representatives of the block contact me \n",
       "<mark class=\"entity\" style=\"background: #bfe1d9; padding: 0.45em 0.6em; margin: 0 0.25em; line-height: 1; border-radius: 0.35em;\">\n",
       "    every day\n",
       "    <span style=\"font-size: 0.8em; font-weight: bold; line-height: 1; border-radius: 0.35em; text-transform: uppercase; vertical-align: middle; margin-left: 0.5rem\">DATE</span>\n",
       "</mark>\n",
       " to understand my physical condition so that I can report and treat in time when I am unwell. However, the convenient and low-cost medical resources have also extended the problem of \n",
       "<mark class=\"entity\" style=\"background: #7aecec; padding: 0.45em 0.6em; margin: 0 0.25em; line-height: 1; border-radius: 0.35em;\">\n",
       "    the national health insurance financial\n",
       "    <span style=\"font-size: 0.8em; font-weight: bold; line-height: 1; border-radius: 0.35em; text-transform: uppercase; vertical-align: middle; margin-left: 0.5rem\">ORG</span>\n",
       "</mark>\n",
       " deficit. Although the national satisfaction with health system has reached \n",
       "<mark class=\"entity\" style=\"background: #e4e7d2; padding: 0.45em 0.6em; margin: 0 0.25em; line-height: 1; border-radius: 0.35em;\">\n",
       "    87%\n",
       "    <span style=\"font-size: 0.8em; font-weight: bold; line-height: 1; border-radius: 0.35em; text-transform: uppercase; vertical-align: middle; margin-left: 0.5rem\">PERCENT</span>\n",
       "</mark>\n",
       ", the number of visits per capita is \n",
       "<mark class=\"entity\" style=\"background: #e4e7d2; padding: 0.45em 0.6em; margin: 0 0.25em; line-height: 1; border-radius: 0.35em;\">\n",
       "    three\n",
       "    <span style=\"font-size: 0.8em; font-weight: bold; line-height: 1; border-radius: 0.35em; text-transform: uppercase; vertical-align: middle; margin-left: 0.5rem\">CARDINAL</span>\n",
       "</mark>\n",
       " times higher than in developed countries, which has led to a continuous increase in losses. It is a topic worth discussing.</div></span>"
      ],
      "text/plain": [
       "<IPython.core.display.HTML object>"
      ]
     },
     "metadata": {},
     "output_type": "display_data"
    },
    {
     "name": "stdout",
     "output_type": "stream",
     "text": [
      "------------------------------------------------------------------------\n"
     ]
    },
    {
     "data": {
      "text/html": [
       "<span class=\"tex2jax_ignore\"><div class=\"entities\" style=\"line-height: 2.5; direction: ltr\">\n",
       "<mark class=\"entity\" style=\"background: #7aecec; padding: 0.45em 0.6em; margin: 0 0.25em; line-height: 1; border-radius: 0.35em;\">\n",
       "    Healthcare\n",
       "    <span style=\"font-size: 0.8em; font-weight: bold; line-height: 1; border-radius: 0.35em; text-transform: uppercase; vertical-align: middle; margin-left: 0.5rem\">ORG</span>\n",
       "</mark>\n",
       " in \n",
       "<mark class=\"entity\" style=\"background: #feca74; padding: 0.45em 0.6em; margin: 0 0.25em; line-height: 1; border-radius: 0.35em;\">\n",
       "    Switzerland\n",
       "    <span style=\"font-size: 0.8em; font-weight: bold; line-height: 1; border-radius: 0.35em; text-transform: uppercase; vertical-align: middle; margin-left: 0.5rem\">GPE</span>\n",
       "</mark>\n",
       "</br>After watching the video, I think the health system of \n",
       "<mark class=\"entity\" style=\"background: #feca74; padding: 0.45em 0.6em; margin: 0 0.25em; line-height: 1; border-radius: 0.35em;\">\n",
       "    Switzerland\n",
       "    <span style=\"font-size: 0.8em; font-weight: bold; line-height: 1; border-radius: 0.35em; text-transform: uppercase; vertical-align: middle; margin-left: 0.5rem\">GPE</span>\n",
       "</mark>\n",
       " is the best among all the countries that \n",
       "<mark class=\"entity\" style=\"background: #aa9cfc; padding: 0.45em 0.6em; margin: 0 0.25em; line-height: 1; border-radius: 0.35em;\">\n",
       "    Reid\n",
       "    <span style=\"font-size: 0.8em; font-weight: bold; line-height: 1; border-radius: 0.35em; text-transform: uppercase; vertical-align: middle; margin-left: 0.5rem\">PERSON</span>\n",
       "</mark>\n",
       " visited. The reasons are as follows:</br></br>The law requires \n",
       "<mark class=\"entity\" style=\"background: #c887fb; padding: 0.45em 0.6em; margin: 0 0.25em; line-height: 1; border-radius: 0.35em;\">\n",
       "    Swiss\n",
       "    <span style=\"font-size: 0.8em; font-weight: bold; line-height: 1; border-radius: 0.35em; text-transform: uppercase; vertical-align: middle; margin-left: 0.5rem\">NORP</span>\n",
       "</mark>\n",
       " residents to purchase health insurance (compulsory health insurance or \n",
       "<mark class=\"entity\" style=\"background: #7aecec; padding: 0.45em 0.6em; margin: 0 0.25em; line-height: 1; border-radius: 0.35em;\">\n",
       "    MHI\n",
       "    <span style=\"font-size: 0.8em; font-weight: bold; line-height: 1; border-radius: 0.35em; text-transform: uppercase; vertical-align: middle; margin-left: 0.5rem\">ORG</span>\n",
       "</mark>\n",
       ").</br>No one will be refused to provide pre-existing diseases.</br>The government provides \n",
       "<mark class=\"entity\" style=\"background: #7aecec; padding: 0.45em 0.6em; margin: 0 0.25em; line-height: 1; border-radius: 0.35em;\">\n",
       "    Mitsubishi Heavy Industries\n",
       "    <span style=\"font-size: 0.8em; font-weight: bold; line-height: 1; border-radius: 0.35em; text-transform: uppercase; vertical-align: middle; margin-left: 0.5rem\">ORG</span>\n",
       "</mark>\n",
       " subsidies for low-income people.</br>Patients can get all levels of care directly-no referrals required.</br>\n",
       "<mark class=\"entity\" style=\"background: #7aecec; padding: 0.45em 0.6em; margin: 0 0.25em; line-height: 1; border-radius: 0.35em;\">\n",
       "    MHI\n",
       "    <span style=\"font-size: 0.8em; font-weight: bold; line-height: 1; border-radius: 0.35em; text-transform: uppercase; vertical-align: middle; margin-left: 0.5rem\">ORG</span>\n",
       "</mark>\n",
       " allows patients to choose their own provider.</br>There is a little waiting time.</br>Maternity insurance is excellent: it includes prenatal care, all costs related to childbirth, and a \n",
       "<mark class=\"entity\" style=\"background: #bfe1d9; padding: 0.45em 0.6em; margin: 0 0.25em; line-height: 1; border-radius: 0.35em;\">\n",
       "    one-week\n",
       "    <span style=\"font-size: 0.8em; font-weight: bold; line-height: 1; border-radius: 0.35em; text-transform: uppercase; vertical-align: middle; margin-left: 0.5rem\">DATE</span>\n",
       "</mark>\n",
       " hospitalization after childbirth (teaching baby care skills during this period). Qualified midwives will also make post-natal family calls.\n",
       "</div></span>"
      ],
      "text/plain": [
       "<IPython.core.display.HTML object>"
      ]
     },
     "metadata": {},
     "output_type": "display_data"
    },
    {
     "name": "stdout",
     "output_type": "stream",
     "text": [
      "------------------------------------------------------------------------\n"
     ]
    },
    {
     "data": {
      "text/html": [
       "<span class=\"tex2jax_ignore\"><div class=\"entities\" style=\"line-height: 2.5; direction: ltr\">I prefer to get services from the health care system in \n",
       "<mark class=\"entity\" style=\"background: #feca74; padding: 0.45em 0.6em; margin: 0 0.25em; line-height: 1; border-radius: 0.35em;\">\n",
       "    Japan\n",
       "    <span style=\"font-size: 0.8em; font-weight: bold; line-height: 1; border-radius: 0.35em; text-transform: uppercase; vertical-align: middle; margin-left: 0.5rem\">GPE</span>\n",
       "</mark>\n",
       ". \n",
       "<mark class=\"entity\" style=\"background: #feca74; padding: 0.45em 0.6em; margin: 0 0.25em; line-height: 1; border-radius: 0.35em;\">\n",
       "    Japan\n",
       "    <span style=\"font-size: 0.8em; font-weight: bold; line-height: 1; border-radius: 0.35em; text-transform: uppercase; vertical-align: middle; margin-left: 0.5rem\">GPE</span>\n",
       "</mark>\n",
       "'s medical services are provided by the private sector, while the medical expenses are borne by the government. I don't have to worry about the cost, because as long as I'm insured, most of my medical expenses will be borne by the government. There are many small medical institutions in \n",
       "<mark class=\"entity\" style=\"background: #feca74; padding: 0.45em 0.6em; margin: 0 0.25em; line-height: 1; border-radius: 0.35em;\">\n",
       "    Japan\n",
       "    <span style=\"font-size: 0.8em; font-weight: bold; line-height: 1; border-radius: 0.35em; text-transform: uppercase; vertical-align: middle; margin-left: 0.5rem\">GPE</span>\n",
       "</mark>\n",
       ". I can get medical services nearby and refer to large hospitals when necessary. This saves me a lot of time and the tedious appointment.</div></span>"
      ],
      "text/plain": [
       "<IPython.core.display.HTML object>"
      ]
     },
     "metadata": {},
     "output_type": "display_data"
    },
    {
     "name": "stdout",
     "output_type": "stream",
     "text": [
      "------------------------------------------------------------------------\n"
     ]
    },
    {
     "data": {
      "text/html": [
       "<span class=\"tex2jax_ignore\"><div class=\"entities\" style=\"line-height: 2.5; direction: ltr\">I prefer to get healthcare from \n",
       "<mark class=\"entity\" style=\"background: #feca74; padding: 0.45em 0.6em; margin: 0 0.25em; line-height: 1; border-radius: 0.35em;\">\n",
       "    Taiwan\n",
       "    <span style=\"font-size: 0.8em; font-weight: bold; line-height: 1; border-radius: 0.35em; text-transform: uppercase; vertical-align: middle; margin-left: 0.5rem\">GPE</span>\n",
       "</mark>\n",
       ". After \n",
       "<mark class=\"entity\" style=\"background: #feca74; padding: 0.45em 0.6em; margin: 0 0.25em; line-height: 1; border-radius: 0.35em;\">\n",
       "    Taiwan\n",
       "    <span style=\"font-size: 0.8em; font-weight: bold; line-height: 1; border-radius: 0.35em; text-transform: uppercase; vertical-align: middle; margin-left: 0.5rem\">GPE</span>\n",
       "</mark>\n",
       " learnt experience of health system from many countries, \n",
       "<mark class=\"entity\" style=\"background: #feca74; padding: 0.45em 0.6em; margin: 0 0.25em; line-height: 1; border-radius: 0.35em;\">\n",
       "    Taiwan\n",
       "    <span style=\"font-size: 0.8em; font-weight: bold; line-height: 1; border-radius: 0.35em; text-transform: uppercase; vertical-align: middle; margin-left: 0.5rem\">GPE</span>\n",
       "</mark>\n",
       " established effective health system. There are  \n",
       "<mark class=\"entity\" style=\"background: #e4e7d2; padding: 0.45em 0.6em; margin: 0 0.25em; line-height: 1; border-radius: 0.35em;\">\n",
       "    three\n",
       "    <span style=\"font-size: 0.8em; font-weight: bold; line-height: 1; border-radius: 0.35em; text-transform: uppercase; vertical-align: middle; margin-left: 0.5rem\">CARDINAL</span>\n",
       "</mark>\n",
       " reason I pick \n",
       "<mark class=\"entity\" style=\"background: #feca74; padding: 0.45em 0.6em; margin: 0 0.25em; line-height: 1; border-radius: 0.35em;\">\n",
       "    Taiwan\n",
       "    <span style=\"font-size: 0.8em; font-weight: bold; line-height: 1; border-radius: 0.35em; text-transform: uppercase; vertical-align: middle; margin-left: 0.5rem\">GPE</span>\n",
       "</mark>\n",
       " that I am most intrigued by. \n",
       "<mark class=\"entity\" style=\"background: #e4e7d2; padding: 0.45em 0.6em; margin: 0 0.25em; line-height: 1; border-radius: 0.35em;\">\n",
       "    Firstly\n",
       "    <span style=\"font-size: 0.8em; font-weight: bold; line-height: 1; border-radius: 0.35em; text-transform: uppercase; vertical-align: middle; margin-left: 0.5rem\">ORDINAL</span>\n",
       "</mark>\n",
       ", all medical treatments and medicines will be covered by governance, everyone is treated equally. \n",
       "<mark class=\"entity\" style=\"background: #e4e7d2; padding: 0.45em 0.6em; margin: 0 0.25em; line-height: 1; border-radius: 0.35em;\">\n",
       "    Secondly\n",
       "    <span style=\"font-size: 0.8em; font-weight: bold; line-height: 1; border-radius: 0.35em; text-transform: uppercase; vertical-align: middle; margin-left: 0.5rem\">ORDINAL</span>\n",
       "</mark>\n",
       ", there is no gatekeeper or waiting time in \n",
       "<mark class=\"entity\" style=\"background: #feca74; padding: 0.45em 0.6em; margin: 0 0.25em; line-height: 1; border-radius: 0.35em;\">\n",
       "    Taiwan\n",
       "    <span style=\"font-size: 0.8em; font-weight: bold; line-height: 1; border-radius: 0.35em; text-transform: uppercase; vertical-align: middle; margin-left: 0.5rem\">GPE</span>\n",
       "</mark>\n",
       "'s health system, clinic even open on \n",
       "<mark class=\"entity\" style=\"background: #bfe1d9; padding: 0.45em 0.6em; margin: 0 0.25em; line-height: 1; border-radius: 0.35em;\">\n",
       "    the weekend\n",
       "    <span style=\"font-size: 0.8em; font-weight: bold; line-height: 1; border-radius: 0.35em; text-transform: uppercase; vertical-align: middle; margin-left: 0.5rem\">DATE</span>\n",
       "</mark>\n",
       ", and there is no need to see GP firstly. Finally, health system of \n",
       "<mark class=\"entity\" style=\"background: #feca74; padding: 0.45em 0.6em; margin: 0 0.25em; line-height: 1; border-radius: 0.35em;\">\n",
       "    Taiwan\n",
       "    <span style=\"font-size: 0.8em; font-weight: bold; line-height: 1; border-radius: 0.35em; text-transform: uppercase; vertical-align: middle; margin-left: 0.5rem\">GPE</span>\n",
       "</mark>\n",
       " is most convenient, everyone has owner smart card to get healthcare, and doctor can read all medical histories by smart cards. In addition, bill can be sent to governance insurance and paid automatically.  </div></span>"
      ],
      "text/plain": [
       "<IPython.core.display.HTML object>"
      ]
     },
     "metadata": {},
     "output_type": "display_data"
    },
    {
     "name": "stdout",
     "output_type": "stream",
     "text": [
      "------------------------------------------------------------------------\n"
     ]
    },
    {
     "data": {
      "text/html": [
       "<span class=\"tex2jax_ignore\"><div class=\"entities\" style=\"line-height: 2.5; direction: ltr\">As a country with the purest air, the happiest people, and rated as the greenest country in the world, \n",
       "<mark class=\"entity\" style=\"background: #feca74; padding: 0.45em 0.6em; margin: 0 0.25em; line-height: 1; border-radius: 0.35em;\">\n",
       "    Finland\n",
       "    <span style=\"font-size: 0.8em; font-weight: bold; line-height: 1; border-radius: 0.35em; text-transform: uppercase; vertical-align: middle; margin-left: 0.5rem\">GPE</span>\n",
       "</mark>\n",
       " does its best to make people enjoy a healthy life. \n",
       "<mark class=\"entity\" style=\"background: #feca74; padding: 0.45em 0.6em; margin: 0 0.25em; line-height: 1; border-radius: 0.35em;\">\n",
       "    Finland\n",
       "    <span style=\"font-size: 0.8em; font-weight: bold; line-height: 1; border-radius: 0.35em; text-transform: uppercase; vertical-align: middle; margin-left: 0.5rem\">GPE</span>\n",
       "</mark>\n",
       " also boasts one of the most efficient healthcare systems globally, with many companies offering digital solutions to improve efficiency. \n",
       "<mark class=\"entity\" style=\"background: #e4e7d2; padding: 0.45em 0.6em; margin: 0 0.25em; line-height: 1; border-radius: 0.35em;\">\n",
       "    One\n",
       "    <span style=\"font-size: 0.8em; font-weight: bold; line-height: 1; border-radius: 0.35em; text-transform: uppercase; vertical-align: middle; margin-left: 0.5rem\">CARDINAL</span>\n",
       "</mark>\n",
       " of the largest hospitals in \n",
       "<mark class=\"entity\" style=\"background: #ff9561; padding: 0.45em 0.6em; margin: 0 0.25em; line-height: 1; border-radius: 0.35em;\">\n",
       "    Europe\n",
       "    <span style=\"font-size: 0.8em; font-weight: bold; line-height: 1; border-radius: 0.35em; text-transform: uppercase; vertical-align: middle; margin-left: 0.5rem\">LOC</span>\n",
       "</mark>\n",
       ", \n",
       "<mark class=\"entity\" style=\"background: #7aecec; padding: 0.45em 0.6em; margin: 0 0.25em; line-height: 1; border-radius: 0.35em;\">\n",
       "    HUS Helsinki University Hospital\n",
       "    <span style=\"font-size: 0.8em; font-weight: bold; line-height: 1; border-radius: 0.35em; text-transform: uppercase; vertical-align: middle; margin-left: 0.5rem\">ORG</span>\n",
       "</mark>\n",
       " is the first hospital in the world to use boron neutron capture therapy (BNCT) in medical devices to treat cancer patients. Through its branch (HYKSin), medical services are provided to international patients. Currently, many digital health care solutions are designed to reduce patient waiting times. Data management company \n",
       "<mark class=\"entity\" style=\"background: #7aecec; padding: 0.45em 0.6em; margin: 0 0.25em; line-height: 1; border-radius: 0.35em;\">\n",
       "    Avaintec\n",
       "    <span style=\"font-size: 0.8em; font-weight: bold; line-height: 1; border-radius: 0.35em; text-transform: uppercase; vertical-align: middle; margin-left: 0.5rem\">ORG</span>\n",
       "</mark>\n",
       ", for example, set up a \n",
       "<mark class=\"entity\" style=\"background: #c887fb; padding: 0.45em 0.6em; margin: 0 0.25em; line-height: 1; border-radius: 0.35em;\">\n",
       "    Sino-Finnish\n",
       "    <span style=\"font-size: 0.8em; font-weight: bold; line-height: 1; border-radius: 0.35em; text-transform: uppercase; vertical-align: middle; margin-left: 0.5rem\">NORP</span>\n",
       "</mark>\n",
       " ARTIFICIAL intelligence and \n",
       "<mark class=\"entity\" style=\"background: #7aecec; padding: 0.45em 0.6em; margin: 0 0.25em; line-height: 1; border-radius: 0.35em;\">\n",
       "    Innovation Research\n",
       "    <span style=\"font-size: 0.8em; font-weight: bold; line-height: 1; border-radius: 0.35em; text-transform: uppercase; vertical-align: middle; margin-left: 0.5rem\">ORG</span>\n",
       "</mark>\n",
       " center in \n",
       "<mark class=\"entity\" style=\"background: #feca74; padding: 0.45em 0.6em; margin: 0 0.25em; line-height: 1; border-radius: 0.35em;\">\n",
       "    China\n",
       "    <span style=\"font-size: 0.8em; font-weight: bold; line-height: 1; border-radius: 0.35em; text-transform: uppercase; vertical-align: middle; margin-left: 0.5rem\">GPE</span>\n",
       "</mark>\n",
       " with partners in \n",
       "<mark class=\"entity\" style=\"background: #bfe1d9; padding: 0.45em 0.6em; margin: 0 0.25em; line-height: 1; border-radius: 0.35em;\">\n",
       "    early 2018\n",
       "    <span style=\"font-size: 0.8em; font-weight: bold; line-height: 1; border-radius: 0.35em; text-transform: uppercase; vertical-align: middle; margin-left: 0.5rem\">DATE</span>\n",
       "</mark>\n",
       ". \n",
       "<mark class=\"entity\" style=\"background: #e4e7d2; padding: 0.45em 0.6em; margin: 0 0.25em; line-height: 1; border-radius: 0.35em;\">\n",
       "    One\n",
       "    <span style=\"font-size: 0.8em; font-weight: bold; line-height: 1; border-radius: 0.35em; text-transform: uppercase; vertical-align: middle; margin-left: 0.5rem\">CARDINAL</span>\n",
       "</mark>\n",
       " of the projects is to provide an emergency center with a diagnostic system using artificial intelligence and machine learning. The neural network system can make the best guess based on the medical data input by the doctor.Moreover, \n",
       "<mark class=\"entity\" style=\"background: #7aecec; padding: 0.45em 0.6em; margin: 0 0.25em; line-height: 1; border-radius: 0.35em;\">\n",
       "    NewIcon\n",
       "    <span style=\"font-size: 0.8em; font-weight: bold; line-height: 1; border-radius: 0.35em; text-transform: uppercase; vertical-align: middle; margin-left: 0.5rem\">ORG</span>\n",
       "</mark>\n",
       " was founded in \n",
       "<mark class=\"entity\" style=\"background: #bfe1d9; padding: 0.45em 0.6em; margin: 0 0.25em; line-height: 1; border-radius: 0.35em;\">\n",
       "    2007\n",
       "    <span style=\"font-size: 0.8em; font-weight: bold; line-height: 1; border-radius: 0.35em; text-transform: uppercase; vertical-align: middle; margin-left: 0.5rem\">DATE</span>\n",
       "</mark>\n",
       " in \n",
       "<mark class=\"entity\" style=\"background: #feca74; padding: 0.45em 0.6em; margin: 0 0.25em; line-height: 1; border-radius: 0.35em;\">\n",
       "    Kuopio\n",
       "    <span style=\"font-size: 0.8em; font-weight: bold; line-height: 1; border-radius: 0.35em; text-transform: uppercase; vertical-align: middle; margin-left: 0.5rem\">GPE</span>\n",
       "</mark>\n",
       ", central \n",
       "<mark class=\"entity\" style=\"background: #feca74; padding: 0.45em 0.6em; margin: 0 0.25em; line-height: 1; border-radius: 0.35em;\">\n",
       "    Finland\n",
       "    <span style=\"font-size: 0.8em; font-weight: bold; line-height: 1; border-radius: 0.35em; text-transform: uppercase; vertical-align: middle; margin-left: 0.5rem\">GPE</span>\n",
       "</mark>\n",
       ", specializing in pharmaceutical management and pharmacy automation systems. The pharmacy at \n",
       "<mark class=\"entity\" style=\"background: #7aecec; padding: 0.45em 0.6em; margin: 0 0.25em; line-height: 1; border-radius: 0.35em;\">\n",
       "    Helsinki University Hospital\n",
       "    <span style=\"font-size: 0.8em; font-weight: bold; line-height: 1; border-radius: 0.35em; text-transform: uppercase; vertical-align: middle; margin-left: 0.5rem\">ORG</span>\n",
       "</mark>\n",
       " has used the company's automated system for \n",
       "<mark class=\"entity\" style=\"background: #bfe1d9; padding: 0.45em 0.6em; margin: 0 0.25em; line-height: 1; border-radius: 0.35em;\">\n",
       "    years\n",
       "    <span style=\"font-size: 0.8em; font-weight: bold; line-height: 1; border-radius: 0.35em; text-transform: uppercase; vertical-align: middle; margin-left: 0.5rem\">DATE</span>\n",
       "</mark>\n",
       ". Bone Index develops an index in \n",
       "<mark class=\"entity\" style=\"background: #feca74; padding: 0.45em 0.6em; margin: 0 0.25em; line-height: 1; border-radius: 0.35em;\">\n",
       "    Kuopio\n",
       "    <span style=\"font-size: 0.8em; font-weight: bold; line-height: 1; border-radius: 0.35em; text-transform: uppercase; vertical-align: middle; margin-left: 0.5rem\">GPE</span>\n",
       "</mark>\n",
       ". It is a handy hand-held device for detecting the risk of osteoporosis. The goal is to get more people diagnosed early, prevent fractures, and help doctors make decisions. In genetic research, \n",
       "<mark class=\"entity\" style=\"background: #feca74; padding: 0.45em 0.6em; margin: 0 0.25em; line-height: 1; border-radius: 0.35em;\">\n",
       "    Finland\n",
       "    <span style=\"font-size: 0.8em; font-weight: bold; line-height: 1; border-radius: 0.35em; text-transform: uppercase; vertical-align: middle; margin-left: 0.5rem\">GPE</span>\n",
       "</mark>\n",
       " has successfully combined genetic information with electronic health care data for research, with \n",
       "<mark class=\"entity\" style=\"background: #e4e7d2; padding: 0.45em 0.6em; margin: 0 0.25em; line-height: 1; border-radius: 0.35em;\">\n",
       "    more than 98 percent\n",
       "    <span style=\"font-size: 0.8em; font-weight: bold; line-height: 1; border-radius: 0.35em; text-transform: uppercase; vertical-align: middle; margin-left: 0.5rem\">PERCENT</span>\n",
       "</mark>\n",
       " of \n",
       "<mark class=\"entity\" style=\"background: #c887fb; padding: 0.45em 0.6em; margin: 0 0.25em; line-height: 1; border-radius: 0.35em;\">\n",
       "    Finnish\n",
       "    <span style=\"font-size: 0.8em; font-weight: bold; line-height: 1; border-radius: 0.35em; text-transform: uppercase; vertical-align: middle; margin-left: 0.5rem\">NORP</span>\n",
       "</mark>\n",
       " cases stored in electronic documents. \n",
       "<mark class=\"entity\" style=\"background: #7aecec; padding: 0.45em 0.6em; margin: 0 0.25em; line-height: 1; border-radius: 0.35em;\">\n",
       "    FinnGen\n",
       "    <span style=\"font-size: 0.8em; font-weight: bold; line-height: 1; border-radius: 0.35em; text-transform: uppercase; vertical-align: middle; margin-left: 0.5rem\">ORG</span>\n",
       "</mark>\n",
       ", a unique and unprecedented research project that has attracted international attention, aims to analyze \n",
       "<mark class=\"entity\" style=\"background: #e4e7d2; padding: 0.45em 0.6em; margin: 0 0.25em; line-height: 1; border-radius: 0.35em;\">\n",
       "    half a million\n",
       "    <span style=\"font-size: 0.8em; font-weight: bold; line-height: 1; border-radius: 0.35em; text-transform: uppercase; vertical-align: middle; margin-left: 0.5rem\">CARDINAL</span>\n",
       "</mark>\n",
       " different blood samples from the \n",
       "<mark class=\"entity\" style=\"background: #c887fb; padding: 0.45em 0.6em; margin: 0 0.25em; line-height: 1; border-radius: 0.35em;\">\n",
       "    Finnish\n",
       "    <span style=\"font-size: 0.8em; font-weight: bold; line-height: 1; border-radius: 0.35em; text-transform: uppercase; vertical-align: middle; margin-left: 0.5rem\">NORP</span>\n",
       "</mark>\n",
       " biobank to understand the mechanisms of disease better and make more targeted individual treatment plans.</div></span>"
      ],
      "text/plain": [
       "<IPython.core.display.HTML object>"
      ]
     },
     "metadata": {},
     "output_type": "display_data"
    },
    {
     "name": "stdout",
     "output_type": "stream",
     "text": [
      "------------------------------------------------------------------------\n"
     ]
    },
    {
     "data": {
      "text/html": [
       "<span class=\"tex2jax_ignore\"><div class=\"entities\" style=\"line-height: 2.5; direction: ltr\">\n",
       "<mark class=\"entity\" style=\"background: #feca74; padding: 0.45em 0.6em; margin: 0 0.25em; line-height: 1; border-radius: 0.35em;\">\n",
       "    Japan\n",
       "    <span style=\"font-size: 0.8em; font-weight: bold; line-height: 1; border-radius: 0.35em; text-transform: uppercase; vertical-align: middle; margin-left: 0.5rem\">GPE</span>\n",
       "</mark>\n",
       " is the country  I was most intrigued by.  I prefer the health system in \n",
       "<mark class=\"entity\" style=\"background: #feca74; padding: 0.45em 0.6em; margin: 0 0.25em; line-height: 1; border-radius: 0.35em;\">\n",
       "    Japan\n",
       "    <span style=\"font-size: 0.8em; font-weight: bold; line-height: 1; border-radius: 0.35em; text-transform: uppercase; vertical-align: middle; margin-left: 0.5rem\">GPE</span>\n",
       "</mark>\n",
       " because the health insurance company there covers everyone in their society, even those poor people. And also, there are lower drug prices and no waiting time if the patient needs to communicate with a doctor face to face. For example,  the health care system in \n",
       "<mark class=\"entity\" style=\"background: #feca74; padding: 0.45em 0.6em; margin: 0 0.25em; line-height: 1; border-radius: 0.35em;\">\n",
       "    Japan\n",
       "    <span style=\"font-size: 0.8em; font-weight: bold; line-height: 1; border-radius: 0.35em; text-transform: uppercase; vertical-align: middle; margin-left: 0.5rem\">GPE</span>\n",
       "</mark>\n",
       " saves more money for me if I would like to visit the dentist or doctor regularly.</div></span>"
      ],
      "text/plain": [
       "<IPython.core.display.HTML object>"
      ]
     },
     "metadata": {},
     "output_type": "display_data"
    },
    {
     "name": "stdout",
     "output_type": "stream",
     "text": [
      "------------------------------------------------------------------------\n"
     ]
    },
    {
     "data": {
      "text/html": [
       "<span class=\"tex2jax_ignore\"><div class=\"entities\" style=\"line-height: 2.5; direction: ltr\">I am intrigued by the healthcare system of \n",
       "<mark class=\"entity\" style=\"background: #feca74; padding: 0.45em 0.6em; margin: 0 0.25em; line-height: 1; border-radius: 0.35em;\">\n",
       "    Taiwan\n",
       "    <span style=\"font-size: 0.8em; font-weight: bold; line-height: 1; border-radius: 0.35em; text-transform: uppercase; vertical-align: middle; margin-left: 0.5rem\">GPE</span>\n",
       "</mark>\n",
       ". There are \n",
       "<mark class=\"entity\" style=\"background: #e4e7d2; padding: 0.45em 0.6em; margin: 0 0.25em; line-height: 1; border-radius: 0.35em;\">\n",
       "    two\n",
       "    <span style=\"font-size: 0.8em; font-weight: bold; line-height: 1; border-radius: 0.35em; text-transform: uppercase; vertical-align: middle; margin-left: 0.5rem\">CARDINAL</span>\n",
       "</mark>\n",
       " factors I think that are essential for the patients. \n",
       "<mark class=\"entity\" style=\"background: #e4e7d2; padding: 0.45em 0.6em; margin: 0 0.25em; line-height: 1; border-radius: 0.35em;\">\n",
       "    First\n",
       "    <span style=\"font-size: 0.8em; font-weight: bold; line-height: 1; border-radius: 0.35em; text-transform: uppercase; vertical-align: middle; margin-left: 0.5rem\">ORDINAL</span>\n",
       "</mark>\n",
       " is the waiting time. As a patient, waiting time may be suffering from pain. It may also leads to the pressure since patients may have no knowledge of their sickness and being worried from the information gaining online. Therefore, building a healthcare system without any waiting time is an essential factors that affecting the physical and mental wellbeing for the patients. Another feature is the building of a completed infomation system. \n",
       "<mark class=\"entity\" style=\"background: #feca74; padding: 0.45em 0.6em; margin: 0 0.25em; line-height: 1; border-radius: 0.35em;\">\n",
       "    Taiwan\n",
       "    <span style=\"font-size: 0.8em; font-weight: bold; line-height: 1; border-radius: 0.35em; text-transform: uppercase; vertical-align: middle; margin-left: 0.5rem\">GPE</span>\n",
       "</mark>\n",
       " provides a card that it is swiped when meeting with the doctors. The card stores the medical record for every single meeting, which enables the doctors to know about the medicial history, prognisis and previous treatments and help to have a better diagnosis. I think this is essential, as it is convenient for the patients to changing from different hospitals and get better treatments. </div></span>"
      ],
      "text/plain": [
       "<IPython.core.display.HTML object>"
      ]
     },
     "metadata": {},
     "output_type": "display_data"
    },
    {
     "name": "stdout",
     "output_type": "stream",
     "text": [
      "------------------------------------------------------------------------\n"
     ]
    },
    {
     "data": {
      "text/html": [
       "<span class=\"tex2jax_ignore\"><div class=\"entities\" style=\"line-height: 2.5; direction: ltr\">I would prefer the \n",
       "<mark class=\"entity\" style=\"background: #c887fb; padding: 0.45em 0.6em; margin: 0 0.25em; line-height: 1; border-radius: 0.35em;\">\n",
       "    Japanese\n",
       "    <span style=\"font-size: 0.8em; font-weight: bold; line-height: 1; border-radius: 0.35em; text-transform: uppercase; vertical-align: middle; margin-left: 0.5rem\">NORP</span>\n",
       "</mark>\n",
       " healthcare system due to a multitude of reasons. \n",
       "<mark class=\"entity\" style=\"background: #e4e7d2; padding: 0.45em 0.6em; margin: 0 0.25em; line-height: 1; border-radius: 0.35em;\">\n",
       "    Firstly\n",
       "    <span style=\"font-size: 0.8em; font-weight: bold; line-height: 1; border-radius: 0.35em; text-transform: uppercase; vertical-align: middle; margin-left: 0.5rem\">ORDINAL</span>\n",
       "</mark>\n",
       ", due to its predetermined fixed costs whilst still being able to attend private care practices. \n",
       "<mark class=\"entity\" style=\"background: #e4e7d2; padding: 0.45em 0.6em; margin: 0 0.25em; line-height: 1; border-radius: 0.35em;\">\n",
       "    Secondly\n",
       "    <span style=\"font-size: 0.8em; font-weight: bold; line-height: 1; border-radius: 0.35em; text-transform: uppercase; vertical-align: middle; margin-left: 0.5rem\">ORDINAL</span>\n",
       "</mark>\n",
       ", due to the short waiting times. Since there are no gatekeepers, an individual is able to go see any specialist they like without making an appointment. \n",
       "<mark class=\"entity\" style=\"background: #e4e7d2; padding: 0.45em 0.6em; margin: 0 0.25em; line-height: 1; border-radius: 0.35em;\">\n",
       "    One\n",
       "    <span style=\"font-size: 0.8em; font-weight: bold; line-height: 1; border-radius: 0.35em; text-transform: uppercase; vertical-align: middle; margin-left: 0.5rem\">CARDINAL</span>\n",
       "</mark>\n",
       " thing I was most intrigued by in the \n",
       "<mark class=\"entity\" style=\"background: #c887fb; padding: 0.45em 0.6em; margin: 0 0.25em; line-height: 1; border-radius: 0.35em;\">\n",
       "    Japanese\n",
       "    <span style=\"font-size: 0.8em; font-weight: bold; line-height: 1; border-radius: 0.35em; text-transform: uppercase; vertical-align: middle; margin-left: 0.5rem\">NORP</span>\n",
       "</mark>\n",
       " healthcare system was their ability to innovate despite having tightly controlled price mechanisms. An example of this was the development of inexpensive MRI machines in response to the lower prices for MRIs. </div></span>"
      ],
      "text/plain": [
       "<IPython.core.display.HTML object>"
      ]
     },
     "metadata": {},
     "output_type": "display_data"
    },
    {
     "name": "stdout",
     "output_type": "stream",
     "text": [
      "------------------------------------------------------------------------\n"
     ]
    },
    {
     "data": {
      "text/html": [
       "<span class=\"tex2jax_ignore\"><div class=\"entities\" style=\"line-height: 2.5; direction: ltr\">After comparing health systems in those countries, I prefer \n",
       "<mark class=\"entity\" style=\"background: #feca74; padding: 0.45em 0.6em; margin: 0 0.25em; line-height: 1; border-radius: 0.35em;\">\n",
       "    Taiwan\n",
       "    <span style=\"font-size: 0.8em; font-weight: bold; line-height: 1; border-radius: 0.35em; text-transform: uppercase; vertical-align: middle; margin-left: 0.5rem\">GPE</span>\n",
       "</mark>\n",
       "'s health care system. The reasons are as follows.</br>\n",
       "<mark class=\"entity\" style=\"background: #e4e7d2; padding: 0.45em 0.6em; margin: 0 0.25em; line-height: 1; border-radius: 0.35em;\">\n",
       "    Firstly\n",
       "    <span style=\"font-size: 0.8em; font-weight: bold; line-height: 1; border-radius: 0.35em; text-transform: uppercase; vertical-align: middle; margin-left: 0.5rem\">ORDINAL</span>\n",
       "</mark>\n",
       ", from the patient's perspective, everyone can afford the treatment. And there 's no gatekeeper and no waiting time. </br>\n",
       "<mark class=\"entity\" style=\"background: #e4e7d2; padding: 0.45em 0.6em; margin: 0 0.25em; line-height: 1; border-radius: 0.35em;\">\n",
       "    Secondly\n",
       "    <span style=\"font-size: 0.8em; font-weight: bold; line-height: 1; border-radius: 0.35em; text-transform: uppercase; vertical-align: middle; margin-left: 0.5rem\">ORDINAL</span>\n",
       "</mark>\n",
       ", as for doctors, they can make diagnoses more quickly and accurately by knowing the patient's previous treatment records via the patient's smart card, which also improves patients' experience.</div></span>"
      ],
      "text/plain": [
       "<IPython.core.display.HTML object>"
      ]
     },
     "metadata": {},
     "output_type": "display_data"
    },
    {
     "name": "stdout",
     "output_type": "stream",
     "text": [
      "------------------------------------------------------------------------\n"
     ]
    },
    {
     "data": {
      "text/html": [
       "<span class=\"tex2jax_ignore\"><div class=\"entities\" style=\"line-height: 2.5; direction: ltr\">After watching \n",
       "<mark class=\"entity\" style=\"background: #aa9cfc; padding: 0.45em 0.6em; margin: 0 0.25em; line-height: 1; border-radius: 0.35em;\">\n",
       "    Sick Around the World\n",
       "    <span style=\"font-size: 0.8em; font-weight: bold; line-height: 1; border-radius: 0.35em; text-transform: uppercase; vertical-align: middle; margin-left: 0.5rem\">PERSON</span>\n",
       "</mark>\n",
       ", I am interested in the health care system of \n",
       "<mark class=\"entity\" style=\"background: #feca74; padding: 0.45em 0.6em; margin: 0 0.25em; line-height: 1; border-radius: 0.35em;\">\n",
       "    Taiwan\n",
       "    <span style=\"font-size: 0.8em; font-weight: bold; line-height: 1; border-radius: 0.35em; text-transform: uppercase; vertical-align: middle; margin-left: 0.5rem\">GPE</span>\n",
       "</mark>\n",
       ". Experts in \n",
       "<mark class=\"entity\" style=\"background: #feca74; padding: 0.45em 0.6em; margin: 0 0.25em; line-height: 1; border-radius: 0.35em;\">\n",
       "    Taiwan\n",
       "    <span style=\"font-size: 0.8em; font-weight: bold; line-height: 1; border-radius: 0.35em; text-transform: uppercase; vertical-align: middle; margin-left: 0.5rem\">GPE</span>\n",
       "</mark>\n",
       " realized that the health systems of other developed countries, such as \n",
       "<mark class=\"entity\" style=\"background: #feca74; padding: 0.45em 0.6em; margin: 0 0.25em; line-height: 1; border-radius: 0.35em;\">\n",
       "    the United States\n",
       "    <span style=\"font-size: 0.8em; font-weight: bold; line-height: 1; border-radius: 0.35em; text-transform: uppercase; vertical-align: middle; margin-left: 0.5rem\">GPE</span>\n",
       "</mark>\n",
       ", were not a module that could be replicated, they need to find a unique track. So the experts learned from the advantages of the health care system from all the other countries and unified them. Finally, they developed a system that was more efficient and cost-effective which has the lowest administrative cost in the world. Specifically, Patients in \n",
       "<mark class=\"entity\" style=\"background: #feca74; padding: 0.45em 0.6em; margin: 0 0.25em; line-height: 1; border-radius: 0.35em;\">\n",
       "    Taiwan\n",
       "    <span style=\"font-size: 0.8em; font-weight: bold; line-height: 1; border-radius: 0.35em; text-transform: uppercase; vertical-align: middle; margin-left: 0.5rem\">GPE</span>\n",
       "</mark>\n",
       " do not have to make an appointment with \n",
       "<mark class=\"entity\" style=\"background: #7aecec; padding: 0.45em 0.6em; margin: 0 0.25em; line-height: 1; border-radius: 0.35em;\">\n",
       "    GP\n",
       "    <span style=\"font-size: 0.8em; font-weight: bold; line-height: 1; border-radius: 0.35em; text-transform: uppercase; vertical-align: middle; margin-left: 0.5rem\">ORG</span>\n",
       "</mark>\n",
       ", and they can go almost anytime during \n",
       "<mark class=\"entity\" style=\"background: #bfe1d9; padding: 0.45em 0.6em; margin: 0 0.25em; line-height: 1; border-radius: 0.35em;\">\n",
       "    the day\n",
       "    <span style=\"font-size: 0.8em; font-weight: bold; line-height: 1; border-radius: 0.35em; text-transform: uppercase; vertical-align: middle; margin-left: 0.5rem\">DATE</span>\n",
       "</mark>\n",
       " to see the doctor. Moreover, information technology is also used widely in the health care system. For instance, every \n",
       "<mark class=\"entity\" style=\"background: #c887fb; padding: 0.45em 0.6em; margin: 0 0.25em; line-height: 1; border-radius: 0.35em;\">\n",
       "    Taiwanese\n",
       "    <span style=\"font-size: 0.8em; font-weight: bold; line-height: 1; border-radius: 0.35em; text-transform: uppercase; vertical-align: middle; margin-left: 0.5rem\">NORP</span>\n",
       "</mark>\n",
       " has a smart medical card, and it records the patient's history, medications and other information, which just like some kind of \n",
       "<mark class=\"entity\" style=\"background: #aa9cfc; padding: 0.45em 0.6em; margin: 0 0.25em; line-height: 1; border-radius: 0.35em;\">\n",
       "    EMR\n",
       "    <span style=\"font-size: 0.8em; font-weight: bold; line-height: 1; border-radius: 0.35em; text-transform: uppercase; vertical-align: middle; margin-left: 0.5rem\">PERSON</span>\n",
       "</mark>\n",
       " (Electronic Medical Record). However, there are still some obstacles to the development of \n",
       "<mark class=\"entity\" style=\"background: #feca74; padding: 0.45em 0.6em; margin: 0 0.25em; line-height: 1; border-radius: 0.35em;\">\n",
       "    Taiwan\n",
       "    <span style=\"font-size: 0.8em; font-weight: bold; line-height: 1; border-radius: 0.35em; text-transform: uppercase; vertical-align: middle; margin-left: 0.5rem\">GPE</span>\n",
       "</mark>\n",
       "'s health care system for the government in \n",
       "<mark class=\"entity\" style=\"background: #feca74; padding: 0.45em 0.6em; margin: 0 0.25em; line-height: 1; border-radius: 0.35em;\">\n",
       "    Taiwan\n",
       "    <span style=\"font-size: 0.8em; font-weight: bold; line-height: 1; border-radius: 0.35em; text-transform: uppercase; vertical-align: middle; margin-left: 0.5rem\">GPE</span>\n",
       "</mark>\n",
       ", it needs to balance the hope of patients and the expectations of doctors. To be more specific, though the government has problems related to the funds of health care systems, the politicians are reluctant to increase premiums, because they are afraid to lose the voters from the public. Generally speaking, I prefer to get medical services from \n",
       "<mark class=\"entity\" style=\"background: #feca74; padding: 0.45em 0.6em; margin: 0 0.25em; line-height: 1; border-radius: 0.35em;\">\n",
       "    Taiwan\n",
       "    <span style=\"font-size: 0.8em; font-weight: bold; line-height: 1; border-radius: 0.35em; text-transform: uppercase; vertical-align: middle; margin-left: 0.5rem\">GPE</span>\n",
       "</mark>\n",
       "'s medical system.</div></span>"
      ],
      "text/plain": [
       "<IPython.core.display.HTML object>"
      ]
     },
     "metadata": {},
     "output_type": "display_data"
    },
    {
     "name": "stdout",
     "output_type": "stream",
     "text": [
      "------------------------------------------------------------------------\n"
     ]
    },
    {
     "data": {
      "text/html": [
       "<span class=\"tex2jax_ignore\"><div class=\"entities\" style=\"line-height: 2.5; direction: ltr\">As a \n",
       "<mark class=\"entity\" style=\"background: #c887fb; padding: 0.45em 0.6em; margin: 0 0.25em; line-height: 1; border-radius: 0.35em;\">\n",
       "    Taiwanese\n",
       "    <span style=\"font-size: 0.8em; font-weight: bold; line-height: 1; border-radius: 0.35em; text-transform: uppercase; vertical-align: middle; margin-left: 0.5rem\">NORP</span>\n",
       "</mark>\n",
       ", I'm still most intrigued by our own health system. After watching the video, I would say I'm really proud of our health system. Compared to systems in other country, \n",
       "<mark class=\"entity\" style=\"background: #c887fb; padding: 0.45em 0.6em; margin: 0 0.25em; line-height: 1; border-radius: 0.35em;\">\n",
       "    Taiwanese\n",
       "    <span style=\"font-size: 0.8em; font-weight: bold; line-height: 1; border-radius: 0.35em; text-transform: uppercase; vertical-align: middle; margin-left: 0.5rem\">NORP</span>\n",
       "</mark>\n",
       " can spend much fewer money but get high-quality medical services. </div></span>"
      ],
      "text/plain": [
       "<IPython.core.display.HTML object>"
      ]
     },
     "metadata": {},
     "output_type": "display_data"
    },
    {
     "name": "stdout",
     "output_type": "stream",
     "text": [
      "------------------------------------------------------------------------\n"
     ]
    },
    {
     "data": {
      "text/html": [
       "<span class=\"tex2jax_ignore\"><div class=\"entities\" style=\"line-height: 2.5; direction: ltr\">I am most intrigued by the health system in \n",
       "<mark class=\"entity\" style=\"background: #feca74; padding: 0.45em 0.6em; margin: 0 0.25em; line-height: 1; border-radius: 0.35em;\">\n",
       "    Taiwan\n",
       "    <span style=\"font-size: 0.8em; font-weight: bold; line-height: 1; border-radius: 0.35em; text-transform: uppercase; vertical-align: middle; margin-left: 0.5rem\">GPE</span>\n",
       "</mark>\n",
       ". Because people in \n",
       "<mark class=\"entity\" style=\"background: #feca74; padding: 0.45em 0.6em; margin: 0 0.25em; line-height: 1; border-radius: 0.35em;\">\n",
       "    Taiwan\n",
       "    <span style=\"font-size: 0.8em; font-weight: bold; line-height: 1; border-radius: 0.35em; text-transform: uppercase; vertical-align: middle; margin-left: 0.5rem\">GPE</span>\n",
       "</mark>\n",
       " only need to spend a small amount of money to the health insurance system to get a comprehensive healthcare service. In \n",
       "<mark class=\"entity\" style=\"background: #feca74; padding: 0.45em 0.6em; margin: 0 0.25em; line-height: 1; border-radius: 0.35em;\">\n",
       "    Taiwan\n",
       "    <span style=\"font-size: 0.8em; font-weight: bold; line-height: 1; border-radius: 0.35em; text-transform: uppercase; vertical-align: middle; margin-left: 0.5rem\">GPE</span>\n",
       "</mark>\n",
       ", people do not need to make appointments or get referrals to see the doctors, they can access the medical resources easily and immediately when the clinics or the hospitals open. On the other hand, people in \n",
       "<mark class=\"entity\" style=\"background: #feca74; padding: 0.45em 0.6em; margin: 0 0.25em; line-height: 1; border-radius: 0.35em;\">\n",
       "    Taiwan\n",
       "    <span style=\"font-size: 0.8em; font-weight: bold; line-height: 1; border-radius: 0.35em; text-transform: uppercase; vertical-align: middle; margin-left: 0.5rem\">GPE</span>\n",
       "</mark>\n",
       " need to hold \n",
       "<mark class=\"entity\" style=\"background: #7aecec; padding: 0.45em 0.6em; margin: 0 0.25em; line-height: 1; border-radius: 0.35em;\">\n",
       "    the National Health Insurance\n",
       "    <span style=\"font-size: 0.8em; font-weight: bold; line-height: 1; border-radius: 0.35em; text-transform: uppercase; vertical-align: middle; margin-left: 0.5rem\">ORG</span>\n",
       "</mark>\n",
       " card (\n",
       "<mark class=\"entity\" style=\"background: #7aecec; padding: 0.45em 0.6em; margin: 0 0.25em; line-height: 1; border-radius: 0.35em;\">\n",
       "    NHI\n",
       "    <span style=\"font-size: 0.8em; font-weight: bold; line-height: 1; border-radius: 0.35em; text-transform: uppercase; vertical-align: middle; margin-left: 0.5rem\">ORG</span>\n",
       "</mark>\n",
       " card) to access medical resources. The \n",
       "<mark class=\"entity\" style=\"background: #7aecec; padding: 0.45em 0.6em; margin: 0 0.25em; line-height: 1; border-radius: 0.35em;\">\n",
       "    NHI\n",
       "    <span style=\"font-size: 0.8em; font-weight: bold; line-height: 1; border-radius: 0.35em; text-transform: uppercase; vertical-align: middle; margin-left: 0.5rem\">ORG</span>\n",
       "</mark>\n",
       " card contains lots of the information of the patients (e.g. the insurance data, the diagnoses, and the drug prescriptions), which helps the doctors to assess the patients' body condition with the integrated data. </div></span>"
      ],
      "text/plain": [
       "<IPython.core.display.HTML object>"
      ]
     },
     "metadata": {},
     "output_type": "display_data"
    },
    {
     "name": "stdout",
     "output_type": "stream",
     "text": [
      "------------------------------------------------------------------------\n"
     ]
    },
    {
     "data": {
      "text/html": [
       "<span class=\"tex2jax_ignore\"><div class=\"entities\" style=\"line-height: 2.5; direction: ltr\">As an \n",
       "<mark class=\"entity\" style=\"background: #c887fb; padding: 0.45em 0.6em; margin: 0 0.25em; line-height: 1; border-radius: 0.35em;\">\n",
       "    Asian\n",
       "    <span style=\"font-size: 0.8em; font-weight: bold; line-height: 1; border-radius: 0.35em; text-transform: uppercase; vertical-align: middle; margin-left: 0.5rem\">NORP</span>\n",
       "</mark>\n",
       ", I always know \n",
       "<mark class=\"entity\" style=\"background: #feca74; padding: 0.45em 0.6em; margin: 0 0.25em; line-height: 1; border-radius: 0.35em;\">\n",
       "    Japan\n",
       "    <span style=\"font-size: 0.8em; font-weight: bold; line-height: 1; border-radius: 0.35em; text-transform: uppercase; vertical-align: middle; margin-left: 0.5rem\">GPE</span>\n",
       "</mark>\n",
       " has a good reputation in many aspects but I never know anything about its health care system. Besides the longest life expectancy and the lowest infant mortality, its health care system is very convenient and cheap for \n",
       "<mark class=\"entity\" style=\"background: #c887fb; padding: 0.45em 0.6em; margin: 0 0.25em; line-height: 1; border-radius: 0.35em;\">\n",
       "    Japanese\n",
       "    <span style=\"font-size: 0.8em; font-weight: bold; line-height: 1; border-radius: 0.35em; text-transform: uppercase; vertical-align: middle; margin-left: 0.5rem\">NORP</span>\n",
       "</mark>\n",
       " patients. All prices of medical-related items are strictly negotiated and set by the government, which maximizes the patients’ right. There is no waiting list and patients can choose any hospital or doctors that they prefer. Although the medical equipment may be cheaper than those in other countries with the same function, based on the quality of \n",
       "<mark class=\"entity\" style=\"background: #c887fb; padding: 0.45em 0.6em; margin: 0 0.25em; line-height: 1; border-radius: 0.35em;\">\n",
       "    Japanese\n",
       "    <span style=\"font-size: 0.8em; font-weight: bold; line-height: 1; border-radius: 0.35em; text-transform: uppercase; vertical-align: middle; margin-left: 0.5rem\">NORP</span>\n",
       "</mark>\n",
       " manufacture, patients do not have to worry about medical operation quality. </br>Perhaps, as Professor \n",
       "<mark class=\"entity\" style=\"background: #aa9cfc; padding: 0.45em 0.6em; margin: 0 0.25em; line-height: 1; border-radius: 0.35em;\">\n",
       "    Saito Hidero\n",
       "    <span style=\"font-size: 0.8em; font-weight: bold; line-height: 1; border-radius: 0.35em; text-transform: uppercase; vertical-align: middle; margin-left: 0.5rem\">PERSON</span>\n",
       "</mark>\n",
       " said, there may be only one defect of \n",
       "<mark class=\"entity\" style=\"background: #c887fb; padding: 0.45em 0.6em; margin: 0 0.25em; line-height: 1; border-radius: 0.35em;\">\n",
       "    Japanese\n",
       "    <span style=\"font-size: 0.8em; font-weight: bold; line-height: 1; border-radius: 0.35em; text-transform: uppercase; vertical-align: middle; margin-left: 0.5rem\">NORP</span>\n",
       "</mark>\n",
       " health care system, which is \n",
       "<mark class=\"entity\" style=\"background: #e4e7d2; padding: 0.45em 0.6em; margin: 0 0.25em; line-height: 1; border-radius: 0.35em;\">\n",
       "    50%\n",
       "    <span style=\"font-size: 0.8em; font-weight: bold; line-height: 1; border-radius: 0.35em; text-transform: uppercase; vertical-align: middle; margin-left: 0.5rem\">PERCENT</span>\n",
       "</mark>\n",
       " of hospitals are in financial deficit because hospitals can never earn more money outside the strict procedures. The concerns were raised that the number of hospitals may decrease. However, I think the \n",
       "<mark class=\"entity\" style=\"background: #c887fb; padding: 0.45em 0.6em; margin: 0 0.25em; line-height: 1; border-radius: 0.35em;\">\n",
       "    Japanese\n",
       "    <span style=\"font-size: 0.8em; font-weight: bold; line-height: 1; border-radius: 0.35em; text-transform: uppercase; vertical-align: middle; margin-left: 0.5rem\">NORP</span>\n",
       "</mark>\n",
       " government may take some actions to prevent the reduction. Most of all, the \n",
       "<mark class=\"entity\" style=\"background: #c887fb; padding: 0.45em 0.6em; margin: 0 0.25em; line-height: 1; border-radius: 0.35em;\">\n",
       "    Japanese\n",
       "    <span style=\"font-size: 0.8em; font-weight: bold; line-height: 1; border-radius: 0.35em; text-transform: uppercase; vertical-align: middle; margin-left: 0.5rem\">NORP</span>\n",
       "</mark>\n",
       " health care system provides patients with the cheapest (relatively) prices and considerable quality of medical care, which intrigues me the most from my perspective.</div></span>"
      ],
      "text/plain": [
       "<IPython.core.display.HTML object>"
      ]
     },
     "metadata": {},
     "output_type": "display_data"
    },
    {
     "name": "stdout",
     "output_type": "stream",
     "text": [
      "------------------------------------------------------------------------\n"
     ]
    },
    {
     "data": {
      "text/html": [
       "<span class=\"tex2jax_ignore\"><div class=\"entities\" style=\"line-height: 2.5; direction: ltr\">I would prefer to get healthcare from \n",
       "<mark class=\"entity\" style=\"background: #feca74; padding: 0.45em 0.6em; margin: 0 0.25em; line-height: 1; border-radius: 0.35em;\">\n",
       "    Japan\n",
       "    <span style=\"font-size: 0.8em; font-weight: bold; line-height: 1; border-radius: 0.35em; text-transform: uppercase; vertical-align: middle; margin-left: 0.5rem\">GPE</span>\n",
       "</mark>\n",
       ". \n",
       "<mark class=\"entity\" style=\"background: #e4e7d2; padding: 0.45em 0.6em; margin: 0 0.25em; line-height: 1; border-radius: 0.35em;\">\n",
       "    First\n",
       "    <span style=\"font-size: 0.8em; font-weight: bold; line-height: 1; border-radius: 0.35em; text-transform: uppercase; vertical-align: middle; margin-left: 0.5rem\">ORDINAL</span>\n",
       "</mark>\n",
       " of all, there are no GPs so I can see the specialists directly without waiting. \n",
       "<mark class=\"entity\" style=\"background: #e4e7d2; padding: 0.45em 0.6em; margin: 0 0.25em; line-height: 1; border-radius: 0.35em;\">\n",
       "    Secondly\n",
       "    <span style=\"font-size: 0.8em; font-weight: bold; line-height: 1; border-radius: 0.35em; text-transform: uppercase; vertical-align: middle; margin-left: 0.5rem\">ORDINAL</span>\n",
       "</mark>\n",
       ", the price is acceptable. Since the price is unified over \n",
       "<mark class=\"entity\" style=\"background: #feca74; padding: 0.45em 0.6em; margin: 0 0.25em; line-height: 1; border-radius: 0.35em;\">\n",
       "    Japan\n",
       "    <span style=\"font-size: 0.8em; font-weight: bold; line-height: 1; border-radius: 0.35em; text-transform: uppercase; vertical-align: middle; margin-left: 0.5rem\">GPE</span>\n",
       "</mark>\n",
       " and negotiated once a year, the residents would find the price satisfying.  Frankly, if I were a doctor, I would not work in \n",
       "<mark class=\"entity\" style=\"background: #feca74; padding: 0.45em 0.6em; margin: 0 0.25em; line-height: 1; border-radius: 0.35em;\">\n",
       "    Japan\n",
       "    <span style=\"font-size: 0.8em; font-weight: bold; line-height: 1; border-radius: 0.35em; text-transform: uppercase; vertical-align: middle; margin-left: 0.5rem\">GPE</span>\n",
       "</mark>\n",
       " because the salary is not as much as the \n",
       "<mark class=\"entity\" style=\"background: #c887fb; padding: 0.45em 0.6em; margin: 0 0.25em; line-height: 1; border-radius: 0.35em;\">\n",
       "    British\n",
       "    <span style=\"font-size: 0.8em; font-weight: bold; line-height: 1; border-radius: 0.35em; text-transform: uppercase; vertical-align: middle; margin-left: 0.5rem\">NORP</span>\n",
       "</mark>\n",
       ". However, just because of this, the health system puts people's needs \n",
       "<mark class=\"entity\" style=\"background: #e4e7d2; padding: 0.45em 0.6em; margin: 0 0.25em; line-height: 1; border-radius: 0.35em;\">\n",
       "    first\n",
       "    <span style=\"font-size: 0.8em; font-weight: bold; line-height: 1; border-radius: 0.35em; text-transform: uppercase; vertical-align: middle; margin-left: 0.5rem\">ORDINAL</span>\n",
       "</mark>\n",
       ".  The patients only need to pay a little part of the bills.</div></span>"
      ],
      "text/plain": [
       "<IPython.core.display.HTML object>"
      ]
     },
     "metadata": {},
     "output_type": "display_data"
    },
    {
     "name": "stdout",
     "output_type": "stream",
     "text": [
      "------------------------------------------------------------------------\n"
     ]
    },
    {
     "data": {
      "text/html": [
       "<span class=\"tex2jax_ignore\"><div class=\"entities\" style=\"line-height: 2.5; direction: ltr\">The problem between the Medication system and patients may exist permanently. If you want medical bills are affordable, the doctors or hospitals may earn little or the government may spend much more effort.</br>Besides, every country have different nation conditions, some country has huge populations, and wealth is distributed unequally, some country has small populations and the fortune is distributed nearly equally. So is hard to compare wich country's system is good.</br>But if we forget about those preconditions, I prefer \n",
       "<mark class=\"entity\" style=\"background: #feca74; padding: 0.45em 0.6em; margin: 0 0.25em; line-height: 1; border-radius: 0.35em;\">\n",
       "    Taiwan\n",
       "    <span style=\"font-size: 0.8em; font-weight: bold; line-height: 1; border-radius: 0.35em; text-transform: uppercase; vertical-align: middle; margin-left: 0.5rem\">GPE</span>\n",
       "</mark>\n",
       "’s health system. For a patient side, they don't need the waiting line to see doctors. There is no one go bankrupt by medical bills. For the doctor side, government pay the remaining medical bills and hospital don't need to in deficit and doctors isn't earn as little as \n",
       "<mark class=\"entity\" style=\"background: #c887fb; padding: 0.45em 0.6em; margin: 0 0.25em; line-height: 1; border-radius: 0.35em;\">\n",
       "    Japanese\n",
       "    <span style=\"font-size: 0.8em; font-weight: bold; line-height: 1; border-radius: 0.35em; text-transform: uppercase; vertical-align: middle; margin-left: 0.5rem\">NORP</span>\n",
       "</mark>\n",
       " doctors. Also, the government and hospital try to lower the cost, they use a kind of ID card to record information. As \n",
       "<mark class=\"entity\" style=\"background: #feca74; padding: 0.45em 0.6em; margin: 0 0.25em; line-height: 1; border-radius: 0.35em;\">\n",
       "    Taiwan\n",
       "    <span style=\"font-size: 0.8em; font-weight: bold; line-height: 1; border-radius: 0.35em; text-transform: uppercase; vertical-align: middle; margin-left: 0.5rem\">GPE</span>\n",
       "</mark>\n",
       "’s health system proficiently use informatics, administration cost is low and paperwork is less. As the cost decrease, the doctor's revenue will increase. </div></span>"
      ],
      "text/plain": [
       "<IPython.core.display.HTML object>"
      ]
     },
     "metadata": {},
     "output_type": "display_data"
    },
    {
     "name": "stdout",
     "output_type": "stream",
     "text": [
      "------------------------------------------------------------------------\n"
     ]
    },
    {
     "data": {
      "text/html": [
       "<span class=\"tex2jax_ignore\"><div class=\"entities\" style=\"line-height: 2.5; direction: ltr\">I’d like to choose \n",
       "<mark class=\"entity\" style=\"background: #feca74; padding: 0.45em 0.6em; margin: 0 0.25em; line-height: 1; border-radius: 0.35em;\">\n",
       "    Japan\n",
       "    <span style=\"font-size: 0.8em; font-weight: bold; line-height: 1; border-radius: 0.35em; text-transform: uppercase; vertical-align: middle; margin-left: 0.5rem\">GPE</span>\n",
       "</mark>\n",
       ": No Gatekeepers. Patients in \n",
       "<mark class=\"entity\" style=\"background: #feca74; padding: 0.45em 0.6em; margin: 0 0.25em; line-height: 1; border-radius: 0.35em;\">\n",
       "    Japan\n",
       "    <span style=\"font-size: 0.8em; font-weight: bold; line-height: 1; border-radius: 0.35em; text-transform: uppercase; vertical-align: middle; margin-left: 0.5rem\">GPE</span>\n",
       "</mark>\n",
       " can go see any specialist they want. A doctor usually only needs to spend \n",
       "<mark class=\"entity\" style=\"background: #bfe1d9; padding: 0.45em 0.6em; margin: 0 0.25em; line-height: 1; border-radius: 0.35em;\">\n",
       "    3-5 minutes\n",
       "    <span style=\"font-size: 0.8em; font-weight: bold; line-height: 1; border-radius: 0.35em; text-transform: uppercase; vertical-align: middle; margin-left: 0.5rem\">TIME</span>\n",
       "</mark>\n",
       " to diagnose a patient because the patient’s needs are sometimes very simple and clear. The lack of Gatekeepers reduces the procedures for patients to see a doctor, and also increases the workload of specialist doctors. Nevertheless, the cost of seeing a doctor in \n",
       "<mark class=\"entity\" style=\"background: #feca74; padding: 0.45em 0.6em; margin: 0 0.25em; line-height: 1; border-radius: 0.35em;\">\n",
       "    Japan\n",
       "    <span style=\"font-size: 0.8em; font-weight: bold; line-height: 1; border-radius: 0.35em; text-transform: uppercase; vertical-align: middle; margin-left: 0.5rem\">GPE</span>\n",
       "</mark>\n",
       " is very low, which is a good benefit for ordinary people.</div></span>"
      ],
      "text/plain": [
       "<IPython.core.display.HTML object>"
      ]
     },
     "metadata": {},
     "output_type": "display_data"
    },
    {
     "name": "stdout",
     "output_type": "stream",
     "text": [
      "------------------------------------------------------------------------\n"
     ]
    },
    {
     "data": {
      "text/html": [
       "<span class=\"tex2jax_ignore\"><div class=\"entities\" style=\"line-height: 2.5; direction: ltr\">After viewed this documentary, in my views, I will vote for \n",
       "<mark class=\"entity\" style=\"background: #feca74; padding: 0.45em 0.6em; margin: 0 0.25em; line-height: 1; border-radius: 0.35em;\">\n",
       "    Japan\n",
       "    <span style=\"font-size: 0.8em; font-weight: bold; line-height: 1; border-radius: 0.35em; text-transform: uppercase; vertical-align: middle; margin-left: 0.5rem\">GPE</span>\n",
       "</mark>\n",
       "'s healthcare system, since it more completed and fair for every citizen.</br>\n",
       "<mark class=\"entity\" style=\"background: #e4e7d2; padding: 0.45em 0.6em; margin: 0 0.25em; line-height: 1; border-radius: 0.35em;\">\n",
       "    1\n",
       "    <span style=\"font-size: 0.8em; font-weight: bold; line-height: 1; border-radius: 0.35em; text-transform: uppercase; vertical-align: middle; margin-left: 0.5rem\">CARDINAL</span>\n",
       "</mark>\n",
       ". All the \n",
       "<mark class=\"entity\" style=\"background: #c887fb; padding: 0.45em 0.6em; margin: 0 0.25em; line-height: 1; border-radius: 0.35em;\">\n",
       "    Japanese\n",
       "    <span style=\"font-size: 0.8em; font-weight: bold; line-height: 1; border-radius: 0.35em; text-transform: uppercase; vertical-align: middle; margin-left: 0.5rem\">NORP</span>\n",
       "</mark>\n",
       " have carried healthcare insurance by law with cheap price and it provides top level medical services. Besides, the healthcare price has highly restricted by the government and there has no deference between different area and city.</br>\n",
       "<mark class=\"entity\" style=\"background: #e4e7d2; padding: 0.45em 0.6em; margin: 0 0.25em; line-height: 1; border-radius: 0.35em;\">\n",
       "    2\n",
       "    <span style=\"font-size: 0.8em; font-weight: bold; line-height: 1; border-radius: 0.35em; text-transform: uppercase; vertical-align: middle; margin-left: 0.5rem\">CARDINAL</span>\n",
       "</mark>\n",
       ". \n",
       "<mark class=\"entity\" style=\"background: #feca74; padding: 0.45em 0.6em; margin: 0 0.25em; line-height: 1; border-radius: 0.35em;\">\n",
       "    Japan\n",
       "    <span style=\"font-size: 0.8em; font-weight: bold; line-height: 1; border-radius: 0.35em; text-transform: uppercase; vertical-align: middle; margin-left: 0.5rem\">GPE</span>\n",
       "</mark>\n",
       "'s healthcare system is more efficiency, people don't need to make an appointment to see the doctors, which is convenient for populous country's residents.</br>\n",
       "<mark class=\"entity\" style=\"background: #e4e7d2; padding: 0.45em 0.6em; margin: 0 0.25em; line-height: 1; border-radius: 0.35em;\">\n",
       "    3\n",
       "    <span style=\"font-size: 0.8em; font-weight: bold; line-height: 1; border-radius: 0.35em; text-transform: uppercase; vertical-align: middle; margin-left: 0.5rem\">CARDINAL</span>\n",
       "</mark>\n",
       ". From the statistics of \n",
       "<mark class=\"entity\" style=\"background: #7aecec; padding: 0.45em 0.6em; margin: 0 0.25em; line-height: 1; border-radius: 0.35em;\">\n",
       "    WHO\n",
       "    <span style=\"font-size: 0.8em; font-weight: bold; line-height: 1; border-radius: 0.35em; text-transform: uppercase; vertical-align: middle; margin-left: 0.5rem\">ORG</span>\n",
       "</mark>\n",
       " , \n",
       "<mark class=\"entity\" style=\"background: #c887fb; padding: 0.45em 0.6em; margin: 0 0.25em; line-height: 1; border-radius: 0.35em;\">\n",
       "    Japanese\n",
       "    <span style=\"font-size: 0.8em; font-weight: bold; line-height: 1; border-radius: 0.35em; text-transform: uppercase; vertical-align: middle; margin-left: 0.5rem\">NORP</span>\n",
       "</mark>\n",
       " has the highest life expectancy compared to other countries, which  indicated that \n",
       "<mark class=\"entity\" style=\"background: #feca74; padding: 0.45em 0.6em; margin: 0 0.25em; line-height: 1; border-radius: 0.35em;\">\n",
       "    Japan\n",
       "    <span style=\"font-size: 0.8em; font-weight: bold; line-height: 1; border-radius: 0.35em; text-transform: uppercase; vertical-align: middle; margin-left: 0.5rem\">GPE</span>\n",
       "</mark>\n",
       " has a high standard healthcare system except the reason that \n",
       "<mark class=\"entity\" style=\"background: #c887fb; padding: 0.45em 0.6em; margin: 0 0.25em; line-height: 1; border-radius: 0.35em;\">\n",
       "    Japanese\n",
       "    <span style=\"font-size: 0.8em; font-weight: bold; line-height: 1; border-radius: 0.35em; text-transform: uppercase; vertical-align: middle; margin-left: 0.5rem\">NORP</span>\n",
       "</mark>\n",
       " have good eating habits.</br>In conclusion, I may choose \n",
       "<mark class=\"entity\" style=\"background: #feca74; padding: 0.45em 0.6em; margin: 0 0.25em; line-height: 1; border-radius: 0.35em;\">\n",
       "    Japan\n",
       "    <span style=\"font-size: 0.8em; font-weight: bold; line-height: 1; border-radius: 0.35em; text-transform: uppercase; vertical-align: middle; margin-left: 0.5rem\">GPE</span>\n",
       "</mark>\n",
       " to live my retire life for living longer.</div></span>"
      ],
      "text/plain": [
       "<IPython.core.display.HTML object>"
      ]
     },
     "metadata": {},
     "output_type": "display_data"
    },
    {
     "name": "stdout",
     "output_type": "stream",
     "text": [
      "------------------------------------------------------------------------\n"
     ]
    },
    {
     "data": {
      "text/html": [
       "<span class=\"tex2jax_ignore\"><div class=\"entities\" style=\"line-height: 2.5; direction: ltr\">I like \n",
       "<mark class=\"entity\" style=\"background: #feca74; padding: 0.45em 0.6em; margin: 0 0.25em; line-height: 1; border-radius: 0.35em;\">\n",
       "    UK\n",
       "    <span style=\"font-size: 0.8em; font-weight: bold; line-height: 1; border-radius: 0.35em; text-transform: uppercase; vertical-align: middle; margin-left: 0.5rem\">GPE</span>\n",
       "</mark>\n",
       "'s NHS system because they provide incentive for doctors to improve well-being of their patients. I haven't seen similar program in the documentary and I found it very useful. same as any other business, providing incentives helps the business and its owner. but because \n",
       "<mark class=\"entity\" style=\"background: #7aecec; padding: 0.45em 0.6em; margin: 0 0.25em; line-height: 1; border-radius: 0.35em;\">\n",
       "    NHS\n",
       "    <span style=\"font-size: 0.8em; font-weight: bold; line-height: 1; border-radius: 0.35em; text-transform: uppercase; vertical-align: middle; margin-left: 0.5rem\">ORG</span>\n",
       "</mark>\n",
       " is a tax-paid organization, it provides benefits to the \n",
       "<mark class=\"entity\" style=\"background: #c887fb; padding: 0.45em 0.6em; margin: 0 0.25em; line-height: 1; border-radius: 0.35em;\">\n",
       "    British\n",
       "    <span style=\"font-size: 0.8em; font-weight: bold; line-height: 1; border-radius: 0.35em; text-transform: uppercase; vertical-align: middle; margin-left: 0.5rem\">NORP</span>\n",
       "</mark>\n",
       " people by incentivizing doctors to keep people healthy. a surprising fact to me was the \n",
       "<mark class=\"entity\" style=\"background: #e4e7d2; padding: 0.45em 0.6em; margin: 0 0.25em; line-height: 1; border-radius: 0.35em;\">\n",
       "    180%\n",
       "    <span style=\"font-size: 0.8em; font-weight: bold; line-height: 1; border-radius: 0.35em; text-transform: uppercase; vertical-align: middle; margin-left: 0.5rem\">PERCENT</span>\n",
       "</mark>\n",
       " incentive for the Doctor who helped his patients stay healthier.  </div></span>"
      ],
      "text/plain": [
       "<IPython.core.display.HTML object>"
      ]
     },
     "metadata": {},
     "output_type": "display_data"
    },
    {
     "name": "stdout",
     "output_type": "stream",
     "text": [
      "------------------------------------------------------------------------\n"
     ]
    },
    {
     "data": {
      "text/html": [
       "<span class=\"tex2jax_ignore\"><div class=\"entities\" style=\"line-height: 2.5; direction: ltr\">I want to get my healthcare from \n",
       "<mark class=\"entity\" style=\"background: #feca74; padding: 0.45em 0.6em; margin: 0 0.25em; line-height: 1; border-radius: 0.35em;\">\n",
       "    the United Kingdom\n",
       "    <span style=\"font-size: 0.8em; font-weight: bold; line-height: 1; border-radius: 0.35em; text-transform: uppercase; vertical-align: middle; margin-left: 0.5rem\">GPE</span>\n",
       "</mark>\n",
       ". The \n",
       "<mark class=\"entity\" style=\"background: #c887fb; padding: 0.45em 0.6em; margin: 0 0.25em; line-height: 1; border-radius: 0.35em;\">\n",
       "    British\n",
       "    <span style=\"font-size: 0.8em; font-weight: bold; line-height: 1; border-radius: 0.35em; text-transform: uppercase; vertical-align: middle; margin-left: 0.5rem\">NORP</span>\n",
       "</mark>\n",
       " system is regarded as &quot;socialized medicine&quot; because the government not only provides health care but also pays for health care. Also, there is no family premium. Moreover, reforms are instituted by the \n",
       "<mark class=\"entity\" style=\"background: #c887fb; padding: 0.45em 0.6em; margin: 0 0.25em; line-height: 1; border-radius: 0.35em;\">\n",
       "    British\n",
       "    <span style=\"font-size: 0.8em; font-weight: bold; line-height: 1; border-radius: 0.35em; text-transform: uppercase; vertical-align: middle; margin-left: 0.5rem\">NORP</span>\n",
       "</mark>\n",
       " government to help to give patients more choice and make care more competitive, so patients can choose the location where they want to be treated for many procedures.\n",
       " </div></span>"
      ],
      "text/plain": [
       "<IPython.core.display.HTML object>"
      ]
     },
     "metadata": {},
     "output_type": "display_data"
    },
    {
     "name": "stdout",
     "output_type": "stream",
     "text": [
      "------------------------------------------------------------------------\n"
     ]
    },
    {
     "data": {
      "text/html": [
       "<span class=\"tex2jax_ignore\"><div class=\"entities\" style=\"line-height: 2.5; direction: ltr\">I like the health system of \n",
       "<mark class=\"entity\" style=\"background: #feca74; padding: 0.45em 0.6em; margin: 0 0.25em; line-height: 1; border-radius: 0.35em;\">\n",
       "    Japan\n",
       "    <span style=\"font-size: 0.8em; font-weight: bold; line-height: 1; border-radius: 0.35em; text-transform: uppercase; vertical-align: middle; margin-left: 0.5rem\">GPE</span>\n",
       "</mark>\n",
       " most. I think \n",
       "<mark class=\"entity\" style=\"background: #feca74; padding: 0.45em 0.6em; margin: 0 0.25em; line-height: 1; border-radius: 0.35em;\">\n",
       "    Japan\n",
       "    <span style=\"font-size: 0.8em; font-weight: bold; line-height: 1; border-radius: 0.35em; text-transform: uppercase; vertical-align: middle; margin-left: 0.5rem\">GPE</span>\n",
       "</mark>\n",
       "'s health system is the balance of the \n",
       "<mark class=\"entity\" style=\"background: #c887fb; padding: 0.45em 0.6em; margin: 0 0.25em; line-height: 1; border-radius: 0.35em;\">\n",
       "    European\n",
       "    <span style=\"font-size: 0.8em; font-weight: bold; line-height: 1; border-radius: 0.35em; text-transform: uppercase; vertical-align: middle; margin-left: 0.5rem\">NORP</span>\n",
       "</mark>\n",
       " countries like the \n",
       "<mark class=\"entity\" style=\"background: #feca74; padding: 0.45em 0.6em; margin: 0 0.25em; line-height: 1; border-radius: 0.35em;\">\n",
       "    UK\n",
       "    <span style=\"font-size: 0.8em; font-weight: bold; line-height: 1; border-radius: 0.35em; text-transform: uppercase; vertical-align: middle; margin-left: 0.5rem\">GPE</span>\n",
       "</mark>\n",
       " and \n",
       "<mark class=\"entity\" style=\"background: #feca74; padding: 0.45em 0.6em; margin: 0 0.25em; line-height: 1; border-radius: 0.35em;\">\n",
       "    Germany\n",
       "    <span style=\"font-size: 0.8em; font-weight: bold; line-height: 1; border-radius: 0.35em; text-transform: uppercase; vertical-align: middle; margin-left: 0.5rem\">GPE</span>\n",
       "</mark>\n",
       ": most of the hospitals are private but all the poor people can enjoy medical care without a bill, while other people rely on the health insurance policy. Unlike \n",
       "<mark class=\"entity\" style=\"background: #feca74; padding: 0.45em 0.6em; margin: 0 0.25em; line-height: 1; border-radius: 0.35em;\">\n",
       "    Germany\n",
       "    <span style=\"font-size: 0.8em; font-weight: bold; line-height: 1; border-radius: 0.35em; text-transform: uppercase; vertical-align: middle; margin-left: 0.5rem\">GPE</span>\n",
       "</mark>\n",
       ", this policy can save a lot of budget for the government but it also can cover all the poor people; therefore, I think \n",
       "<mark class=\"entity\" style=\"background: #feca74; padding: 0.45em 0.6em; margin: 0 0.25em; line-height: 1; border-radius: 0.35em;\">\n",
       "    Japan\n",
       "    <span style=\"font-size: 0.8em; font-weight: bold; line-height: 1; border-radius: 0.35em; text-transform: uppercase; vertical-align: middle; margin-left: 0.5rem\">GPE</span>\n",
       "</mark>\n",
       "'s policy is more efficient than many other countries.</div></span>"
      ],
      "text/plain": [
       "<IPython.core.display.HTML object>"
      ]
     },
     "metadata": {},
     "output_type": "display_data"
    },
    {
     "name": "stdout",
     "output_type": "stream",
     "text": [
      "------------------------------------------------------------------------\n"
     ]
    },
    {
     "data": {
      "text/html": [
       "<span class=\"tex2jax_ignore\"><div class=\"entities\" style=\"line-height: 2.5; direction: ltr\">In my opinion, the health system in \n",
       "<mark class=\"entity\" style=\"background: #feca74; padding: 0.45em 0.6em; margin: 0 0.25em; line-height: 1; border-radius: 0.35em;\">\n",
       "    Japan\n",
       "    <span style=\"font-size: 0.8em; font-weight: bold; line-height: 1; border-radius: 0.35em; text-transform: uppercase; vertical-align: middle; margin-left: 0.5rem\">GPE</span>\n",
       "</mark>\n",
       " is efficient. \n",
       "<mark class=\"entity\" style=\"background: #e4e7d2; padding: 0.45em 0.6em; margin: 0 0.25em; line-height: 1; border-radius: 0.35em;\">\n",
       "    First\n",
       "    <span style=\"font-size: 0.8em; font-weight: bold; line-height: 1; border-radius: 0.35em; text-transform: uppercase; vertical-align: middle; margin-left: 0.5rem\">ORDINAL</span>\n",
       "</mark>\n",
       ", medical products and medical services are uniformly priced and inexpensive in the country. \n",
       "<mark class=\"entity\" style=\"background: #e4e7d2; padding: 0.45em 0.6em; margin: 0 0.25em; line-height: 1; border-radius: 0.35em;\">\n",
       "    Second\n",
       "    <span style=\"font-size: 0.8em; font-weight: bold; line-height: 1; border-radius: 0.35em; text-transform: uppercase; vertical-align: middle; margin-left: 0.5rem\">ORDINAL</span>\n",
       "</mark>\n",
       ", the waiting time for obtaining effective treatment is shorter than in \n",
       "<mark class=\"entity\" style=\"background: #feca74; padding: 0.45em 0.6em; margin: 0 0.25em; line-height: 1; border-radius: 0.35em;\">\n",
       "    the United Kingdom\n",
       "    <span style=\"font-size: 0.8em; font-weight: bold; line-height: 1; border-radius: 0.35em; text-transform: uppercase; vertical-align: middle; margin-left: 0.5rem\">GPE</span>\n",
       "</mark>\n",
       " and \n",
       "<mark class=\"entity\" style=\"background: #feca74; padding: 0.45em 0.6em; margin: 0 0.25em; line-height: 1; border-radius: 0.35em;\">\n",
       "    Germany\n",
       "    <span style=\"font-size: 0.8em; font-weight: bold; line-height: 1; border-radius: 0.35em; text-transform: uppercase; vertical-align: middle; margin-left: 0.5rem\">GPE</span>\n",
       "</mark>\n",
       ", because  people can directly receive treatment from specialist doctors without \n",
       "<mark class=\"entity\" style=\"background: #7aecec; padding: 0.45em 0.6em; margin: 0 0.25em; line-height: 1; border-radius: 0.35em;\">\n",
       "    GP\n",
       "    <span style=\"font-size: 0.8em; font-weight: bold; line-height: 1; border-radius: 0.35em; text-transform: uppercase; vertical-align: middle; margin-left: 0.5rem\">ORG</span>\n",
       "</mark>\n",
       ". These are the main reasons why I chose the \n",
       "<mark class=\"entity\" style=\"background: #c887fb; padding: 0.45em 0.6em; margin: 0 0.25em; line-height: 1; border-radius: 0.35em;\">\n",
       "    Japanese\n",
       "    <span style=\"font-size: 0.8em; font-weight: bold; line-height: 1; border-radius: 0.35em; text-transform: uppercase; vertical-align: middle; margin-left: 0.5rem\">NORP</span>\n",
       "</mark>\n",
       " health system.</div></span>"
      ],
      "text/plain": [
       "<IPython.core.display.HTML object>"
      ]
     },
     "metadata": {},
     "output_type": "display_data"
    },
    {
     "name": "stdout",
     "output_type": "stream",
     "text": [
      "------------------------------------------------------------------------\n"
     ]
    },
    {
     "data": {
      "text/html": [
       "<span class=\"tex2jax_ignore\"><div class=\"entities\" style=\"line-height: 2.5; direction: ltr\">I probably prefer the \n",
       "<mark class=\"entity\" style=\"background: #c887fb; padding: 0.45em 0.6em; margin: 0 0.25em; line-height: 1; border-radius: 0.35em;\">\n",
       "    Japanese\n",
       "    <span style=\"font-size: 0.8em; font-weight: bold; line-height: 1; border-radius: 0.35em; text-transform: uppercase; vertical-align: middle; margin-left: 0.5rem\">NORP</span>\n",
       "</mark>\n",
       " healthcare system. There are \n",
       "<mark class=\"entity\" style=\"background: #e4e7d2; padding: 0.45em 0.6em; margin: 0 0.25em; line-height: 1; border-radius: 0.35em;\">\n",
       "    three\n",
       "    <span style=\"font-size: 0.8em; font-weight: bold; line-height: 1; border-radius: 0.35em; text-transform: uppercase; vertical-align: middle; margin-left: 0.5rem\">CARDINAL</span>\n",
       "</mark>\n",
       " main reasons. \n",
       "<mark class=\"entity\" style=\"background: #e4e7d2; padding: 0.45em 0.6em; margin: 0 0.25em; line-height: 1; border-radius: 0.35em;\">\n",
       "    First\n",
       "    <span style=\"font-size: 0.8em; font-weight: bold; line-height: 1; border-radius: 0.35em; text-transform: uppercase; vertical-align: middle; margin-left: 0.5rem\">ORDINAL</span>\n",
       "</mark>\n",
       " of all, under this medical system, there is no waiting to see a doctor, so that many patients will not miss the best time to see a doctor. \n",
       "<mark class=\"entity\" style=\"background: #e4e7d2; padding: 0.45em 0.6em; margin: 0 0.25em; line-height: 1; border-radius: 0.35em;\">\n",
       "    Second\n",
       "    <span style=\"font-size: 0.8em; font-weight: bold; line-height: 1; border-radius: 0.35em; text-transform: uppercase; vertical-align: middle; margin-left: 0.5rem\">ORDINAL</span>\n",
       "</mark>\n",
       ", under the \n",
       "<mark class=\"entity\" style=\"background: #c887fb; padding: 0.45em 0.6em; margin: 0 0.25em; line-height: 1; border-radius: 0.35em;\">\n",
       "    Japanese\n",
       "    <span style=\"font-size: 0.8em; font-weight: bold; line-height: 1; border-radius: 0.35em; text-transform: uppercase; vertical-align: middle; margin-left: 0.5rem\">NORP</span>\n",
       "</mark>\n",
       " health care system, its charge fairly cheap, and it's charging system with strict rules and restrictions, even wound of different size has different price regulation, this also makes the doctor or hospital can't random to control health care costs, although this may result in many hospitals the fiscal deficit,  through the whole of price regulation is to be able to alleviate this situation. The last point is that in \n",
       "<mark class=\"entity\" style=\"background: #feca74; padding: 0.45em 0.6em; margin: 0 0.25em; line-height: 1; border-radius: 0.35em;\">\n",
       "    Japan\n",
       "    <span style=\"font-size: 0.8em; font-weight: bold; line-height: 1; border-radius: 0.35em; text-transform: uppercase; vertical-align: middle; margin-left: 0.5rem\">GPE</span>\n",
       "</mark>\n",
       ", there are more physical health tests, such as MRIs, which can effectively detect potential diseases in time, so that they can be treated as soon as possible.</div></span>"
      ],
      "text/plain": [
       "<IPython.core.display.HTML object>"
      ]
     },
     "metadata": {},
     "output_type": "display_data"
    },
    {
     "name": "stdout",
     "output_type": "stream",
     "text": [
      "------------------------------------------------------------------------\n"
     ]
    },
    {
     "data": {
      "text/html": [
       "<span class=\"tex2jax_ignore\"><div class=\"entities\" style=\"line-height: 2.5; direction: ltr\">I think the answer would very much depend on my own personal circumstances! As a health care worker myself, I would advocate for a system that balances affordability and appropriate renumeration to the workers. To that end, the blended approach by the \n",
       "<mark class=\"entity\" style=\"background: #c887fb; padding: 0.45em 0.6em; margin: 0 0.25em; line-height: 1; border-radius: 0.35em;\">\n",
       "    Swiss\n",
       "    <span style=\"font-size: 0.8em; font-weight: bold; line-height: 1; border-radius: 0.35em; text-transform: uppercase; vertical-align: middle; margin-left: 0.5rem\">NORP</span>\n",
       "</mark>\n",
       " would be the most attractive to me, for the following reasons</br>- Application of a universal health insurance system,with government coverage those who cannot afford it. Universal cover creates a social safety net for all citizens, and government support / regulation of insurance company profiteering helps to ensure fees are kept accessible for all.</br>- Requiring patients to co-pay for their insurance/healthcare (if they are able to) creates a social reminder that \n",
       "<mark class=\"entity\" style=\"background: #7aecec; padding: 0.45em 0.6em; margin: 0 0.25em; line-height: 1; border-radius: 0.35em;\">\n",
       "    healthcare\n",
       "    <span style=\"font-size: 0.8em; font-weight: bold; line-height: 1; border-radius: 0.35em; text-transform: uppercase; vertical-align: middle; margin-left: 0.5rem\">ORG</span>\n",
       "</mark>\n",
       " is a limited resource, and potentially prevents misuse of the service as described in the \n",
       "<mark class=\"entity\" style=\"background: #7aecec; padding: 0.45em 0.6em; margin: 0 0.25em; line-height: 1; border-radius: 0.35em;\">\n",
       "    NHS\n",
       "    <span style=\"font-size: 0.8em; font-weight: bold; line-height: 1; border-radius: 0.35em; text-transform: uppercase; vertical-align: middle; margin-left: 0.5rem\">ORG</span>\n",
       "</mark>\n",
       "/\n",
       "<mark class=\"entity\" style=\"background: #c887fb; padding: 0.45em 0.6em; margin: 0 0.25em; line-height: 1; border-radius: 0.35em;\">\n",
       "    Japanese\n",
       "    <span style=\"font-size: 0.8em; font-weight: bold; line-height: 1; border-radius: 0.35em; text-transform: uppercase; vertical-align: middle; margin-left: 0.5rem\">NORP</span>\n",
       "</mark>\n",
       " sections - where patients visit doctors for what sounds like social reasons, or minor issues(do you really need to see a specialist for a \n",
       "<mark class=\"entity\" style=\"background: #bfe1d9; padding: 0.45em 0.6em; margin: 0 0.25em; line-height: 1; border-radius: 0.35em;\">\n",
       "    3 minute\n",
       "    <span style=\"font-size: 0.8em; font-weight: bold; line-height: 1; border-radius: 0.35em; text-transform: uppercase; vertical-align: middle; margin-left: 0.5rem\">TIME</span>\n",
       "</mark>\n",
       " blood pressure checkup??)</br>- Permitting some profit making on supplemental insurance policies. Although this leads to higher overall costs (\n",
       "<mark class=\"entity\" style=\"background: #e4e7d2; padding: 0.45em 0.6em; margin: 0 0.25em; line-height: 1; border-radius: 0.35em;\">\n",
       "    2nd\n",
       "    <span style=\"font-size: 0.8em; font-weight: bold; line-height: 1; border-radius: 0.35em; text-transform: uppercase; vertical-align: middle; margin-left: 0.5rem\">ORDINAL</span>\n",
       "</mark>\n",
       " most expensive in the world) , it promotes sustainability, particularly in view of the increasing complexity and cost of delivering healthcare. It also allows for appropriate wages to be paid to healthcare workers for delivering highly skilled services (remembering the old axiom &quot;pay peanuts and we get monkeys&quot;).\n",
       "- \n",
       "Cheers\n",
       "Sing</div></span>"
      ],
      "text/plain": [
       "<IPython.core.display.HTML object>"
      ]
     },
     "metadata": {},
     "output_type": "display_data"
    },
    {
     "name": "stdout",
     "output_type": "stream",
     "text": [
      "------------------------------------------------------------------------\n"
     ]
    },
    {
     "name": "stderr",
     "output_type": "stream",
     "text": [
      "/Users/brian/anaconda3/envs/nlp/lib/python3.7/runpy.py:193: UserWarning: [W006] No entities to visualize found in Doc object. If this is surprising to you, make sure the Doc was processed using a model that supports named entity recognition, and check the `doc.ents` property manually if necessary.\n",
      "  \"__main__\", mod_spec)\n"
     ]
    },
    {
     "data": {
      "text/html": [
       "<span class=\"tex2jax_ignore\"><div class=\"entities\" style=\"line-height: 2.5; direction: ltr\">fdgdfd</div></span>"
      ],
      "text/plain": [
       "<IPython.core.display.HTML object>"
      ]
     },
     "metadata": {},
     "output_type": "display_data"
    },
    {
     "name": "stdout",
     "output_type": "stream",
     "text": [
      "------------------------------------------------------------------------\n"
     ]
    },
    {
     "data": {
      "text/html": [
       "<span class=\"tex2jax_ignore\"><div class=\"entities\" style=\"line-height: 2.5; direction: ltr\">Of the \n",
       "<mark class=\"entity\" style=\"background: #e4e7d2; padding: 0.45em 0.6em; margin: 0 0.25em; line-height: 1; border-radius: 0.35em;\">\n",
       "    five\n",
       "    <span style=\"font-size: 0.8em; font-weight: bold; line-height: 1; border-radius: 0.35em; text-transform: uppercase; vertical-align: middle; margin-left: 0.5rem\">CARDINAL</span>\n",
       "</mark>\n",
       " health-care systems discussed in “\n",
       "<mark class=\"entity\" style=\"background: #f0d0ff; padding: 0.45em 0.6em; margin: 0 0.25em; line-height: 1; border-radius: 0.35em;\">\n",
       "    Sick Around the World\n",
       "    <span style=\"font-size: 0.8em; font-weight: bold; line-height: 1; border-radius: 0.35em; text-transform: uppercase; vertical-align: middle; margin-left: 0.5rem\">WORK_OF_ART</span>\n",
       "</mark>\n",
       "”, I was the most intrigued by the \n",
       "<mark class=\"entity\" style=\"background: #feca74; padding: 0.45em 0.6em; margin: 0 0.25em; line-height: 1; border-radius: 0.35em;\">\n",
       "    Taiwan\n",
       "    <span style=\"font-size: 0.8em; font-weight: bold; line-height: 1; border-radius: 0.35em; text-transform: uppercase; vertical-align: middle; margin-left: 0.5rem\">GPE</span>\n",
       "</mark>\n",
       "’s single-payer success story. It is fascinating to see that within \n",
       "<mark class=\"entity\" style=\"background: #bfe1d9; padding: 0.45em 0.6em; margin: 0 0.25em; line-height: 1; border-radius: 0.35em;\">\n",
       "    the short period of 30 years\n",
       "    <span style=\"font-size: 0.8em; font-weight: bold; line-height: 1; border-radius: 0.35em; text-transform: uppercase; vertical-align: middle; margin-left: 0.5rem\">DATE</span>\n",
       "</mark>\n",
       ", \n",
       "<mark class=\"entity\" style=\"background: #feca74; padding: 0.45em 0.6em; margin: 0 0.25em; line-height: 1; border-radius: 0.35em;\">\n",
       "    Taiwan\n",
       "    <span style=\"font-size: 0.8em; font-weight: bold; line-height: 1; border-radius: 0.35em; text-transform: uppercase; vertical-align: middle; margin-left: 0.5rem\">GPE</span>\n",
       "</mark>\n",
       " was able to move from a broken health care system (with \n",
       "<mark class=\"entity\" style=\"background: #e4e7d2; padding: 0.45em 0.6em; margin: 0 0.25em; line-height: 1; border-radius: 0.35em;\">\n",
       "    over 40%\n",
       "    <span style=\"font-size: 0.8em; font-weight: bold; line-height: 1; border-radius: 0.35em; text-transform: uppercase; vertical-align: middle; margin-left: 0.5rem\">PERCENT</span>\n",
       "</mark>\n",
       " not covered by any form of health insurance) to a national health insurance program approved by majority of the population. Through its single-payer system, many ranks \n",
       "<mark class=\"entity\" style=\"background: #c887fb; padding: 0.45em 0.6em; margin: 0 0.25em; line-height: 1; border-radius: 0.35em;\">\n",
       "    Taiwanese\n",
       "    <span style=\"font-size: 0.8em; font-weight: bold; line-height: 1; border-radius: 0.35em; text-transform: uppercase; vertical-align: middle; margin-left: 0.5rem\">NORP</span>\n",
       "</mark>\n",
       " health care to be of high-quality, affordable, accessible and innovative.</br>High-quality care: \n",
       "<mark class=\"entity\" style=\"background: #feca74; padding: 0.45em 0.6em; margin: 0 0.25em; line-height: 1; border-radius: 0.35em;\">\n",
       "    Taiwan\n",
       "    <span style=\"font-size: 0.8em; font-weight: bold; line-height: 1; border-radius: 0.35em; text-transform: uppercase; vertical-align: middle; margin-left: 0.5rem\">GPE</span>\n",
       "</mark>\n",
       " is well-known for its \n",
       "<mark class=\"entity\" style=\"background: #e4e7d2; padding: 0.45em 0.6em; margin: 0 0.25em; line-height: 1; border-radius: 0.35em;\">\n",
       "    first\n",
       "    <span style=\"font-size: 0.8em; font-weight: bold; line-height: 1; border-radius: 0.35em; text-transform: uppercase; vertical-align: middle; margin-left: 0.5rem\">ORDINAL</span>\n",
       "</mark>\n",
       "-class quality of medicine and talent. The health insurance provided is comprehensive providing both inpatient and outpatient care which includes dental care, over-the-counter drugs and traditional \n",
       "<mark class=\"entity\" style=\"background: #c887fb; padding: 0.45em 0.6em; margin: 0 0.25em; line-height: 1; border-radius: 0.35em;\">\n",
       "    Chinese\n",
       "    <span style=\"font-size: 0.8em; font-weight: bold; line-height: 1; border-radius: 0.35em; text-transform: uppercase; vertical-align: middle; margin-left: 0.5rem\">NORP</span>\n",
       "</mark>\n",
       " medicine.</br>Impressive access and affordability: Patients can choose services from almost any provider with short wait times and be directed to specialty care without a referral. The premiums are paid for by the government, employers and employees. The share paid by each depends on income, with the low-income paying a smaller proportion compared to the wealthy segment.  </br>Innovative and efficient: The \n",
       "<mark class=\"entity\" style=\"background: #c887fb; padding: 0.45em 0.6em; margin: 0 0.25em; line-height: 1; border-radius: 0.35em;\">\n",
       "    Taiwanese\n",
       "    <span style=\"font-size: 0.8em; font-weight: bold; line-height: 1; border-radius: 0.35em; text-transform: uppercase; vertical-align: middle; margin-left: 0.5rem\">NORP</span>\n",
       "</mark>\n",
       " program runs with extraordinary efficiency through a simple smart card system which is aided by its advanced IT infrastructure. The \n",
       "<mark class=\"entity\" style=\"background: #7aecec; padding: 0.45em 0.6em; margin: 0 0.25em; line-height: 1; border-radius: 0.35em;\">\n",
       "    medtech\n",
       "    <span style=\"font-size: 0.8em; font-weight: bold; line-height: 1; border-radius: 0.35em; text-transform: uppercase; vertical-align: middle; margin-left: 0.5rem\">ORG</span>\n",
       "</mark>\n",
       " also plays a vital role in transforming care across the health value-chain.</br>Whilst it is not a healthcare system without shortcomings, \n",
       "<mark class=\"entity\" style=\"background: #feca74; padding: 0.45em 0.6em; margin: 0 0.25em; line-height: 1; border-radius: 0.35em;\">\n",
       "    Taiwan\n",
       "    <span style=\"font-size: 0.8em; font-weight: bold; line-height: 1; border-radius: 0.35em; text-transform: uppercase; vertical-align: middle; margin-left: 0.5rem\">GPE</span>\n",
       "</mark>\n",
       "’s system is perceived as the rising star in providing adequate care to citizens.</div></span>"
      ],
      "text/plain": [
       "<IPython.core.display.HTML object>"
      ]
     },
     "metadata": {},
     "output_type": "display_data"
    },
    {
     "name": "stdout",
     "output_type": "stream",
     "text": [
      "------------------------------------------------------------------------\n"
     ]
    },
    {
     "data": {
      "text/html": [
       "<span class=\"tex2jax_ignore\"><div class=\"entities\" style=\"line-height: 2.5; direction: ltr\">‘Sick Around the World’ framed \n",
       "<mark class=\"entity\" style=\"background: #feca74; padding: 0.45em 0.6em; margin: 0 0.25em; line-height: 1; border-radius: 0.35em;\">\n",
       "    Taiwan\n",
       "    <span style=\"font-size: 0.8em; font-weight: bold; line-height: 1; border-radius: 0.35em; text-transform: uppercase; vertical-align: middle; margin-left: 0.5rem\">GPE</span>\n",
       "</mark>\n",
       " as an obvious choice for good universal healthcare. With the ability to fuse together what worked from different like GDP countries, \n",
       "<mark class=\"entity\" style=\"background: #feca74; padding: 0.45em 0.6em; margin: 0 0.25em; line-height: 1; border-radius: 0.35em;\">\n",
       "    Taiwan\n",
       "    <span style=\"font-size: 0.8em; font-weight: bold; line-height: 1; border-radius: 0.35em; text-transform: uppercase; vertical-align: middle; margin-left: 0.5rem\">GPE</span>\n",
       "</mark>\n",
       " has successfully created a system to be admired. Especially, with its growing acceptance and role of technology</br>There was \n",
       "<mark class=\"entity\" style=\"background: #e4e7d2; padding: 0.45em 0.6em; margin: 0 0.25em; line-height: 1; border-radius: 0.35em;\">\n",
       "    one\n",
       "    <span style=\"font-size: 0.8em; font-weight: bold; line-height: 1; border-radius: 0.35em; text-transform: uppercase; vertical-align: middle; margin-left: 0.5rem\">CARDINAL</span>\n",
       "</mark>\n",
       " primary reason that \n",
       "<mark class=\"entity\" style=\"background: #feca74; padding: 0.45em 0.6em; margin: 0 0.25em; line-height: 1; border-radius: 0.35em;\">\n",
       "    Taiwan\n",
       "    <span style=\"font-size: 0.8em; font-weight: bold; line-height: 1; border-radius: 0.35em; text-transform: uppercase; vertical-align: middle; margin-left: 0.5rem\">GPE</span>\n",
       "</mark>\n",
       " stood out for myself. The \n",
       "<mark class=\"entity\" style=\"background: #7aecec; padding: 0.45em 0.6em; margin: 0 0.25em; line-height: 1; border-radius: 0.35em;\">\n",
       "    NHI\n",
       "    <span style=\"font-size: 0.8em; font-weight: bold; line-height: 1; border-radius: 0.35em; text-transform: uppercase; vertical-align: middle; margin-left: 0.5rem\">ORG</span>\n",
       "</mark>\n",
       " IC cards which has a complete history of a patient and their associated medication. For someone, such as myself, who has chronic illnesses and is on a number of medications the ability to have it all together available to any doctor, at any location seems brilliant. This would also prove beneficial in an emergency situation when a patient may not be able to verbalise their allergies or medical history.</div></span>"
      ],
      "text/plain": [
       "<IPython.core.display.HTML object>"
      ]
     },
     "metadata": {},
     "output_type": "display_data"
    },
    {
     "name": "stdout",
     "output_type": "stream",
     "text": [
      "------------------------------------------------------------------------\n"
     ]
    },
    {
     "data": {
      "text/html": [
       "<span class=\"tex2jax_ignore\"><div class=\"entities\" style=\"line-height: 2.5; direction: ltr\">The obvious answer is the \n",
       "<mark class=\"entity\" style=\"background: #c887fb; padding: 0.45em 0.6em; margin: 0 0.25em; line-height: 1; border-radius: 0.35em;\">\n",
       "    Taiwanese\n",
       "    <span style=\"font-size: 0.8em; font-weight: bold; line-height: 1; border-radius: 0.35em; text-transform: uppercase; vertical-align: middle; margin-left: 0.5rem\">NORP</span>\n",
       "</mark>\n",
       " health care system as it takes the best attributes from high performing health systems across the world. But the reason it intrigues me is the use of the health care card with their medical information and billing integrated within it. I would love to find out more about how this works. Is there also a network/cloud based solution for those that don't have a card? What kind of information is stored on the card? Is it also used in the same way as our medi-alert wrist bands?</div></span>"
      ],
      "text/plain": [
       "<IPython.core.display.HTML object>"
      ]
     },
     "metadata": {},
     "output_type": "display_data"
    },
    {
     "name": "stdout",
     "output_type": "stream",
     "text": [
      "------------------------------------------------------------------------\n"
     ]
    },
    {
     "data": {
      "text/html": [
       "<span class=\"tex2jax_ignore\"><div class=\"entities\" style=\"line-height: 2.5; direction: ltr\">\n",
       "<mark class=\"entity\" style=\"background: #aa9cfc; padding: 0.45em 0.6em; margin: 0 0.25em; line-height: 1; border-radius: 0.35em;\">\n",
       "    Hi Brian\n",
       "    <span style=\"font-size: 0.8em; font-weight: bold; line-height: 1; border-radius: 0.35em; text-transform: uppercase; vertical-align: middle; margin-left: 0.5rem\">PERSON</span>\n",
       "</mark>\n",
       "</br>I favour \n",
       "<mark class=\"entity\" style=\"background: #feca74; padding: 0.45em 0.6em; margin: 0 0.25em; line-height: 1; border-radius: 0.35em;\">\n",
       "    Switzerland\n",
       "    <span style=\"font-size: 0.8em; font-weight: bold; line-height: 1; border-radius: 0.35em; text-transform: uppercase; vertical-align: middle; margin-left: 0.5rem\">GPE</span>\n",
       "</mark>\n",
       "'s system as my preferred health care provider. It appears more financially robust than \n",
       "<mark class=\"entity\" style=\"background: #feca74; padding: 0.45em 0.6em; margin: 0 0.25em; line-height: 1; border-radius: 0.35em;\">\n",
       "    Taiwan\n",
       "    <span style=\"font-size: 0.8em; font-weight: bold; line-height: 1; border-radius: 0.35em; text-transform: uppercase; vertical-align: middle; margin-left: 0.5rem\">GPE</span>\n",
       "</mark>\n",
       "'s system and there was no mention of \n",
       "<mark class=\"entity\" style=\"background: #c887fb; padding: 0.45em 0.6em; margin: 0 0.25em; line-height: 1; border-radius: 0.35em;\">\n",
       "    clinician\n",
       "    <span style=\"font-size: 0.8em; font-weight: bold; line-height: 1; border-radius: 0.35em; text-transform: uppercase; vertical-align: middle; margin-left: 0.5rem\">NORP</span>\n",
       "</mark>\n",
       " salary issues like those in \n",
       "<mark class=\"entity\" style=\"background: #feca74; padding: 0.45em 0.6em; margin: 0 0.25em; line-height: 1; border-radius: 0.35em;\">\n",
       "    Germany\n",
       "    <span style=\"font-size: 0.8em; font-weight: bold; line-height: 1; border-radius: 0.35em; text-transform: uppercase; vertical-align: middle; margin-left: 0.5rem\">GPE</span>\n",
       "</mark>\n",
       ". \n",
       "<mark class=\"entity\" style=\"background: #feca74; padding: 0.45em 0.6em; margin: 0 0.25em; line-height: 1; border-radius: 0.35em;\">\n",
       "    Switzerland\n",
       "    <span style=\"font-size: 0.8em; font-weight: bold; line-height: 1; border-radius: 0.35em; text-transform: uppercase; vertical-align: middle; margin-left: 0.5rem\">GPE</span>\n",
       "</mark>\n",
       "'s non profit insurance companies competed in other ways to attract and retain customers and this results in a better customer experience - from an administration perspective at least. I thought \n",
       "<mark class=\"entity\" style=\"background: #feca74; padding: 0.45em 0.6em; margin: 0 0.25em; line-height: 1; border-radius: 0.35em;\">\n",
       "    Taiwan\n",
       "    <span style=\"font-size: 0.8em; font-weight: bold; line-height: 1; border-radius: 0.35em; text-transform: uppercase; vertical-align: middle; margin-left: 0.5rem\">GPE</span>\n",
       "</mark>\n",
       "'s 'no gatekeeper' approach odd in the sense that I would think vetting patients before seeing a specialist is a better use of everyone's time. There was also room in \n",
       "<mark class=\"entity\" style=\"background: #feca74; padding: 0.45em 0.6em; margin: 0 0.25em; line-height: 1; border-radius: 0.35em;\">\n",
       "    Switzerland\n",
       "    <span style=\"font-size: 0.8em; font-weight: bold; line-height: 1; border-radius: 0.35em; text-transform: uppercase; vertical-align: middle; margin-left: 0.5rem\">GPE</span>\n",
       "</mark>\n",
       "'s model for people who wanted and could afford better rooms. This supplemental coverage generates competition which is key for investment and driving better outcomes for patients.</br>regards</br>\n",
       "<mark class=\"entity\" style=\"background: #aa9cfc; padding: 0.45em 0.6em; margin: 0 0.25em; line-height: 1; border-radius: 0.35em;\">\n",
       "    Briette\n",
       "    <span style=\"font-size: 0.8em; font-weight: bold; line-height: 1; border-radius: 0.35em; text-transform: uppercase; vertical-align: middle; margin-left: 0.5rem\">PERSON</span>\n",
       "</mark>\n",
       "</div></span>"
      ],
      "text/plain": [
       "<IPython.core.display.HTML object>"
      ]
     },
     "metadata": {},
     "output_type": "display_data"
    },
    {
     "name": "stdout",
     "output_type": "stream",
     "text": [
      "------------------------------------------------------------------------\n"
     ]
    },
    {
     "data": {
      "text/html": [
       "<span class=\"tex2jax_ignore\"><div class=\"entities\" style=\"line-height: 2.5; direction: ltr\">The doco would have benefited from the Inclusion of a comparison of \n",
       "<mark class=\"entity\" style=\"background: #e4e7d2; padding: 0.45em 0.6em; margin: 0 0.25em; line-height: 1; border-radius: 0.35em;\">\n",
       "    one\n",
       "    <span style=\"font-size: 0.8em; font-weight: bold; line-height: 1; border-radius: 0.35em; text-transform: uppercase; vertical-align: middle; margin-left: 0.5rem\">CARDINAL</span>\n",
       "</mark>\n",
       " of the \n",
       "<mark class=\"entity\" style=\"background: #c887fb; padding: 0.45em 0.6em; margin: 0 0.25em; line-height: 1; border-radius: 0.35em;\">\n",
       "    Scandanavian\n",
       "    <span style=\"font-size: 0.8em; font-weight: bold; line-height: 1; border-radius: 0.35em; text-transform: uppercase; vertical-align: middle; margin-left: 0.5rem\">NORP</span>\n",
       "</mark>\n",
       " countries where the populations accept high taxes for universal health care and other social benefits.</br> </br>Having worked in \n",
       "<mark class=\"entity\" style=\"background: #e4e7d2; padding: 0.45em 0.6em; margin: 0 0.25em; line-height: 1; border-radius: 0.35em;\">\n",
       "    three\n",
       "    <span style=\"font-size: 0.8em; font-weight: bold; line-height: 1; border-radius: 0.35em; text-transform: uppercase; vertical-align: middle; margin-left: 0.5rem\">CARDINAL</span>\n",
       "</mark>\n",
       " of the reported countries I would say the \n",
       "<mark class=\"entity\" style=\"background: #c887fb; padding: 0.45em 0.6em; margin: 0 0.25em; line-height: 1; border-radius: 0.35em;\">\n",
       "    Swiss\n",
       "    <span style=\"font-size: 0.8em; font-weight: bold; line-height: 1; border-radius: 0.35em; text-transform: uppercase; vertical-align: middle; margin-left: 0.5rem\">NORP</span>\n",
       "</mark>\n",
       " system is best. Few delays at a reasonable price with a social catch net. Although the \n",
       "<mark class=\"entity\" style=\"background: #c887fb; padding: 0.45em 0.6em; margin: 0 0.25em; line-height: 1; border-radius: 0.35em;\">\n",
       "    Taiwanese\n",
       "    <span style=\"font-size: 0.8em; font-weight: bold; line-height: 1; border-radius: 0.35em; text-transform: uppercase; vertical-align: middle; margin-left: 0.5rem\">NORP</span>\n",
       "</mark>\n",
       " system appeared very efficient.</br> </br>The \n",
       "<mark class=\"entity\" style=\"background: #feca74; padding: 0.45em 0.6em; margin: 0 0.25em; line-height: 1; border-radius: 0.35em;\">\n",
       "    UK\n",
       "    <span style=\"font-size: 0.8em; font-weight: bold; line-height: 1; border-radius: 0.35em; text-transform: uppercase; vertical-align: middle; margin-left: 0.5rem\">GPE</span>\n",
       "</mark>\n",
       "’s NHS waiting times have improved dramatically over \n",
       "<mark class=\"entity\" style=\"background: #bfe1d9; padding: 0.45em 0.6em; margin: 0 0.25em; line-height: 1; border-radius: 0.35em;\">\n",
       "    the last 20 years\n",
       "    <span style=\"font-size: 0.8em; font-weight: bold; line-height: 1; border-radius: 0.35em; text-transform: uppercase; vertical-align: middle; margin-left: 0.5rem\">DATE</span>\n",
       "</mark>\n",
       " or so but many of the \n",
       "<mark class=\"entity\" style=\"background: #c887fb; padding: 0.45em 0.6em; margin: 0 0.25em; line-height: 1; border-radius: 0.35em;\">\n",
       "    Trusts\n",
       "    <span style=\"font-size: 0.8em; font-weight: bold; line-height: 1; border-radius: 0.35em; text-transform: uppercase; vertical-align: middle; margin-left: 0.5rem\">NORP</span>\n",
       "</mark>\n",
       " are essentially bankrupt. Despite the difficulty in registering in a \n",
       "<mark class=\"entity\" style=\"background: #7aecec; padding: 0.45em 0.6em; margin: 0 0.25em; line-height: 1; border-radius: 0.35em;\">\n",
       "    GP\n",
       "    <span style=\"font-size: 0.8em; font-weight: bold; line-height: 1; border-radius: 0.35em; text-transform: uppercase; vertical-align: middle; margin-left: 0.5rem\">ORG</span>\n",
       "</mark>\n",
       " practice because they have reached their quota the \n",
       "<mark class=\"entity\" style=\"background: #7aecec; padding: 0.45em 0.6em; margin: 0 0.25em; line-height: 1; border-radius: 0.35em;\">\n",
       "    NHS\n",
       "    <span style=\"font-size: 0.8em; font-weight: bold; line-height: 1; border-radius: 0.35em; text-transform: uppercase; vertical-align: middle; margin-left: 0.5rem\">ORG</span>\n",
       "</mark>\n",
       " is a source of national pride.  It would take a brave politician to privatise the system which has been mooted on \n",
       "<mark class=\"entity\" style=\"background: #e4e7d2; padding: 0.45em 0.6em; margin: 0 0.25em; line-height: 1; border-radius: 0.35em;\">\n",
       "    more than one\n",
       "    <span style=\"font-size: 0.8em; font-weight: bold; line-height: 1; border-radius: 0.35em; text-transform: uppercase; vertical-align: middle; margin-left: 0.5rem\">CARDINAL</span>\n",
       "</mark>\n",
       " occasion. Tax for national insurance contributions (which also includes pension contributions) is high. It is a surprise obesity is such a problem given the effort invested in preventative medicine. </br> </br>Notwithstanding overwork and high work related alcohol consumption, \n",
       "<mark class=\"entity\" style=\"background: #feca74; padding: 0.45em 0.6em; margin: 0 0.25em; line-height: 1; border-radius: 0.35em;\">\n",
       "    Japan\n",
       "    <span style=\"font-size: 0.8em; font-weight: bold; line-height: 1; border-radius: 0.35em; text-transform: uppercase; vertical-align: middle; margin-left: 0.5rem\">GPE</span>\n",
       "</mark>\n",
       " is interesting as the health of the society is cultural (diet, exercise, regular GP visits). However, during my time, there were many scandals surrounding medical school entry. I know of people whose tumours were only discovered after seeking a \n",
       "<mark class=\"entity\" style=\"background: #e4e7d2; padding: 0.45em 0.6em; margin: 0 0.25em; line-height: 1; border-radius: 0.35em;\">\n",
       "    second\n",
       "    <span style=\"font-size: 0.8em; font-weight: bold; line-height: 1; border-radius: 0.35em; text-transform: uppercase; vertical-align: middle; margin-left: 0.5rem\">ORDINAL</span>\n",
       "</mark>\n",
       " opinion back home in \n",
       "<mark class=\"entity\" style=\"background: #feca74; padding: 0.45em 0.6em; margin: 0 0.25em; line-height: 1; border-radius: 0.35em;\">\n",
       "    Australia\n",
       "    <span style=\"font-size: 0.8em; font-weight: bold; line-height: 1; border-radius: 0.35em; text-transform: uppercase; vertical-align: middle; margin-left: 0.5rem\">GPE</span>\n",
       "</mark>\n",
       ". </div></span>"
      ],
      "text/plain": [
       "<IPython.core.display.HTML object>"
      ]
     },
     "metadata": {},
     "output_type": "display_data"
    },
    {
     "name": "stdout",
     "output_type": "stream",
     "text": [
      "------------------------------------------------------------------------\n"
     ]
    },
    {
     "data": {
      "text/html": [
       "<span class=\"tex2jax_ignore\"><div class=\"entities\" style=\"line-height: 2.5; direction: ltr\">I pick \n",
       "<mark class=\"entity\" style=\"background: #feca74; padding: 0.45em 0.6em; margin: 0 0.25em; line-height: 1; border-radius: 0.35em;\">\n",
       "    Switzerland\n",
       "    <span style=\"font-size: 0.8em; font-weight: bold; line-height: 1; border-radius: 0.35em; text-transform: uppercase; vertical-align: middle; margin-left: 0.5rem\">GPE</span>\n",
       "</mark>\n",
       " as the healthcare system  ,</br>the waiting list and services were reasonable, the healthcare workers are not underpaid unlike \n",
       "<mark class=\"entity\" style=\"background: #feca74; padding: 0.45em 0.6em; margin: 0 0.25em; line-height: 1; border-radius: 0.35em;\">\n",
       "    Germany\n",
       "    <span style=\"font-size: 0.8em; font-weight: bold; line-height: 1; border-radius: 0.35em; text-transform: uppercase; vertical-align: middle; margin-left: 0.5rem\">GPE</span>\n",
       "</mark>\n",
       ", the healthcare providers are not financially short like \n",
       "<mark class=\"entity\" style=\"background: #feca74; padding: 0.45em 0.6em; margin: 0 0.25em; line-height: 1; border-radius: 0.35em;\">\n",
       "    Taiwan\n",
       "    <span style=\"font-size: 0.8em; font-weight: bold; line-height: 1; border-radius: 0.35em; text-transform: uppercase; vertical-align: middle; margin-left: 0.5rem\">GPE</span>\n",
       "</mark>\n",
       " or \n",
       "<mark class=\"entity\" style=\"background: #feca74; padding: 0.45em 0.6em; margin: 0 0.25em; line-height: 1; border-radius: 0.35em;\">\n",
       "    Japan\n",
       "    <span style=\"font-size: 0.8em; font-weight: bold; line-height: 1; border-radius: 0.35em; text-transform: uppercase; vertical-align: middle; margin-left: 0.5rem\">GPE</span>\n",
       "</mark>\n",
       ", the insurance companies compete over the services they provide not based on their profit, there is no waste on admin while \n",
       "<mark class=\"entity\" style=\"background: #e4e7d2; padding: 0.45em 0.6em; margin: 0 0.25em; line-height: 1; border-radius: 0.35em;\">\n",
       "    5%\n",
       "    <span style=\"font-size: 0.8em; font-weight: bold; line-height: 1; border-radius: 0.35em; text-transform: uppercase; vertical-align: middle; margin-left: 0.5rem\">PERCENT</span>\n",
       "</mark>\n",
       " very reasonable \n",
       "with having the healthcare workers satisfied with their wage , the direct effect is on the patient well being, also it does not cut out the next generation to peruse this as a career which is the demand of future,</div></span>"
      ],
      "text/plain": [
       "<IPython.core.display.HTML object>"
      ]
     },
     "metadata": {},
     "output_type": "display_data"
    },
    {
     "name": "stdout",
     "output_type": "stream",
     "text": [
      "------------------------------------------------------------------------\n"
     ]
    }
   ],
   "source": [
    "for txt in healthsystem_text:\n",
    "    doc = nlp(txt)\n",
    "    displacy.render(doc, style=\"ent\")\n",
    "    print('-'*72)"
   ]
  },
  {
   "cell_type": "markdown",
   "metadata": {},
   "source": [
    "### My Examination of the results indicates three [entity types](https://spacy.io/api/annotation#named-entities) of interest\n",
    "\n",
    "- __GPE__: Geopolitical entity\n",
    "    - e.g. UK\n",
    "- __NORP__: Nationalities or religious or political groups\n",
    "    - e.g. British\n",
    "- __ORG__: Organization\n",
    "    - e.g. National Health Service"
   ]
  },
  {
   "cell_type": "code",
   "execution_count": 6,
   "metadata": {},
   "outputs": [
    {
     "data": {
      "text/html": [
       "<span class=\"tex2jax_ignore\"><div class=\"entities\" style=\"line-height: 2.5; direction: ltr\">I pick \n",
       "<mark class=\"entity\" style=\"background: #feca74; padding: 0.45em 0.6em; margin: 0 0.25em; line-height: 1; border-radius: 0.35em;\">\n",
       "    Switzerland\n",
       "    <span style=\"font-size: 0.8em; font-weight: bold; line-height: 1; border-radius: 0.35em; text-transform: uppercase; vertical-align: middle; margin-left: 0.5rem\">GPE</span>\n",
       "</mark>\n",
       " as the healthcare system  ,</br>the waiting list and services were reasonable, the healthcare workers are not underpaid unlike \n",
       "<mark class=\"entity\" style=\"background: #feca74; padding: 0.45em 0.6em; margin: 0 0.25em; line-height: 1; border-radius: 0.35em;\">\n",
       "    Germany\n",
       "    <span style=\"font-size: 0.8em; font-weight: bold; line-height: 1; border-radius: 0.35em; text-transform: uppercase; vertical-align: middle; margin-left: 0.5rem\">GPE</span>\n",
       "</mark>\n",
       ", the healthcare providers are not financially short like \n",
       "<mark class=\"entity\" style=\"background: #feca74; padding: 0.45em 0.6em; margin: 0 0.25em; line-height: 1; border-radius: 0.35em;\">\n",
       "    Taiwan\n",
       "    <span style=\"font-size: 0.8em; font-weight: bold; line-height: 1; border-radius: 0.35em; text-transform: uppercase; vertical-align: middle; margin-left: 0.5rem\">GPE</span>\n",
       "</mark>\n",
       " or \n",
       "<mark class=\"entity\" style=\"background: #feca74; padding: 0.45em 0.6em; margin: 0 0.25em; line-height: 1; border-radius: 0.35em;\">\n",
       "    Japan\n",
       "    <span style=\"font-size: 0.8em; font-weight: bold; line-height: 1; border-radius: 0.35em; text-transform: uppercase; vertical-align: middle; margin-left: 0.5rem\">GPE</span>\n",
       "</mark>\n",
       ", the insurance companies compete over the services they provide not based on their profit, there is no waste on admin while \n",
       "<mark class=\"entity\" style=\"background: #e4e7d2; padding: 0.45em 0.6em; margin: 0 0.25em; line-height: 1; border-radius: 0.35em;\">\n",
       "    5%\n",
       "    <span style=\"font-size: 0.8em; font-weight: bold; line-height: 1; border-radius: 0.35em; text-transform: uppercase; vertical-align: middle; margin-left: 0.5rem\">PERCENT</span>\n",
       "</mark>\n",
       " very reasonable \n",
       "with having the healthcare workers satisfied with their wage , the direct effect is on the patient well being, also it does not cut out the next generation to peruse this as a career which is the demand of future,</div></span>"
      ],
      "text/plain": [
       "<IPython.core.display.HTML object>"
      ]
     },
     "metadata": {},
     "output_type": "display_data"
    }
   ],
   "source": [
    "displacy.render(doc, style=\"ent\")"
   ]
  },
  {
   "cell_type": "code",
   "execution_count": null,
   "metadata": {},
   "outputs": [],
   "source": [
    "    "
   ]
  },
  {
   "cell_type": "markdown",
   "metadata": {},
   "source": [
    "### Filtering Entities\n",
    "\n",
    "Let's reduce the number of the recognized entities by only keeping entities that might conceivably be one of our healthsystems."
   ]
  },
  {
   "cell_type": "code",
   "execution_count": 7,
   "metadata": {},
   "outputs": [],
   "source": [
    "healthsystems = []\n",
    "labels = ['GPE', 'NORP', 'ORG']\n",
    "for txt in healthsystem_text:\n",
    "    doc = nlp(txt)\n",
    "    healthsystems.append([ent.lemma_.strip() for ent in doc.ents if ent.label_ in labels and ent.string != 'GP'])\n"
   ]
  },
  {
   "cell_type": "code",
   "execution_count": 8,
   "metadata": {},
   "outputs": [],
   "source": [
    "analysis = []\n",
    "for r in healthsystems:\n",
    "    try:\n",
    "        analysis.append({\"first\":r[0], \"counter\":Counter(r)})\n",
    "    except:\n",
    "        analysis.append({})\n",
    "    "
   ]
  },
  {
   "cell_type": "code",
   "execution_count": 9,
   "metadata": {},
   "outputs": [
    {
     "data": {
      "text/plain": [
       "[{'first': 'Taiwan', 'counter': Counter({'Taiwan': 1, 'China': 1})},\n",
       " {'first': \"New Zealand 's\", 'counter': Counter({\"New Zealand 's\": 2})},\n",
       " {'first': 'Chinese',\n",
       "  'counter': Counter({'Chinese': 1,\n",
       "           'Taiwan': 4,\n",
       "           'chinese': 1,\n",
       "           'China': 2,\n",
       "           'Taiwanese': 1})},\n",
       " {'first': 'Taiwan', 'counter': Counter({'Taiwan': 3, 'China': 1})},\n",
       " {'first': 'Taiwan', 'counter': Counter({'Taiwan': 4})},\n",
       " {'first': 'british',\n",
       "  'counter': Counter({'british': 2,\n",
       "           'UK': 1,\n",
       "           'the National Health Service': 1})},\n",
       " {},\n",
       " {'first': 'Japan', 'counter': Counter({'Japan': 3})},\n",
       " {'first': 'Switzerland',\n",
       "  'counter': Counter({'Switzerland': 3, 'UK': 1, 'Japan': 1})},\n",
       " {'first': 'Japan', 'counter': Counter({'Japan': 1, 'japanese': 3})},\n",
       " {'first': 'Healthcare',\n",
       "  'counter': Counter({'Healthcare': 1, 'Taiwan': 1, 'japanese': 1})},\n",
       " {'first': 'Switzerland', 'counter': Counter({'Switzerland': 2, 'swiss': 1})},\n",
       " {'first': 'japanese',\n",
       "  'counter': Counter({'japanese': 3,\n",
       "           'nordic': 2,\n",
       "           'american': 1,\n",
       "           'the United States': 1,\n",
       "           'Japan': 3})},\n",
       " {'first': 'Germany',\n",
       "  'counter': Counter({'Germany': 1, 'Germans': 3, 'Japan': 1})},\n",
       " {'first': 'Japan', 'counter': Counter({'Japan': 2, 'japanese': 1})},\n",
       " {'first': 'Germany',\n",
       "  'counter': Counter({'Germany': 1, 'America': 1, 'British': 1, 'Japan': 1})},\n",
       " {'first': 'Japan',\n",
       "  'counter': Counter({'Japan': 4,\n",
       "           'the United States': 1,\n",
       "           'japanese': 2,\n",
       "           'Japanese': 1,\n",
       "           'Australia': 1,\n",
       "           'GP': 2,\n",
       "           'STANDARD': 1,\n",
       "           'JAPAN': 1,\n",
       "           'the Japanese Health Ministry': 1})},\n",
       " {'first': 'Japan', 'counter': Counter({'Japan': 2})},\n",
       " {'first': 'japanese', 'counter': Counter({'japanese': 1, 'Japan': 5})},\n",
       " {'first': 'Japan',\n",
       "  'counter': Counter({'Japan': 2,\n",
       "           'Japanese': 1,\n",
       "           'Americans': 1,\n",
       "           'the Japanese Health Ministry': 1})},\n",
       " {'first': 'UK',\n",
       "  'counter': Counter({'UK': 1,\n",
       "           'the United States': 1,\n",
       "           'Switzerland': 1,\n",
       "           'Germany': 1,\n",
       "           'british': 1})},\n",
       " {'first': 'Japan', 'counter': Counter({'Japan': 1, 'japanese': 1})},\n",
       " {'first': 'japanese',\n",
       "  'counter': Counter({'japanese': 2, 'Japan': 2, 'medicare': 1})},\n",
       " {'first': 'Japan',\n",
       "  'counter': Counter({'Japan': 3, 'japanese': 1, 'America': 1})},\n",
       " {'first': 'UK',\n",
       "  'counter': Counter({'UK': 4,\n",
       "           'Australia': 1,\n",
       "           'the United States': 1,\n",
       "           'China': 3})},\n",
       " {'first': 'Japan',\n",
       "  'counter': Counter({'Japan': 1,\n",
       "           'Australia': 2,\n",
       "           'Medicare': 1,\n",
       "           'japanese': 1})},\n",
       " {'first': 'the Taiwan Healthcare System',\n",
       "  'counter': Counter({'the Taiwan Healthcare System': 1,\n",
       "           'Information Technologies': 1,\n",
       "           'Big Brother': 1})},\n",
       " {'first': 'Taiwan', 'counter': Counter({'Taiwan': 2})},\n",
       " {'first': 'japanese', 'counter': Counter({'japanese': 1})},\n",
       " {'first': 'american',\n",
       "  'counter': Counter({'american': 1,\n",
       "           'the United States': 2,\n",
       "           'U.S.': 1,\n",
       "           'United States': 1,\n",
       "           'Medicare': 1,\n",
       "           'Medicaid': 1})},\n",
       " {'first': 'Japan',\n",
       "  'counter': Counter({'Japan': 3, 'Healthcare': 1, 'Ikigai': 1, 'japan': 1})},\n",
       " {'first': 'Japan',\n",
       "  'counter': Counter({'Japan': 4, 'Taiwan': 1, 'Germany': 1, 'USA': 1})},\n",
       " {'first': 'japanese', 'counter': Counter({'japanese': 3, 'MRI': 1})},\n",
       " {'first': 'japanese',\n",
       "  'counter': Counter({'japanese': 1, 'China': 3, 'Chinese': 1, 'Japan': 2})},\n",
       " {'first': 'japanese',\n",
       "  'counter': Counter({'japanese': 1, 'Japan': 5, 'China': 3})},\n",
       " {'first': 'Australia', 'counter': Counter({'Australia': 4, 'Medicare': 2})},\n",
       " {'first': 'german', 'counter': Counter({'german': 3})},\n",
       " {'first': 'Taiwan', 'counter': Counter({'Taiwan': 2})},\n",
       " {'first': 'Germany', 'counter': Counter({'Germany': 5, 'german': 1})},\n",
       " {'first': 'Taiwan', 'counter': Counter({'Taiwan': 3})},\n",
       " {'first': 'Taiwan',\n",
       "  'counter': Counter({'Taiwan': 2,\n",
       "           'the national health insurance financial': 1})},\n",
       " {'first': 'Healthcare',\n",
       "  'counter': Counter({'Healthcare': 1,\n",
       "           'Switzerland': 2,\n",
       "           'swiss': 1,\n",
       "           'mhi': 1,\n",
       "           'Mitsubishi Heavy Industries': 1,\n",
       "           'MHI': 1})},\n",
       " {'first': 'Japan', 'counter': Counter({'Japan': 3})},\n",
       " {'first': 'Taiwan', 'counter': Counter({'Taiwan': 6})},\n",
       " {'first': 'Finland',\n",
       "  'counter': Counter({'Finland': 4,\n",
       "           'HUS Helsinki University Hospital': 1,\n",
       "           'Avaintec': 1,\n",
       "           'sino - finnish': 1,\n",
       "           'Innovation Research': 1,\n",
       "           'China': 1,\n",
       "           'NewIcon': 1,\n",
       "           'Kuopio': 2,\n",
       "           'Helsinki University Hospital': 1,\n",
       "           'finnish': 2,\n",
       "           'FinnGen': 1})},\n",
       " {'first': 'Japan', 'counter': Counter({'Japan': 3})},\n",
       " {'first': 'Taiwan', 'counter': Counter({'Taiwan': 2})},\n",
       " {'first': 'japanese', 'counter': Counter({'japanese': 2})},\n",
       " {'first': 'Taiwan', 'counter': Counter({'Taiwan': 1})},\n",
       " {'first': 'Taiwan',\n",
       "  'counter': Counter({'Taiwan': 6, 'the United States': 1, 'Taiwanese': 1})},\n",
       " {'first': 'Taiwanese', 'counter': Counter({'Taiwanese': 2})},\n",
       " {'first': 'Taiwan',\n",
       "  'counter': Counter({'Taiwan': 4,\n",
       "           'the National Health Insurance': 1,\n",
       "           'NHI': 2})},\n",
       " {'first': 'Asian',\n",
       "  'counter': Counter({'Asian': 1, 'Japan': 1, 'japanese': 5})},\n",
       " {'first': 'Japan', 'counter': Counter({'Japan': 3, 'British': 1})},\n",
       " {'first': 'Taiwan', 'counter': Counter({'Taiwan': 2, 'japanese': 1})},\n",
       " {'first': 'Japan', 'counter': Counter({'Japan': 3})},\n",
       " {'first': 'Japan', 'counter': Counter({'Japan': 4, 'Japanese': 3, 'who': 1})},\n",
       " {'first': 'UK', 'counter': Counter({'UK': 1, 'NHS': 1, 'british': 1})},\n",
       " {'first': 'the United Kingdom',\n",
       "  'counter': Counter({'the United Kingdom': 1, 'british': 2})},\n",
       " {'first': 'Japan',\n",
       "  'counter': Counter({'Japan': 3, 'european': 1, 'UK': 1, 'Germany': 2})},\n",
       " {'first': 'Japan',\n",
       "  'counter': Counter({'Japan': 1,\n",
       "           'the United Kingdom': 1,\n",
       "           'Germany': 1,\n",
       "           'japanese': 1})},\n",
       " {'first': 'japanese', 'counter': Counter({'japanese': 2, 'Japan': 1})},\n",
       " {'first': 'Swiss',\n",
       "  'counter': Counter({'Swiss': 1, 'healthcare': 1, 'NHS': 1, 'japanese': 1})},\n",
       " {},\n",
       " {'first': 'Taiwan',\n",
       "  'counter': Counter({'Taiwan': 4,\n",
       "           'taiwanese': 2,\n",
       "           'chinese': 1,\n",
       "           'medtech': 1})},\n",
       " {'first': 'Taiwan', 'counter': Counter({'Taiwan': 3, 'NHI': 1})},\n",
       " {'first': 'taiwanese', 'counter': Counter({'taiwanese': 1})},\n",
       " {'first': 'Switzerland',\n",
       "  'counter': Counter({'Switzerland': 3,\n",
       "           'Taiwan': 2,\n",
       "           'clinician': 1,\n",
       "           'Germany': 1})},\n",
       " {'first': 'scandanavian',\n",
       "  'counter': Counter({'scandanavian': 1,\n",
       "           'swiss': 1,\n",
       "           'taiwanese': 1,\n",
       "           'UK': 1,\n",
       "           'Trusts': 1,\n",
       "           'GP': 1,\n",
       "           'NHS': 1,\n",
       "           'Japan': 1,\n",
       "           'Australia': 1})},\n",
       " {'first': 'Switzerland',\n",
       "  'counter': Counter({'Switzerland': 1,\n",
       "           'Germany': 1,\n",
       "           'Taiwan': 1,\n",
       "           'Japan': 1})}]"
      ]
     },
     "execution_count": 9,
     "metadata": {},
     "output_type": "execute_result"
    }
   ],
   "source": [
    "analysis"
   ]
  },
  {
   "cell_type": "markdown",
   "metadata": {},
   "source": [
    "## 6 Countries\n",
    "\n",
    "There were a couple of countries selected that were not part of Reid's documentary. I'm going to ignore those. Here rather than combing the GPE, NORP, and ORG categories I'm going to create my own entity and use Spacy's pattern matching to identify them."
   ]
  },
  {
   "cell_type": "code",
   "execution_count": 10,
   "metadata": {},
   "outputs": [],
   "source": [
    "from spacy.pipeline import EntityRuler\n",
    "\n",
    "ruler = EntityRuler(nlp)\n",
    "\n",
    "_us_patterns = [[{\"LOWER\":\"united\"}, {\"LOWER\":\"states\"}],\n",
    "               [{\"LOWER\":\"usa\"}], \n",
    "               [{\"LOWER\":\"u.s.a\"}],\n",
    "               [{\"LOWER\":\"u.s.\"}],\n",
    "               [{\"LOWER\":\"america\"}]]\n",
    "_uk_patterns = [[{\"LOWER\":\"uk\"}],\n",
    "               [{\"LOWER\":\"britian\"}],\n",
    "               [{\"LOWER\":\"british\"}],\n",
    "               [{\"LOWER\":\"united\"}, {\"LOWER\":\"kingdom\"}],\n",
    "               [{\"LOWER\":\"nhs\"}]]\n",
    "_ch_patterns = [[{\"LOWER\":\"switzerland\"}],\n",
    "               [{\"LOWER\":\"swiss\"}]]\n",
    "_de_patterns = [[{\"LOWER\":\"germany\"}],\n",
    "               [{\"LOWER\":\"german\"}]]\n",
    "_jp_patterns = [[{\"LOWER\":\"japan\"}],\n",
    "               [{\"LOWER\":\"japanese\"}]]\n",
    "_tw_patterns = [[{\"LOWER\":\"taiwan\"}],\n",
    "               [{\"LOWER\":\"taiwanese\"}]]"
   ]
  },
  {
   "cell_type": "code",
   "execution_count": 11,
   "metadata": {},
   "outputs": [],
   "source": [
    "us_patterns = [{\"label\":\"HEALTHSYSTEM\", \"pattern\":p, \"id\":\"USA\"} for p in _us_patterns]\n",
    "uk_patterns = [{\"label\":\"HEALTHSYSTEM\", \"pattern\":p, \"id\":\"UK\"} for p in _uk_patterns]\n",
    "ch_patterns = [{\"label\":\"HEALTHSYSTEM\", \"pattern\":p, \"id\":\"CH\"} for p in _ch_patterns]\n",
    "de_patterns = [{\"label\":\"HEALTHSYSTEM\", \"pattern\":p, \"id\":\"DE\"} for p in _de_patterns]\n",
    "jp_patterns = [{\"label\":\"HEALTHSYSTEM\", \"pattern\":p, \"id\":\"JP\"} for p in _jp_patterns]\n",
    "tw_patterns = [{\"label\":\"HEALTHSYSTEM\", \"pattern\":p, \"id\":\"TW\"} for p in _tw_patterns]"
   ]
  },
  {
   "cell_type": "code",
   "execution_count": 12,
   "metadata": {},
   "outputs": [],
   "source": [
    "ruler.add_patterns(us_patterns+uk_patterns+ch_patterns+de_patterns+jp_patterns+tw_patterns)"
   ]
  },
  {
   "cell_type": "code",
   "execution_count": 13,
   "metadata": {},
   "outputs": [],
   "source": [
    "nlp.add_pipe(ruler)"
   ]
  },
  {
   "cell_type": "markdown",
   "metadata": {},
   "source": [
    "### I'm disability Spacy's NER so that only my entity detector is used"
   ]
  },
  {
   "cell_type": "code",
   "execution_count": 14,
   "metadata": {},
   "outputs": [
    {
     "data": {
      "text/html": [
       "<span class=\"tex2jax_ignore\"><div class=\"entities\" style=\"line-height: 2.5; direction: ltr\">By watching sick around the world, I think \n",
       "<mark class=\"entity\" style=\"background: #ddd; padding: 0.45em 0.6em; margin: 0 0.25em; line-height: 1; border-radius: 0.35em;\">\n",
       "    Taiwan\n",
       "    <span style=\"font-size: 0.8em; font-weight: bold; line-height: 1; border-radius: 0.35em; text-transform: uppercase; vertical-align: middle; margin-left: 0.5rem\">HEALTHSYSTEM</span>\n",
       "</mark>\n",
       "'s medical system is the one I like the most.\n",
       "From the perspective of people's experience, it is very similar to the system being used in mainland China. Almost everyone has the right to medical insurance, and then the government will pay for all mainstream medical care, and the people only need to pay the basic expenses. The most convenient thing in this system is the use of the medical insurance card, which is quite convenient. By recording the user's medical history in detail, the doctor can see the patient's condition at a glance and make a proper diagnosis. Moreover, the payment information of the user is also stored in the card, which makes the payment extremely convenient and extremely friendly to the elderly and the disabled.\n",
       "This highly unified system also eliminates waiting time, allowing people to receive treatment in time before their body conditions change, which can greatly improve people's recovery rate and satisfaction.</div></span>"
      ],
      "text/plain": [
       "<IPython.core.display.HTML object>"
      ]
     },
     "metadata": {},
     "output_type": "display_data"
    },
    {
     "name": "stdout",
     "output_type": "stream",
     "text": [
      "------------------------------------------------------------------------\n"
     ]
    },
    {
     "name": "stderr",
     "output_type": "stream",
     "text": [
      "/Users/brian/anaconda3/envs/nlp/lib/python3.7/runpy.py:193: UserWarning: [W006] No entities to visualize found in Doc object. If this is surprising to you, make sure the Doc was processed using a model that supports named entity recognition, and check the `doc.ents` property manually if necessary.\n",
      "  \"__main__\", mod_spec)\n"
     ]
    },
    {
     "data": {
      "text/html": [
       "<span class=\"tex2jax_ignore\"><div class=\"entities\" style=\"line-height: 2.5; direction: ltr\">Among these 5 health systems, the one that is most interesting to me is New Zealand's healthcare system. I think that many countries have the problem of the lack of medical resources. Many residents need to make appointments with doctors a few days or even weeks in advance or stay in the clinic for a long time. New Zealand's family doctor policy can alleviate a lot of the need to go to the hospital. Because most of the time, patients are suffering from minor symptoms such as colds, that some community doctor or family doctor is able to solve. Only when encountering intractable diseases or surgical operations, the family doctor will introduce the patient to a public or private hospital for examination and treatment by experts. This means that the number of patients going to the hospital will be greatly reduced, which can greatly alleviate the pressure of the hospital, and will not waste too many medical resources.In addition, the family doctor will be more familiar with the physical condition of the residents and can infer the patient's condition more quickly. There are even medical records issued by family doctors that can help patients avoid allergic drugs.However, this policy will also lead to a shortage of resources for family doctors, because regardless of the size of the disease, residents need to notify the family doctor as soon as possible, so the ratio of the population to the family doctor will be a very important decision.</div></span>"
      ],
      "text/plain": [
       "<IPython.core.display.HTML object>"
      ]
     },
     "metadata": {},
     "output_type": "display_data"
    },
    {
     "name": "stdout",
     "output_type": "stream",
     "text": [
      "------------------------------------------------------------------------\n"
     ]
    },
    {
     "data": {
      "text/html": [
       "<span class=\"tex2jax_ignore\"><div class=\"entities\" style=\"line-height: 2.5; direction: ltr\">As a Chinese, I am more interested in \n",
       "<mark class=\"entity\" style=\"background: #ddd; padding: 0.45em 0.6em; margin: 0 0.25em; line-height: 1; border-radius: 0.35em;\">\n",
       "    Taiwan\n",
       "    <span style=\"font-size: 0.8em; font-weight: bold; line-height: 1; border-radius: 0.35em; text-transform: uppercase; vertical-align: middle; margin-left: 0.5rem\">HEALTHSYSTEM</span>\n",
       "</mark>\n",
       "'s health care system, to compare with the Chinese health care system. \n",
       "<mark class=\"entity\" style=\"background: #ddd; padding: 0.45em 0.6em; margin: 0 0.25em; line-height: 1; border-radius: 0.35em;\">\n",
       "    Taiwan\n",
       "    <span style=\"font-size: 0.8em; font-weight: bold; line-height: 1; border-radius: 0.35em; text-transform: uppercase; vertical-align: middle; margin-left: 0.5rem\">HEALTHSYSTEM</span>\n",
       "</mark>\n",
       " and China had similar background back in the 1950s, but \n",
       "<mark class=\"entity\" style=\"background: #ddd; padding: 0.45em 0.6em; margin: 0 0.25em; line-height: 1; border-radius: 0.35em;\">\n",
       "    Taiwan\n",
       "    <span style=\"font-size: 0.8em; font-weight: bold; line-height: 1; border-radius: 0.35em; text-transform: uppercase; vertical-align: middle; margin-left: 0.5rem\">HEALTHSYSTEM</span>\n",
       "</mark>\n",
       " had started early to build their health care system, they referenced all the developed countries' health care system development, and learned from the good routes and avoided the traps in as an example. Therefore, \n",
       "<mark class=\"entity\" style=\"background: #ddd; padding: 0.45em 0.6em; margin: 0 0.25em; line-height: 1; border-radius: 0.35em;\">\n",
       "    Taiwan\n",
       "    <span style=\"font-size: 0.8em; font-weight: bold; line-height: 1; border-radius: 0.35em; text-transform: uppercase; vertical-align: middle; margin-left: 0.5rem\">HEALTHSYSTEM</span>\n",
       "</mark>\n",
       " has built an appropriate system that suits them best.  The health sector issues health care like an ID to every citizen, the citizen uses this health card all the time when they look for a doctor,  the card stores all the history of health records, directly connects with pharmacy and insurance department, the drug bill will be covered right away, so the public won't concern drug expenses and they all satisfy with their health system. Also, \n",
       "<mark class=\"entity\" style=\"background: #ddd; padding: 0.45em 0.6em; margin: 0 0.25em; line-height: 1; border-radius: 0.35em;\">\n",
       "    Taiwanese\n",
       "    <span style=\"font-size: 0.8em; font-weight: bold; line-height: 1; border-radius: 0.35em; text-transform: uppercase; vertical-align: middle; margin-left: 0.5rem\">HEALTHSYSTEM</span>\n",
       "</mark>\n",
       " don't set GP, the patients see doctors directly, therefore their medical processes are efficient, the IT technique supports the health care system to become more efficient and inexpensive. China currently has the similar methods for health care, however, the government started late and the population is enormous, therefore, it takes a long time to develop.</div></span>"
      ],
      "text/plain": [
       "<IPython.core.display.HTML object>"
      ]
     },
     "metadata": {},
     "output_type": "display_data"
    },
    {
     "name": "stdout",
     "output_type": "stream",
     "text": [
      "------------------------------------------------------------------------\n"
     ]
    },
    {
     "data": {
      "text/html": [
       "<span class=\"tex2jax_ignore\"><div class=\"entities\" style=\"line-height: 2.5; direction: ltr\">I am most interested in the health system in \n",
       "<mark class=\"entity\" style=\"background: #ddd; padding: 0.45em 0.6em; margin: 0 0.25em; line-height: 1; border-radius: 0.35em;\">\n",
       "    Taiwan\n",
       "    <span style=\"font-size: 0.8em; font-weight: bold; line-height: 1; border-radius: 0.35em; text-transform: uppercase; vertical-align: middle; margin-left: 0.5rem\">HEALTHSYSTEM</span>\n",
       "</mark>\n",
       ", China. First of all, there is very high satisfaction. \n",
       "<mark class=\"entity\" style=\"background: #ddd; padding: 0.45em 0.6em; margin: 0 0.25em; line-height: 1; border-radius: 0.35em;\">\n",
       "    Taiwan\n",
       "    <span style=\"font-size: 0.8em; font-weight: bold; line-height: 1; border-radius: 0.35em; text-transform: uppercase; vertical-align: middle; margin-left: 0.5rem\">HEALTHSYSTEM</span>\n",
       "</mark>\n",
       "’s healthcare companies rank among the top in the world for their most effective healthcare systems and capabilities. The advantages of \n",
       "<mark class=\"entity\" style=\"background: #ddd; padding: 0.45em 0.6em; margin: 0 0.25em; line-height: 1; border-radius: 0.35em;\">\n",
       "    Taiwan\n",
       "    <span style=\"font-size: 0.8em; font-weight: bold; line-height: 1; border-radius: 0.35em; text-transform: uppercase; vertical-align: middle; margin-left: 0.5rem\">HEALTHSYSTEM</span>\n",
       "</mark>\n",
       "'s medical system are good accessibility, comprehensive population coverage, short waiting time, high quality, affordable prices, leading technology, patient-centric services, and leading physicians to provide comprehensive professional services.</div></span>"
      ],
      "text/plain": [
       "<IPython.core.display.HTML object>"
      ]
     },
     "metadata": {},
     "output_type": "display_data"
    },
    {
     "name": "stdout",
     "output_type": "stream",
     "text": [
      "------------------------------------------------------------------------\n"
     ]
    },
    {
     "data": {
      "text/html": [
       "<span class=\"tex2jax_ignore\"><div class=\"entities\" style=\"line-height: 2.5; direction: ltr\">I choose \n",
       "<mark class=\"entity\" style=\"background: #ddd; padding: 0.45em 0.6em; margin: 0 0.25em; line-height: 1; border-radius: 0.35em;\">\n",
       "    Taiwan\n",
       "    <span style=\"font-size: 0.8em; font-weight: bold; line-height: 1; border-radius: 0.35em; text-transform: uppercase; vertical-align: middle; margin-left: 0.5rem\">HEALTHSYSTEM</span>\n",
       "</mark>\n",
       " as the most interesting country. I lived in \n",
       "<mark class=\"entity\" style=\"background: #ddd; padding: 0.45em 0.6em; margin: 0 0.25em; line-height: 1; border-radius: 0.35em;\">\n",
       "    Taiwan\n",
       "    <span style=\"font-size: 0.8em; font-weight: bold; line-height: 1; border-radius: 0.35em; text-transform: uppercase; vertical-align: middle; margin-left: 0.5rem\">HEALTHSYSTEM</span>\n",
       "</mark>\n",
       " during my university life for almost 4 years. The medical insurance policy in \n",
       "<mark class=\"entity\" style=\"background: #ddd; padding: 0.45em 0.6em; margin: 0 0.25em; line-height: 1; border-radius: 0.35em;\">\n",
       "    Taiwan\n",
       "    <span style=\"font-size: 0.8em; font-weight: bold; line-height: 1; border-radius: 0.35em; text-transform: uppercase; vertical-align: middle; margin-left: 0.5rem\">HEALTHSYSTEM</span>\n",
       "</mark>\n",
       " is the best in the world. Every resident in \n",
       "<mark class=\"entity\" style=\"background: #ddd; padding: 0.45em 0.6em; margin: 0 0.25em; line-height: 1; border-radius: 0.35em;\">\n",
       "    Taiwan\n",
       "    <span style=\"font-size: 0.8em; font-weight: bold; line-height: 1; border-radius: 0.35em; text-transform: uppercase; vertical-align: middle; margin-left: 0.5rem\">HEALTHSYSTEM</span>\n",
       "</mark>\n",
       " needs to opt in the insurance program. Patients only carry the smart card when they need to see the doctor. Medical service and insurance are tied together. Patients only take the card and see the doctor and pay a little fee. Everyone, whatever rich or poor, all people are cared for by the national medical system.</div></span>"
      ],
      "text/plain": [
       "<IPython.core.display.HTML object>"
      ]
     },
     "metadata": {},
     "output_type": "display_data"
    },
    {
     "name": "stdout",
     "output_type": "stream",
     "text": [
      "------------------------------------------------------------------------\n"
     ]
    },
    {
     "data": {
      "text/html": [
       "<span class=\"tex2jax_ignore\"><div class=\"entities\" style=\"line-height: 2.5; direction: ltr\">I will be more interested in the \n",
       "<mark class=\"entity\" style=\"background: #ddd; padding: 0.45em 0.6em; margin: 0 0.25em; line-height: 1; border-radius: 0.35em;\">\n",
       "    British\n",
       "    <span style=\"font-size: 0.8em; font-weight: bold; line-height: 1; border-radius: 0.35em; text-transform: uppercase; vertical-align: middle; margin-left: 0.5rem\">HEALTHSYSTEM</span>\n",
       "</mark>\n",
       " medical system. Reid's book describes the \n",
       "<mark class=\"entity\" style=\"background: #ddd; padding: 0.45em 0.6em; margin: 0 0.25em; line-height: 1; border-radius: 0.35em;\">\n",
       "    British\n",
       "    <span style=\"font-size: 0.8em; font-weight: bold; line-height: 1; border-radius: 0.35em; text-transform: uppercase; vertical-align: middle; margin-left: 0.5rem\">HEALTHSYSTEM</span>\n",
       "</mark>\n",
       " medical system. In the \n",
       "<mark class=\"entity\" style=\"background: #ddd; padding: 0.45em 0.6em; margin: 0 0.25em; line-height: 1; border-radius: 0.35em;\">\n",
       "    UK\n",
       "    <span style=\"font-size: 0.8em; font-weight: bold; line-height: 1; border-radius: 0.35em; text-transform: uppercase; vertical-align: middle; margin-left: 0.5rem\">HEALTHSYSTEM</span>\n",
       "</mark>\n",
       ", nationals do not need to provide additional medical expenses. All medical expenses will be raised by the National Health Service (\n",
       "<mark class=\"entity\" style=\"background: #ddd; padding: 0.45em 0.6em; margin: 0 0.25em; line-height: 1; border-radius: 0.35em;\">\n",
       "    NHS\n",
       "    <span style=\"font-size: 0.8em; font-weight: bold; line-height: 1; border-radius: 0.35em; text-transform: uppercase; vertical-align: middle; margin-left: 0.5rem\">HEALTHSYSTEM</span>\n",
       "</mark>\n",
       ") established by the government through taxation. This is social medicine in the traditional sense. Under this medical system, the competition will occur between hospitals, so as to achieve the purpose of being selected by patients. Such a system greatly enhances the hospital's research capabilities. In the country where I live, although the government will pay a part of the medical expenses for people, people still need to pay for medical treatment. When people get a very serious disease, some people cannot see a doctor because of poverty.</div></span>"
      ],
      "text/plain": [
       "<IPython.core.display.HTML object>"
      ]
     },
     "metadata": {},
     "output_type": "display_data"
    },
    {
     "name": "stdout",
     "output_type": "stream",
     "text": [
      "------------------------------------------------------------------------\n"
     ]
    },
    {
     "name": "stderr",
     "output_type": "stream",
     "text": [
      "/Users/brian/anaconda3/envs/nlp/lib/python3.7/runpy.py:193: UserWarning: [W006] No entities to visualize found in Doc object. If this is surprising to you, make sure the Doc was processed using a model that supports named entity recognition, and check the `doc.ents` property manually if necessary.\n",
      "  \"__main__\", mod_spec)\n"
     ]
    },
    {
     "data": {
      "text/html": [
       "<span class=\"tex2jax_ignore\"><div class=\"entities\" style=\"line-height: 2.5; direction: ltr\">我更喜欢从日本的卫生系统获得医疗保健。我认为日本的医疗保健系统介于英国和美国之间。英国采用公共医疗系统。尽管这种“社会化药品价格便宜,但可能导致效率相对较低。美国的医疗保健已完全私有化。尽管医疗水平很高,但穷人负担不起。在日本,医疗服务由私营部门和医疗机构提供。费用由政府负担,这不仅确保效率,而且大大缓解了医疗困难且费用昂贵的问题,同时,日本没有转诊系统,患者可以随时随地去任何专科医生求诊。他们喜欢,这不仅节省了成本,而且大大减少了患者可能遇到的麻烦。</div></span>"
      ],
      "text/plain": [
       "<IPython.core.display.HTML object>"
      ]
     },
     "metadata": {},
     "output_type": "display_data"
    },
    {
     "name": "stdout",
     "output_type": "stream",
     "text": [
      "------------------------------------------------------------------------\n"
     ]
    },
    {
     "data": {
      "text/html": [
       "<span class=\"tex2jax_ignore\"><div class=\"entities\" style=\"line-height: 2.5; direction: ltr\">When arguing about which country I prefer from the VIDEO, I choose \n",
       "<mark class=\"entity\" style=\"background: #ddd; padding: 0.45em 0.6em; margin: 0 0.25em; line-height: 1; border-radius: 0.35em;\">\n",
       "    Japan\n",
       "    <span style=\"font-size: 0.8em; font-weight: bold; line-height: 1; border-radius: 0.35em; text-transform: uppercase; vertical-align: middle; margin-left: 0.5rem\">HEALTHSYSTEM</span>\n",
       "</mark>\n",
       ". The reason is because \n",
       "<mark class=\"entity\" style=\"background: #ddd; padding: 0.45em 0.6em; margin: 0 0.25em; line-height: 1; border-radius: 0.35em;\">\n",
       "    Japan\n",
       "    <span style=\"font-size: 0.8em; font-weight: bold; line-height: 1; border-radius: 0.35em; text-transform: uppercase; vertical-align: middle; margin-left: 0.5rem\">HEALTHSYSTEM</span>\n",
       "</mark>\n",
       " has a ‘social insurance’. This policy provide people who can’t afford a medical help could receive health care, which means \n",
       "<mark class=\"entity\" style=\"background: #ddd; padding: 0.45em 0.6em; margin: 0 0.25em; line-height: 1; border-radius: 0.35em;\">\n",
       "    Japan\n",
       "    <span style=\"font-size: 0.8em; font-weight: bold; line-height: 1; border-radius: 0.35em; text-transform: uppercase; vertical-align: middle; margin-left: 0.5rem\">HEALTHSYSTEM</span>\n",
       "</mark>\n",
       " gave a wider access to its citizens and shorten the gap between rich people and poor people in health care. Moreover, people could select their own health care option, for example, people with higher income could select private health care and poor people could receive social insurance, this promotes the fairness. </div></span>"
      ],
      "text/plain": [
       "<IPython.core.display.HTML object>"
      ]
     },
     "metadata": {},
     "output_type": "display_data"
    },
    {
     "name": "stdout",
     "output_type": "stream",
     "text": [
      "------------------------------------------------------------------------\n"
     ]
    },
    {
     "data": {
      "text/html": [
       "<span class=\"tex2jax_ignore\"><div class=\"entities\" style=\"line-height: 2.5; direction: ltr\">I prefer to get my healthcare from \n",
       "<mark class=\"entity\" style=\"background: #ddd; padding: 0.45em 0.6em; margin: 0 0.25em; line-height: 1; border-radius: 0.35em;\">\n",
       "    Switzerland\n",
       "    <span style=\"font-size: 0.8em; font-weight: bold; line-height: 1; border-radius: 0.35em; text-transform: uppercase; vertical-align: middle; margin-left: 0.5rem\">HEALTHSYSTEM</span>\n",
       "</mark>\n",
       "’s health system. Compare to the no bills, shorter \n",
       "<mark class=\"entity\" style=\"background: #ddd; padding: 0.45em 0.6em; margin: 0 0.25em; line-height: 1; border-radius: 0.35em;\">\n",
       "    NHS\n",
       "    <span style=\"font-size: 0.8em; font-weight: bold; line-height: 1; border-radius: 0.35em; text-transform: uppercase; vertical-align: middle; margin-left: 0.5rem\">HEALTHSYSTEM</span>\n",
       "</mark>\n",
       " waiting lists, with excellent preventive medicine and great preventive care in \n",
       "<mark class=\"entity\" style=\"background: #ddd; padding: 0.45em 0.6em; margin: 0 0.25em; line-height: 1; border-radius: 0.35em;\">\n",
       "    UK\n",
       "    <span style=\"font-size: 0.8em; font-weight: bold; line-height: 1; border-radius: 0.35em; text-transform: uppercase; vertical-align: middle; margin-left: 0.5rem\">HEALTHSYSTEM</span>\n",
       "</mark>\n",
       ", and the longest life expectancy, excellent health results, no waiting lists and rock bottom costs in \n",
       "<mark class=\"entity\" style=\"background: #ddd; padding: 0.45em 0.6em; margin: 0 0.25em; line-height: 1; border-radius: 0.35em;\">\n",
       "    Japan\n",
       "    <span style=\"font-size: 0.8em; font-weight: bold; line-height: 1; border-radius: 0.35em; text-transform: uppercase; vertical-align: middle; margin-left: 0.5rem\">HEALTHSYSTEM</span>\n",
       "</mark>\n",
       ". Everybody in \n",
       "<mark class=\"entity\" style=\"background: #ddd; padding: 0.45em 0.6em; margin: 0 0.25em; line-height: 1; border-radius: 0.35em;\">\n",
       "    Switzerland\n",
       "    <span style=\"font-size: 0.8em; font-weight: bold; line-height: 1; border-radius: 0.35em; text-transform: uppercase; vertical-align: middle; margin-left: 0.5rem\">HEALTHSYSTEM</span>\n",
       "</mark>\n",
       " buy insurance with the state paying for the poor. In return, it guaranteed a comprehensive package of medical care for all. Although it has challenge that having achieved universal health care, it has to decide how much citizens are willing to pay. It’s already the second most expensive health care system in the world. \n",
       "<mark class=\"entity\" style=\"background: #ddd; padding: 0.45em 0.6em; margin: 0 0.25em; line-height: 1; border-radius: 0.35em;\">\n",
       "    Switzerland\n",
       "    <span style=\"font-size: 0.8em; font-weight: bold; line-height: 1; border-radius: 0.35em; text-transform: uppercase; vertical-align: middle; margin-left: 0.5rem\">HEALTHSYSTEM</span>\n",
       "</mark>\n",
       " provides a more comprehensive healthcare system, which achieves social equity and reduces the burden on low-income people.</div></span>"
      ],
      "text/plain": [
       "<IPython.core.display.HTML object>"
      ]
     },
     "metadata": {},
     "output_type": "display_data"
    },
    {
     "name": "stdout",
     "output_type": "stream",
     "text": [
      "------------------------------------------------------------------------\n"
     ]
    },
    {
     "data": {
      "text/html": [
       "<span class=\"tex2jax_ignore\"><div class=\"entities\" style=\"line-height: 2.5; direction: ltr\">After watching Sick Around the World, I prefer to get healthcare from \n",
       "<mark class=\"entity\" style=\"background: #ddd; padding: 0.45em 0.6em; margin: 0 0.25em; line-height: 1; border-radius: 0.35em;\">\n",
       "    Japan\n",
       "    <span style=\"font-size: 0.8em; font-weight: bold; line-height: 1; border-radius: 0.35em; text-transform: uppercase; vertical-align: middle; margin-left: 0.5rem\">HEALTHSYSTEM</span>\n",
       "</mark>\n",
       " most. I think that the price problem and the allocation of medical resources are challenges faced by medical systems all over the world. The \n",
       "<mark class=\"entity\" style=\"background: #ddd; padding: 0.45em 0.6em; margin: 0 0.25em; line-height: 1; border-radius: 0.35em;\">\n",
       "    Japanese\n",
       "    <span style=\"font-size: 0.8em; font-weight: bold; line-height: 1; border-radius: 0.35em; text-transform: uppercase; vertical-align: middle; margin-left: 0.5rem\">HEALTHSYSTEM</span>\n",
       "</mark>\n",
       " medical system responds to this problem in a very special way, which is to set a uniform price for medical prices across the country. This measure allows citizens to enjoy relatively equal medical resources and acceptable prices to the greatest extent. Of course, as mentioned in the video, this measure also exposes most \n",
       "<mark class=\"entity\" style=\"background: #ddd; padding: 0.45em 0.6em; margin: 0 0.25em; line-height: 1; border-radius: 0.35em;\">\n",
       "    Japanese\n",
       "    <span style=\"font-size: 0.8em; font-weight: bold; line-height: 1; border-radius: 0.35em; text-transform: uppercase; vertical-align: middle; margin-left: 0.5rem\">HEALTHSYSTEM</span>\n",
       "</mark>\n",
       " hospitals to fiscal deficits. If it can be successfully resolved, how to ensure the interests of the patients while ensuring the benefits of the hospital, I think the \n",
       "<mark class=\"entity\" style=\"background: #ddd; padding: 0.45em 0.6em; margin: 0 0.25em; line-height: 1; border-radius: 0.35em;\">\n",
       "    Japanese\n",
       "    <span style=\"font-size: 0.8em; font-weight: bold; line-height: 1; border-radius: 0.35em; text-transform: uppercase; vertical-align: middle; margin-left: 0.5rem\">HEALTHSYSTEM</span>\n",
       "</mark>\n",
       " medical system will become a very successful example.</div></span>"
      ],
      "text/plain": [
       "<IPython.core.display.HTML object>"
      ]
     },
     "metadata": {},
     "output_type": "display_data"
    },
    {
     "name": "stdout",
     "output_type": "stream",
     "text": [
      "------------------------------------------------------------------------\n"
     ]
    },
    {
     "data": {
      "text/html": [
       "<span class=\"tex2jax_ignore\"><div class=\"entities\" style=\"line-height: 2.5; direction: ltr\">As said in the video, Healthcare must be every person's right irrespective of their employability status. As in the case of \n",
       "<mark class=\"entity\" style=\"background: #ddd; padding: 0.45em 0.6em; margin: 0 0.25em; line-height: 1; border-radius: 0.35em;\">\n",
       "    Taiwan\n",
       "    <span style=\"font-size: 0.8em; font-weight: bold; line-height: 1; border-radius: 0.35em; text-transform: uppercase; vertical-align: middle; margin-left: 0.5rem\">HEALTHSYSTEM</span>\n",
       "</mark>\n",
       " deciding its healthcare policies by picking out the best attributes from healthcare systems around the world and refining to make a better is in fact the optimal solution to current day healthcare. However, I am most intrigued by the \n",
       "<mark class=\"entity\" style=\"background: #ddd; padding: 0.45em 0.6em; margin: 0 0.25em; line-height: 1; border-radius: 0.35em;\">\n",
       "    Japanese\n",
       "    <span style=\"font-size: 0.8em; font-weight: bold; line-height: 1; border-radius: 0.35em; text-transform: uppercase; vertical-align: middle; margin-left: 0.5rem\">HEALTHSYSTEM</span>\n",
       "</mark>\n",
       " healthcare system as the entire public is covered for health care irrespective of their status. Most prices are negotiated to keep in mind the records of people visiting and the need of that particular medicine/service. Since there is very little to no waiting time, it is optimal for any patient at any given time(even in case of an emergency) to get the right treatment on time.\n",
       "On top of all these, there is a proper management system in place that can account for 126million people enrolled on the single payment system that keeps track of every visit/medication used/ future visits needed etc.</div></span>"
      ],
      "text/plain": [
       "<IPython.core.display.HTML object>"
      ]
     },
     "metadata": {},
     "output_type": "display_data"
    },
    {
     "name": "stdout",
     "output_type": "stream",
     "text": [
      "------------------------------------------------------------------------\n"
     ]
    },
    {
     "data": {
      "text/html": [
       "<span class=\"tex2jax_ignore\"><div class=\"entities\" style=\"line-height: 2.5; direction: ltr\">I would like to choose the health system from \n",
       "<mark class=\"entity\" style=\"background: #ddd; padding: 0.45em 0.6em; margin: 0 0.25em; line-height: 1; border-radius: 0.35em;\">\n",
       "    Switzerland\n",
       "    <span style=\"font-size: 0.8em; font-weight: bold; line-height: 1; border-radius: 0.35em; text-transform: uppercase; vertical-align: middle; margin-left: 0.5rem\">HEALTHSYSTEM</span>\n",
       "</mark>\n",
       ". It is known that health insurance is compulsory for all long-term residents in \n",
       "<mark class=\"entity\" style=\"background: #ddd; padding: 0.45em 0.6em; margin: 0 0.25em; line-height: 1; border-radius: 0.35em;\">\n",
       "    Switzerland\n",
       "    <span style=\"font-size: 0.8em; font-weight: bold; line-height: 1; border-radius: 0.35em; text-transform: uppercase; vertical-align: middle; margin-left: 0.5rem\">HEALTHSYSTEM</span>\n",
       "</mark>\n",
       " and the premium is the same in principle regardless of age, sex and state of health. Specially, government will pay for the poor for the health service. This law makes sure that all the residents can receive good health service and ensure the human right to have a private health care when they get hurt. Besides, as all the residents entitled to health insurance, it eliminates the fear of medical disputes and safeguards the interests of the members. In addition, as the state determines the price of medicines and medical services, the insurance company can only attract people by improving their service, the healthy competition among company control the cost of care and ensure the quality of service at the same time. Furthermore, as patients are protecting by the health insurance, they have the right to change doctor at any time. indeed, \n",
       "<mark class=\"entity\" style=\"background: #ddd; padding: 0.45em 0.6em; margin: 0 0.25em; line-height: 1; border-radius: 0.35em;\">\n",
       "    Swiss\n",
       "    <span style=\"font-size: 0.8em; font-weight: bold; line-height: 1; border-radius: 0.35em; text-transform: uppercase; vertical-align: middle; margin-left: 0.5rem\">HEALTHSYSTEM</span>\n",
       "</mark>\n",
       " doctors talk directly with patients, ensuring that each patient fully understands and participates in all decisions.</div></span>"
      ],
      "text/plain": [
       "<IPython.core.display.HTML object>"
      ]
     },
     "metadata": {},
     "output_type": "display_data"
    },
    {
     "name": "stdout",
     "output_type": "stream",
     "text": [
      "------------------------------------------------------------------------\n"
     ]
    },
    {
     "data": {
      "text/html": [
       "<span class=\"tex2jax_ignore\"><div class=\"entities\" style=\"line-height: 2.5; direction: ltr\">I would like to choose the \n",
       "<mark class=\"entity\" style=\"background: #ddd; padding: 0.45em 0.6em; margin: 0 0.25em; line-height: 1; border-radius: 0.35em;\">\n",
       "    Japanese\n",
       "    <span style=\"font-size: 0.8em; font-weight: bold; line-height: 1; border-radius: 0.35em; text-transform: uppercase; vertical-align: middle; margin-left: 0.5rem\">HEALTHSYSTEM</span>\n",
       "</mark>\n",
       " medical system. I think the \n",
       "<mark class=\"entity\" style=\"background: #ddd; padding: 0.45em 0.6em; margin: 0 0.25em; line-height: 1; border-radius: 0.35em;\">\n",
       "    Japanese\n",
       "    <span style=\"font-size: 0.8em; font-weight: bold; line-height: 1; border-radius: 0.35em; text-transform: uppercase; vertical-align: middle; margin-left: 0.5rem\">HEALTHSYSTEM</span>\n",
       "</mark>\n",
       " medical system is somewhere between the Nordic and American models. The Nordic countries mostly adopt public medical systems, which are relatively inefficient. The \n",
       "<mark class=\"entity\" style=\"background: #ddd; padding: 0.45em 0.6em; margin: 0 0.25em; line-height: 1; border-radius: 0.35em;\">\n",
       "    United States\n",
       "    <span style=\"font-size: 0.8em; font-weight: bold; line-height: 1; border-radius: 0.35em; text-transform: uppercase; vertical-align: middle; margin-left: 0.5rem\">HEALTHSYSTEM</span>\n",
       "</mark>\n",
       " is privatized. Although the level of medical care is high, the poor are burdened with suffering. Medical services in \n",
       "<mark class=\"entity\" style=\"background: #ddd; padding: 0.45em 0.6em; margin: 0 0.25em; line-height: 1; border-radius: 0.35em;\">\n",
       "    Japan\n",
       "    <span style=\"font-size: 0.8em; font-weight: bold; line-height: 1; border-radius: 0.35em; text-transform: uppercase; vertical-align: middle; margin-left: 0.5rem\">HEALTHSYSTEM</span>\n",
       "</mark>\n",
       " are provided by the private sector, while the government pays for medical expenses. This not only ensures efficiency but also solves the problems of difficult and expensive medical treatment. \n",
       "<mark class=\"entity\" style=\"background: #ddd; padding: 0.45em 0.6em; margin: 0 0.25em; line-height: 1; border-radius: 0.35em;\">\n",
       "    Japan\n",
       "    <span style=\"font-size: 0.8em; font-weight: bold; line-height: 1; border-radius: 0.35em; text-transform: uppercase; vertical-align: middle; margin-left: 0.5rem\">HEALTHSYSTEM</span>\n",
       "</mark>\n",
       " implements national public medical insurance, which has already covered all citizens. Thanks to this system, the burden on \n",
       "<mark class=\"entity\" style=\"background: #ddd; padding: 0.45em 0.6em; margin: 0 0.25em; line-height: 1; border-radius: 0.35em;\">\n",
       "    Japanese\n",
       "    <span style=\"font-size: 0.8em; font-weight: bold; line-height: 1; border-radius: 0.35em; text-transform: uppercase; vertical-align: middle; margin-left: 0.5rem\">HEALTHSYSTEM</span>\n",
       "</mark>\n",
       " people when seeking medical treatment is very small, and many diseases can be detected and treated early, eliminating the need for more expensive treatment costs after the disease worsens. The proportion of public expenditure in \n",
       "<mark class=\"entity\" style=\"background: #ddd; padding: 0.45em 0.6em; margin: 0 0.25em; line-height: 1; border-radius: 0.35em;\">\n",
       "    Japan\n",
       "    <span style=\"font-size: 0.8em; font-weight: bold; line-height: 1; border-radius: 0.35em; text-transform: uppercase; vertical-align: middle; margin-left: 0.5rem\">HEALTHSYSTEM</span>\n",
       "</mark>\n",
       "'s total medical expenses is relatively high. Citizens are divided by age, and benefits are equal regardless of income in the same age group. Young people and high-income earners take on more responsibilities. The preference for the poor, children and the elderly is a manifestation of social justice. Pay attention to the value of medical workers and enrich the supply of social medical resources.</div></span>"
      ],
      "text/plain": [
       "<IPython.core.display.HTML object>"
      ]
     },
     "metadata": {},
     "output_type": "display_data"
    },
    {
     "name": "stdout",
     "output_type": "stream",
     "text": [
      "------------------------------------------------------------------------\n"
     ]
    },
    {
     "data": {
      "text/html": [
       "<span class=\"tex2jax_ignore\"><div class=\"entities\" style=\"line-height: 2.5; direction: ltr\">After watching the video, I am most intrigued by \n",
       "<mark class=\"entity\" style=\"background: #ddd; padding: 0.45em 0.6em; margin: 0 0.25em; line-height: 1; border-radius: 0.35em;\">\n",
       "    Germany\n",
       "    <span style=\"font-size: 0.8em; font-weight: bold; line-height: 1; border-radius: 0.35em; text-transform: uppercase; vertical-align: middle; margin-left: 0.5rem\">HEALTHSYSTEM</span>\n",
       "</mark>\n",
       "'s health system. </br>The reason I choose this system is that, firstly, it uses a social insurance model and Germans are free to buy their insurance from one of more than 200 private, nonprofit &quot;sickness funds.&quot; Even though the average family premium is $750 per month which is higher than other countries mentioned in the video, the co-payments is pretty low compared to other countries in my opinion.</br>Second reason is that Germans can choose to see a specialist straightaway without seeing a gatekeeper first, provided that they are happy to pay a higher co-payments. And it also allows the richest 10 percent Germans opt out of the sickness funds in favor of U.S.-style for-profit insurance. These patients are able to see doctors faster in general. </br>I prefer this way because it gives citizens more options based on their level of income so people are divided up to different types of hospitals/clinics. Richer people do not need to wait as long as others and it will also reduce the workload for &quot;sickness funds&quot; and improves efficiency.</br>Thirdly, the percentage of GDP spent on health care is 10.7 which seems to be a reasonable number to me, not too much and not too less like \n",
       "<mark class=\"entity\" style=\"background: #ddd; padding: 0.45em 0.6em; margin: 0 0.25em; line-height: 1; border-radius: 0.35em;\">\n",
       "    Japan\n",
       "    <span style=\"font-size: 0.8em; font-weight: bold; line-height: 1; border-radius: 0.35em; text-transform: uppercase; vertical-align: middle; margin-left: 0.5rem\">HEALTHSYSTEM</span>\n",
       "</mark>\n",
       ".</div></span>"
      ],
      "text/plain": [
       "<IPython.core.display.HTML object>"
      ]
     },
     "metadata": {},
     "output_type": "display_data"
    },
    {
     "name": "stdout",
     "output_type": "stream",
     "text": [
      "------------------------------------------------------------------------\n"
     ]
    },
    {
     "data": {
      "text/html": [
       "<span class=\"tex2jax_ignore\"><div class=\"entities\" style=\"line-height: 2.5; direction: ltr\">I prefer to get healthcare from \n",
       "<mark class=\"entity\" style=\"background: #ddd; padding: 0.45em 0.6em; margin: 0 0.25em; line-height: 1; border-radius: 0.35em;\">\n",
       "    Japan\n",
       "    <span style=\"font-size: 0.8em; font-weight: bold; line-height: 1; border-radius: 0.35em; text-transform: uppercase; vertical-align: middle; margin-left: 0.5rem\">HEALTHSYSTEM</span>\n",
       "</mark>\n",
       ". In \n",
       "<mark class=\"entity\" style=\"background: #ddd; padding: 0.45em 0.6em; margin: 0 0.25em; line-height: 1; border-radius: 0.35em;\">\n",
       "    Japan\n",
       "    <span style=\"font-size: 0.8em; font-weight: bold; line-height: 1; border-radius: 0.35em; text-transform: uppercase; vertical-align: middle; margin-left: 0.5rem\">HEALTHSYSTEM</span>\n",
       "</mark>\n",
       ", residents pay for medical insurance. The results shown by the \n",
       "<mark class=\"entity\" style=\"background: #ddd; padding: 0.45em 0.6em; margin: 0 0.25em; line-height: 1; border-radius: 0.35em;\">\n",
       "    Japanese\n",
       "    <span style=\"font-size: 0.8em; font-weight: bold; line-height: 1; border-radius: 0.35em; text-transform: uppercase; vertical-align: middle; margin-left: 0.5rem\">HEALTHSYSTEM</span>\n",
       "</mark>\n",
       " medical system are excellent health result, no waiting lists and rock bottom costs. These are very good for patients, people can be diagnosed immediately when they are sick, and using MRI and other machines is not very expensive. Patients will not cause bankruptcy and other things because of illness. At the same time, because the cost is low and there is no need to wait, people do not have to worry about the cost, but can go to the hospital for regular examinations. This is very helpful to extend people's life.</div></span>"
      ],
      "text/plain": [
       "<IPython.core.display.HTML object>"
      ]
     },
     "metadata": {},
     "output_type": "display_data"
    },
    {
     "name": "stdout",
     "output_type": "stream",
     "text": [
      "------------------------------------------------------------------------\n"
     ]
    },
    {
     "data": {
      "text/html": [
       "<span class=\"tex2jax_ignore\"><div class=\"entities\" style=\"line-height: 2.5; direction: ltr\"></br>The good thing of \n",
       "<mark class=\"entity\" style=\"background: #ddd; padding: 0.45em 0.6em; margin: 0 0.25em; line-height: 1; border-radius: 0.35em;\">\n",
       "    Germany\n",
       "    <span style=\"font-size: 0.8em; font-weight: bold; line-height: 1; border-radius: 0.35em; text-transform: uppercase; vertical-align: middle; margin-left: 0.5rem\">HEALTHSYSTEM</span>\n",
       "</mark>\n",
       "’s health care system is that it covers many areas such as mental health, therapist. It not only care about people’s physical condition but also their mental health and other feelings. Which align with the definition of health from WHO we talked about before. It’s different to \n",
       "<mark class=\"entity\" style=\"background: #ddd; padding: 0.45em 0.6em; margin: 0 0.25em; line-height: 1; border-radius: 0.35em;\">\n",
       "    America\n",
       "    <span style=\"font-size: 0.8em; font-weight: bold; line-height: 1; border-radius: 0.35em; text-transform: uppercase; vertical-align: middle; margin-left: 0.5rem\">HEALTHSYSTEM</span>\n",
       "</mark>\n",
       " that it allows everyone to enjoy the system. Poor people gets help from the government. The speed of seeing doctor is reasonable, faster than the \n",
       "<mark class=\"entity\" style=\"background: #ddd; padding: 0.45em 0.6em; margin: 0 0.25em; line-height: 1; border-radius: 0.35em;\">\n",
       "    British\n",
       "    <span style=\"font-size: 0.8em; font-weight: bold; line-height: 1; border-radius: 0.35em; text-transform: uppercase; vertical-align: middle; margin-left: 0.5rem\">HEALTHSYSTEM</span>\n",
       "</mark>\n",
       ". In addition, sickness fund negotiate with different sectors to provide low price. the shortage of this might be that doctors didn’t get satisfied. But it looks like better than in \n",
       "<mark class=\"entity\" style=\"background: #ddd; padding: 0.45em 0.6em; margin: 0 0.25em; line-height: 1; border-radius: 0.35em;\">\n",
       "    Japan\n",
       "    <span style=\"font-size: 0.8em; font-weight: bold; line-height: 1; border-radius: 0.35em; text-transform: uppercase; vertical-align: middle; margin-left: 0.5rem\">HEALTHSYSTEM</span>\n",
       "</mark>\n",
       ".</div></span>"
      ],
      "text/plain": [
       "<IPython.core.display.HTML object>"
      ]
     },
     "metadata": {},
     "output_type": "display_data"
    },
    {
     "name": "stdout",
     "output_type": "stream",
     "text": [
      "------------------------------------------------------------------------\n"
     ]
    },
    {
     "data": {
      "text/html": [
       "<span class=\"tex2jax_ignore\"><div class=\"entities\" style=\"line-height: 2.5; direction: ltr\">I prefer to get my healthcare from \n",
       "<mark class=\"entity\" style=\"background: #ddd; padding: 0.45em 0.6em; margin: 0 0.25em; line-height: 1; border-radius: 0.35em;\">\n",
       "    Japan\n",
       "    <span style=\"font-size: 0.8em; font-weight: bold; line-height: 1; border-radius: 0.35em; text-transform: uppercase; vertical-align: middle; margin-left: 0.5rem\">HEALTHSYSTEM</span>\n",
       "</mark>\n",
       " for the following reasons. </br></br>CHEAP: The healthcare system in \n",
       "<mark class=\"entity\" style=\"background: #ddd; padding: 0.45em 0.6em; margin: 0 0.25em; line-height: 1; border-radius: 0.35em;\">\n",
       "    Japan\n",
       "    <span style=\"font-size: 0.8em; font-weight: bold; line-height: 1; border-radius: 0.35em; text-transform: uppercase; vertical-align: middle; margin-left: 0.5rem\">HEALTHSYSTEM</span>\n",
       "</mark>\n",
       " covers everybody, anybody, anywhere, anytime, and it is cheap. It spends half as much as the \n",
       "<mark class=\"entity\" style=\"background: #ddd; padding: 0.45em 0.6em; margin: 0 0.25em; line-height: 1; border-radius: 0.35em;\">\n",
       "    United States\n",
       "    <span style=\"font-size: 0.8em; font-weight: bold; line-height: 1; border-radius: 0.35em; text-transform: uppercase; vertical-align: middle; margin-left: 0.5rem\">HEALTHSYSTEM</span>\n",
       "</mark>\n",
       " per capita – for just 8% of GDP. If you lose your job in \n",
       "<mark class=\"entity\" style=\"background: #ddd; padding: 0.45em 0.6em; margin: 0 0.25em; line-height: 1; border-radius: 0.35em;\">\n",
       "    Japan\n",
       "    <span style=\"font-size: 0.8em; font-weight: bold; line-height: 1; border-radius: 0.35em; text-transform: uppercase; vertical-align: middle; margin-left: 0.5rem\">HEALTHSYSTEM</span>\n",
       "</mark>\n",
       ", you don’t lose your healthcare insurance. The average premium for a \n",
       "<mark class=\"entity\" style=\"background: #ddd; padding: 0.45em 0.6em; margin: 0 0.25em; line-height: 1; border-radius: 0.35em;\">\n",
       "    Japanese\n",
       "    <span style=\"font-size: 0.8em; font-weight: bold; line-height: 1; border-radius: 0.35em; text-transform: uppercase; vertical-align: middle; margin-left: 0.5rem\">HEALTHSYSTEM</span>\n",
       "</mark>\n",
       " family is only $280 a month with the employer paying half of it. Insurance companies cannot make a profit.</br>CONVENIENCE: 80% of the hospitals are private. There are no gatekeepers, so \n",
       "<mark class=\"entity\" style=\"background: #ddd; padding: 0.45em 0.6em; margin: 0 0.25em; line-height: 1; border-radius: 0.35em;\">\n",
       "    Japanese\n",
       "    <span style=\"font-size: 0.8em; font-weight: bold; line-height: 1; border-radius: 0.35em; text-transform: uppercase; vertical-align: middle; margin-left: 0.5rem\">HEALTHSYSTEM</span>\n",
       "</mark>\n",
       " can go see any specialist they want. Compared to Australia, I have to book an appointment with the GP and only can see a specialist if the GP recommends. </br>STANDARD PRICE EVERYWHERE IN \n",
       "<mark class=\"entity\" style=\"background: #ddd; padding: 0.45em 0.6em; margin: 0 0.25em; line-height: 1; border-radius: 0.35em;\">\n",
       "    JAPAN\n",
       "    <span style=\"font-size: 0.8em; font-weight: bold; line-height: 1; border-radius: 0.35em; text-transform: uppercase; vertical-align: middle; margin-left: 0.5rem\">HEALTHSYSTEM</span>\n",
       "</mark>\n",
       ": \n",
       "<mark class=\"entity\" style=\"background: #ddd; padding: 0.45em 0.6em; margin: 0 0.25em; line-height: 1; border-radius: 0.35em;\">\n",
       "    Japanese\n",
       "    <span style=\"font-size: 0.8em; font-weight: bold; line-height: 1; border-radius: 0.35em; text-transform: uppercase; vertical-align: middle; margin-left: 0.5rem\">HEALTHSYSTEM</span>\n",
       "</mark>\n",
       " patients like technology like scans. However, the cost is kept under control because the \n",
       "<mark class=\"entity\" style=\"background: #ddd; padding: 0.45em 0.6em; margin: 0 0.25em; line-height: 1; border-radius: 0.35em;\">\n",
       "    Japanese\n",
       "    <span style=\"font-size: 0.8em; font-weight: bold; line-height: 1; border-radius: 0.35em; text-transform: uppercase; vertical-align: middle; margin-left: 0.5rem\">HEALTHSYSTEM</span>\n",
       "</mark>\n",
       " Health Ministry tightly controls the price of health care down to the smallest detail. Every two years the physicians and health ministry negotiate a fixed price for every single procedure and drug. There is a standard price for each of those and is same everywhere in \n",
       "<mark class=\"entity\" style=\"background: #ddd; padding: 0.45em 0.6em; margin: 0 0.25em; line-height: 1; border-radius: 0.35em;\">\n",
       "    Japan\n",
       "    <span style=\"font-size: 0.8em; font-weight: bold; line-height: 1; border-radius: 0.35em; text-transform: uppercase; vertical-align: middle; margin-left: 0.5rem\">HEALTHSYSTEM</span>\n",
       "</mark>\n",
       ". Doctors can only charge what the official book dictates. \n",
       "</div></span>"
      ],
      "text/plain": [
       "<IPython.core.display.HTML object>"
      ]
     },
     "metadata": {},
     "output_type": "display_data"
    },
    {
     "name": "stdout",
     "output_type": "stream",
     "text": [
      "------------------------------------------------------------------------\n"
     ]
    },
    {
     "data": {
      "text/html": [
       "<span class=\"tex2jax_ignore\"><div class=\"entities\" style=\"line-height: 2.5; direction: ltr\">I prefer \n",
       "<mark class=\"entity\" style=\"background: #ddd; padding: 0.45em 0.6em; margin: 0 0.25em; line-height: 1; border-radius: 0.35em;\">\n",
       "    Japan\n",
       "    <span style=\"font-size: 0.8em; font-weight: bold; line-height: 1; border-radius: 0.35em; text-transform: uppercase; vertical-align: middle; margin-left: 0.5rem\">HEALTHSYSTEM</span>\n",
       "</mark>\n",
       ". The main reason is there is no waiting time, and no need to make  reservations. In case of feeling sick, you can go to the doctors immediately, or the doctors come to you.  In addition, there are annual health examinations. The prices of treatments/medicines are reviewed and adjusted periodically, and unified in the whole country. In general, from my opinion, healthcare in \n",
       "<mark class=\"entity\" style=\"background: #ddd; padding: 0.45em 0.6em; margin: 0 0.25em; line-height: 1; border-radius: 0.35em;\">\n",
       "    Japan\n",
       "    <span style=\"font-size: 0.8em; font-weight: bold; line-height: 1; border-radius: 0.35em; text-transform: uppercase; vertical-align: middle; margin-left: 0.5rem\">HEALTHSYSTEM</span>\n",
       "</mark>\n",
       " is easy and fair to access.</div></span>"
      ],
      "text/plain": [
       "<IPython.core.display.HTML object>"
      ]
     },
     "metadata": {},
     "output_type": "display_data"
    },
    {
     "name": "stdout",
     "output_type": "stream",
     "text": [
      "------------------------------------------------------------------------\n"
     ]
    },
    {
     "data": {
      "text/html": [
       "<span class=\"tex2jax_ignore\"><div class=\"entities\" style=\"line-height: 2.5; direction: ltr\"> After watching Sick Around the World,  I were most intrigued by the \n",
       "<mark class=\"entity\" style=\"background: #ddd; padding: 0.45em 0.6em; margin: 0 0.25em; line-height: 1; border-radius: 0.35em;\">\n",
       "    Japanese\n",
       "    <span style=\"font-size: 0.8em; font-weight: bold; line-height: 1; border-radius: 0.35em; text-transform: uppercase; vertical-align: middle; margin-left: 0.5rem\">HEALTHSYSTEM</span>\n",
       "</mark>\n",
       " health system and I prefer to get my healthcare from \n",
       "<mark class=\"entity\" style=\"background: #ddd; padding: 0.45em 0.6em; margin: 0 0.25em; line-height: 1; border-radius: 0.35em;\">\n",
       "    Japan\n",
       "    <span style=\"font-size: 0.8em; font-weight: bold; line-height: 1; border-radius: 0.35em; text-transform: uppercase; vertical-align: middle; margin-left: 0.5rem\">HEALTHSYSTEM</span>\n",
       "</mark>\n",
       ". The reasion is quite simple. The medical expenses in \n",
       "<mark class=\"entity\" style=\"background: #ddd; padding: 0.45em 0.6em; margin: 0 0.25em; line-height: 1; border-radius: 0.35em;\">\n",
       "    Japan\n",
       "    <span style=\"font-size: 0.8em; font-weight: bold; line-height: 1; border-radius: 0.35em; text-transform: uppercase; vertical-align: middle; margin-left: 0.5rem\">HEALTHSYSTEM</span>\n",
       "</mark>\n",
       " are very low and everyone in \n",
       "<mark class=\"entity\" style=\"background: #ddd; padding: 0.45em 0.6em; margin: 0 0.25em; line-height: 1; border-radius: 0.35em;\">\n",
       "    Japan\n",
       "    <span style=\"font-size: 0.8em; font-weight: bold; line-height: 1; border-radius: 0.35em; text-transform: uppercase; vertical-align: middle; margin-left: 0.5rem\">HEALTHSYSTEM</span>\n",
       "</mark>\n",
       " is covered by the healthcare insurance. Whenever I feel that I need to see a doctor, I don’t have to worry about expensive medical expenses in \n",
       "<mark class=\"entity\" style=\"background: #ddd; padding: 0.45em 0.6em; margin: 0 0.25em; line-height: 1; border-radius: 0.35em;\">\n",
       "    Japan\n",
       "    <span style=\"font-size: 0.8em; font-weight: bold; line-height: 1; border-radius: 0.35em; text-transform: uppercase; vertical-align: middle; margin-left: 0.5rem\">HEALTHSYSTEM</span>\n",
       "</mark>\n",
       ". However, the healthcare system in \n",
       "<mark class=\"entity\" style=\"background: #ddd; padding: 0.45em 0.6em; margin: 0 0.25em; line-height: 1; border-radius: 0.35em;\">\n",
       "    Japan\n",
       "    <span style=\"font-size: 0.8em; font-weight: bold; line-height: 1; border-radius: 0.35em; text-transform: uppercase; vertical-align: middle; margin-left: 0.5rem\">HEALTHSYSTEM</span>\n",
       "</mark>\n",
       " is not that good for doctors.</div></span>"
      ],
      "text/plain": [
       "<IPython.core.display.HTML object>"
      ]
     },
     "metadata": {},
     "output_type": "display_data"
    },
    {
     "name": "stdout",
     "output_type": "stream",
     "text": [
      "------------------------------------------------------------------------\n"
     ]
    },
    {
     "data": {
      "text/html": [
       "<span class=\"tex2jax_ignore\"><div class=\"entities\" style=\"line-height: 2.5; direction: ltr\">By watching Sick Around the World, \n",
       "<mark class=\"entity\" style=\"background: #ddd; padding: 0.45em 0.6em; margin: 0 0.25em; line-height: 1; border-radius: 0.35em;\">\n",
       "    Japan\n",
       "    <span style=\"font-size: 0.8em; font-weight: bold; line-height: 1; border-radius: 0.35em; text-transform: uppercase; vertical-align: middle; margin-left: 0.5rem\">HEALTHSYSTEM</span>\n",
       "</mark>\n",
       " is the country that I was most intrigued by and prefer to get your healthcare from. </br>Firstly, all citizens in \n",
       "<mark class=\"entity\" style=\"background: #ddd; padding: 0.45em 0.6em; margin: 0 0.25em; line-height: 1; border-radius: 0.35em;\">\n",
       "    Japan\n",
       "    <span style=\"font-size: 0.8em; font-weight: bold; line-height: 1; border-radius: 0.35em; text-transform: uppercase; vertical-align: middle; margin-left: 0.5rem\">HEALTHSYSTEM</span>\n",
       "</mark>\n",
       " are covered. The \n",
       "<mark class=\"entity\" style=\"background: #ddd; padding: 0.45em 0.6em; margin: 0 0.25em; line-height: 1; border-radius: 0.35em;\">\n",
       "    Japanese\n",
       "    <span style=\"font-size: 0.8em; font-weight: bold; line-height: 1; border-radius: 0.35em; text-transform: uppercase; vertical-align: middle; margin-left: 0.5rem\">HEALTHSYSTEM</span>\n",
       "</mark>\n",
       " are prodigious consumers, they go to the doctors three times as often as Americans do, and they can go see any specialist they want. </br>Secondly, the cost for seeing a doctor is cheap. The \n",
       "<mark class=\"entity\" style=\"background: #ddd; padding: 0.45em 0.6em; margin: 0 0.25em; line-height: 1; border-radius: 0.35em;\">\n",
       "    Japanese\n",
       "    <span style=\"font-size: 0.8em; font-weight: bold; line-height: 1; border-radius: 0.35em; text-transform: uppercase; vertical-align: middle; margin-left: 0.5rem\">HEALTHSYSTEM</span>\n",
       "</mark>\n",
       " Health Ministry tightly controls the price of healthcare right down to the smallest details. \n",
       "Thirdly, due to the frequency of seeing doctors, the consumers are only need few minutes. </div></span>"
      ],
      "text/plain": [
       "<IPython.core.display.HTML object>"
      ]
     },
     "metadata": {},
     "output_type": "display_data"
    },
    {
     "name": "stdout",
     "output_type": "stream",
     "text": [
      "------------------------------------------------------------------------\n"
     ]
    },
    {
     "data": {
      "text/html": [
       "<span class=\"tex2jax_ignore\"><div class=\"entities\" style=\"line-height: 2.5; direction: ltr\">Among the countries that Reid visited, I prefer to get my healthcare from the health system of \n",
       "<mark class=\"entity\" style=\"background: #ddd; padding: 0.45em 0.6em; margin: 0 0.25em; line-height: 1; border-radius: 0.35em;\">\n",
       "    UK\n",
       "    <span style=\"font-size: 0.8em; font-weight: bold; line-height: 1; border-radius: 0.35em; text-transform: uppercase; vertical-align: middle; margin-left: 0.5rem\">HEALTHSYSTEM</span>\n",
       "</mark>\n",
       ". Although it seems that I am still a healthy young woman, as far as this problem is concerned, I personally prefer to consider it from the worst perspective. If it is in the other countries, I would worry that I might not have the financial capacity to pay for medical expenses when I am poor, so I dare not seek medical treatment, or I may not get the government's financial support in time to help me get proper treatment. On the one hand, I may not be able to afford the high medical expenses in the \n",
       "<mark class=\"entity\" style=\"background: #ddd; padding: 0.45em 0.6em; margin: 0 0.25em; line-height: 1; border-radius: 0.35em;\">\n",
       "    United States\n",
       "    <span style=\"font-size: 0.8em; font-weight: bold; line-height: 1; border-radius: 0.35em; text-transform: uppercase; vertical-align: middle; margin-left: 0.5rem\">HEALTHSYSTEM</span>\n",
       "</mark>\n",
       " and \n",
       "<mark class=\"entity\" style=\"background: #ddd; padding: 0.45em 0.6em; margin: 0 0.25em; line-height: 1; border-radius: 0.35em;\">\n",
       "    Switzerland\n",
       "    <span style=\"font-size: 0.8em; font-weight: bold; line-height: 1; border-radius: 0.35em; text-transform: uppercase; vertical-align: middle; margin-left: 0.5rem\">HEALTHSYSTEM</span>\n",
       "</mark>\n",
       " based on my current family conditions and financial ability. On the other hand, if I had the same disease that need to be treated urgently with another person who was richer and more generous than me, in \n",
       "<mark class=\"entity\" style=\"background: #ddd; padding: 0.45em 0.6em; margin: 0 0.25em; line-height: 1; border-radius: 0.35em;\">\n",
       "    Germany\n",
       "    <span style=\"font-size: 0.8em; font-weight: bold; line-height: 1; border-radius: 0.35em; text-transform: uppercase; vertical-align: middle; margin-left: 0.5rem\">HEALTHSYSTEM</span>\n",
       "</mark>\n",
       ", that person would obtain the treatment better and earlier since he paid more than I did. Life is thus measured by money, and no longer equal because of life itself. I cannot accept this reality. Without enough wealth, I dare not entrust my life and health to such a medical system easily. In contrast, although there are still problems with the \n",
       "<mark class=\"entity\" style=\"background: #ddd; padding: 0.45em 0.6em; margin: 0 0.25em; line-height: 1; border-radius: 0.35em;\">\n",
       "    British\n",
       "    <span style=\"font-size: 0.8em; font-weight: bold; line-height: 1; border-radius: 0.35em; text-transform: uppercase; vertical-align: middle; margin-left: 0.5rem\">HEALTHSYSTEM</span>\n",
       "</mark>\n",
       " medical insurance system, at least, except for some out-of-pocket expenses for dental care, glasses, and 5% prescription drugs, as long as I am a taxpayer in this country, I am guaranteed with free healthcare.</div></span>"
      ],
      "text/plain": [
       "<IPython.core.display.HTML object>"
      ]
     },
     "metadata": {},
     "output_type": "display_data"
    },
    {
     "name": "stdout",
     "output_type": "stream",
     "text": [
      "------------------------------------------------------------------------\n"
     ]
    },
    {
     "data": {
      "text/html": [
       "<span class=\"tex2jax_ignore\"><div class=\"entities\" style=\"line-height: 2.5; direction: ltr\">I prefer to get healthcare from \n",
       "<mark class=\"entity\" style=\"background: #ddd; padding: 0.45em 0.6em; margin: 0 0.25em; line-height: 1; border-radius: 0.35em;\">\n",
       "    Japan\n",
       "    <span style=\"font-size: 0.8em; font-weight: bold; line-height: 1; border-radius: 0.35em; text-transform: uppercase; vertical-align: middle; margin-left: 0.5rem\">HEALTHSYSTEM</span>\n",
       "</mark>\n",
       " according to three reasons listed below. First, everything is covered by health insurance. Patients don’t have to worry about the medical bill because of the rock bottom price decided by the \n",
       "<mark class=\"entity\" style=\"background: #ddd; padding: 0.45em 0.6em; margin: 0 0.25em; line-height: 1; border-radius: 0.35em;\">\n",
       "    Japanese\n",
       "    <span style=\"font-size: 0.8em; font-weight: bold; line-height: 1; border-radius: 0.35em; text-transform: uppercase; vertical-align: middle; margin-left: 0.5rem\">HEALTHSYSTEM</span>\n",
       "</mark>\n",
       " government. Second, even though the cost of visiting a doctor is cheap, there is no waiting list. Patients can go to the hospital and receive the examinations without making an appointment. This makes sure the patients’ conditions can be well controlled if symptoms are severe or start suddenly. Last, health insurance is cheap and sustainable. The average premium for a family is only 280 dollars per month. And it will not be stopped if you lose your job. The government will take care of it to make sure every citizen have health insurance.  </div></span>"
      ],
      "text/plain": [
       "<IPython.core.display.HTML object>"
      ]
     },
     "metadata": {},
     "output_type": "display_data"
    },
    {
     "name": "stdout",
     "output_type": "stream",
     "text": [
      "------------------------------------------------------------------------\n"
     ]
    },
    {
     "data": {
      "text/html": [
       "<span class=\"tex2jax_ignore\"><div class=\"entities\" style=\"line-height: 2.5; direction: ltr\">  I prefer the \n",
       "<mark class=\"entity\" style=\"background: #ddd; padding: 0.45em 0.6em; margin: 0 0.25em; line-height: 1; border-radius: 0.35em;\">\n",
       "    Japanese\n",
       "    <span style=\"font-size: 0.8em; font-weight: bold; line-height: 1; border-radius: 0.35em; text-transform: uppercase; vertical-align: middle; margin-left: 0.5rem\">HEALTHSYSTEM</span>\n",
       "</mark>\n",
       " system. I am \n",
       "<mark class=\"entity\" style=\"background: #ddd; padding: 0.45em 0.6em; margin: 0 0.25em; line-height: 1; border-radius: 0.35em;\">\n",
       "    Japanese\n",
       "    <span style=\"font-size: 0.8em; font-weight: bold; line-height: 1; border-radius: 0.35em; text-transform: uppercase; vertical-align: middle; margin-left: 0.5rem\">HEALTHSYSTEM</span>\n",
       "</mark>\n",
       " and I never heard someone is bankrupt because of medical bills like he mentioned in the video. Moreover, there are a lot of private hospitals or clinics even in rural areas, so patients can go there sooner if they feel sick and usually do not have to wait for getting treatments. Actually, the number of dental clinics in \n",
       "<mark class=\"entity\" style=\"background: #ddd; padding: 0.45em 0.6em; margin: 0 0.25em; line-height: 1; border-radius: 0.35em;\">\n",
       "    Japan\n",
       "    <span style=\"font-size: 0.8em; font-weight: bold; line-height: 1; border-radius: 0.35em; text-transform: uppercase; vertical-align: middle; margin-left: 0.5rem\">HEALTHSYSTEM</span>\n",
       "</mark>\n",
       " is more than the number of convenience stores and medical bills for it are also covered by insurance, so patients do not have to spend much money on even dental treatments. For example, the cost for a decayed tooth is less than $50 at anywhere for everyone.</br>  However, not only running hospitals is endangered, but also decreasing the number of doctors is another problem. \n",
       "<mark class=\"entity\" style=\"background: #ddd; padding: 0.45em 0.6em; margin: 0 0.25em; line-height: 1; border-radius: 0.35em;\">\n",
       "    Japan\n",
       "    <span style=\"font-size: 0.8em; font-weight: bold; line-height: 1; border-radius: 0.35em; text-transform: uppercase; vertical-align: middle; margin-left: 0.5rem\">HEALTHSYSTEM</span>\n",
       "</mark>\n",
       " faces a serious problem that the low birth rate and it affects the medical aspect as well. Although the number of doctors is diminishing, the number of elderlies increases due to established medicare and they often go to take it. Hence, the workload for each doctor becomes higher as well. We might have to adopt some medical systems from other countries to improve labor conditions for doctors.</div></span>"
      ],
      "text/plain": [
       "<IPython.core.display.HTML object>"
      ]
     },
     "metadata": {},
     "output_type": "display_data"
    },
    {
     "name": "stdout",
     "output_type": "stream",
     "text": [
      "------------------------------------------------------------------------\n"
     ]
    },
    {
     "data": {
      "text/html": [
       "<span class=\"tex2jax_ignore\"><div class=\"entities\" style=\"line-height: 2.5; direction: ltr\">After watching the video, the most intrigued country to me is \n",
       "<mark class=\"entity\" style=\"background: #ddd; padding: 0.45em 0.6em; margin: 0 0.25em; line-height: 1; border-radius: 0.35em;\">\n",
       "    Japan\n",
       "    <span style=\"font-size: 0.8em; font-weight: bold; line-height: 1; border-radius: 0.35em; text-transform: uppercase; vertical-align: middle; margin-left: 0.5rem\">HEALTHSYSTEM</span>\n",
       "</mark>\n",
       ". I prefer for \n",
       "<mark class=\"entity\" style=\"background: #ddd; padding: 0.45em 0.6em; margin: 0 0.25em; line-height: 1; border-radius: 0.35em;\">\n",
       "    Japanese\n",
       "    <span style=\"font-size: 0.8em; font-weight: bold; line-height: 1; border-radius: 0.35em; text-transform: uppercase; vertical-align: middle; margin-left: 0.5rem\">HEALTHSYSTEM</span>\n",
       "</mark>\n",
       " health care system for several reasons. Firstly, there is no waiting line for seeing a doctor. I find it really annoying to wait for a long time just for some small problems. When I was studying in \n",
       "<mark class=\"entity\" style=\"background: #ddd; padding: 0.45em 0.6em; margin: 0 0.25em; line-height: 1; border-radius: 0.35em;\">\n",
       "    America\n",
       "    <span style=\"font-size: 0.8em; font-weight: bold; line-height: 1; border-radius: 0.35em; text-transform: uppercase; vertical-align: middle; margin-left: 0.5rem\">HEALTHSYSTEM</span>\n",
       "</mark>\n",
       ". I remember once, one of my friends was having a fever for 5 days and she really felt uncomfortable. I decided to drive her to the emergency department. After we arrived at the hospital, we spent 7 hours that day in the hospital for some simple tests and medicines, which I believe will never happen in \n",
       "<mark class=\"entity\" style=\"background: #ddd; padding: 0.45em 0.6em; margin: 0 0.25em; line-height: 1; border-radius: 0.35em;\">\n",
       "    Japan\n",
       "    <span style=\"font-size: 0.8em; font-weight: bold; line-height: 1; border-radius: 0.35em; text-transform: uppercase; vertical-align: middle; margin-left: 0.5rem\">HEALTHSYSTEM</span>\n",
       "</mark>\n",
       ".  Secondly, \n",
       "<mark class=\"entity\" style=\"background: #ddd; padding: 0.45em 0.6em; margin: 0 0.25em; line-height: 1; border-radius: 0.35em;\">\n",
       "    Japan\n",
       "    <span style=\"font-size: 0.8em; font-weight: bold; line-height: 1; border-radius: 0.35em; text-transform: uppercase; vertical-align: middle; margin-left: 0.5rem\">HEALTHSYSTEM</span>\n",
       "</mark>\n",
       " does not have gatekeepers in hospitals. Patients can choose their doctors without administration fees. Private hospitals offer more options for patients to find doctors they trust rather than assign by some gatekeepers. Personally speaking, I think private hospital usually have better services when they have to compete with other hospitals, since the price are fixed.</div></span>"
      ],
      "text/plain": [
       "<IPython.core.display.HTML object>"
      ]
     },
     "metadata": {},
     "output_type": "display_data"
    },
    {
     "name": "stdout",
     "output_type": "stream",
     "text": [
      "------------------------------------------------------------------------\n"
     ]
    },
    {
     "data": {
      "text/html": [
       "<span class=\"tex2jax_ignore\"><div class=\"entities\" style=\"line-height: 2.5; direction: ltr\">After comparing health care systems in many countries, I am more interested in healthcare systems in the \n",
       "<mark class=\"entity\" style=\"background: #ddd; padding: 0.45em 0.6em; margin: 0 0.25em; line-height: 1; border-radius: 0.35em;\">\n",
       "    UK\n",
       "    <span style=\"font-size: 0.8em; font-weight: bold; line-height: 1; border-radius: 0.35em; text-transform: uppercase; vertical-align: middle; margin-left: 0.5rem\">HEALTHSYSTEM</span>\n",
       "</mark>\n",
       ". They did not establish special medical bills (or call medical insurance), so that all people can get free medical care to a certain extent. They also set up a special family doctor, which is very similar to Australia, but these are not seen in the \n",
       "<mark class=\"entity\" style=\"background: #ddd; padding: 0.45em 0.6em; margin: 0 0.25em; line-height: 1; border-radius: 0.35em;\">\n",
       "    United States\n",
       "    <span style=\"font-size: 0.8em; font-weight: bold; line-height: 1; border-radius: 0.35em; text-transform: uppercase; vertical-align: middle; margin-left: 0.5rem\">HEALTHSYSTEM</span>\n",
       "</mark>\n",
       " and China. You know, at some moments in China, hospitals are very crowded, and setting up some GPs can save government expenditures and secondly save patients' time to see doctors. Secondly, in the \n",
       "<mark class=\"entity\" style=\"background: #ddd; padding: 0.45em 0.6em; margin: 0 0.25em; line-height: 1; border-radius: 0.35em;\">\n",
       "    UK\n",
       "    <span style=\"font-size: 0.8em; font-weight: bold; line-height: 1; border-radius: 0.35em; text-transform: uppercase; vertical-align: middle; margin-left: 0.5rem\">HEALTHSYSTEM</span>\n",
       "</mark>\n",
       ", their doctors can get a better income, and these incomes are closely related to the number of patients they see, which greatly improves the enthusiasm of medical practitioners. In China, the income of doctors is not high, which indirectly leads to poor patient experience. Finally, in the \n",
       "<mark class=\"entity\" style=\"background: #ddd; padding: 0.45em 0.6em; margin: 0 0.25em; line-height: 1; border-radius: 0.35em;\">\n",
       "    UK\n",
       "    <span style=\"font-size: 0.8em; font-weight: bold; line-height: 1; border-radius: 0.35em; text-transform: uppercase; vertical-align: middle; margin-left: 0.5rem\">HEALTHSYSTEM</span>\n",
       "</mark>\n",
       ", the medical care industry seems to be &quot;monopoly&quot;, and people maintain this \n",
       "<mark class=\"entity\" style=\"background: #ddd; padding: 0.45em 0.6em; margin: 0 0.25em; line-height: 1; border-radius: 0.35em;\">\n",
       "    NHS\n",
       "    <span style=\"font-size: 0.8em; font-weight: bold; line-height: 1; border-radius: 0.35em; text-transform: uppercase; vertical-align: middle; margin-left: 0.5rem\">HEALTHSYSTEM</span>\n",
       "</mark>\n",
       " through taxation. Some improper transactions will not involve the national medical health. This is worth learning.But I also have a problem here. The \n",
       "<mark class=\"entity\" style=\"background: #ddd; padding: 0.45em 0.6em; margin: 0 0.25em; line-height: 1; border-radius: 0.35em;\">\n",
       "    UK\n",
       "    <span style=\"font-size: 0.8em; font-weight: bold; line-height: 1; border-radius: 0.35em; text-transform: uppercase; vertical-align: middle; margin-left: 0.5rem\">HEALTHSYSTEM</span>\n",
       "</mark>\n",
       " did not perform well during COVID-19. We can see that when major unpredictable diseases come, the daily medical system is not enough to maintain or satisfy people's current needs. So how should it be improved?</div></span>"
      ],
      "text/plain": [
       "<IPython.core.display.HTML object>"
      ]
     },
     "metadata": {},
     "output_type": "display_data"
    },
    {
     "name": "stdout",
     "output_type": "stream",
     "text": [
      "------------------------------------------------------------------------\n"
     ]
    },
    {
     "data": {
      "text/html": [
       "<span class=\"tex2jax_ignore\"><div class=\"entities\" style=\"line-height: 2.5; direction: ltr\">I find \n",
       "<mark class=\"entity\" style=\"background: #ddd; padding: 0.45em 0.6em; margin: 0 0.25em; line-height: 1; border-radius: 0.35em;\">\n",
       "    Japan\n",
       "    <span style=\"font-size: 0.8em; font-weight: bold; line-height: 1; border-radius: 0.35em; text-transform: uppercase; vertical-align: middle; margin-left: 0.5rem\">HEALTHSYSTEM</span>\n",
       "</mark>\n",
       "'s health-care system to be the most intriguing not only because I've never thought about how they handle it, but because it is another universal health-care system like Australia's. Helping produce excellent results like the longest healthy life expectancy and lowest infant mortality rate, I am surprised that they have achieved this without anyone going broke from medical bills. Unlike taxes paying for medicine like Australia's Medicare levy, the \n",
       "<mark class=\"entity\" style=\"background: #ddd; padding: 0.45em 0.6em; margin: 0 0.25em; line-height: 1; border-radius: 0.35em;\">\n",
       "    Japanese\n",
       "    <span style=\"font-size: 0.8em; font-weight: bold; line-height: 1; border-radius: 0.35em; text-transform: uppercase; vertical-align: middle; margin-left: 0.5rem\">HEALTHSYSTEM</span>\n",
       "</mark>\n",
       " use social insurance combined with a single payment system and price book to keep costs low and consistent. This makes doctor visits more accessible, frequent and in my opinion, routine. I think that getting regular health check-ups is important for early detection and treatment if required, and I am willing to bet that in non-universal health-care systems, a barrier for some people to these check-ups is the cost of appointments and medications.</div></span>"
      ],
      "text/plain": [
       "<IPython.core.display.HTML object>"
      ]
     },
     "metadata": {},
     "output_type": "display_data"
    },
    {
     "name": "stdout",
     "output_type": "stream",
     "text": [
      "------------------------------------------------------------------------\n"
     ]
    },
    {
     "data": {
      "text/html": [
       "<span class=\"tex2jax_ignore\"><div class=\"entities\" style=\"line-height: 2.5; direction: ltr\">I am most intrigued by the \n",
       "<mark class=\"entity\" style=\"background: #ddd; padding: 0.45em 0.6em; margin: 0 0.25em; line-height: 1; border-radius: 0.35em;\">\n",
       "    Taiwan\n",
       "    <span style=\"font-size: 0.8em; font-weight: bold; line-height: 1; border-radius: 0.35em; text-transform: uppercase; vertical-align: middle; margin-left: 0.5rem\">HEALTHSYSTEM</span>\n",
       "</mark>\n",
       " Healthcare System. The fact that they looked all over the world and adopted some of the international initiatives the thought it could work on their country makes it a great system in my opinion. They literally thought outside the box and took advantage of all the efficiency and effectiveness that Information Technologies could provide and put them to use. There is the issue of Big Brother from the Government, but personally I would value more an efficient and effective system than the government having access to my data if that means it can save my life in case of serious illness.</div></span>"
      ],
      "text/plain": [
       "<IPython.core.display.HTML object>"
      ]
     },
     "metadata": {},
     "output_type": "display_data"
    },
    {
     "name": "stdout",
     "output_type": "stream",
     "text": [
      "------------------------------------------------------------------------\n"
     ]
    },
    {
     "data": {
      "text/html": [
       "<span class=\"tex2jax_ignore\"><div class=\"entities\" style=\"line-height: 2.5; direction: ltr\">\n",
       "<mark class=\"entity\" style=\"background: #ddd; padding: 0.45em 0.6em; margin: 0 0.25em; line-height: 1; border-radius: 0.35em;\">\n",
       "    Taiwan\n",
       "    <span style=\"font-size: 0.8em; font-weight: bold; line-height: 1; border-radius: 0.35em; text-transform: uppercase; vertical-align: middle; margin-left: 0.5rem\">HEALTHSYSTEM</span>\n",
       "</mark>\n",
       "!!!!! has the best health case system as Emanuel mentioned, because in \n",
       "<mark class=\"entity\" style=\"background: #ddd; padding: 0.45em 0.6em; margin: 0 0.25em; line-height: 1; border-radius: 0.35em;\">\n",
       "    Taiwan\n",
       "    <span style=\"font-size: 0.8em; font-weight: bold; line-height: 1; border-radius: 0.35em; text-transform: uppercase; vertical-align: middle; margin-left: 0.5rem\">HEALTHSYSTEM</span>\n",
       "</mark>\n",
       " the fee for health care costs is really low, even for the drugs or surgery. People pay for the health system in the tax and the tax for the health system is very low as well. And the residents get a high quality of services. Even for families with low income, the government provides subsidies for them to pay the health care tax, therefore, they can also have the same quality of healthcare with other people. For the homeless group of people, there are few specific clinics set up by the government for them. </div></span>"
      ],
      "text/plain": [
       "<IPython.core.display.HTML object>"
      ]
     },
     "metadata": {},
     "output_type": "display_data"
    },
    {
     "name": "stdout",
     "output_type": "stream",
     "text": [
      "------------------------------------------------------------------------\n"
     ]
    },
    {
     "data": {
      "text/html": [
       "<span class=\"tex2jax_ignore\"><div class=\"entities\" style=\"line-height: 2.5; direction: ltr\">\n",
       "<mark class=\"entity\" style=\"background: #ddd; padding: 0.45em 0.6em; margin: 0 0.25em; line-height: 1; border-radius: 0.35em;\">\n",
       "    Japanese\n",
       "    <span style=\"font-size: 0.8em; font-weight: bold; line-height: 1; border-radius: 0.35em; text-transform: uppercase; vertical-align: middle; margin-left: 0.5rem\">HEALTHSYSTEM</span>\n",
       "</mark>\n",
       " health system.\n",
       "Because, it could cover all citizens firstly and the system broadly distributes every aspects, including the use of medical devices, medications, services, etc.  Meanwhile,  the payment of citizens depends on their incomes. Therefore, this system ensures every citizen could afford the medical bill to avoid the serious consequences due to be illness, e.g. bankruptcy or death.</div></span>"
      ],
      "text/plain": [
       "<IPython.core.display.HTML object>"
      ]
     },
     "metadata": {},
     "output_type": "display_data"
    },
    {
     "name": "stdout",
     "output_type": "stream",
     "text": [
      "------------------------------------------------------------------------\n"
     ]
    },
    {
     "data": {
      "text/html": [
       "<span class=\"tex2jax_ignore\"><div class=\"entities\" style=\"line-height: 2.5; direction: ltr\">I am most intrigued by the American health system. </br>On the one hand, it is undeniable that the \n",
       "<mark class=\"entity\" style=\"background: #ddd; padding: 0.45em 0.6em; margin: 0 0.25em; line-height: 1; border-radius: 0.35em;\">\n",
       "    United States\n",
       "    <span style=\"font-size: 0.8em; font-weight: bold; line-height: 1; border-radius: 0.35em; text-transform: uppercase; vertical-align: middle; margin-left: 0.5rem\">HEALTHSYSTEM</span>\n",
       "</mark>\n",
       " has a developed medical system and the most advanced medical technology and the highest quality medical personnel. </br>On the other hand, although medical costs in the \n",
       "<mark class=\"entity\" style=\"background: #ddd; padding: 0.45em 0.6em; margin: 0 0.25em; line-height: 1; border-radius: 0.35em;\">\n",
       "    U.S.\n",
       "    <span style=\"font-size: 0.8em; font-weight: bold; line-height: 1; border-radius: 0.35em; text-transform: uppercase; vertical-align: middle; margin-left: 0.5rem\">HEALTHSYSTEM</span>\n",
       "</mark>\n",
       " are high, there are many types of medical insurance in the \n",
       "<mark class=\"entity\" style=\"background: #ddd; padding: 0.45em 0.6em; margin: 0 0.25em; line-height: 1; border-radius: 0.35em;\">\n",
       "    United States\n",
       "    <span style=\"font-size: 0.8em; font-weight: bold; line-height: 1; border-radius: 0.35em; text-transform: uppercase; vertical-align: middle; margin-left: 0.5rem\">HEALTHSYSTEM</span>\n",
       "</mark>\n",
       ". This means no matter what class you are in, you can have suitable medical insurance. The \n",
       "<mark class=\"entity\" style=\"background: #ddd; padding: 0.45em 0.6em; margin: 0 0.25em; line-height: 1; border-radius: 0.35em;\">\n",
       "    United States\n",
       "    <span style=\"font-size: 0.8em; font-weight: bold; line-height: 1; border-radius: 0.35em; text-transform: uppercase; vertical-align: middle; margin-left: 0.5rem\">HEALTHSYSTEM</span>\n",
       "</mark>\n",
       " government-led social medical insurance focuses on protecting the elderly (Medicare) and vulnerable groups (Medicaid), while medical insurance for working people is provided by commercial insurance institutions. This seems very reasonable to me. First of all, it guarantees the most difficult human rights basic medical services (because the elderly and the poor usually have no source of income). Secondly, healthy competition between commercial insurance can better promote the development of health care.\n",
       " </div></span>"
      ],
      "text/plain": [
       "<IPython.core.display.HTML object>"
      ]
     },
     "metadata": {},
     "output_type": "display_data"
    },
    {
     "name": "stdout",
     "output_type": "stream",
     "text": [
      "------------------------------------------------------------------------\n"
     ]
    },
    {
     "data": {
      "text/html": [
       "<span class=\"tex2jax_ignore\"><div class=\"entities\" style=\"line-height: 2.5; direction: ltr\"></br>After watching Sick Around the World, I was most intrigued by \n",
       "<mark class=\"entity\" style=\"background: #ddd; padding: 0.45em 0.6em; margin: 0 0.25em; line-height: 1; border-radius: 0.35em;\">\n",
       "    Japan\n",
       "    <span style=\"font-size: 0.8em; font-weight: bold; line-height: 1; border-radius: 0.35em; text-transform: uppercase; vertical-align: middle; margin-left: 0.5rem\">HEALTHSYSTEM</span>\n",
       "</mark>\n",
       "'s Healthcare system.</br>I believe the overall quality and fairness is good in \n",
       "<mark class=\"entity\" style=\"background: #ddd; padding: 0.45em 0.6em; margin: 0 0.25em; line-height: 1; border-radius: 0.35em;\">\n",
       "    Japan\n",
       "    <span style=\"font-size: 0.8em; font-weight: bold; line-height: 1; border-radius: 0.35em; text-transform: uppercase; vertical-align: middle; margin-left: 0.5rem\">HEALTHSYSTEM</span>\n",
       "</mark>\n",
       " compared to others.I liked morale right to healthcare for everyone, best health statistic, No waiting (noGatekeeper), equal access to care ,very cost-effective. </br>Best health statistics may be due to lifestyle and diet, which i came across while reading book Ikigai sometime back.</br>This was also  a reason i got more intrigued by its healthcare system.</br>Even though there is a limitation ;50% \n",
       "<mark class=\"entity\" style=\"background: #ddd; padding: 0.45em 0.6em; margin: 0 0.25em; line-height: 1; border-radius: 0.35em;\">\n",
       "    Japan\n",
       "    <span style=\"font-size: 0.8em; font-weight: bold; line-height: 1; border-radius: 0.35em; text-transform: uppercase; vertical-align: middle; margin-left: 0.5rem\">HEALTHSYSTEM</span>\n",
       "</mark>\n",
       "'s Hospitals operating in the red ,but i think even if \n",
       "<mark class=\"entity\" style=\"background: #ddd; padding: 0.45em 0.6em; margin: 0 0.25em; line-height: 1; border-radius: 0.35em;\">\n",
       "    japan\n",
       "    <span style=\"font-size: 0.8em; font-weight: bold; line-height: 1; border-radius: 0.35em; text-transform: uppercase; vertical-align: middle; margin-left: 0.5rem\">HEALTHSYSTEM</span>\n",
       "</mark>\n",
       " increases the overall spending on healthcare it can solve this issue and still be a cheaper healthcare system.\n",
       "</div></span>"
      ],
      "text/plain": [
       "<IPython.core.display.HTML object>"
      ]
     },
     "metadata": {},
     "output_type": "display_data"
    },
    {
     "name": "stdout",
     "output_type": "stream",
     "text": [
      "------------------------------------------------------------------------\n"
     ]
    },
    {
     "data": {
      "text/html": [
       "<span class=\"tex2jax_ignore\"><div class=\"entities\" style=\"line-height: 2.5; direction: ltr\">For me, I would like to choose the health system of \n",
       "<mark class=\"entity\" style=\"background: #ddd; padding: 0.45em 0.6em; margin: 0 0.25em; line-height: 1; border-radius: 0.35em;\">\n",
       "    Japan\n",
       "    <span style=\"font-size: 0.8em; font-weight: bold; line-height: 1; border-radius: 0.35em; text-transform: uppercase; vertical-align: middle; margin-left: 0.5rem\">HEALTHSYSTEM</span>\n",
       "</mark>\n",
       ". Since I am not a doctor or any other medical worker, I will be the patient more often. Therefore, most things I care about are the fee and waiting time. </br>As Reid introduced in the video, there is no waiting time for the patient to see the doctor in \n",
       "<mark class=\"entity\" style=\"background: #ddd; padding: 0.45em 0.6em; margin: 0 0.25em; line-height: 1; border-radius: 0.35em;\">\n",
       "    Japan\n",
       "    <span style=\"font-size: 0.8em; font-weight: bold; line-height: 1; border-radius: 0.35em; text-transform: uppercase; vertical-align: middle; margin-left: 0.5rem\">HEALTHSYSTEM</span>\n",
       "</mark>\n",
       " and \n",
       "<mark class=\"entity\" style=\"background: #ddd; padding: 0.45em 0.6em; margin: 0 0.25em; line-height: 1; border-radius: 0.35em;\">\n",
       "    Taiwan\n",
       "    <span style=\"font-size: 0.8em; font-weight: bold; line-height: 1; border-radius: 0.35em; text-transform: uppercase; vertical-align: middle; margin-left: 0.5rem\">HEALTHSYSTEM</span>\n",
       "</mark>\n",
       ". For instance, If I have a severe cold or abdominal pain, of course, I don't want to wait for 2 or more weeks. That's why I won't choose the health system in \n",
       "<mark class=\"entity\" style=\"background: #ddd; padding: 0.45em 0.6em; margin: 0 0.25em; line-height: 1; border-radius: 0.35em;\">\n",
       "    Germany\n",
       "    <span style=\"font-size: 0.8em; font-weight: bold; line-height: 1; border-radius: 0.35em; text-transform: uppercase; vertical-align: middle; margin-left: 0.5rem\">HEALTHSYSTEM</span>\n",
       "</mark>\n",
       ", the \n",
       "<mark class=\"entity\" style=\"background: #ddd; padding: 0.45em 0.6em; margin: 0 0.25em; line-height: 1; border-radius: 0.35em;\">\n",
       "    USA\n",
       "    <span style=\"font-size: 0.8em; font-weight: bold; line-height: 1; border-radius: 0.35em; text-transform: uppercase; vertical-align: middle; margin-left: 0.5rem\">HEALTHSYSTEM</span>\n",
       "</mark>\n",
       ", or other western countries mentioned in the video. Meanwhile, as mentioned in the video the treatment fee in \n",
       "<mark class=\"entity\" style=\"background: #ddd; padding: 0.45em 0.6em; margin: 0 0.25em; line-height: 1; border-radius: 0.35em;\">\n",
       "    Japan\n",
       "    <span style=\"font-size: 0.8em; font-weight: bold; line-height: 1; border-radius: 0.35em; text-transform: uppercase; vertical-align: middle; margin-left: 0.5rem\">HEALTHSYSTEM</span>\n",
       "</mark>\n",
       " are fixed and cheap, all the fee has been defined by the government and recorded in the book. So I like the health system of \n",
       "<mark class=\"entity\" style=\"background: #ddd; padding: 0.45em 0.6em; margin: 0 0.25em; line-height: 1; border-radius: 0.35em;\">\n",
       "    Japan\n",
       "    <span style=\"font-size: 0.8em; font-weight: bold; line-height: 1; border-radius: 0.35em; text-transform: uppercase; vertical-align: middle; margin-left: 0.5rem\">HEALTHSYSTEM</span>\n",
       "</mark>\n",
       " the most.</div></span>"
      ],
      "text/plain": [
       "<IPython.core.display.HTML object>"
      ]
     },
     "metadata": {},
     "output_type": "display_data"
    },
    {
     "name": "stdout",
     "output_type": "stream",
     "text": [
      "------------------------------------------------------------------------\n"
     ]
    },
    {
     "data": {
      "text/html": [
       "<span class=\"tex2jax_ignore\"><div class=\"entities\" style=\"line-height: 2.5; direction: ltr\">I would say that I am going to choose the \n",
       "<mark class=\"entity\" style=\"background: #ddd; padding: 0.45em 0.6em; margin: 0 0.25em; line-height: 1; border-radius: 0.35em;\">\n",
       "    Japanese\n",
       "    <span style=\"font-size: 0.8em; font-weight: bold; line-height: 1; border-radius: 0.35em; text-transform: uppercase; vertical-align: middle; margin-left: 0.5rem\">HEALTHSYSTEM</span>\n",
       "</mark>\n",
       " health care system for the following reasons. Firstly, which is the most important one I think, is the efficiency of getting treatment. In the \n",
       "<mark class=\"entity\" style=\"background: #ddd; padding: 0.45em 0.6em; margin: 0 0.25em; line-height: 1; border-radius: 0.35em;\">\n",
       "    Japanese\n",
       "    <span style=\"font-size: 0.8em; font-weight: bold; line-height: 1; border-radius: 0.35em; text-transform: uppercase; vertical-align: middle; margin-left: 0.5rem\">HEALTHSYSTEM</span>\n",
       "</mark>\n",
       " health system, there is no gatekeeper such as GP. You do not need to make an appointment, if you are sick you can get straight to the doctor. Also, the time spent in the hospital is less than other systems, sometimes just 3-5 minutes. For me, I do not want to wait for like 1 week to get treatment when I get sick since it is suffering for me to wait when I am feeling uncomfortable. Secondly, the price of health care is very cheap, it only cost 98$ for MRI. In conclusion, I think the \n",
       "<mark class=\"entity\" style=\"background: #ddd; padding: 0.45em 0.6em; margin: 0 0.25em; line-height: 1; border-radius: 0.35em;\">\n",
       "    Japanese\n",
       "    <span style=\"font-size: 0.8em; font-weight: bold; line-height: 1; border-radius: 0.35em; text-transform: uppercase; vertical-align: middle; margin-left: 0.5rem\">HEALTHSYSTEM</span>\n",
       "</mark>\n",
       " health system can provide cheap and fast treatment to patients, so I would like to choose it.</div></span>"
      ],
      "text/plain": [
       "<IPython.core.display.HTML object>"
      ]
     },
     "metadata": {},
     "output_type": "display_data"
    },
    {
     "name": "stdout",
     "output_type": "stream",
     "text": [
      "------------------------------------------------------------------------\n"
     ]
    },
    {
     "data": {
      "text/html": [
       "<span class=\"tex2jax_ignore\"><div class=\"entities\" style=\"line-height: 2.5; direction: ltr\">After watching Sick Around the World, I would like to choose \n",
       "<mark class=\"entity\" style=\"background: #ddd; padding: 0.45em 0.6em; margin: 0 0.25em; line-height: 1; border-radius: 0.35em;\">\n",
       "    Japanese\n",
       "    <span style=\"font-size: 0.8em; font-weight: bold; line-height: 1; border-radius: 0.35em; text-transform: uppercase; vertical-align: middle; margin-left: 0.5rem\">HEALTHSYSTEM</span>\n",
       "</mark>\n",
       " healthcare system. In China, we have similar healthcare system but there are still many differences. </br>The reasons could be:</br></br> The medical bills are cheap. As Chinese, our medical bills are actually cheaper than most countries but according to this movie, \n",
       "<mark class=\"entity\" style=\"background: #ddd; padding: 0.45em 0.6em; margin: 0 0.25em; line-height: 1; border-radius: 0.35em;\">\n",
       "    Japan\n",
       "    <span style=\"font-size: 0.8em; font-weight: bold; line-height: 1; border-radius: 0.35em; text-transform: uppercase; vertical-align: middle; margin-left: 0.5rem\">HEALTHSYSTEM</span>\n",
       "</mark>\n",
       " maybe cheaper.</br> The insurance policy is standard in the whole country. Not only the insurance fee but the policy. It's really helpful for all citizens, especially who are in poor financial conditions and who already have some diseases. In China, the insurance fees differ and some insurance policy from private insurance company would refuse to pay for people who already have diseases like diabetes.</br> No GP requirement. Both China and \n",
       "<mark class=\"entity\" style=\"background: #ddd; padding: 0.45em 0.6em; margin: 0 0.25em; line-height: 1; border-radius: 0.35em;\">\n",
       "    Japan\n",
       "    <span style=\"font-size: 0.8em; font-weight: bold; line-height: 1; border-radius: 0.35em; text-transform: uppercase; vertical-align: middle; margin-left: 0.5rem\">HEALTHSYSTEM</span>\n",
       "</mark>\n",
       " have no GP policy, and I am used to seeing doctors directly and quickly as long as I go to the hospital.\n",
       " Although hospitals are suffering broken which may cause difficulty for patients to seeing doctor, I believe the government would adjust the policy to keep the balance.\n",
       "</div></span>"
      ],
      "text/plain": [
       "<IPython.core.display.HTML object>"
      ]
     },
     "metadata": {},
     "output_type": "display_data"
    },
    {
     "name": "stdout",
     "output_type": "stream",
     "text": [
      "------------------------------------------------------------------------\n"
     ]
    },
    {
     "data": {
      "text/html": [
       "<span class=\"tex2jax_ignore\"><div class=\"entities\" style=\"line-height: 2.5; direction: ltr\">As far as I'm concerned, I prefer the \n",
       "<mark class=\"entity\" style=\"background: #ddd; padding: 0.45em 0.6em; margin: 0 0.25em; line-height: 1; border-radius: 0.35em;\">\n",
       "    Japanese\n",
       "    <span style=\"font-size: 0.8em; font-weight: bold; line-height: 1; border-radius: 0.35em; text-transform: uppercase; vertical-align: middle; margin-left: 0.5rem\">HEALTHSYSTEM</span>\n",
       "</mark>\n",
       " health system. There are the following reasons. First of all, \n",
       "<mark class=\"entity\" style=\"background: #ddd; padding: 0.45em 0.6em; margin: 0 0.25em; line-height: 1; border-radius: 0.35em;\">\n",
       "    Japan\n",
       "    <span style=\"font-size: 0.8em; font-weight: bold; line-height: 1; border-radius: 0.35em; text-transform: uppercase; vertical-align: middle; margin-left: 0.5rem\">HEALTHSYSTEM</span>\n",
       "</mark>\n",
       "'s health system is covered by its full name, which is a kind of social insurance. Compared with many countries, such as China, many poor people are unable to see a doctor. \n",
       "<mark class=\"entity\" style=\"background: #ddd; padding: 0.45em 0.6em; margin: 0 0.25em; line-height: 1; border-radius: 0.35em;\">\n",
       "    Japan\n",
       "    <span style=\"font-size: 0.8em; font-weight: bold; line-height: 1; border-radius: 0.35em; text-transform: uppercase; vertical-align: middle; margin-left: 0.5rem\">HEALTHSYSTEM</span>\n",
       "</mark>\n",
       " provides health services for everyone, which is worth learning from. In addition, \n",
       "<mark class=\"entity\" style=\"background: #ddd; padding: 0.45em 0.6em; margin: 0 0.25em; line-height: 1; border-radius: 0.35em;\">\n",
       "    Japan\n",
       "    <span style=\"font-size: 0.8em; font-weight: bold; line-height: 1; border-radius: 0.35em; text-transform: uppercase; vertical-align: middle; margin-left: 0.5rem\">HEALTHSYSTEM</span>\n",
       "</mark>\n",
       "'s fast medical service, no need to make an appointment is also an attractive place for me. In China, it often takes a lot of time to see an illness, and sometimes it takes half a day to complete a small examination. But in \n",
       "<mark class=\"entity\" style=\"background: #ddd; padding: 0.45em 0.6em; margin: 0 0.25em; line-height: 1; border-radius: 0.35em;\">\n",
       "    Japan\n",
       "    <span style=\"font-size: 0.8em; font-weight: bold; line-height: 1; border-radius: 0.35em; text-transform: uppercase; vertical-align: middle; margin-left: 0.5rem\">HEALTHSYSTEM</span>\n",
       "</mark>\n",
       ", the average medical treatment for each person is often only three to five minutes, which makes me very envious. Finally, I was also attracted by the abundance of medical devices and the low price of inspection in \n",
       "<mark class=\"entity\" style=\"background: #ddd; padding: 0.45em 0.6em; margin: 0 0.25em; line-height: 1; border-radius: 0.35em;\">\n",
       "    Japan\n",
       "    <span style=\"font-size: 0.8em; font-weight: bold; line-height: 1; border-radius: 0.35em; text-transform: uppercase; vertical-align: middle; margin-left: 0.5rem\">HEALTHSYSTEM</span>\n",
       "</mark>\n",
       ". In China, some complex medical projects need to go to other cities, which is very troublesome.</div></span>"
      ],
      "text/plain": [
       "<IPython.core.display.HTML object>"
      ]
     },
     "metadata": {},
     "output_type": "display_data"
    },
    {
     "name": "stdout",
     "output_type": "stream",
     "text": [
      "------------------------------------------------------------------------\n"
     ]
    },
    {
     "name": "stderr",
     "output_type": "stream",
     "text": [
      "/Users/brian/anaconda3/envs/nlp/lib/python3.7/runpy.py:193: UserWarning: [W006] No entities to visualize found in Doc object. If this is surprising to you, make sure the Doc was processed using a model that supports named entity recognition, and check the `doc.ents` property manually if necessary.\n",
      "  \"__main__\", mod_spec)\n"
     ]
    },
    {
     "data": {
      "text/html": [
       "<span class=\"tex2jax_ignore\"><div class=\"entities\" style=\"line-height: 2.5; direction: ltr\">I think the health system in Australia is very good, and which consists of two systems, public and private. Every citizen of Australia can access care for free or at a lower cost through Medicare. Medicare was funded by the tax(funded by local, state and federal governments). for the private system, which includes health service providers that are owned and managed privately, like private hospitals, specialist medical and allied health, and pharmacies(funded by a combination of government and private entities). The whole health system in Australia ensure very people who live in Australia can enjoy the benefits of the system and easier to support the cost of healing. \n",
       " \n",
       " </div></span>"
      ],
      "text/plain": [
       "<IPython.core.display.HTML object>"
      ]
     },
     "metadata": {},
     "output_type": "display_data"
    },
    {
     "name": "stdout",
     "output_type": "stream",
     "text": [
      "------------------------------------------------------------------------\n"
     ]
    },
    {
     "data": {
      "text/html": [
       "<span class=\"tex2jax_ignore\"><div class=\"entities\" style=\"line-height: 2.5; direction: ltr\">In the video introduction, I hope to get medical care from the \n",
       "<mark class=\"entity\" style=\"background: #ddd; padding: 0.45em 0.6em; margin: 0 0.25em; line-height: 1; border-radius: 0.35em;\">\n",
       "    German\n",
       "    <span style=\"font-size: 0.8em; font-weight: bold; line-height: 1; border-radius: 0.35em; text-transform: uppercase; vertical-align: middle; margin-left: 0.5rem\">HEALTHSYSTEM</span>\n",
       "</mark>\n",
       " medical system. The \n",
       "<mark class=\"entity\" style=\"background: #ddd; padding: 0.45em 0.6em; margin: 0 0.25em; line-height: 1; border-radius: 0.35em;\">\n",
       "    German\n",
       "    <span style=\"font-size: 0.8em; font-weight: bold; line-height: 1; border-radius: 0.35em; text-transform: uppercase; vertical-align: middle; margin-left: 0.5rem\">HEALTHSYSTEM</span>\n",
       "</mark>\n",
       " medical system is a market-based system. Under this medical system, patients can be allowed to perform various medical care at any time. In this kind of medical system, statutory medical insurance occupies the main position. At the same time, private insurance is used as an auxiliary.The advantage of this medical system is that it can, first, effectively avoid the possibility of doctors charging indiscriminately. Second, medical resources can be allocated more efficiently. Third, the division of labor and collaboration can be carried out more effectively.Therefore, I hope to get medical care in the \n",
       "<mark class=\"entity\" style=\"background: #ddd; padding: 0.45em 0.6em; margin: 0 0.25em; line-height: 1; border-radius: 0.35em;\">\n",
       "    German\n",
       "    <span style=\"font-size: 0.8em; font-weight: bold; line-height: 1; border-radius: 0.35em; text-transform: uppercase; vertical-align: middle; margin-left: 0.5rem\">HEALTHSYSTEM</span>\n",
       "</mark>\n",
       " medical system.</div></span>"
      ],
      "text/plain": [
       "<IPython.core.display.HTML object>"
      ]
     },
     "metadata": {},
     "output_type": "display_data"
    },
    {
     "name": "stdout",
     "output_type": "stream",
     "text": [
      "------------------------------------------------------------------------\n"
     ]
    },
    {
     "data": {
      "text/html": [
       "<span class=\"tex2jax_ignore\"><div class=\"entities\" style=\"line-height: 2.5; direction: ltr\">From my perspective, I prefer to get my healthcare from \n",
       "<mark class=\"entity\" style=\"background: #ddd; padding: 0.45em 0.6em; margin: 0 0.25em; line-height: 1; border-radius: 0.35em;\">\n",
       "    Taiwan\n",
       "    <span style=\"font-size: 0.8em; font-weight: bold; line-height: 1; border-radius: 0.35em; text-transform: uppercase; vertical-align: middle; margin-left: 0.5rem\">HEALTHSYSTEM</span>\n",
       "</mark>\n",
       ". The Average family premium: $650 per year for a family for four, which is relatively cheap. What attracts me most is the smart card every citizen owns can be used to record users' medical history and the system also helps public health officials monitor standards and effect policy changes nationwide. Thus, the administrative costs of \n",
       "<mark class=\"entity\" style=\"background: #ddd; padding: 0.45em 0.6em; margin: 0 0.25em; line-height: 1; border-radius: 0.35em;\">\n",
       "    Taiwan\n",
       "    <span style=\"font-size: 0.8em; font-weight: bold; line-height: 1; border-radius: 0.35em; text-transform: uppercase; vertical-align: middle; margin-left: 0.5rem\">HEALTHSYSTEM</span>\n",
       "</mark>\n",
       " is the lowest in the world. </div></span>"
      ],
      "text/plain": [
       "<IPython.core.display.HTML object>"
      ]
     },
     "metadata": {},
     "output_type": "display_data"
    },
    {
     "name": "stdout",
     "output_type": "stream",
     "text": [
      "------------------------------------------------------------------------\n"
     ]
    },
    {
     "data": {
      "text/html": [
       "<span class=\"tex2jax_ignore\"><div class=\"entities\" style=\"line-height: 2.5; direction: ltr\">\n",
       "<mark class=\"entity\" style=\"background: #ddd; padding: 0.45em 0.6em; margin: 0 0.25em; line-height: 1; border-radius: 0.35em;\">\n",
       "    Germany\n",
       "    <span style=\"font-size: 0.8em; font-weight: bold; line-height: 1; border-radius: 0.35em; text-transform: uppercase; vertical-align: middle; margin-left: 0.5rem\">HEALTHSYSTEM</span>\n",
       "</mark>\n",
       " has one of the best health care systems in the world, with universal coverage, which means germans don't have to worry about huge health costs.One of the reasons why \n",
       "<mark class=\"entity\" style=\"background: #ddd; padding: 0.45em 0.6em; margin: 0 0.25em; line-height: 1; border-radius: 0.35em;\">\n",
       "    Germany\n",
       "    <span style=\"font-size: 0.8em; font-weight: bold; line-height: 1; border-radius: 0.35em; text-transform: uppercase; vertical-align: middle; margin-left: 0.5rem\">HEALTHSYSTEM</span>\n",
       "</mark>\n",
       "'s health-care system is so good is that it is almost cover everything.</br>1.Universal health care: \n",
       "<mark class=\"entity\" style=\"background: #ddd; padding: 0.45em 0.6em; margin: 0 0.25em; line-height: 1; border-radius: 0.35em;\">\n",
       "    Germany\n",
       "    <span style=\"font-size: 0.8em; font-weight: bold; line-height: 1; border-radius: 0.35em; text-transform: uppercase; vertical-align: middle; margin-left: 0.5rem\">HEALTHSYSTEM</span>\n",
       "</mark>\n",
       " has universal health insurance, which means that everyone living in \n",
       "<mark class=\"entity\" style=\"background: #ddd; padding: 0.45em 0.6em; margin: 0 0.25em; line-height: 1; border-radius: 0.35em;\">\n",
       "    Germany\n",
       "    <span style=\"font-size: 0.8em; font-weight: bold; line-height: 1; border-radius: 0.35em; text-transform: uppercase; vertical-align: middle; margin-left: 0.5rem\">HEALTHSYSTEM</span>\n",
       "</mark>\n",
       " must have health insurance.2. Percentage of public and private health insurance: Most people have public health insurance and about 10 percent have private health insurance.3.  percentage covered by health insurance: 100%.4. number of pharmacies: \n",
       "<mark class=\"entity\" style=\"background: #ddd; padding: 0.45em 0.6em; margin: 0 0.25em; line-height: 1; border-radius: 0.35em;\">\n",
       "    Germany\n",
       "    <span style=\"font-size: 0.8em; font-weight: bold; line-height: 1; border-radius: 0.35em; text-transform: uppercase; vertical-align: middle; margin-left: 0.5rem\">HEALTHSYSTEM</span>\n",
       "</mark>\n",
       " has more than 20,000 pharmacies or one for every 4,000 people.5. number of hospitals: about 2,000.</div></span>"
      ],
      "text/plain": [
       "<IPython.core.display.HTML object>"
      ]
     },
     "metadata": {},
     "output_type": "display_data"
    },
    {
     "name": "stdout",
     "output_type": "stream",
     "text": [
      "------------------------------------------------------------------------\n"
     ]
    },
    {
     "data": {
      "text/html": [
       "<span class=\"tex2jax_ignore\"><div class=\"entities\" style=\"line-height: 2.5; direction: ltr\">I would chose to get my health care from \n",
       "<mark class=\"entity\" style=\"background: #ddd; padding: 0.45em 0.6em; margin: 0 0.25em; line-height: 1; border-radius: 0.35em;\">\n",
       "    Taiwan\n",
       "    <span style=\"font-size: 0.8em; font-weight: bold; line-height: 1; border-radius: 0.35em; text-transform: uppercase; vertical-align: middle; margin-left: 0.5rem\">HEALTHSYSTEM</span>\n",
       "</mark>\n",
       ", as mentioned in the documentary they learnt and adapted different aspects of successful health care systems from different countries. I particularly like that there is no opt out option and everyone joins and pays the same amount to get the same care. It also has no gatekeepers and no high waiting times meaning citizens are able to get diagnosed and treatment efficiently. Additionally, unlike the other health care systems mentioned in the documentary every citizen of \n",
       "<mark class=\"entity\" style=\"background: #ddd; padding: 0.45em 0.6em; margin: 0 0.25em; line-height: 1; border-radius: 0.35em;\">\n",
       "    Taiwan\n",
       "    <span style=\"font-size: 0.8em; font-weight: bold; line-height: 1; border-radius: 0.35em; text-transform: uppercase; vertical-align: middle; margin-left: 0.5rem\">HEALTHSYSTEM</span>\n",
       "</mark>\n",
       " is issued with a smart card which dramatically reduces administrative costs and also makes it easier for both the practitioner and patient to transport medical records. Moreover, the system includes drug benefits and includes all types of care including optical and other types of extras. Ultimately, I believe \n",
       "<mark class=\"entity\" style=\"background: #ddd; padding: 0.45em 0.6em; margin: 0 0.25em; line-height: 1; border-radius: 0.35em;\">\n",
       "    Taiwan\n",
       "    <span style=\"font-size: 0.8em; font-weight: bold; line-height: 1; border-radius: 0.35em; text-transform: uppercase; vertical-align: middle; margin-left: 0.5rem\">HEALTHSYSTEM</span>\n",
       "</mark>\n",
       " has found an optimal system where all citizens contribute to the health care system, receive adequate care and the government is not spending a high amount of GDP.</div></span>"
      ],
      "text/plain": [
       "<IPython.core.display.HTML object>"
      ]
     },
     "metadata": {},
     "output_type": "display_data"
    },
    {
     "name": "stdout",
     "output_type": "stream",
     "text": [
      "------------------------------------------------------------------------\n"
     ]
    },
    {
     "data": {
      "text/html": [
       "<span class=\"tex2jax_ignore\"><div class=\"entities\" style=\"line-height: 2.5; direction: ltr\">For the countries mentioned by Reid in the interview, I am most interested in the medical system in \n",
       "<mark class=\"entity\" style=\"background: #ddd; padding: 0.45em 0.6em; margin: 0 0.25em; line-height: 1; border-radius: 0.35em;\">\n",
       "    Taiwan\n",
       "    <span style=\"font-size: 0.8em; font-weight: bold; line-height: 1; border-radius: 0.35em; text-transform: uppercase; vertical-align: middle; margin-left: 0.5rem\">HEALTHSYSTEM</span>\n",
       "</mark>\n",
       ". The reason is that I grew up here, the overall medical environment is very convenient, with a sound medical system, people can use the health insurance card to record the contents of each visit and the type of medicines given by the doctor, and the visit only costs about 8 Australian dollars. At the same time, the popularity of clinics and hospitals is also quite high, and citizens who need medical resources can see the doctor quickly and also without the pressure to bear high medical expenses. I think that a sound medical system is based on the efforts of the government and all the people, such as the prevention of COVID-19. I returned to \n",
       "<mark class=\"entity\" style=\"background: #ddd; padding: 0.45em 0.6em; margin: 0 0.25em; line-height: 1; border-radius: 0.35em;\">\n",
       "    Taiwan\n",
       "    <span style=\"font-size: 0.8em; font-weight: bold; line-height: 1; border-radius: 0.35em; text-transform: uppercase; vertical-align: middle; margin-left: 0.5rem\">HEALTHSYSTEM</span>\n",
       "</mark>\n",
       " last week for 14 days of independent isolation. The health bureau uses mobile phones to locate and control whether or not I leave the quarantine at any time, and public representatives of the block contact me every day to understand my physical condition so that I can report and treat in time when I am unwell. However, the convenient and low-cost medical resources have also extended the problem of the national health insurance financial deficit. Although the national satisfaction with health system has reached 87%, the number of visits per capita is three times higher than in developed countries, which has led to a continuous increase in losses. It is a topic worth discussing.</div></span>"
      ],
      "text/plain": [
       "<IPython.core.display.HTML object>"
      ]
     },
     "metadata": {},
     "output_type": "display_data"
    },
    {
     "name": "stdout",
     "output_type": "stream",
     "text": [
      "------------------------------------------------------------------------\n"
     ]
    },
    {
     "data": {
      "text/html": [
       "<span class=\"tex2jax_ignore\"><div class=\"entities\" style=\"line-height: 2.5; direction: ltr\">Healthcare in \n",
       "<mark class=\"entity\" style=\"background: #ddd; padding: 0.45em 0.6em; margin: 0 0.25em; line-height: 1; border-radius: 0.35em;\">\n",
       "    Switzerland\n",
       "    <span style=\"font-size: 0.8em; font-weight: bold; line-height: 1; border-radius: 0.35em; text-transform: uppercase; vertical-align: middle; margin-left: 0.5rem\">HEALTHSYSTEM</span>\n",
       "</mark>\n",
       "</br>After watching the video, I think the health system of \n",
       "<mark class=\"entity\" style=\"background: #ddd; padding: 0.45em 0.6em; margin: 0 0.25em; line-height: 1; border-radius: 0.35em;\">\n",
       "    Switzerland\n",
       "    <span style=\"font-size: 0.8em; font-weight: bold; line-height: 1; border-radius: 0.35em; text-transform: uppercase; vertical-align: middle; margin-left: 0.5rem\">HEALTHSYSTEM</span>\n",
       "</mark>\n",
       " is the best among all the countries that Reid visited. The reasons are as follows:</br></br>The law requires \n",
       "<mark class=\"entity\" style=\"background: #ddd; padding: 0.45em 0.6em; margin: 0 0.25em; line-height: 1; border-radius: 0.35em;\">\n",
       "    Swiss\n",
       "    <span style=\"font-size: 0.8em; font-weight: bold; line-height: 1; border-radius: 0.35em; text-transform: uppercase; vertical-align: middle; margin-left: 0.5rem\">HEALTHSYSTEM</span>\n",
       "</mark>\n",
       " residents to purchase health insurance (compulsory health insurance or MHI).\n",
       "No one will be refused to provide pre-existing diseases.\n",
       "The government provides Mitsubishi Heavy Industries subsidies for low-income people.\n",
       "Patients can get all levels of care directly-no referrals required.\n",
       "MHI allows patients to choose their own provider.\n",
       "There is a little waiting time.\n",
       "Maternity insurance is excellent: it includes prenatal care, all costs related to childbirth, and a one-week hospitalization after childbirth (teaching baby care skills during this period). Qualified midwives will also make post-natal family calls.\n",
       "</div></span>"
      ],
      "text/plain": [
       "<IPython.core.display.HTML object>"
      ]
     },
     "metadata": {},
     "output_type": "display_data"
    },
    {
     "name": "stdout",
     "output_type": "stream",
     "text": [
      "------------------------------------------------------------------------\n"
     ]
    },
    {
     "data": {
      "text/html": [
       "<span class=\"tex2jax_ignore\"><div class=\"entities\" style=\"line-height: 2.5; direction: ltr\">I prefer to get services from the health care system in \n",
       "<mark class=\"entity\" style=\"background: #ddd; padding: 0.45em 0.6em; margin: 0 0.25em; line-height: 1; border-radius: 0.35em;\">\n",
       "    Japan\n",
       "    <span style=\"font-size: 0.8em; font-weight: bold; line-height: 1; border-radius: 0.35em; text-transform: uppercase; vertical-align: middle; margin-left: 0.5rem\">HEALTHSYSTEM</span>\n",
       "</mark>\n",
       ". \n",
       "<mark class=\"entity\" style=\"background: #ddd; padding: 0.45em 0.6em; margin: 0 0.25em; line-height: 1; border-radius: 0.35em;\">\n",
       "    Japan\n",
       "    <span style=\"font-size: 0.8em; font-weight: bold; line-height: 1; border-radius: 0.35em; text-transform: uppercase; vertical-align: middle; margin-left: 0.5rem\">HEALTHSYSTEM</span>\n",
       "</mark>\n",
       "'s medical services are provided by the private sector, while the medical expenses are borne by the government. I don't have to worry about the cost, because as long as I'm insured, most of my medical expenses will be borne by the government. There are many small medical institutions in \n",
       "<mark class=\"entity\" style=\"background: #ddd; padding: 0.45em 0.6em; margin: 0 0.25em; line-height: 1; border-radius: 0.35em;\">\n",
       "    Japan\n",
       "    <span style=\"font-size: 0.8em; font-weight: bold; line-height: 1; border-radius: 0.35em; text-transform: uppercase; vertical-align: middle; margin-left: 0.5rem\">HEALTHSYSTEM</span>\n",
       "</mark>\n",
       ". I can get medical services nearby and refer to large hospitals when necessary. This saves me a lot of time and the tedious appointment.</div></span>"
      ],
      "text/plain": [
       "<IPython.core.display.HTML object>"
      ]
     },
     "metadata": {},
     "output_type": "display_data"
    },
    {
     "name": "stdout",
     "output_type": "stream",
     "text": [
      "------------------------------------------------------------------------\n"
     ]
    },
    {
     "data": {
      "text/html": [
       "<span class=\"tex2jax_ignore\"><div class=\"entities\" style=\"line-height: 2.5; direction: ltr\">I prefer to get healthcare from \n",
       "<mark class=\"entity\" style=\"background: #ddd; padding: 0.45em 0.6em; margin: 0 0.25em; line-height: 1; border-radius: 0.35em;\">\n",
       "    Taiwan\n",
       "    <span style=\"font-size: 0.8em; font-weight: bold; line-height: 1; border-radius: 0.35em; text-transform: uppercase; vertical-align: middle; margin-left: 0.5rem\">HEALTHSYSTEM</span>\n",
       "</mark>\n",
       ". After \n",
       "<mark class=\"entity\" style=\"background: #ddd; padding: 0.45em 0.6em; margin: 0 0.25em; line-height: 1; border-radius: 0.35em;\">\n",
       "    Taiwan\n",
       "    <span style=\"font-size: 0.8em; font-weight: bold; line-height: 1; border-radius: 0.35em; text-transform: uppercase; vertical-align: middle; margin-left: 0.5rem\">HEALTHSYSTEM</span>\n",
       "</mark>\n",
       " learnt experience of health system from many countries, \n",
       "<mark class=\"entity\" style=\"background: #ddd; padding: 0.45em 0.6em; margin: 0 0.25em; line-height: 1; border-radius: 0.35em;\">\n",
       "    Taiwan\n",
       "    <span style=\"font-size: 0.8em; font-weight: bold; line-height: 1; border-radius: 0.35em; text-transform: uppercase; vertical-align: middle; margin-left: 0.5rem\">HEALTHSYSTEM</span>\n",
       "</mark>\n",
       " established effective health system. There are  three reason I pick \n",
       "<mark class=\"entity\" style=\"background: #ddd; padding: 0.45em 0.6em; margin: 0 0.25em; line-height: 1; border-radius: 0.35em;\">\n",
       "    Taiwan\n",
       "    <span style=\"font-size: 0.8em; font-weight: bold; line-height: 1; border-radius: 0.35em; text-transform: uppercase; vertical-align: middle; margin-left: 0.5rem\">HEALTHSYSTEM</span>\n",
       "</mark>\n",
       " that I am most intrigued by. Firstly, all medical treatments and medicines will be covered by governance, everyone is treated equally. Secondly, there is no gatekeeper or waiting time in \n",
       "<mark class=\"entity\" style=\"background: #ddd; padding: 0.45em 0.6em; margin: 0 0.25em; line-height: 1; border-radius: 0.35em;\">\n",
       "    Taiwan\n",
       "    <span style=\"font-size: 0.8em; font-weight: bold; line-height: 1; border-radius: 0.35em; text-transform: uppercase; vertical-align: middle; margin-left: 0.5rem\">HEALTHSYSTEM</span>\n",
       "</mark>\n",
       "'s health system, clinic even open on the weekend, and there is no need to see GP firstly. Finally, health system of \n",
       "<mark class=\"entity\" style=\"background: #ddd; padding: 0.45em 0.6em; margin: 0 0.25em; line-height: 1; border-radius: 0.35em;\">\n",
       "    Taiwan\n",
       "    <span style=\"font-size: 0.8em; font-weight: bold; line-height: 1; border-radius: 0.35em; text-transform: uppercase; vertical-align: middle; margin-left: 0.5rem\">HEALTHSYSTEM</span>\n",
       "</mark>\n",
       " is most convenient, everyone has owner smart card to get healthcare, and doctor can read all medical histories by smart cards. In addition, bill can be sent to governance insurance and paid automatically.  </div></span>"
      ],
      "text/plain": [
       "<IPython.core.display.HTML object>"
      ]
     },
     "metadata": {},
     "output_type": "display_data"
    },
    {
     "name": "stdout",
     "output_type": "stream",
     "text": [
      "------------------------------------------------------------------------\n"
     ]
    },
    {
     "name": "stderr",
     "output_type": "stream",
     "text": [
      "/Users/brian/anaconda3/envs/nlp/lib/python3.7/runpy.py:193: UserWarning: [W006] No entities to visualize found in Doc object. If this is surprising to you, make sure the Doc was processed using a model that supports named entity recognition, and check the `doc.ents` property manually if necessary.\n",
      "  \"__main__\", mod_spec)\n"
     ]
    },
    {
     "data": {
      "text/html": [
       "<span class=\"tex2jax_ignore\"><div class=\"entities\" style=\"line-height: 2.5; direction: ltr\">As a country with the purest air, the happiest people, and rated as the greenest country in the world, Finland does its best to make people enjoy a healthy life. Finland also boasts one of the most efficient healthcare systems globally, with many companies offering digital solutions to improve efficiency. One of the largest hospitals in Europe, HUS Helsinki University Hospital is the first hospital in the world to use boron neutron capture therapy (BNCT) in medical devices to treat cancer patients. Through its branch (HYKSin), medical services are provided to international patients. Currently, many digital health care solutions are designed to reduce patient waiting times. Data management company Avaintec, for example, set up a Sino-Finnish ARTIFICIAL intelligence and Innovation Research center in China with partners in early 2018. One of the projects is to provide an emergency center with a diagnostic system using artificial intelligence and machine learning. The neural network system can make the best guess based on the medical data input by the doctor.Moreover, NewIcon was founded in 2007 in Kuopio, central Finland, specializing in pharmaceutical management and pharmacy automation systems. The pharmacy at Helsinki University Hospital has used the company's automated system for years. Bone Index develops an index in Kuopio. It is a handy hand-held device for detecting the risk of osteoporosis. The goal is to get more people diagnosed early, prevent fractures, and help doctors make decisions. In genetic research, Finland has successfully combined genetic information with electronic health care data for research, with more than 98 percent of Finnish cases stored in electronic documents. FinnGen, a unique and unprecedented research project that has attracted international attention, aims to analyze half a million different blood samples from the Finnish biobank to understand the mechanisms of disease better and make more targeted individual treatment plans.</div></span>"
      ],
      "text/plain": [
       "<IPython.core.display.HTML object>"
      ]
     },
     "metadata": {},
     "output_type": "display_data"
    },
    {
     "name": "stdout",
     "output_type": "stream",
     "text": [
      "------------------------------------------------------------------------\n"
     ]
    },
    {
     "data": {
      "text/html": [
       "<span class=\"tex2jax_ignore\"><div class=\"entities\" style=\"line-height: 2.5; direction: ltr\">\n",
       "<mark class=\"entity\" style=\"background: #ddd; padding: 0.45em 0.6em; margin: 0 0.25em; line-height: 1; border-radius: 0.35em;\">\n",
       "    Japan\n",
       "    <span style=\"font-size: 0.8em; font-weight: bold; line-height: 1; border-radius: 0.35em; text-transform: uppercase; vertical-align: middle; margin-left: 0.5rem\">HEALTHSYSTEM</span>\n",
       "</mark>\n",
       " is the country  I was most intrigued by.  I prefer the health system in \n",
       "<mark class=\"entity\" style=\"background: #ddd; padding: 0.45em 0.6em; margin: 0 0.25em; line-height: 1; border-radius: 0.35em;\">\n",
       "    Japan\n",
       "    <span style=\"font-size: 0.8em; font-weight: bold; line-height: 1; border-radius: 0.35em; text-transform: uppercase; vertical-align: middle; margin-left: 0.5rem\">HEALTHSYSTEM</span>\n",
       "</mark>\n",
       " because the health insurance company there covers everyone in their society, even those poor people. And also, there are lower drug prices and no waiting time if the patient needs to communicate with a doctor face to face. For example,  the health care system in \n",
       "<mark class=\"entity\" style=\"background: #ddd; padding: 0.45em 0.6em; margin: 0 0.25em; line-height: 1; border-radius: 0.35em;\">\n",
       "    Japan\n",
       "    <span style=\"font-size: 0.8em; font-weight: bold; line-height: 1; border-radius: 0.35em; text-transform: uppercase; vertical-align: middle; margin-left: 0.5rem\">HEALTHSYSTEM</span>\n",
       "</mark>\n",
       " saves more money for me if I would like to visit the dentist or doctor regularly.</div></span>"
      ],
      "text/plain": [
       "<IPython.core.display.HTML object>"
      ]
     },
     "metadata": {},
     "output_type": "display_data"
    },
    {
     "name": "stdout",
     "output_type": "stream",
     "text": [
      "------------------------------------------------------------------------\n"
     ]
    },
    {
     "data": {
      "text/html": [
       "<span class=\"tex2jax_ignore\"><div class=\"entities\" style=\"line-height: 2.5; direction: ltr\">I am intrigued by the healthcare system of \n",
       "<mark class=\"entity\" style=\"background: #ddd; padding: 0.45em 0.6em; margin: 0 0.25em; line-height: 1; border-radius: 0.35em;\">\n",
       "    Taiwan\n",
       "    <span style=\"font-size: 0.8em; font-weight: bold; line-height: 1; border-radius: 0.35em; text-transform: uppercase; vertical-align: middle; margin-left: 0.5rem\">HEALTHSYSTEM</span>\n",
       "</mark>\n",
       ". There are two factors I think that are essential for the patients. First is the waiting time. As a patient, waiting time may be suffering from pain. It may also leads to the pressure since patients may have no knowledge of their sickness and being worried from the information gaining online. Therefore, building a healthcare system without any waiting time is an essential factors that affecting the physical and mental wellbeing for the patients. Another feature is the building of a completed infomation system. \n",
       "<mark class=\"entity\" style=\"background: #ddd; padding: 0.45em 0.6em; margin: 0 0.25em; line-height: 1; border-radius: 0.35em;\">\n",
       "    Taiwan\n",
       "    <span style=\"font-size: 0.8em; font-weight: bold; line-height: 1; border-radius: 0.35em; text-transform: uppercase; vertical-align: middle; margin-left: 0.5rem\">HEALTHSYSTEM</span>\n",
       "</mark>\n",
       " provides a card that it is swiped when meeting with the doctors. The card stores the medical record for every single meeting, which enables the doctors to know about the medicial history, prognisis and previous treatments and help to have a better diagnosis. I think this is essential, as it is convenient for the patients to changing from different hospitals and get better treatments. </div></span>"
      ],
      "text/plain": [
       "<IPython.core.display.HTML object>"
      ]
     },
     "metadata": {},
     "output_type": "display_data"
    },
    {
     "name": "stdout",
     "output_type": "stream",
     "text": [
      "------------------------------------------------------------------------\n"
     ]
    },
    {
     "data": {
      "text/html": [
       "<span class=\"tex2jax_ignore\"><div class=\"entities\" style=\"line-height: 2.5; direction: ltr\">I would prefer the \n",
       "<mark class=\"entity\" style=\"background: #ddd; padding: 0.45em 0.6em; margin: 0 0.25em; line-height: 1; border-radius: 0.35em;\">\n",
       "    Japanese\n",
       "    <span style=\"font-size: 0.8em; font-weight: bold; line-height: 1; border-radius: 0.35em; text-transform: uppercase; vertical-align: middle; margin-left: 0.5rem\">HEALTHSYSTEM</span>\n",
       "</mark>\n",
       " healthcare system due to a multitude of reasons. Firstly, due to its predetermined fixed costs whilst still being able to attend private care practices. Secondly, due to the short waiting times. Since there are no gatekeepers, an individual is able to go see any specialist they like without making an appointment. One thing I was most intrigued by in the \n",
       "<mark class=\"entity\" style=\"background: #ddd; padding: 0.45em 0.6em; margin: 0 0.25em; line-height: 1; border-radius: 0.35em;\">\n",
       "    Japanese\n",
       "    <span style=\"font-size: 0.8em; font-weight: bold; line-height: 1; border-radius: 0.35em; text-transform: uppercase; vertical-align: middle; margin-left: 0.5rem\">HEALTHSYSTEM</span>\n",
       "</mark>\n",
       " healthcare system was their ability to innovate despite having tightly controlled price mechanisms. An example of this was the development of inexpensive MRI machines in response to the lower prices for MRIs. </div></span>"
      ],
      "text/plain": [
       "<IPython.core.display.HTML object>"
      ]
     },
     "metadata": {},
     "output_type": "display_data"
    },
    {
     "name": "stdout",
     "output_type": "stream",
     "text": [
      "------------------------------------------------------------------------\n"
     ]
    },
    {
     "data": {
      "text/html": [
       "<span class=\"tex2jax_ignore\"><div class=\"entities\" style=\"line-height: 2.5; direction: ltr\">After comparing health systems in those countries, I prefer \n",
       "<mark class=\"entity\" style=\"background: #ddd; padding: 0.45em 0.6em; margin: 0 0.25em; line-height: 1; border-radius: 0.35em;\">\n",
       "    Taiwan\n",
       "    <span style=\"font-size: 0.8em; font-weight: bold; line-height: 1; border-radius: 0.35em; text-transform: uppercase; vertical-align: middle; margin-left: 0.5rem\">HEALTHSYSTEM</span>\n",
       "</mark>\n",
       "'s health care system. The reasons are as follows.\n",
       "Firstly, from the patient's perspective, everyone can afford the treatment. And there 's no gatekeeper and no waiting time. \n",
       "Secondly, as for doctors, they can make diagnoses more quickly and accurately by knowing the patient's previous treatment records via the patient's smart card, which also improves patients' experience.</div></span>"
      ],
      "text/plain": [
       "<IPython.core.display.HTML object>"
      ]
     },
     "metadata": {},
     "output_type": "display_data"
    },
    {
     "name": "stdout",
     "output_type": "stream",
     "text": [
      "------------------------------------------------------------------------\n"
     ]
    },
    {
     "data": {
      "text/html": [
       "<span class=\"tex2jax_ignore\"><div class=\"entities\" style=\"line-height: 2.5; direction: ltr\">After watching Sick Around the World, I am interested in the health care system of \n",
       "<mark class=\"entity\" style=\"background: #ddd; padding: 0.45em 0.6em; margin: 0 0.25em; line-height: 1; border-radius: 0.35em;\">\n",
       "    Taiwan\n",
       "    <span style=\"font-size: 0.8em; font-weight: bold; line-height: 1; border-radius: 0.35em; text-transform: uppercase; vertical-align: middle; margin-left: 0.5rem\">HEALTHSYSTEM</span>\n",
       "</mark>\n",
       ". Experts in \n",
       "<mark class=\"entity\" style=\"background: #ddd; padding: 0.45em 0.6em; margin: 0 0.25em; line-height: 1; border-radius: 0.35em;\">\n",
       "    Taiwan\n",
       "    <span style=\"font-size: 0.8em; font-weight: bold; line-height: 1; border-radius: 0.35em; text-transform: uppercase; vertical-align: middle; margin-left: 0.5rem\">HEALTHSYSTEM</span>\n",
       "</mark>\n",
       " realized that the health systems of other developed countries, such as the \n",
       "<mark class=\"entity\" style=\"background: #ddd; padding: 0.45em 0.6em; margin: 0 0.25em; line-height: 1; border-radius: 0.35em;\">\n",
       "    United States\n",
       "    <span style=\"font-size: 0.8em; font-weight: bold; line-height: 1; border-radius: 0.35em; text-transform: uppercase; vertical-align: middle; margin-left: 0.5rem\">HEALTHSYSTEM</span>\n",
       "</mark>\n",
       ", were not a module that could be replicated, they need to find a unique track. So the experts learned from the advantages of the health care system from all the other countries and unified them. Finally, they developed a system that was more efficient and cost-effective which has the lowest administrative cost in the world. Specifically, Patients in \n",
       "<mark class=\"entity\" style=\"background: #ddd; padding: 0.45em 0.6em; margin: 0 0.25em; line-height: 1; border-radius: 0.35em;\">\n",
       "    Taiwan\n",
       "    <span style=\"font-size: 0.8em; font-weight: bold; line-height: 1; border-radius: 0.35em; text-transform: uppercase; vertical-align: middle; margin-left: 0.5rem\">HEALTHSYSTEM</span>\n",
       "</mark>\n",
       " do not have to make an appointment with GP, and they can go almost anytime during the day to see the doctor. Moreover, information technology is also used widely in the health care system. For instance, every \n",
       "<mark class=\"entity\" style=\"background: #ddd; padding: 0.45em 0.6em; margin: 0 0.25em; line-height: 1; border-radius: 0.35em;\">\n",
       "    Taiwanese\n",
       "    <span style=\"font-size: 0.8em; font-weight: bold; line-height: 1; border-radius: 0.35em; text-transform: uppercase; vertical-align: middle; margin-left: 0.5rem\">HEALTHSYSTEM</span>\n",
       "</mark>\n",
       " has a smart medical card, and it records the patient's history, medications and other information, which just like some kind of EMR (Electronic Medical Record). However, there are still some obstacles to the development of \n",
       "<mark class=\"entity\" style=\"background: #ddd; padding: 0.45em 0.6em; margin: 0 0.25em; line-height: 1; border-radius: 0.35em;\">\n",
       "    Taiwan\n",
       "    <span style=\"font-size: 0.8em; font-weight: bold; line-height: 1; border-radius: 0.35em; text-transform: uppercase; vertical-align: middle; margin-left: 0.5rem\">HEALTHSYSTEM</span>\n",
       "</mark>\n",
       "'s health care system for the government in \n",
       "<mark class=\"entity\" style=\"background: #ddd; padding: 0.45em 0.6em; margin: 0 0.25em; line-height: 1; border-radius: 0.35em;\">\n",
       "    Taiwan\n",
       "    <span style=\"font-size: 0.8em; font-weight: bold; line-height: 1; border-radius: 0.35em; text-transform: uppercase; vertical-align: middle; margin-left: 0.5rem\">HEALTHSYSTEM</span>\n",
       "</mark>\n",
       ", it needs to balance the hope of patients and the expectations of doctors. To be more specific, though the government has problems related to the funds of health care systems, the politicians are reluctant to increase premiums, because they are afraid to lose the voters from the public. Generally speaking, I prefer to get medical services from \n",
       "<mark class=\"entity\" style=\"background: #ddd; padding: 0.45em 0.6em; margin: 0 0.25em; line-height: 1; border-radius: 0.35em;\">\n",
       "    Taiwan\n",
       "    <span style=\"font-size: 0.8em; font-weight: bold; line-height: 1; border-radius: 0.35em; text-transform: uppercase; vertical-align: middle; margin-left: 0.5rem\">HEALTHSYSTEM</span>\n",
       "</mark>\n",
       "'s medical system.</div></span>"
      ],
      "text/plain": [
       "<IPython.core.display.HTML object>"
      ]
     },
     "metadata": {},
     "output_type": "display_data"
    },
    {
     "name": "stdout",
     "output_type": "stream",
     "text": [
      "------------------------------------------------------------------------\n"
     ]
    },
    {
     "data": {
      "text/html": [
       "<span class=\"tex2jax_ignore\"><div class=\"entities\" style=\"line-height: 2.5; direction: ltr\">As a \n",
       "<mark class=\"entity\" style=\"background: #ddd; padding: 0.45em 0.6em; margin: 0 0.25em; line-height: 1; border-radius: 0.35em;\">\n",
       "    Taiwanese\n",
       "    <span style=\"font-size: 0.8em; font-weight: bold; line-height: 1; border-radius: 0.35em; text-transform: uppercase; vertical-align: middle; margin-left: 0.5rem\">HEALTHSYSTEM</span>\n",
       "</mark>\n",
       ", I'm still most intrigued by our own health system. After watching the video, I would say I'm really proud of our health system. Compared to systems in other country, \n",
       "<mark class=\"entity\" style=\"background: #ddd; padding: 0.45em 0.6em; margin: 0 0.25em; line-height: 1; border-radius: 0.35em;\">\n",
       "    Taiwanese\n",
       "    <span style=\"font-size: 0.8em; font-weight: bold; line-height: 1; border-radius: 0.35em; text-transform: uppercase; vertical-align: middle; margin-left: 0.5rem\">HEALTHSYSTEM</span>\n",
       "</mark>\n",
       " can spend much fewer money but get high-quality medical services. </div></span>"
      ],
      "text/plain": [
       "<IPython.core.display.HTML object>"
      ]
     },
     "metadata": {},
     "output_type": "display_data"
    },
    {
     "name": "stdout",
     "output_type": "stream",
     "text": [
      "------------------------------------------------------------------------\n"
     ]
    },
    {
     "data": {
      "text/html": [
       "<span class=\"tex2jax_ignore\"><div class=\"entities\" style=\"line-height: 2.5; direction: ltr\">I am most intrigued by the health system in \n",
       "<mark class=\"entity\" style=\"background: #ddd; padding: 0.45em 0.6em; margin: 0 0.25em; line-height: 1; border-radius: 0.35em;\">\n",
       "    Taiwan\n",
       "    <span style=\"font-size: 0.8em; font-weight: bold; line-height: 1; border-radius: 0.35em; text-transform: uppercase; vertical-align: middle; margin-left: 0.5rem\">HEALTHSYSTEM</span>\n",
       "</mark>\n",
       ". Because people in \n",
       "<mark class=\"entity\" style=\"background: #ddd; padding: 0.45em 0.6em; margin: 0 0.25em; line-height: 1; border-radius: 0.35em;\">\n",
       "    Taiwan\n",
       "    <span style=\"font-size: 0.8em; font-weight: bold; line-height: 1; border-radius: 0.35em; text-transform: uppercase; vertical-align: middle; margin-left: 0.5rem\">HEALTHSYSTEM</span>\n",
       "</mark>\n",
       " only need to spend a small amount of money to the health insurance system to get a comprehensive healthcare service. In \n",
       "<mark class=\"entity\" style=\"background: #ddd; padding: 0.45em 0.6em; margin: 0 0.25em; line-height: 1; border-radius: 0.35em;\">\n",
       "    Taiwan\n",
       "    <span style=\"font-size: 0.8em; font-weight: bold; line-height: 1; border-radius: 0.35em; text-transform: uppercase; vertical-align: middle; margin-left: 0.5rem\">HEALTHSYSTEM</span>\n",
       "</mark>\n",
       ", people do not need to make appointments or get referrals to see the doctors, they can access the medical resources easily and immediately when the clinics or the hospitals open. On the other hand, people in \n",
       "<mark class=\"entity\" style=\"background: #ddd; padding: 0.45em 0.6em; margin: 0 0.25em; line-height: 1; border-radius: 0.35em;\">\n",
       "    Taiwan\n",
       "    <span style=\"font-size: 0.8em; font-weight: bold; line-height: 1; border-radius: 0.35em; text-transform: uppercase; vertical-align: middle; margin-left: 0.5rem\">HEALTHSYSTEM</span>\n",
       "</mark>\n",
       " need to hold the National Health Insurance card (NHI card) to access medical resources. The NHI card contains lots of the information of the patients (e.g. the insurance data, the diagnoses, and the drug prescriptions), which helps the doctors to assess the patients' body condition with the integrated data. </div></span>"
      ],
      "text/plain": [
       "<IPython.core.display.HTML object>"
      ]
     },
     "metadata": {},
     "output_type": "display_data"
    },
    {
     "name": "stdout",
     "output_type": "stream",
     "text": [
      "------------------------------------------------------------------------\n"
     ]
    },
    {
     "data": {
      "text/html": [
       "<span class=\"tex2jax_ignore\"><div class=\"entities\" style=\"line-height: 2.5; direction: ltr\">As an Asian, I always know \n",
       "<mark class=\"entity\" style=\"background: #ddd; padding: 0.45em 0.6em; margin: 0 0.25em; line-height: 1; border-radius: 0.35em;\">\n",
       "    Japan\n",
       "    <span style=\"font-size: 0.8em; font-weight: bold; line-height: 1; border-radius: 0.35em; text-transform: uppercase; vertical-align: middle; margin-left: 0.5rem\">HEALTHSYSTEM</span>\n",
       "</mark>\n",
       " has a good reputation in many aspects but I never know anything about its health care system. Besides the longest life expectancy and the lowest infant mortality, its health care system is very convenient and cheap for \n",
       "<mark class=\"entity\" style=\"background: #ddd; padding: 0.45em 0.6em; margin: 0 0.25em; line-height: 1; border-radius: 0.35em;\">\n",
       "    Japanese\n",
       "    <span style=\"font-size: 0.8em; font-weight: bold; line-height: 1; border-radius: 0.35em; text-transform: uppercase; vertical-align: middle; margin-left: 0.5rem\">HEALTHSYSTEM</span>\n",
       "</mark>\n",
       " patients. All prices of medical-related items are strictly negotiated and set by the government, which maximizes the patients’ right. There is no waiting list and patients can choose any hospital or doctors that they prefer. Although the medical equipment may be cheaper than those in other countries with the same function, based on the quality of \n",
       "<mark class=\"entity\" style=\"background: #ddd; padding: 0.45em 0.6em; margin: 0 0.25em; line-height: 1; border-radius: 0.35em;\">\n",
       "    Japanese\n",
       "    <span style=\"font-size: 0.8em; font-weight: bold; line-height: 1; border-radius: 0.35em; text-transform: uppercase; vertical-align: middle; margin-left: 0.5rem\">HEALTHSYSTEM</span>\n",
       "</mark>\n",
       " manufacture, patients do not have to worry about medical operation quality. </br>Perhaps, as Professor Saito Hidero said, there may be only one defect of \n",
       "<mark class=\"entity\" style=\"background: #ddd; padding: 0.45em 0.6em; margin: 0 0.25em; line-height: 1; border-radius: 0.35em;\">\n",
       "    Japanese\n",
       "    <span style=\"font-size: 0.8em; font-weight: bold; line-height: 1; border-radius: 0.35em; text-transform: uppercase; vertical-align: middle; margin-left: 0.5rem\">HEALTHSYSTEM</span>\n",
       "</mark>\n",
       " health care system, which is 50% of hospitals are in financial deficit because hospitals can never earn more money outside the strict procedures. The concerns were raised that the number of hospitals may decrease. However, I think the \n",
       "<mark class=\"entity\" style=\"background: #ddd; padding: 0.45em 0.6em; margin: 0 0.25em; line-height: 1; border-radius: 0.35em;\">\n",
       "    Japanese\n",
       "    <span style=\"font-size: 0.8em; font-weight: bold; line-height: 1; border-radius: 0.35em; text-transform: uppercase; vertical-align: middle; margin-left: 0.5rem\">HEALTHSYSTEM</span>\n",
       "</mark>\n",
       " government may take some actions to prevent the reduction. Most of all, the \n",
       "<mark class=\"entity\" style=\"background: #ddd; padding: 0.45em 0.6em; margin: 0 0.25em; line-height: 1; border-radius: 0.35em;\">\n",
       "    Japanese\n",
       "    <span style=\"font-size: 0.8em; font-weight: bold; line-height: 1; border-radius: 0.35em; text-transform: uppercase; vertical-align: middle; margin-left: 0.5rem\">HEALTHSYSTEM</span>\n",
       "</mark>\n",
       " health care system provides patients with the cheapest (relatively) prices and considerable quality of medical care, which intrigues me the most from my perspective.</div></span>"
      ],
      "text/plain": [
       "<IPython.core.display.HTML object>"
      ]
     },
     "metadata": {},
     "output_type": "display_data"
    },
    {
     "name": "stdout",
     "output_type": "stream",
     "text": [
      "------------------------------------------------------------------------\n"
     ]
    },
    {
     "data": {
      "text/html": [
       "<span class=\"tex2jax_ignore\"><div class=\"entities\" style=\"line-height: 2.5; direction: ltr\">I would prefer to get healthcare from \n",
       "<mark class=\"entity\" style=\"background: #ddd; padding: 0.45em 0.6em; margin: 0 0.25em; line-height: 1; border-radius: 0.35em;\">\n",
       "    Japan\n",
       "    <span style=\"font-size: 0.8em; font-weight: bold; line-height: 1; border-radius: 0.35em; text-transform: uppercase; vertical-align: middle; margin-left: 0.5rem\">HEALTHSYSTEM</span>\n",
       "</mark>\n",
       ". First of all, there are no GPs so I can see the specialists directly without waiting. Secondly, the price is acceptable. Since the price is unified over \n",
       "<mark class=\"entity\" style=\"background: #ddd; padding: 0.45em 0.6em; margin: 0 0.25em; line-height: 1; border-radius: 0.35em;\">\n",
       "    Japan\n",
       "    <span style=\"font-size: 0.8em; font-weight: bold; line-height: 1; border-radius: 0.35em; text-transform: uppercase; vertical-align: middle; margin-left: 0.5rem\">HEALTHSYSTEM</span>\n",
       "</mark>\n",
       " and negotiated once a year, the residents would find the price satisfying.  Frankly, if I were a doctor, I would not work in \n",
       "<mark class=\"entity\" style=\"background: #ddd; padding: 0.45em 0.6em; margin: 0 0.25em; line-height: 1; border-radius: 0.35em;\">\n",
       "    Japan\n",
       "    <span style=\"font-size: 0.8em; font-weight: bold; line-height: 1; border-radius: 0.35em; text-transform: uppercase; vertical-align: middle; margin-left: 0.5rem\">HEALTHSYSTEM</span>\n",
       "</mark>\n",
       " because the salary is not as much as the \n",
       "<mark class=\"entity\" style=\"background: #ddd; padding: 0.45em 0.6em; margin: 0 0.25em; line-height: 1; border-radius: 0.35em;\">\n",
       "    British\n",
       "    <span style=\"font-size: 0.8em; font-weight: bold; line-height: 1; border-radius: 0.35em; text-transform: uppercase; vertical-align: middle; margin-left: 0.5rem\">HEALTHSYSTEM</span>\n",
       "</mark>\n",
       ". However, just because of this, the health system puts people's needs first.  The patients only need to pay a little part of the bills.</div></span>"
      ],
      "text/plain": [
       "<IPython.core.display.HTML object>"
      ]
     },
     "metadata": {},
     "output_type": "display_data"
    },
    {
     "name": "stdout",
     "output_type": "stream",
     "text": [
      "------------------------------------------------------------------------\n"
     ]
    },
    {
     "data": {
      "text/html": [
       "<span class=\"tex2jax_ignore\"><div class=\"entities\" style=\"line-height: 2.5; direction: ltr\">The problem between the Medication system and patients may exist permanently. If you want medical bills are affordable, the doctors or hospitals may earn little or the government may spend much more effort.</br>Besides, every country have different nation conditions, some country has huge populations, and wealth is distributed unequally, some country has small populations and the fortune is distributed nearly equally. So is hard to compare wich country's system is good.</br>But if we forget about those preconditions, I prefer \n",
       "<mark class=\"entity\" style=\"background: #ddd; padding: 0.45em 0.6em; margin: 0 0.25em; line-height: 1; border-radius: 0.35em;\">\n",
       "    Taiwan\n",
       "    <span style=\"font-size: 0.8em; font-weight: bold; line-height: 1; border-radius: 0.35em; text-transform: uppercase; vertical-align: middle; margin-left: 0.5rem\">HEALTHSYSTEM</span>\n",
       "</mark>\n",
       "’s health system. For a patient side, they don't need the waiting line to see doctors. There is no one go bankrupt by medical bills. For the doctor side, government pay the remaining medical bills and hospital don't need to in deficit and doctors isn't earn as little as \n",
       "<mark class=\"entity\" style=\"background: #ddd; padding: 0.45em 0.6em; margin: 0 0.25em; line-height: 1; border-radius: 0.35em;\">\n",
       "    Japanese\n",
       "    <span style=\"font-size: 0.8em; font-weight: bold; line-height: 1; border-radius: 0.35em; text-transform: uppercase; vertical-align: middle; margin-left: 0.5rem\">HEALTHSYSTEM</span>\n",
       "</mark>\n",
       " doctors. Also, the government and hospital try to lower the cost, they use a kind of ID card to record information. As \n",
       "<mark class=\"entity\" style=\"background: #ddd; padding: 0.45em 0.6em; margin: 0 0.25em; line-height: 1; border-radius: 0.35em;\">\n",
       "    Taiwan\n",
       "    <span style=\"font-size: 0.8em; font-weight: bold; line-height: 1; border-radius: 0.35em; text-transform: uppercase; vertical-align: middle; margin-left: 0.5rem\">HEALTHSYSTEM</span>\n",
       "</mark>\n",
       "’s health system proficiently use informatics, administration cost is low and paperwork is less. As the cost decrease, the doctor's revenue will increase. </div></span>"
      ],
      "text/plain": [
       "<IPython.core.display.HTML object>"
      ]
     },
     "metadata": {},
     "output_type": "display_data"
    },
    {
     "name": "stdout",
     "output_type": "stream",
     "text": [
      "------------------------------------------------------------------------\n"
     ]
    },
    {
     "data": {
      "text/html": [
       "<span class=\"tex2jax_ignore\"><div class=\"entities\" style=\"line-height: 2.5; direction: ltr\">I’d like to choose \n",
       "<mark class=\"entity\" style=\"background: #ddd; padding: 0.45em 0.6em; margin: 0 0.25em; line-height: 1; border-radius: 0.35em;\">\n",
       "    Japan\n",
       "    <span style=\"font-size: 0.8em; font-weight: bold; line-height: 1; border-radius: 0.35em; text-transform: uppercase; vertical-align: middle; margin-left: 0.5rem\">HEALTHSYSTEM</span>\n",
       "</mark>\n",
       ": No Gatekeepers. Patients in \n",
       "<mark class=\"entity\" style=\"background: #ddd; padding: 0.45em 0.6em; margin: 0 0.25em; line-height: 1; border-radius: 0.35em;\">\n",
       "    Japan\n",
       "    <span style=\"font-size: 0.8em; font-weight: bold; line-height: 1; border-radius: 0.35em; text-transform: uppercase; vertical-align: middle; margin-left: 0.5rem\">HEALTHSYSTEM</span>\n",
       "</mark>\n",
       " can go see any specialist they want. A doctor usually only needs to spend 3-5 minutes to diagnose a patient because the patient’s needs are sometimes very simple and clear. The lack of Gatekeepers reduces the procedures for patients to see a doctor, and also increases the workload of specialist doctors. Nevertheless, the cost of seeing a doctor in \n",
       "<mark class=\"entity\" style=\"background: #ddd; padding: 0.45em 0.6em; margin: 0 0.25em; line-height: 1; border-radius: 0.35em;\">\n",
       "    Japan\n",
       "    <span style=\"font-size: 0.8em; font-weight: bold; line-height: 1; border-radius: 0.35em; text-transform: uppercase; vertical-align: middle; margin-left: 0.5rem\">HEALTHSYSTEM</span>\n",
       "</mark>\n",
       " is very low, which is a good benefit for ordinary people.</div></span>"
      ],
      "text/plain": [
       "<IPython.core.display.HTML object>"
      ]
     },
     "metadata": {},
     "output_type": "display_data"
    },
    {
     "name": "stdout",
     "output_type": "stream",
     "text": [
      "------------------------------------------------------------------------\n"
     ]
    },
    {
     "data": {
      "text/html": [
       "<span class=\"tex2jax_ignore\"><div class=\"entities\" style=\"line-height: 2.5; direction: ltr\">After viewed this documentary, in my views, I will vote for \n",
       "<mark class=\"entity\" style=\"background: #ddd; padding: 0.45em 0.6em; margin: 0 0.25em; line-height: 1; border-radius: 0.35em;\">\n",
       "    Japan\n",
       "    <span style=\"font-size: 0.8em; font-weight: bold; line-height: 1; border-radius: 0.35em; text-transform: uppercase; vertical-align: middle; margin-left: 0.5rem\">HEALTHSYSTEM</span>\n",
       "</mark>\n",
       "'s healthcare system, since it more completed and fair for every citizen.</br>1. All the \n",
       "<mark class=\"entity\" style=\"background: #ddd; padding: 0.45em 0.6em; margin: 0 0.25em; line-height: 1; border-radius: 0.35em;\">\n",
       "    Japanese\n",
       "    <span style=\"font-size: 0.8em; font-weight: bold; line-height: 1; border-radius: 0.35em; text-transform: uppercase; vertical-align: middle; margin-left: 0.5rem\">HEALTHSYSTEM</span>\n",
       "</mark>\n",
       " have carried healthcare insurance by law with cheap price and it provides top level medical services. Besides, the healthcare price has highly restricted by the government and there has no deference between different area and city.</br>2. \n",
       "<mark class=\"entity\" style=\"background: #ddd; padding: 0.45em 0.6em; margin: 0 0.25em; line-height: 1; border-radius: 0.35em;\">\n",
       "    Japan\n",
       "    <span style=\"font-size: 0.8em; font-weight: bold; line-height: 1; border-radius: 0.35em; text-transform: uppercase; vertical-align: middle; margin-left: 0.5rem\">HEALTHSYSTEM</span>\n",
       "</mark>\n",
       "'s healthcare system is more efficiency, people don't need to make an appointment to see the doctors, which is convenient for populous country's residents.</br>3. From the statistics of WHO , \n",
       "<mark class=\"entity\" style=\"background: #ddd; padding: 0.45em 0.6em; margin: 0 0.25em; line-height: 1; border-radius: 0.35em;\">\n",
       "    Japanese\n",
       "    <span style=\"font-size: 0.8em; font-weight: bold; line-height: 1; border-radius: 0.35em; text-transform: uppercase; vertical-align: middle; margin-left: 0.5rem\">HEALTHSYSTEM</span>\n",
       "</mark>\n",
       " has the highest life expectancy compared to other countries, which  indicated that \n",
       "<mark class=\"entity\" style=\"background: #ddd; padding: 0.45em 0.6em; margin: 0 0.25em; line-height: 1; border-radius: 0.35em;\">\n",
       "    Japan\n",
       "    <span style=\"font-size: 0.8em; font-weight: bold; line-height: 1; border-radius: 0.35em; text-transform: uppercase; vertical-align: middle; margin-left: 0.5rem\">HEALTHSYSTEM</span>\n",
       "</mark>\n",
       " has a high standard healthcare system except the reason that \n",
       "<mark class=\"entity\" style=\"background: #ddd; padding: 0.45em 0.6em; margin: 0 0.25em; line-height: 1; border-radius: 0.35em;\">\n",
       "    Japanese\n",
       "    <span style=\"font-size: 0.8em; font-weight: bold; line-height: 1; border-radius: 0.35em; text-transform: uppercase; vertical-align: middle; margin-left: 0.5rem\">HEALTHSYSTEM</span>\n",
       "</mark>\n",
       " have good eating habits.</br>In conclusion, I may choose \n",
       "<mark class=\"entity\" style=\"background: #ddd; padding: 0.45em 0.6em; margin: 0 0.25em; line-height: 1; border-radius: 0.35em;\">\n",
       "    Japan\n",
       "    <span style=\"font-size: 0.8em; font-weight: bold; line-height: 1; border-radius: 0.35em; text-transform: uppercase; vertical-align: middle; margin-left: 0.5rem\">HEALTHSYSTEM</span>\n",
       "</mark>\n",
       " to live my retire life for living longer.</div></span>"
      ],
      "text/plain": [
       "<IPython.core.display.HTML object>"
      ]
     },
     "metadata": {},
     "output_type": "display_data"
    },
    {
     "name": "stdout",
     "output_type": "stream",
     "text": [
      "------------------------------------------------------------------------\n"
     ]
    },
    {
     "data": {
      "text/html": [
       "<span class=\"tex2jax_ignore\"><div class=\"entities\" style=\"line-height: 2.5; direction: ltr\">I like \n",
       "<mark class=\"entity\" style=\"background: #ddd; padding: 0.45em 0.6em; margin: 0 0.25em; line-height: 1; border-radius: 0.35em;\">\n",
       "    UK\n",
       "    <span style=\"font-size: 0.8em; font-weight: bold; line-height: 1; border-radius: 0.35em; text-transform: uppercase; vertical-align: middle; margin-left: 0.5rem\">HEALTHSYSTEM</span>\n",
       "</mark>\n",
       "'s \n",
       "<mark class=\"entity\" style=\"background: #ddd; padding: 0.45em 0.6em; margin: 0 0.25em; line-height: 1; border-radius: 0.35em;\">\n",
       "    NHS\n",
       "    <span style=\"font-size: 0.8em; font-weight: bold; line-height: 1; border-radius: 0.35em; text-transform: uppercase; vertical-align: middle; margin-left: 0.5rem\">HEALTHSYSTEM</span>\n",
       "</mark>\n",
       " system because they provide incentive for doctors to improve well-being of their patients. I haven't seen similar program in the documentary and I found it very useful. same as any other business, providing incentives helps the business and its owner. but because \n",
       "<mark class=\"entity\" style=\"background: #ddd; padding: 0.45em 0.6em; margin: 0 0.25em; line-height: 1; border-radius: 0.35em;\">\n",
       "    NHS\n",
       "    <span style=\"font-size: 0.8em; font-weight: bold; line-height: 1; border-radius: 0.35em; text-transform: uppercase; vertical-align: middle; margin-left: 0.5rem\">HEALTHSYSTEM</span>\n",
       "</mark>\n",
       " is a tax-paid organization, it provides benefits to the \n",
       "<mark class=\"entity\" style=\"background: #ddd; padding: 0.45em 0.6em; margin: 0 0.25em; line-height: 1; border-radius: 0.35em;\">\n",
       "    British\n",
       "    <span style=\"font-size: 0.8em; font-weight: bold; line-height: 1; border-radius: 0.35em; text-transform: uppercase; vertical-align: middle; margin-left: 0.5rem\">HEALTHSYSTEM</span>\n",
       "</mark>\n",
       " people by incentivizing doctors to keep people healthy. a surprising fact to me was the 180% incentive for the Doctor who helped his patients stay healthier.  </div></span>"
      ],
      "text/plain": [
       "<IPython.core.display.HTML object>"
      ]
     },
     "metadata": {},
     "output_type": "display_data"
    },
    {
     "name": "stdout",
     "output_type": "stream",
     "text": [
      "------------------------------------------------------------------------\n"
     ]
    },
    {
     "data": {
      "text/html": [
       "<span class=\"tex2jax_ignore\"><div class=\"entities\" style=\"line-height: 2.5; direction: ltr\">I want to get my healthcare from the \n",
       "<mark class=\"entity\" style=\"background: #ddd; padding: 0.45em 0.6em; margin: 0 0.25em; line-height: 1; border-radius: 0.35em;\">\n",
       "    United Kingdom\n",
       "    <span style=\"font-size: 0.8em; font-weight: bold; line-height: 1; border-radius: 0.35em; text-transform: uppercase; vertical-align: middle; margin-left: 0.5rem\">HEALTHSYSTEM</span>\n",
       "</mark>\n",
       ". The \n",
       "<mark class=\"entity\" style=\"background: #ddd; padding: 0.45em 0.6em; margin: 0 0.25em; line-height: 1; border-radius: 0.35em;\">\n",
       "    British\n",
       "    <span style=\"font-size: 0.8em; font-weight: bold; line-height: 1; border-radius: 0.35em; text-transform: uppercase; vertical-align: middle; margin-left: 0.5rem\">HEALTHSYSTEM</span>\n",
       "</mark>\n",
       " system is regarded as &quot;socialized medicine&quot; because the government not only provides health care but also pays for health care. Also, there is no family premium. Moreover, reforms are instituted by the \n",
       "<mark class=\"entity\" style=\"background: #ddd; padding: 0.45em 0.6em; margin: 0 0.25em; line-height: 1; border-radius: 0.35em;\">\n",
       "    British\n",
       "    <span style=\"font-size: 0.8em; font-weight: bold; line-height: 1; border-radius: 0.35em; text-transform: uppercase; vertical-align: middle; margin-left: 0.5rem\">HEALTHSYSTEM</span>\n",
       "</mark>\n",
       " government to help to give patients more choice and make care more competitive, so patients can choose the location where they want to be treated for many procedures.\n",
       " </div></span>"
      ],
      "text/plain": [
       "<IPython.core.display.HTML object>"
      ]
     },
     "metadata": {},
     "output_type": "display_data"
    },
    {
     "name": "stdout",
     "output_type": "stream",
     "text": [
      "------------------------------------------------------------------------\n"
     ]
    },
    {
     "data": {
      "text/html": [
       "<span class=\"tex2jax_ignore\"><div class=\"entities\" style=\"line-height: 2.5; direction: ltr\">I like the health system of \n",
       "<mark class=\"entity\" style=\"background: #ddd; padding: 0.45em 0.6em; margin: 0 0.25em; line-height: 1; border-radius: 0.35em;\">\n",
       "    Japan\n",
       "    <span style=\"font-size: 0.8em; font-weight: bold; line-height: 1; border-radius: 0.35em; text-transform: uppercase; vertical-align: middle; margin-left: 0.5rem\">HEALTHSYSTEM</span>\n",
       "</mark>\n",
       " most. I think \n",
       "<mark class=\"entity\" style=\"background: #ddd; padding: 0.45em 0.6em; margin: 0 0.25em; line-height: 1; border-radius: 0.35em;\">\n",
       "    Japan\n",
       "    <span style=\"font-size: 0.8em; font-weight: bold; line-height: 1; border-radius: 0.35em; text-transform: uppercase; vertical-align: middle; margin-left: 0.5rem\">HEALTHSYSTEM</span>\n",
       "</mark>\n",
       "'s health system is the balance of the European countries like the \n",
       "<mark class=\"entity\" style=\"background: #ddd; padding: 0.45em 0.6em; margin: 0 0.25em; line-height: 1; border-radius: 0.35em;\">\n",
       "    UK\n",
       "    <span style=\"font-size: 0.8em; font-weight: bold; line-height: 1; border-radius: 0.35em; text-transform: uppercase; vertical-align: middle; margin-left: 0.5rem\">HEALTHSYSTEM</span>\n",
       "</mark>\n",
       " and \n",
       "<mark class=\"entity\" style=\"background: #ddd; padding: 0.45em 0.6em; margin: 0 0.25em; line-height: 1; border-radius: 0.35em;\">\n",
       "    Germany\n",
       "    <span style=\"font-size: 0.8em; font-weight: bold; line-height: 1; border-radius: 0.35em; text-transform: uppercase; vertical-align: middle; margin-left: 0.5rem\">HEALTHSYSTEM</span>\n",
       "</mark>\n",
       ": most of the hospitals are private but all the poor people can enjoy medical care without a bill, while other people rely on the health insurance policy. Unlike \n",
       "<mark class=\"entity\" style=\"background: #ddd; padding: 0.45em 0.6em; margin: 0 0.25em; line-height: 1; border-radius: 0.35em;\">\n",
       "    Germany\n",
       "    <span style=\"font-size: 0.8em; font-weight: bold; line-height: 1; border-radius: 0.35em; text-transform: uppercase; vertical-align: middle; margin-left: 0.5rem\">HEALTHSYSTEM</span>\n",
       "</mark>\n",
       ", this policy can save a lot of budget for the government but it also can cover all the poor people; therefore, I think \n",
       "<mark class=\"entity\" style=\"background: #ddd; padding: 0.45em 0.6em; margin: 0 0.25em; line-height: 1; border-radius: 0.35em;\">\n",
       "    Japan\n",
       "    <span style=\"font-size: 0.8em; font-weight: bold; line-height: 1; border-radius: 0.35em; text-transform: uppercase; vertical-align: middle; margin-left: 0.5rem\">HEALTHSYSTEM</span>\n",
       "</mark>\n",
       "'s policy is more efficient than many other countries.</div></span>"
      ],
      "text/plain": [
       "<IPython.core.display.HTML object>"
      ]
     },
     "metadata": {},
     "output_type": "display_data"
    },
    {
     "name": "stdout",
     "output_type": "stream",
     "text": [
      "------------------------------------------------------------------------\n"
     ]
    },
    {
     "data": {
      "text/html": [
       "<span class=\"tex2jax_ignore\"><div class=\"entities\" style=\"line-height: 2.5; direction: ltr\">In my opinion, the health system in \n",
       "<mark class=\"entity\" style=\"background: #ddd; padding: 0.45em 0.6em; margin: 0 0.25em; line-height: 1; border-radius: 0.35em;\">\n",
       "    Japan\n",
       "    <span style=\"font-size: 0.8em; font-weight: bold; line-height: 1; border-radius: 0.35em; text-transform: uppercase; vertical-align: middle; margin-left: 0.5rem\">HEALTHSYSTEM</span>\n",
       "</mark>\n",
       " is efficient. First, medical products and medical services are uniformly priced and inexpensive in the country. Second, the waiting time for obtaining effective treatment is shorter than in the \n",
       "<mark class=\"entity\" style=\"background: #ddd; padding: 0.45em 0.6em; margin: 0 0.25em; line-height: 1; border-radius: 0.35em;\">\n",
       "    United Kingdom\n",
       "    <span style=\"font-size: 0.8em; font-weight: bold; line-height: 1; border-radius: 0.35em; text-transform: uppercase; vertical-align: middle; margin-left: 0.5rem\">HEALTHSYSTEM</span>\n",
       "</mark>\n",
       " and \n",
       "<mark class=\"entity\" style=\"background: #ddd; padding: 0.45em 0.6em; margin: 0 0.25em; line-height: 1; border-radius: 0.35em;\">\n",
       "    Germany\n",
       "    <span style=\"font-size: 0.8em; font-weight: bold; line-height: 1; border-radius: 0.35em; text-transform: uppercase; vertical-align: middle; margin-left: 0.5rem\">HEALTHSYSTEM</span>\n",
       "</mark>\n",
       ", because  people can directly receive treatment from specialist doctors without GP. These are the main reasons why I chose the \n",
       "<mark class=\"entity\" style=\"background: #ddd; padding: 0.45em 0.6em; margin: 0 0.25em; line-height: 1; border-radius: 0.35em;\">\n",
       "    Japanese\n",
       "    <span style=\"font-size: 0.8em; font-weight: bold; line-height: 1; border-radius: 0.35em; text-transform: uppercase; vertical-align: middle; margin-left: 0.5rem\">HEALTHSYSTEM</span>\n",
       "</mark>\n",
       " health system.</div></span>"
      ],
      "text/plain": [
       "<IPython.core.display.HTML object>"
      ]
     },
     "metadata": {},
     "output_type": "display_data"
    },
    {
     "name": "stdout",
     "output_type": "stream",
     "text": [
      "------------------------------------------------------------------------\n"
     ]
    },
    {
     "data": {
      "text/html": [
       "<span class=\"tex2jax_ignore\"><div class=\"entities\" style=\"line-height: 2.5; direction: ltr\">I probably prefer the \n",
       "<mark class=\"entity\" style=\"background: #ddd; padding: 0.45em 0.6em; margin: 0 0.25em; line-height: 1; border-radius: 0.35em;\">\n",
       "    Japanese\n",
       "    <span style=\"font-size: 0.8em; font-weight: bold; line-height: 1; border-radius: 0.35em; text-transform: uppercase; vertical-align: middle; margin-left: 0.5rem\">HEALTHSYSTEM</span>\n",
       "</mark>\n",
       " healthcare system. There are three main reasons. First of all, under this medical system, there is no waiting to see a doctor, so that many patients will not miss the best time to see a doctor. Second, under the \n",
       "<mark class=\"entity\" style=\"background: #ddd; padding: 0.45em 0.6em; margin: 0 0.25em; line-height: 1; border-radius: 0.35em;\">\n",
       "    Japanese\n",
       "    <span style=\"font-size: 0.8em; font-weight: bold; line-height: 1; border-radius: 0.35em; text-transform: uppercase; vertical-align: middle; margin-left: 0.5rem\">HEALTHSYSTEM</span>\n",
       "</mark>\n",
       " health care system, its charge fairly cheap, and it's charging system with strict rules and restrictions, even wound of different size has different price regulation, this also makes the doctor or hospital can't random to control health care costs, although this may result in many hospitals the fiscal deficit,  through the whole of price regulation is to be able to alleviate this situation. The last point is that in \n",
       "<mark class=\"entity\" style=\"background: #ddd; padding: 0.45em 0.6em; margin: 0 0.25em; line-height: 1; border-radius: 0.35em;\">\n",
       "    Japan\n",
       "    <span style=\"font-size: 0.8em; font-weight: bold; line-height: 1; border-radius: 0.35em; text-transform: uppercase; vertical-align: middle; margin-left: 0.5rem\">HEALTHSYSTEM</span>\n",
       "</mark>\n",
       ", there are more physical health tests, such as MRIs, which can effectively detect potential diseases in time, so that they can be treated as soon as possible.</div></span>"
      ],
      "text/plain": [
       "<IPython.core.display.HTML object>"
      ]
     },
     "metadata": {},
     "output_type": "display_data"
    },
    {
     "name": "stdout",
     "output_type": "stream",
     "text": [
      "------------------------------------------------------------------------\n"
     ]
    },
    {
     "data": {
      "text/html": [
       "<span class=\"tex2jax_ignore\"><div class=\"entities\" style=\"line-height: 2.5; direction: ltr\">I think the answer would very much depend on my own personal circumstances! As a health care worker myself, I would advocate for a system that balances affordability and appropriate renumeration to the workers. To that end, the blended approach by the \n",
       "<mark class=\"entity\" style=\"background: #ddd; padding: 0.45em 0.6em; margin: 0 0.25em; line-height: 1; border-radius: 0.35em;\">\n",
       "    Swiss\n",
       "    <span style=\"font-size: 0.8em; font-weight: bold; line-height: 1; border-radius: 0.35em; text-transform: uppercase; vertical-align: middle; margin-left: 0.5rem\">HEALTHSYSTEM</span>\n",
       "</mark>\n",
       " would be the most attractive to me, for the following reasons</br>- Application of a universal health insurance system,with government coverage those who cannot afford it. Universal cover creates a social safety net for all citizens, and government support / regulation of insurance company profiteering helps to ensure fees are kept accessible for all.</br>- Requiring patients to co-pay for their insurance/healthcare (if they are able to) creates a social reminder that healthcare is a limited resource, and potentially prevents misuse of the service as described in the \n",
       "<mark class=\"entity\" style=\"background: #ddd; padding: 0.45em 0.6em; margin: 0 0.25em; line-height: 1; border-radius: 0.35em;\">\n",
       "    NHS\n",
       "    <span style=\"font-size: 0.8em; font-weight: bold; line-height: 1; border-radius: 0.35em; text-transform: uppercase; vertical-align: middle; margin-left: 0.5rem\">HEALTHSYSTEM</span>\n",
       "</mark>\n",
       "/\n",
       "<mark class=\"entity\" style=\"background: #ddd; padding: 0.45em 0.6em; margin: 0 0.25em; line-height: 1; border-radius: 0.35em;\">\n",
       "    Japanese\n",
       "    <span style=\"font-size: 0.8em; font-weight: bold; line-height: 1; border-radius: 0.35em; text-transform: uppercase; vertical-align: middle; margin-left: 0.5rem\">HEALTHSYSTEM</span>\n",
       "</mark>\n",
       " sections - where patients visit doctors for what sounds like social reasons, or minor issues(do you really need to see a specialist for a 3 minute blood pressure checkup??)\n",
       "- Permitting some profit making on supplemental insurance policies. Although this leads to higher overall costs (2nd most expensive in the world) , it promotes sustainability, particularly in view of the increasing complexity and cost of delivering healthcare. It also allows for appropriate wages to be paid to healthcare workers for delivering highly skilled services (remembering the old axiom &quot;pay peanuts and we get monkeys&quot;).\n",
       "- \n",
       "Cheers\n",
       "Sing</div></span>"
      ],
      "text/plain": [
       "<IPython.core.display.HTML object>"
      ]
     },
     "metadata": {},
     "output_type": "display_data"
    },
    {
     "name": "stdout",
     "output_type": "stream",
     "text": [
      "------------------------------------------------------------------------\n"
     ]
    },
    {
     "name": "stderr",
     "output_type": "stream",
     "text": [
      "/Users/brian/anaconda3/envs/nlp/lib/python3.7/runpy.py:193: UserWarning: [W006] No entities to visualize found in Doc object. If this is surprising to you, make sure the Doc was processed using a model that supports named entity recognition, and check the `doc.ents` property manually if necessary.\n",
      "  \"__main__\", mod_spec)\n"
     ]
    },
    {
     "data": {
      "text/html": [
       "<span class=\"tex2jax_ignore\"><div class=\"entities\" style=\"line-height: 2.5; direction: ltr\">fdgdfd</div></span>"
      ],
      "text/plain": [
       "<IPython.core.display.HTML object>"
      ]
     },
     "metadata": {},
     "output_type": "display_data"
    },
    {
     "name": "stdout",
     "output_type": "stream",
     "text": [
      "------------------------------------------------------------------------\n"
     ]
    },
    {
     "data": {
      "text/html": [
       "<span class=\"tex2jax_ignore\"><div class=\"entities\" style=\"line-height: 2.5; direction: ltr\">Of the five health-care systems discussed in “Sick Around the World”, I was the most intrigued by the \n",
       "<mark class=\"entity\" style=\"background: #ddd; padding: 0.45em 0.6em; margin: 0 0.25em; line-height: 1; border-radius: 0.35em;\">\n",
       "    Taiwan\n",
       "    <span style=\"font-size: 0.8em; font-weight: bold; line-height: 1; border-radius: 0.35em; text-transform: uppercase; vertical-align: middle; margin-left: 0.5rem\">HEALTHSYSTEM</span>\n",
       "</mark>\n",
       "’s single-payer success story. It is fascinating to see that within the short period of 30 years, \n",
       "<mark class=\"entity\" style=\"background: #ddd; padding: 0.45em 0.6em; margin: 0 0.25em; line-height: 1; border-radius: 0.35em;\">\n",
       "    Taiwan\n",
       "    <span style=\"font-size: 0.8em; font-weight: bold; line-height: 1; border-radius: 0.35em; text-transform: uppercase; vertical-align: middle; margin-left: 0.5rem\">HEALTHSYSTEM</span>\n",
       "</mark>\n",
       " was able to move from a broken health care system (with over 40% not covered by any form of health insurance) to a national health insurance program approved by majority of the population. Through its single-payer system, many ranks \n",
       "<mark class=\"entity\" style=\"background: #ddd; padding: 0.45em 0.6em; margin: 0 0.25em; line-height: 1; border-radius: 0.35em;\">\n",
       "    Taiwanese\n",
       "    <span style=\"font-size: 0.8em; font-weight: bold; line-height: 1; border-radius: 0.35em; text-transform: uppercase; vertical-align: middle; margin-left: 0.5rem\">HEALTHSYSTEM</span>\n",
       "</mark>\n",
       " health care to be of high-quality, affordable, accessible and innovative.</br>High-quality care: \n",
       "<mark class=\"entity\" style=\"background: #ddd; padding: 0.45em 0.6em; margin: 0 0.25em; line-height: 1; border-radius: 0.35em;\">\n",
       "    Taiwan\n",
       "    <span style=\"font-size: 0.8em; font-weight: bold; line-height: 1; border-radius: 0.35em; text-transform: uppercase; vertical-align: middle; margin-left: 0.5rem\">HEALTHSYSTEM</span>\n",
       "</mark>\n",
       " is well-known for its first-class quality of medicine and talent. The health insurance provided is comprehensive providing both inpatient and outpatient care which includes dental care, over-the-counter drugs and traditional Chinese medicine.</br>Impressive access and affordability: Patients can choose services from almost any provider with short wait times and be directed to specialty care without a referral. The premiums are paid for by the government, employers and employees. The share paid by each depends on income, with the low-income paying a smaller proportion compared to the wealthy segment.  </br>Innovative and efficient: The \n",
       "<mark class=\"entity\" style=\"background: #ddd; padding: 0.45em 0.6em; margin: 0 0.25em; line-height: 1; border-radius: 0.35em;\">\n",
       "    Taiwanese\n",
       "    <span style=\"font-size: 0.8em; font-weight: bold; line-height: 1; border-radius: 0.35em; text-transform: uppercase; vertical-align: middle; margin-left: 0.5rem\">HEALTHSYSTEM</span>\n",
       "</mark>\n",
       " program runs with extraordinary efficiency through a simple smart card system which is aided by its advanced IT infrastructure. The medtech also plays a vital role in transforming care across the health value-chain.</br>Whilst it is not a healthcare system without shortcomings, \n",
       "<mark class=\"entity\" style=\"background: #ddd; padding: 0.45em 0.6em; margin: 0 0.25em; line-height: 1; border-radius: 0.35em;\">\n",
       "    Taiwan\n",
       "    <span style=\"font-size: 0.8em; font-weight: bold; line-height: 1; border-radius: 0.35em; text-transform: uppercase; vertical-align: middle; margin-left: 0.5rem\">HEALTHSYSTEM</span>\n",
       "</mark>\n",
       "’s system is perceived as the rising star in providing adequate care to citizens.</div></span>"
      ],
      "text/plain": [
       "<IPython.core.display.HTML object>"
      ]
     },
     "metadata": {},
     "output_type": "display_data"
    },
    {
     "name": "stdout",
     "output_type": "stream",
     "text": [
      "------------------------------------------------------------------------\n"
     ]
    },
    {
     "data": {
      "text/html": [
       "<span class=\"tex2jax_ignore\"><div class=\"entities\" style=\"line-height: 2.5; direction: ltr\">‘Sick Around the World’ framed \n",
       "<mark class=\"entity\" style=\"background: #ddd; padding: 0.45em 0.6em; margin: 0 0.25em; line-height: 1; border-radius: 0.35em;\">\n",
       "    Taiwan\n",
       "    <span style=\"font-size: 0.8em; font-weight: bold; line-height: 1; border-radius: 0.35em; text-transform: uppercase; vertical-align: middle; margin-left: 0.5rem\">HEALTHSYSTEM</span>\n",
       "</mark>\n",
       " as an obvious choice for good universal healthcare. With the ability to fuse together what worked from different like GDP countries, \n",
       "<mark class=\"entity\" style=\"background: #ddd; padding: 0.45em 0.6em; margin: 0 0.25em; line-height: 1; border-radius: 0.35em;\">\n",
       "    Taiwan\n",
       "    <span style=\"font-size: 0.8em; font-weight: bold; line-height: 1; border-radius: 0.35em; text-transform: uppercase; vertical-align: middle; margin-left: 0.5rem\">HEALTHSYSTEM</span>\n",
       "</mark>\n",
       " has successfully created a system to be admired. Especially, with its growing acceptance and role of technology</br>There was one primary reason that \n",
       "<mark class=\"entity\" style=\"background: #ddd; padding: 0.45em 0.6em; margin: 0 0.25em; line-height: 1; border-radius: 0.35em;\">\n",
       "    Taiwan\n",
       "    <span style=\"font-size: 0.8em; font-weight: bold; line-height: 1; border-radius: 0.35em; text-transform: uppercase; vertical-align: middle; margin-left: 0.5rem\">HEALTHSYSTEM</span>\n",
       "</mark>\n",
       " stood out for myself. The NHI IC cards which has a complete history of a patient and their associated medication. For someone, such as myself, who has chronic illnesses and is on a number of medications the ability to have it all together available to any doctor, at any location seems brilliant. This would also prove beneficial in an emergency situation when a patient may not be able to verbalise their allergies or medical history.</div></span>"
      ],
      "text/plain": [
       "<IPython.core.display.HTML object>"
      ]
     },
     "metadata": {},
     "output_type": "display_data"
    },
    {
     "name": "stdout",
     "output_type": "stream",
     "text": [
      "------------------------------------------------------------------------\n"
     ]
    },
    {
     "data": {
      "text/html": [
       "<span class=\"tex2jax_ignore\"><div class=\"entities\" style=\"line-height: 2.5; direction: ltr\">The obvious answer is the \n",
       "<mark class=\"entity\" style=\"background: #ddd; padding: 0.45em 0.6em; margin: 0 0.25em; line-height: 1; border-radius: 0.35em;\">\n",
       "    Taiwanese\n",
       "    <span style=\"font-size: 0.8em; font-weight: bold; line-height: 1; border-radius: 0.35em; text-transform: uppercase; vertical-align: middle; margin-left: 0.5rem\">HEALTHSYSTEM</span>\n",
       "</mark>\n",
       " health care system as it takes the best attributes from high performing health systems across the world. But the reason it intrigues me is the use of the health care card with their medical information and billing integrated within it. I would love to find out more about how this works. Is there also a network/cloud based solution for those that don't have a card? What kind of information is stored on the card? Is it also used in the same way as our medi-alert wrist bands?</div></span>"
      ],
      "text/plain": [
       "<IPython.core.display.HTML object>"
      ]
     },
     "metadata": {},
     "output_type": "display_data"
    },
    {
     "name": "stdout",
     "output_type": "stream",
     "text": [
      "------------------------------------------------------------------------\n"
     ]
    },
    {
     "data": {
      "text/html": [
       "<span class=\"tex2jax_ignore\"><div class=\"entities\" style=\"line-height: 2.5; direction: ltr\">Hi Brian</br>I favour \n",
       "<mark class=\"entity\" style=\"background: #ddd; padding: 0.45em 0.6em; margin: 0 0.25em; line-height: 1; border-radius: 0.35em;\">\n",
       "    Switzerland\n",
       "    <span style=\"font-size: 0.8em; font-weight: bold; line-height: 1; border-radius: 0.35em; text-transform: uppercase; vertical-align: middle; margin-left: 0.5rem\">HEALTHSYSTEM</span>\n",
       "</mark>\n",
       "'s system as my preferred health care provider. It appears more financially robust than \n",
       "<mark class=\"entity\" style=\"background: #ddd; padding: 0.45em 0.6em; margin: 0 0.25em; line-height: 1; border-radius: 0.35em;\">\n",
       "    Taiwan\n",
       "    <span style=\"font-size: 0.8em; font-weight: bold; line-height: 1; border-radius: 0.35em; text-transform: uppercase; vertical-align: middle; margin-left: 0.5rem\">HEALTHSYSTEM</span>\n",
       "</mark>\n",
       "'s system and there was no mention of clinician salary issues like those in \n",
       "<mark class=\"entity\" style=\"background: #ddd; padding: 0.45em 0.6em; margin: 0 0.25em; line-height: 1; border-radius: 0.35em;\">\n",
       "    Germany\n",
       "    <span style=\"font-size: 0.8em; font-weight: bold; line-height: 1; border-radius: 0.35em; text-transform: uppercase; vertical-align: middle; margin-left: 0.5rem\">HEALTHSYSTEM</span>\n",
       "</mark>\n",
       ". \n",
       "<mark class=\"entity\" style=\"background: #ddd; padding: 0.45em 0.6em; margin: 0 0.25em; line-height: 1; border-radius: 0.35em;\">\n",
       "    Switzerland\n",
       "    <span style=\"font-size: 0.8em; font-weight: bold; line-height: 1; border-radius: 0.35em; text-transform: uppercase; vertical-align: middle; margin-left: 0.5rem\">HEALTHSYSTEM</span>\n",
       "</mark>\n",
       "'s non profit insurance companies competed in other ways to attract and retain customers and this results in a better customer experience - from an administration perspective at least. I thought \n",
       "<mark class=\"entity\" style=\"background: #ddd; padding: 0.45em 0.6em; margin: 0 0.25em; line-height: 1; border-radius: 0.35em;\">\n",
       "    Taiwan\n",
       "    <span style=\"font-size: 0.8em; font-weight: bold; line-height: 1; border-radius: 0.35em; text-transform: uppercase; vertical-align: middle; margin-left: 0.5rem\">HEALTHSYSTEM</span>\n",
       "</mark>\n",
       "'s 'no gatekeeper' approach odd in the sense that I would think vetting patients before seeing a specialist is a better use of everyone's time. There was also room in \n",
       "<mark class=\"entity\" style=\"background: #ddd; padding: 0.45em 0.6em; margin: 0 0.25em; line-height: 1; border-radius: 0.35em;\">\n",
       "    Switzerland\n",
       "    <span style=\"font-size: 0.8em; font-weight: bold; line-height: 1; border-radius: 0.35em; text-transform: uppercase; vertical-align: middle; margin-left: 0.5rem\">HEALTHSYSTEM</span>\n",
       "</mark>\n",
       "'s model for people who wanted and could afford better rooms. This supplemental coverage generates competition which is key for investment and driving better outcomes for patients.\n",
       "regards\n",
       "Briette</div></span>"
      ],
      "text/plain": [
       "<IPython.core.display.HTML object>"
      ]
     },
     "metadata": {},
     "output_type": "display_data"
    },
    {
     "name": "stdout",
     "output_type": "stream",
     "text": [
      "------------------------------------------------------------------------\n"
     ]
    },
    {
     "data": {
      "text/html": [
       "<span class=\"tex2jax_ignore\"><div class=\"entities\" style=\"line-height: 2.5; direction: ltr\">The doco would have benefited from the Inclusion of a comparison of one of the Scandanavian countries where the populations accept high taxes for universal health care and other social benefits.</br> </br>Having worked in three of the reported countries I would say the \n",
       "<mark class=\"entity\" style=\"background: #ddd; padding: 0.45em 0.6em; margin: 0 0.25em; line-height: 1; border-radius: 0.35em;\">\n",
       "    Swiss\n",
       "    <span style=\"font-size: 0.8em; font-weight: bold; line-height: 1; border-radius: 0.35em; text-transform: uppercase; vertical-align: middle; margin-left: 0.5rem\">HEALTHSYSTEM</span>\n",
       "</mark>\n",
       " system is best. Few delays at a reasonable price with a social catch net. Although the \n",
       "<mark class=\"entity\" style=\"background: #ddd; padding: 0.45em 0.6em; margin: 0 0.25em; line-height: 1; border-radius: 0.35em;\">\n",
       "    Taiwanese\n",
       "    <span style=\"font-size: 0.8em; font-weight: bold; line-height: 1; border-radius: 0.35em; text-transform: uppercase; vertical-align: middle; margin-left: 0.5rem\">HEALTHSYSTEM</span>\n",
       "</mark>\n",
       " system appeared very efficient.</br> </br>The \n",
       "<mark class=\"entity\" style=\"background: #ddd; padding: 0.45em 0.6em; margin: 0 0.25em; line-height: 1; border-radius: 0.35em;\">\n",
       "    UK\n",
       "    <span style=\"font-size: 0.8em; font-weight: bold; line-height: 1; border-radius: 0.35em; text-transform: uppercase; vertical-align: middle; margin-left: 0.5rem\">HEALTHSYSTEM</span>\n",
       "</mark>\n",
       "’s \n",
       "<mark class=\"entity\" style=\"background: #ddd; padding: 0.45em 0.6em; margin: 0 0.25em; line-height: 1; border-radius: 0.35em;\">\n",
       "    NHS\n",
       "    <span style=\"font-size: 0.8em; font-weight: bold; line-height: 1; border-radius: 0.35em; text-transform: uppercase; vertical-align: middle; margin-left: 0.5rem\">HEALTHSYSTEM</span>\n",
       "</mark>\n",
       " waiting times have improved dramatically over the last 20 years or so but many of the Trusts are essentially bankrupt. Despite the difficulty in registering in a GP practice because they have reached their quota the \n",
       "<mark class=\"entity\" style=\"background: #ddd; padding: 0.45em 0.6em; margin: 0 0.25em; line-height: 1; border-radius: 0.35em;\">\n",
       "    NHS\n",
       "    <span style=\"font-size: 0.8em; font-weight: bold; line-height: 1; border-radius: 0.35em; text-transform: uppercase; vertical-align: middle; margin-left: 0.5rem\">HEALTHSYSTEM</span>\n",
       "</mark>\n",
       " is a source of national pride.  It would take a brave politician to privatise the system which has been mooted on more than one occasion. Tax for national insurance contributions (which also includes pension contributions) is high. It is a surprise obesity is such a problem given the effort invested in preventative medicine. </br> </br>Notwithstanding overwork and high work related alcohol consumption, \n",
       "<mark class=\"entity\" style=\"background: #ddd; padding: 0.45em 0.6em; margin: 0 0.25em; line-height: 1; border-radius: 0.35em;\">\n",
       "    Japan\n",
       "    <span style=\"font-size: 0.8em; font-weight: bold; line-height: 1; border-radius: 0.35em; text-transform: uppercase; vertical-align: middle; margin-left: 0.5rem\">HEALTHSYSTEM</span>\n",
       "</mark>\n",
       " is interesting as the health of the society is cultural (diet, exercise, regular GP visits). However, during my time, there were many scandals surrounding medical school entry. I know of people whose tumours were only discovered after seeking a second opinion back home in Australia. </div></span>"
      ],
      "text/plain": [
       "<IPython.core.display.HTML object>"
      ]
     },
     "metadata": {},
     "output_type": "display_data"
    },
    {
     "name": "stdout",
     "output_type": "stream",
     "text": [
      "------------------------------------------------------------------------\n"
     ]
    },
    {
     "data": {
      "text/html": [
       "<span class=\"tex2jax_ignore\"><div class=\"entities\" style=\"line-height: 2.5; direction: ltr\">I pick \n",
       "<mark class=\"entity\" style=\"background: #ddd; padding: 0.45em 0.6em; margin: 0 0.25em; line-height: 1; border-radius: 0.35em;\">\n",
       "    Switzerland\n",
       "    <span style=\"font-size: 0.8em; font-weight: bold; line-height: 1; border-radius: 0.35em; text-transform: uppercase; vertical-align: middle; margin-left: 0.5rem\">HEALTHSYSTEM</span>\n",
       "</mark>\n",
       " as the healthcare system  ,</br>the waiting list and services were reasonable, the healthcare workers are not underpaid unlike \n",
       "<mark class=\"entity\" style=\"background: #ddd; padding: 0.45em 0.6em; margin: 0 0.25em; line-height: 1; border-radius: 0.35em;\">\n",
       "    Germany\n",
       "    <span style=\"font-size: 0.8em; font-weight: bold; line-height: 1; border-radius: 0.35em; text-transform: uppercase; vertical-align: middle; margin-left: 0.5rem\">HEALTHSYSTEM</span>\n",
       "</mark>\n",
       ", the healthcare providers are not financially short like \n",
       "<mark class=\"entity\" style=\"background: #ddd; padding: 0.45em 0.6em; margin: 0 0.25em; line-height: 1; border-radius: 0.35em;\">\n",
       "    Taiwan\n",
       "    <span style=\"font-size: 0.8em; font-weight: bold; line-height: 1; border-radius: 0.35em; text-transform: uppercase; vertical-align: middle; margin-left: 0.5rem\">HEALTHSYSTEM</span>\n",
       "</mark>\n",
       " or \n",
       "<mark class=\"entity\" style=\"background: #ddd; padding: 0.45em 0.6em; margin: 0 0.25em; line-height: 1; border-radius: 0.35em;\">\n",
       "    Japan\n",
       "    <span style=\"font-size: 0.8em; font-weight: bold; line-height: 1; border-radius: 0.35em; text-transform: uppercase; vertical-align: middle; margin-left: 0.5rem\">HEALTHSYSTEM</span>\n",
       "</mark>\n",
       ", the insurance companies compete over the services they provide not based on their profit, there is no waste on admin while 5% very reasonable \n",
       "with having the healthcare workers satisfied with their wage , the direct effect is on the patient well being, also it does not cut out the next generation to peruse this as a career which is the demand of future,</div></span>"
      ],
      "text/plain": [
       "<IPython.core.display.HTML object>"
      ]
     },
     "metadata": {},
     "output_type": "display_data"
    },
    {
     "name": "stdout",
     "output_type": "stream",
     "text": [
      "------------------------------------------------------------------------\n"
     ]
    }
   ],
   "source": [
    "analysis = []\n",
    "for doc in nlp.pipe(healthsystem_text, disable=['ner']):\n",
    "    displacy.render(doc, style=\"ent\")\n",
    "    tmp = [ent.ent_id_ for ent in doc.ents]\n",
    "    try:\n",
    "        analysis.append({\"first\":tmp[0], \"counter\":Counter(tmp)})\n",
    "    except:\n",
    "        analysis.append({})\n",
    "    print('-'*72)"
   ]
  },
  {
   "cell_type": "markdown",
   "metadata": {},
   "source": [
    "### Similar to what I did with rebels\n",
    "#### Select either most frequently mentioned or if ties, the first mentioned"
   ]
  },
  {
   "cell_type": "code",
   "execution_count": 15,
   "metadata": {},
   "outputs": [],
   "source": [
    "def get_most_common_or_first(data):\n",
    "    c = data[\"counter\"]\n",
    "    mc_count = c.most_common(1)[0][1]\n",
    "    vals = [k for k,v in c.items() if v==mc_count]\n",
    "    if len(vals) > 1:\n",
    "        return data[\"first\"]\n",
    "    else:\n",
    "        return vals[0]"
   ]
  },
  {
   "cell_type": "code",
   "execution_count": 16,
   "metadata": {},
   "outputs": [],
   "source": [
    "temp = [get_most_common_or_first(a) if a  else None for a in analysis]"
   ]
  },
  {
   "cell_type": "code",
   "execution_count": 17,
   "metadata": {},
   "outputs": [
    {
     "data": {
      "text/plain": [
       "['TW',\n",
       " None,\n",
       " 'TW',\n",
       " 'TW',\n",
       " 'TW',\n",
       " 'UK',\n",
       " None,\n",
       " 'JP',\n",
       " 'CH',\n",
       " 'JP',\n",
       " 'TW',\n",
       " 'CH',\n",
       " 'JP',\n",
       " 'DE',\n",
       " 'JP',\n",
       " 'DE',\n",
       " 'JP',\n",
       " 'JP',\n",
       " 'JP',\n",
       " 'JP',\n",
       " 'UK',\n",
       " 'JP',\n",
       " 'JP',\n",
       " 'JP',\n",
       " 'UK',\n",
       " 'JP',\n",
       " 'TW',\n",
       " 'TW',\n",
       " 'JP',\n",
       " 'USA',\n",
       " 'JP',\n",
       " 'JP',\n",
       " 'JP',\n",
       " 'JP',\n",
       " 'JP',\n",
       " None,\n",
       " 'DE',\n",
       " 'TW',\n",
       " 'DE',\n",
       " 'TW',\n",
       " 'TW',\n",
       " 'CH',\n",
       " 'JP',\n",
       " 'TW',\n",
       " None,\n",
       " 'JP',\n",
       " 'TW',\n",
       " 'JP',\n",
       " 'TW',\n",
       " 'TW',\n",
       " 'TW',\n",
       " 'TW',\n",
       " 'JP',\n",
       " 'JP',\n",
       " 'TW',\n",
       " 'JP',\n",
       " 'JP',\n",
       " 'UK',\n",
       " 'UK',\n",
       " 'JP',\n",
       " 'JP',\n",
       " 'JP',\n",
       " 'CH',\n",
       " None,\n",
       " 'TW',\n",
       " 'TW',\n",
       " 'TW',\n",
       " 'CH',\n",
       " 'UK',\n",
       " 'CH']"
      ]
     },
     "execution_count": 17,
     "metadata": {},
     "output_type": "execute_result"
    }
   ],
   "source": [
    "temp"
   ]
  },
  {
   "cell_type": "code",
   "execution_count": 18,
   "metadata": {},
   "outputs": [
    {
     "name": "stdout",
     "output_type": "stream",
     "text": [
      "TW\n",
      "By watching sick around the world, I think Taiwan's medical system is the one I like the most.\n",
      "From the perspective of people's experience, it is very similar to the system being used in mainland China. Almost everyone has the right to medical insurance, and then the government will pay for all mainstream medical care, and the people only need to pay the basic expenses. The most convenient thing in this system is the use of the medical insurance card, which is quite convenient. By recording the user's medical history in detail, the doctor can see the patient's condition at a glance and make a proper diagnosis. Moreover, the payment information of the user is also stored in the card, which makes the payment extremely convenient and extremely friendly to the elderly and the disabled.\n",
      "This highly unified system also eliminates waiting time, allowing people to receive treatment in time before their body conditions change, which can greatly improve people's recovery rate and satisfaction.\n",
      "----------------------------------------\n",
      "None\n",
      "Among these 5 health systems, the one that is most interesting to me is New Zealand's healthcare system. I think that many countries have the problem of the lack of medical resources. Many residents need to make appointments with doctors a few days or even weeks in advance or stay in the clinic for a long time. New Zealand's family doctor policy can alleviate a lot of the need to go to the hospital. Because most of the time, patients are suffering from minor symptoms such as colds, that some community doctor or family doctor is able to solve. Only when encountering intractable diseases or surgical operations, the family doctor will introduce the patient to a public or private hospital for examination and treatment by experts. This means that the number of patients going to the hospital will be greatly reduced, which can greatly alleviate the pressure of the hospital, and will not waste too many medical resources.In addition, the family doctor will be more familiar with the physical condition of the residents and can infer the patient's condition more quickly. There are even medical records issued by family doctors that can help patients avoid allergic drugs.However, this policy will also lead to a shortage of resources for family doctors, because regardless of the size of the disease, residents need to notify the family doctor as soon as possible, so the ratio of the population to the family doctor will be a very important decision.\n",
      "----------------------------------------\n",
      "TW\n",
      "As a Chinese, I am more interested in Taiwan's health care system, to compare with the Chinese health care system. Taiwan and China had similar background back in the 1950s, but Taiwan had started early to build their health care system, they referenced all the developed countries' health care system development, and learned from the good routes and avoided the traps in as an example. Therefore, Taiwan has built an appropriate system that suits them best.  The health sector issues health care like an ID to every citizen, the citizen uses this health card all the time when they look for a doctor,  the card stores all the history of health records, directly connects with pharmacy and insurance department, the drug bill will be covered right away, so the public won't concern drug expenses and they all satisfy with their health system. Also, Taiwanese don't set GP, the patients see doctors directly, therefore their medical processes are efficient, the IT technique supports the health care system to become more efficient and inexpensive. China currently has the similar methods for health care, however, the government started late and the population is enormous, therefore, it takes a long time to develop.\n",
      "----------------------------------------\n",
      "TW\n",
      "I am most interested in the health system in Taiwan, China. First of all, there is very high satisfaction. Taiwan’s healthcare companies rank among the top in the world for their most effective healthcare systems and capabilities. The advantages of Taiwan's medical system are good accessibility, comprehensive population coverage, short waiting time, high quality, affordable prices, leading technology, patient-centric services, and leading physicians to provide comprehensive professional services.\n",
      "----------------------------------------\n",
      "TW\n",
      "I choose Taiwan as the most interesting country. I lived in Taiwan during my university life for almost 4 years. The medical insurance policy in Taiwan is the best in the world. Every resident in Taiwan needs to opt in the insurance program. Patients only carry the smart card when they need to see the doctor. Medical service and insurance are tied together. Patients only take the card and see the doctor and pay a little fee. Everyone, whatever rich or poor, all people are cared for by the national medical system.\n",
      "----------------------------------------\n",
      "UK\n",
      "I will be more interested in the British medical system. Reid's book describes the British medical system. In the UK, nationals do not need to provide additional medical expenses. All medical expenses will be raised by the National Health Service (NHS) established by the government through taxation. This is social medicine in the traditional sense. Under this medical system, the competition will occur between hospitals, so as to achieve the purpose of being selected by patients. Such a system greatly enhances the hospital's research capabilities. In the country where I live, although the government will pay a part of the medical expenses for people, people still need to pay for medical treatment. When people get a very serious disease, some people cannot see a doctor because of poverty.\n",
      "----------------------------------------\n",
      "None\n",
      "我更喜欢从日本的卫生系统获得医疗保健。我认为日本的医疗保健系统介于英国和美国之间。英国采用公共医疗系统。尽管这种“社会化药品价格便宜,但可能导致效率相对较低。美国的医疗保健已完全私有化。尽管医疗水平很高,但穷人负担不起。在日本,医疗服务由私营部门和医疗机构提供。费用由政府负担,这不仅确保效率,而且大大缓解了医疗困难且费用昂贵的问题,同时,日本没有转诊系统,患者可以随时随地去任何专科医生求诊。他们喜欢,这不仅节省了成本,而且大大减少了患者可能遇到的麻烦。\n",
      "----------------------------------------\n",
      "JP\n",
      "When arguing about which country I prefer from the VIDEO, I choose Japan. The reason is because Japan has a ‘social insurance’. This policy provide people who can’t afford a medical help could receive health care, which means Japan gave a wider access to its citizens and shorten the gap between rich people and poor people in health care. Moreover, people could select their own health care option, for example, people with higher income could select private health care and poor people could receive social insurance, this promotes the fairness. \n",
      "----------------------------------------\n",
      "CH\n",
      "I prefer to get my healthcare from Switzerland’s health system. Compare to the no bills, shorter NHS waiting lists, with excellent preventive medicine and great preventive care in UK, and the longest life expectancy, excellent health results, no waiting lists and rock bottom costs in Japan. Everybody in Switzerland buy insurance with the state paying for the poor. In return, it guaranteed a comprehensive package of medical care for all. Although it has challenge that having achieved universal health care, it has to decide how much citizens are willing to pay. It’s already the second most expensive health care system in the world. Switzerland provides a more comprehensive healthcare system, which achieves social equity and reduces the burden on low-income people.\n",
      "----------------------------------------\n",
      "JP\n",
      "After watching Sick Around the World, I prefer to get healthcare from Japan most. I think that the price problem and the allocation of medical resources are challenges faced by medical systems all over the world. The Japanese medical system responds to this problem in a very special way, which is to set a uniform price for medical prices across the country. This measure allows citizens to enjoy relatively equal medical resources and acceptable prices to the greatest extent. Of course, as mentioned in the video, this measure also exposes most Japanese hospitals to fiscal deficits. If it can be successfully resolved, how to ensure the interests of the patients while ensuring the benefits of the hospital, I think the Japanese medical system will become a very successful example.\n",
      "----------------------------------------\n",
      "TW\n",
      "As said in the video, Healthcare must be every person's right irrespective of their employability status. As in the case of Taiwan deciding its healthcare policies by picking out the best attributes from healthcare systems around the world and refining to make a better is in fact the optimal solution to current day healthcare. However, I am most intrigued by the Japanese healthcare system as the entire public is covered for health care irrespective of their status. Most prices are negotiated to keep in mind the records of people visiting and the need of that particular medicine/service. Since there is very little to no waiting time, it is optimal for any patient at any given time(even in case of an emergency) to get the right treatment on time.\n",
      "On top of all these, there is a proper management system in place that can account for 126million people enrolled on the single payment system that keeps track of every visit/medication used/ future visits needed etc.\n",
      "----------------------------------------\n",
      "CH\n",
      "I would like to choose the health system from Switzerland. It is known that health insurance is compulsory for all long-term residents in Switzerland and the premium is the same in principle regardless of age, sex and state of health. Specially, government will pay for the poor for the health service. This law makes sure that all the residents can receive good health service and ensure the human right to have a private health care when they get hurt. Besides, as all the residents entitled to health insurance, it eliminates the fear of medical disputes and safeguards the interests of the members. In addition, as the state determines the price of medicines and medical services, the insurance company can only attract people by improving their service, the healthy competition among company control the cost of care and ensure the quality of service at the same time. Furthermore, as patients are protecting by the health insurance, they have the right to change doctor at any time. indeed, Swiss doctors talk directly with patients, ensuring that each patient fully understands and participates in all decisions.\n",
      "----------------------------------------\n",
      "JP\n",
      "I would like to choose the Japanese medical system. I think the Japanese medical system is somewhere between the Nordic and American models. The Nordic countries mostly adopt public medical systems, which are relatively inefficient. The United States is privatized. Although the level of medical care is high, the poor are burdened with suffering. Medical services in Japan are provided by the private sector, while the government pays for medical expenses. This not only ensures efficiency but also solves the problems of difficult and expensive medical treatment. Japan implements national public medical insurance, which has already covered all citizens. Thanks to this system, the burden on Japanese people when seeking medical treatment is very small, and many diseases can be detected and treated early, eliminating the need for more expensive treatment costs after the disease worsens. The proportion of public expenditure in Japan's total medical expenses is relatively high. Citizens are divided by age, and benefits are equal regardless of income in the same age group. Young people and high-income earners take on more responsibilities. The preference for the poor, children and the elderly is a manifestation of social justice. Pay attention to the value of medical workers and enrich the supply of social medical resources.\n",
      "----------------------------------------\n",
      "DE\n",
      "After watching the video, I am most intrigued by Germany's health system. \n",
      "The reason I choose this system is that, firstly, it uses a social insurance model and Germans are free to buy their insurance from one of more than 200 private, nonprofit \"sickness funds.\" Even though the average family premium is $750 per month which is higher than other countries mentioned in the video, the co-payments is pretty low compared to other countries in my opinion.\n",
      "Second reason is that Germans can choose to see a specialist straightaway without seeing a gatekeeper first, provided that they are happy to pay a higher co-payments. And it also allows the richest 10 percent Germans opt out of the sickness funds in favor of U.S.-style for-profit insurance. These patients are able to see doctors faster in general. \n",
      "I prefer this way because it gives citizens more options based on their level of income so people are divided up to different types of hospitals/clinics. Richer people do not need to wait as long as others and it will also reduce the workload for \"sickness funds\" and improves efficiency.\n",
      "Thirdly, the percentage of GDP spent on health care is 10.7 which seems to be a reasonable number to me, not too much and not too less like Japan.\n",
      "----------------------------------------\n",
      "JP\n",
      "I prefer to get healthcare from Japan. In Japan, residents pay for medical insurance. The results shown by the Japanese medical system are excellent health result, no waiting lists and rock bottom costs. These are very good for patients, people can be diagnosed immediately when they are sick, and using MRI and other machines is not very expensive. Patients will not cause bankruptcy and other things because of illness. At the same time, because the cost is low and there is no need to wait, people do not have to worry about the cost, but can go to the hospital for regular examinations. This is very helpful to extend people's life.\n",
      "----------------------------------------\n",
      "DE\n",
      "\n",
      "The good thing of Germany’s health care system is that it covers many areas such as mental health, therapist. It not only care about people’s physical condition but also their mental health and other feelings. Which align with the definition of health from WHO we talked about before. It’s different to America that it allows everyone to enjoy the system. Poor people gets help from the government. The speed of seeing doctor is reasonable, faster than the British. In addition, sickness fund negotiate with different sectors to provide low price. the shortage of this might be that doctors didn’t get satisfied. But it looks like better than in Japan.\n",
      "----------------------------------------\n",
      "JP\n",
      "I prefer to get my healthcare from Japan for the following reasons. \n",
      "\n",
      "CHEAP: The healthcare system in Japan covers everybody, anybody, anywhere, anytime, and it is cheap. It spends half as much as the United States per capita – for just 8% of GDP. If you lose your job in Japan, you don’t lose your healthcare insurance. The average premium for a Japanese family is only $280 a month with the employer paying half of it. Insurance companies cannot make a profit.\n",
      "CONVENIENCE: 80% of the hospitals are private. There are no gatekeepers, so Japanese can go see any specialist they want. Compared to Australia, I have to book an appointment with the GP and only can see a specialist if the GP recommends. \n",
      "STANDARD PRICE EVERYWHERE IN JAPAN: Japanese patients like technology like scans. However, the cost is kept under control because the Japanese Health Ministry tightly controls the price of health care down to the smallest detail. Every two years the physicians and health ministry negotiate a fixed price for every single procedure and drug. There is a standard price for each of those and is same everywhere in Japan. Doctors can only charge what the official book dictates. \n",
      "\n",
      "----------------------------------------\n",
      "JP\n",
      "I prefer Japan. The main reason is there is no waiting time, and no need to make  reservations. In case of feeling sick, you can go to the doctors immediately, or the doctors come to you.  In addition, there are annual health examinations. The prices of treatments/medicines are reviewed and adjusted periodically, and unified in the whole country. In general, from my opinion, healthcare in Japan is easy and fair to access.\n",
      "----------------------------------------\n",
      "JP\n",
      " After watching Sick Around the World,  I were most intrigued by the Japanese health system and I prefer to get my healthcare from Japan. The reasion is quite simple. The medical expenses in Japan are very low and everyone in Japan is covered by the healthcare insurance. Whenever I feel that I need to see a doctor, I don’t have to worry about expensive medical expenses in Japan. However, the healthcare system in Japan is not that good for doctors.\n",
      "----------------------------------------\n",
      "JP\n",
      "By watching Sick Around the World, Japan is the country that I was most intrigued by and prefer to get your healthcare from. \n",
      "Firstly, all citizens in Japan are covered. The Japanese are prodigious consumers, they go to the doctors three times as often as Americans do, and they can go see any specialist they want. \n",
      "Secondly, the cost for seeing a doctor is cheap. The Japanese Health Ministry tightly controls the price of healthcare right down to the smallest details. \n",
      "Thirdly, due to the frequency of seeing doctors, the consumers are only need few minutes. \n",
      "----------------------------------------\n",
      "UK\n",
      "Among the countries that Reid visited, I prefer to get my healthcare from the health system of UK. Although it seems that I am still a healthy young woman, as far as this problem is concerned, I personally prefer to consider it from the worst perspective. If it is in the other countries, I would worry that I might not have the financial capacity to pay for medical expenses when I am poor, so I dare not seek medical treatment, or I may not get the government's financial support in time to help me get proper treatment. On the one hand, I may not be able to afford the high medical expenses in the United States and Switzerland based on my current family conditions and financial ability. On the other hand, if I had the same disease that need to be treated urgently with another person who was richer and more generous than me, in Germany, that person would obtain the treatment better and earlier since he paid more than I did. Life is thus measured by money, and no longer equal because of life itself. I cannot accept this reality. Without enough wealth, I dare not entrust my life and health to such a medical system easily. In contrast, although there are still problems with the British medical insurance system, at least, except for some out-of-pocket expenses for dental care, glasses, and 5% prescription drugs, as long as I am a taxpayer in this country, I am guaranteed with free healthcare.\n",
      "----------------------------------------\n",
      "JP\n",
      "I prefer to get healthcare from Japan according to three reasons listed below. First, everything is covered by health insurance. Patients don’t have to worry about the medical bill because of the rock bottom price decided by the Japanese government. Second, even though the cost of visiting a doctor is cheap, there is no waiting list. Patients can go to the hospital and receive the examinations without making an appointment. This makes sure the patients’ conditions can be well controlled if symptoms are severe or start suddenly. Last, health insurance is cheap and sustainable. The average premium for a family is only 280 dollars per month. And it will not be stopped if you lose your job. The government will take care of it to make sure every citizen have health insurance.  \n",
      "----------------------------------------\n",
      "JP\n",
      "  I prefer the Japanese system. I am Japanese and I never heard someone is bankrupt because of medical bills like he mentioned in the video. Moreover, there are a lot of private hospitals or clinics even in rural areas, so patients can go there sooner if they feel sick and usually do not have to wait for getting treatments. Actually, the number of dental clinics in Japan is more than the number of convenience stores and medical bills for it are also covered by insurance, so patients do not have to spend much money on even dental treatments. For example, the cost for a decayed tooth is less than $50 at anywhere for everyone.\n",
      "  However, not only running hospitals is endangered, but also decreasing the number of doctors is another problem. Japan faces a serious problem that the low birth rate and it affects the medical aspect as well. Although the number of doctors is diminishing, the number of elderlies increases due to established medicare and they often go to take it. Hence, the workload for each doctor becomes higher as well. We might have to adopt some medical systems from other countries to improve labor conditions for doctors.\n",
      "----------------------------------------\n",
      "JP\n",
      "After watching the video, the most intrigued country to me is Japan. I prefer for Japanese health care system for several reasons. Firstly, there is no waiting line for seeing a doctor. I find it really annoying to wait for a long time just for some small problems. When I was studying in America. I remember once, one of my friends was having a fever for 5 days and she really felt uncomfortable. I decided to drive her to the emergency department. After we arrived at the hospital, we spent 7 hours that day in the hospital for some simple tests and medicines, which I believe will never happen in Japan.  Secondly, Japan does not have gatekeepers in hospitals. Patients can choose their doctors without administration fees. Private hospitals offer more options for patients to find doctors they trust rather than assign by some gatekeepers. Personally speaking, I think private hospital usually have better services when they have to compete with other hospitals, since the price are fixed.\n",
      "----------------------------------------\n",
      "UK\n",
      "After comparing health care systems in many countries, I am more interested in healthcare systems in the UK. They did not establish special medical bills (or call medical insurance), so that all people can get free medical care to a certain extent. They also set up a special family doctor, which is very similar to Australia, but these are not seen in the United States and China. You know, at some moments in China, hospitals are very crowded, and setting up some GPs can save government expenditures and secondly save patients' time to see doctors. Secondly, in the UK, their doctors can get a better income, and these incomes are closely related to the number of patients they see, which greatly improves the enthusiasm of medical practitioners. In China, the income of doctors is not high, which indirectly leads to poor patient experience. Finally, in the UK, the medical care industry seems to be \"monopoly\", and people maintain this NHS through taxation. Some improper transactions will not involve the national medical health. This is worth learning.But I also have a problem here. The UK did not perform well during COVID-19. We can see that when major unpredictable diseases come, the daily medical system is not enough to maintain or satisfy people's current needs. So how should it be improved?\n",
      "----------------------------------------\n",
      "JP\n",
      "I find Japan's health-care system to be the most intriguing not only because I've never thought about how they handle it, but because it is another universal health-care system like Australia's. Helping produce excellent results like the longest healthy life expectancy and lowest infant mortality rate, I am surprised that they have achieved this without anyone going broke from medical bills. Unlike taxes paying for medicine like Australia's Medicare levy, the Japanese use social insurance combined with a single payment system and price book to keep costs low and consistent. This makes doctor visits more accessible, frequent and in my opinion, routine. I think that getting regular health check-ups is important for early detection and treatment if required, and I am willing to bet that in non-universal health-care systems, a barrier for some people to these check-ups is the cost of appointments and medications.\n",
      "----------------------------------------\n",
      "TW\n",
      "I am most intrigued by the Taiwan Healthcare System. The fact that they looked all over the world and adopted some of the international initiatives the thought it could work on their country makes it a great system in my opinion. They literally thought outside the box and took advantage of all the efficiency and effectiveness that Information Technologies could provide and put them to use. There is the issue of Big Brother from the Government, but personally I would value more an efficient and effective system than the government having access to my data if that means it can save my life in case of serious illness.\n",
      "----------------------------------------\n",
      "TW\n",
      "Taiwan!!!!! has the best health case system as Emanuel mentioned, because in Taiwan the fee for health care costs is really low, even for the drugs or surgery. People pay for the health system in the tax and the tax for the health system is very low as well. And the residents get a high quality of services. Even for families with low income, the government provides subsidies for them to pay the health care tax, therefore, they can also have the same quality of healthcare with other people. For the homeless group of people, there are few specific clinics set up by the government for them. \n",
      "----------------------------------------\n",
      "JP\n",
      "Japanese health system.\n",
      "Because, it could cover all citizens firstly and the system broadly distributes every aspects, including the use of medical devices, medications, services, etc.  Meanwhile,  the payment of citizens depends on their incomes. Therefore, this system ensures every citizen could afford the medical bill to avoid the serious consequences due to be illness, e.g. bankruptcy or death.\n",
      "----------------------------------------\n",
      "USA\n",
      "I am most intrigued by the American health system. \n",
      "On the one hand, it is undeniable that the United States has a developed medical system and the most advanced medical technology and the highest quality medical personnel. \n",
      "On the other hand, although medical costs in the U.S. are high, there are many types of medical insurance in the United States. This means no matter what class you are in, you can have suitable medical insurance. The United States government-led social medical insurance focuses on protecting the elderly (Medicare) and vulnerable groups (Medicaid), while medical insurance for working people is provided by commercial insurance institutions. This seems very reasonable to me. First of all, it guarantees the most difficult human rights basic medical services (because the elderly and the poor usually have no source of income). Secondly, healthy competition between commercial insurance can better promote the development of health care.\n",
      " \n",
      "----------------------------------------\n",
      "JP\n",
      "\n",
      "After watching Sick Around the World, I was most intrigued by Japan's Healthcare system.\n",
      "I believe the overall quality and fairness is good in Japan compared to others.I liked morale right to healthcare for everyone, best health statistic, No waiting (noGatekeeper), equal access to care ,very cost-effective. \n",
      "Best health statistics may be due to lifestyle and diet, which i came across while reading book Ikigai sometime back.\n",
      "This was also  a reason i got more intrigued by its healthcare system.\n",
      "Even though there is a limitation ;50% Japan's Hospitals operating in the red ,but i think even if japan increases the overall spending on healthcare it can solve this issue and still be a cheaper healthcare system.\n",
      "\n",
      "----------------------------------------\n",
      "JP\n",
      "For me, I would like to choose the health system of Japan. Since I am not a doctor or any other medical worker, I will be the patient more often. Therefore, most things I care about are the fee and waiting time. \n",
      "As Reid introduced in the video, there is no waiting time for the patient to see the doctor in Japan and Taiwan. For instance, If I have a severe cold or abdominal pain, of course, I don't want to wait for 2 or more weeks. That's why I won't choose the health system in Germany, the USA, or other western countries mentioned in the video. Meanwhile, as mentioned in the video the treatment fee in Japan are fixed and cheap, all the fee has been defined by the government and recorded in the book. So I like the health system of Japan the most.\n",
      "----------------------------------------\n",
      "JP\n",
      "I would say that I am going to choose the Japanese health care system for the following reasons. Firstly, which is the most important one I think, is the efficiency of getting treatment. In the Japanese health system, there is no gatekeeper such as GP. You do not need to make an appointment, if you are sick you can get straight to the doctor. Also, the time spent in the hospital is less than other systems, sometimes just 3-5 minutes. For me, I do not want to wait for like 1 week to get treatment when I get sick since it is suffering for me to wait when I am feeling uncomfortable. Secondly, the price of health care is very cheap, it only cost 98$ for MRI. In conclusion, I think the Japanese health system can provide cheap and fast treatment to patients, so I would like to choose it.\n",
      "----------------------------------------\n",
      "JP\n",
      "After watching Sick Around the World, I would like to choose Japanese healthcare system. In China, we have similar healthcare system but there are still many differences. \n",
      "The reasons could be:\n",
      "\n",
      " The medical bills are cheap. As Chinese, our medical bills are actually cheaper than most countries but according to this movie, Japan maybe cheaper.\n",
      " The insurance policy is standard in the whole country. Not only the insurance fee but the policy. It's really helpful for all citizens, especially who are in poor financial conditions and who already have some diseases. In China, the insurance fees differ and some insurance policy from private insurance company would refuse to pay for people who already have diseases like diabetes.\n",
      " No GP requirement. Both China and Japan have no GP policy, and I am used to seeing doctors directly and quickly as long as I go to the hospital.\n",
      " Although hospitals are suffering broken which may cause difficulty for patients to seeing doctor, I believe the government would adjust the policy to keep the balance.\n",
      "\n",
      "----------------------------------------\n",
      "JP\n",
      "As far as I'm concerned, I prefer the Japanese health system. There are the following reasons. First of all, Japan's health system is covered by its full name, which is a kind of social insurance. Compared with many countries, such as China, many poor people are unable to see a doctor. Japan provides health services for everyone, which is worth learning from. In addition, Japan's fast medical service, no need to make an appointment is also an attractive place for me. In China, it often takes a lot of time to see an illness, and sometimes it takes half a day to complete a small examination. But in Japan, the average medical treatment for each person is often only three to five minutes, which makes me very envious. Finally, I was also attracted by the abundance of medical devices and the low price of inspection in Japan. In China, some complex medical projects need to go to other cities, which is very troublesome.\n",
      "----------------------------------------\n",
      "None\n",
      "I think the health system in Australia is very good, and which consists of two systems, public and private. Every citizen of Australia can access care for free or at a lower cost through Medicare. Medicare was funded by the tax(funded by local, state and federal governments). for the private system, which includes health service providers that are owned and managed privately, like private hospitals, specialist medical and allied health, and pharmacies(funded by a combination of government and private entities). The whole health system in Australia ensure very people who live in Australia can enjoy the benefits of the system and easier to support the cost of healing. \n",
      " \n",
      " \n",
      "----------------------------------------\n",
      "DE\n",
      "In the video introduction, I hope to get medical care from the German medical system. The German medical system is a market-based system. Under this medical system, patients can be allowed to perform various medical care at any time. In this kind of medical system, statutory medical insurance occupies the main position. At the same time, private insurance is used as an auxiliary.The advantage of this medical system is that it can, first, effectively avoid the possibility of doctors charging indiscriminately. Second, medical resources can be allocated more efficiently. Third, the division of labor and collaboration can be carried out more effectively.Therefore, I hope to get medical care in the German medical system.\n",
      "----------------------------------------\n",
      "TW\n",
      "From my perspective, I prefer to get my healthcare from Taiwan. The Average family premium: $650 per year for a family for four, which is relatively cheap. What attracts me most is the smart card every citizen owns can be used to record users' medical history and the system also helps public health officials monitor standards and effect policy changes nationwide. Thus, the administrative costs of Taiwan is the lowest in the world. \n",
      "----------------------------------------\n",
      "DE\n",
      "Germany has one of the best health care systems in the world, with universal coverage, which means germans don't have to worry about huge health costs.One of the reasons why Germany's health-care system is so good is that it is almost cover everything.\n",
      "1.Universal health care: Germany has universal health insurance, which means that everyone living in Germany must have health insurance.2. Percentage of public and private health insurance: Most people have public health insurance and about 10 percent have private health insurance.3.  percentage covered by health insurance: 100%.4. number of pharmacies: Germany has more than 20,000 pharmacies or one for every 4,000 people.5. number of hospitals: about 2,000.\n",
      "----------------------------------------\n",
      "TW\n",
      "I would chose to get my health care from Taiwan, as mentioned in the documentary they learnt and adapted different aspects of successful health care systems from different countries. I particularly like that there is no opt out option and everyone joins and pays the same amount to get the same care. It also has no gatekeepers and no high waiting times meaning citizens are able to get diagnosed and treatment efficiently. Additionally, unlike the other health care systems mentioned in the documentary every citizen of Taiwan is issued with a smart card which dramatically reduces administrative costs and also makes it easier for both the practitioner and patient to transport medical records. Moreover, the system includes drug benefits and includes all types of care including optical and other types of extras. Ultimately, I believe Taiwan has found an optimal system where all citizens contribute to the health care system, receive adequate care and the government is not spending a high amount of GDP.\n",
      "----------------------------------------\n",
      "TW\n",
      "For the countries mentioned by Reid in the interview, I am most interested in the medical system in Taiwan. The reason is that I grew up here, the overall medical environment is very convenient, with a sound medical system, people can use the health insurance card to record the contents of each visit and the type of medicines given by the doctor, and the visit only costs about 8 Australian dollars. At the same time, the popularity of clinics and hospitals is also quite high, and citizens who need medical resources can see the doctor quickly and also without the pressure to bear high medical expenses. I think that a sound medical system is based on the efforts of the government and all the people, such as the prevention of COVID-19. I returned to Taiwan last week for 14 days of independent isolation. The health bureau uses mobile phones to locate and control whether or not I leave the quarantine at any time, and public representatives of the block contact me every day to understand my physical condition so that I can report and treat in time when I am unwell. However, the convenient and low-cost medical resources have also extended the problem of the national health insurance financial deficit. Although the national satisfaction with health system has reached 87%, the number of visits per capita is three times higher than in developed countries, which has led to a continuous increase in losses. It is a topic worth discussing.\n",
      "----------------------------------------\n",
      "CH\n",
      "Healthcare in Switzerland\n",
      "After watching the video, I think the health system of Switzerland is the best among all the countries that Reid visited. The reasons are as follows:\n",
      "\n",
      "The law requires Swiss residents to purchase health insurance (compulsory health insurance or MHI).\n",
      "No one will be refused to provide pre-existing diseases.\n",
      "The government provides Mitsubishi Heavy Industries subsidies for low-income people.\n",
      "Patients can get all levels of care directly-no referrals required.\n",
      "MHI allows patients to choose their own provider.\n",
      "There is a little waiting time.\n",
      "Maternity insurance is excellent: it includes prenatal care, all costs related to childbirth, and a one-week hospitalization after childbirth (teaching baby care skills during this period). Qualified midwives will also make post-natal family calls.\n",
      "\n",
      "----------------------------------------\n",
      "JP\n",
      "I prefer to get services from the health care system in Japan. Japan's medical services are provided by the private sector, while the medical expenses are borne by the government. I don't have to worry about the cost, because as long as I'm insured, most of my medical expenses will be borne by the government. There are many small medical institutions in Japan. I can get medical services nearby and refer to large hospitals when necessary. This saves me a lot of time and the tedious appointment.\n",
      "----------------------------------------\n",
      "TW\n",
      "I prefer to get healthcare from Taiwan. After Taiwan learnt experience of health system from many countries, Taiwan established effective health system. There are  three reason I pick Taiwan that I am most intrigued by. Firstly, all medical treatments and medicines will be covered by governance, everyone is treated equally. Secondly, there is no gatekeeper or waiting time in Taiwan's health system, clinic even open on the weekend, and there is no need to see GP firstly. Finally, health system of Taiwan is most convenient, everyone has owner smart card to get healthcare, and doctor can read all medical histories by smart cards. In addition, bill can be sent to governance insurance and paid automatically.  \n",
      "----------------------------------------\n",
      "None\n",
      "As a country with the purest air, the happiest people, and rated as the greenest country in the world, Finland does its best to make people enjoy a healthy life. Finland also boasts one of the most efficient healthcare systems globally, with many companies offering digital solutions to improve efficiency. One of the largest hospitals in Europe, HUS Helsinki University Hospital is the first hospital in the world to use boron neutron capture therapy (BNCT) in medical devices to treat cancer patients. Through its branch (HYKSin), medical services are provided to international patients. Currently, many digital health care solutions are designed to reduce patient waiting times. Data management company Avaintec, for example, set up a Sino-Finnish ARTIFICIAL intelligence and Innovation Research center in China with partners in early 2018. One of the projects is to provide an emergency center with a diagnostic system using artificial intelligence and machine learning. The neural network system can make the best guess based on the medical data input by the doctor.Moreover, NewIcon was founded in 2007 in Kuopio, central Finland, specializing in pharmaceutical management and pharmacy automation systems. The pharmacy at Helsinki University Hospital has used the company's automated system for years. Bone Index develops an index in Kuopio. It is a handy hand-held device for detecting the risk of osteoporosis. The goal is to get more people diagnosed early, prevent fractures, and help doctors make decisions. In genetic research, Finland has successfully combined genetic information with electronic health care data for research, with more than 98 percent of Finnish cases stored in electronic documents. FinnGen, a unique and unprecedented research project that has attracted international attention, aims to analyze half a million different blood samples from the Finnish biobank to understand the mechanisms of disease better and make more targeted individual treatment plans.\n",
      "----------------------------------------\n",
      "JP\n",
      "Japan is the country  I was most intrigued by.  I prefer the health system in Japan because the health insurance company there covers everyone in their society, even those poor people. And also, there are lower drug prices and no waiting time if the patient needs to communicate with a doctor face to face. For example,  the health care system in Japan saves more money for me if I would like to visit the dentist or doctor regularly.\n",
      "----------------------------------------\n",
      "TW\n",
      "I am intrigued by the healthcare system of Taiwan. There are two factors I think that are essential for the patients. First is the waiting time. As a patient, waiting time may be suffering from pain. It may also leads to the pressure since patients may have no knowledge of their sickness and being worried from the information gaining online. Therefore, building a healthcare system without any waiting time is an essential factors that affecting the physical and mental wellbeing for the patients. Another feature is the building of a completed infomation system. Taiwan provides a card that it is swiped when meeting with the doctors. The card stores the medical record for every single meeting, which enables the doctors to know about the medicial history, prognisis and previous treatments and help to have a better diagnosis. I think this is essential, as it is convenient for the patients to changing from different hospitals and get better treatments. \n",
      "----------------------------------------\n",
      "JP\n",
      "I would prefer the Japanese healthcare system due to a multitude of reasons. Firstly, due to its predetermined fixed costs whilst still being able to attend private care practices. Secondly, due to the short waiting times. Since there are no gatekeepers, an individual is able to go see any specialist they like without making an appointment. One thing I was most intrigued by in the Japanese healthcare system was their ability to innovate despite having tightly controlled price mechanisms. An example of this was the development of inexpensive MRI machines in response to the lower prices for MRIs. \n",
      "----------------------------------------\n",
      "TW\n",
      "After comparing health systems in those countries, I prefer Taiwan's health care system. The reasons are as follows.\n",
      "Firstly, from the patient's perspective, everyone can afford the treatment. And there 's no gatekeeper and no waiting time. \n",
      "Secondly, as for doctors, they can make diagnoses more quickly and accurately by knowing the patient's previous treatment records via the patient's smart card, which also improves patients' experience.\n",
      "----------------------------------------\n",
      "TW\n",
      "After watching Sick Around the World, I am interested in the health care system of Taiwan. Experts in Taiwan realized that the health systems of other developed countries, such as the United States, were not a module that could be replicated, they need to find a unique track. So the experts learned from the advantages of the health care system from all the other countries and unified them. Finally, they developed a system that was more efficient and cost-effective which has the lowest administrative cost in the world. Specifically, Patients in Taiwan do not have to make an appointment with GP, and they can go almost anytime during the day to see the doctor. Moreover, information technology is also used widely in the health care system. For instance, every Taiwanese has a smart medical card, and it records the patient's history, medications and other information, which just like some kind of EMR (Electronic Medical Record). However, there are still some obstacles to the development of Taiwan's health care system for the government in Taiwan, it needs to balance the hope of patients and the expectations of doctors. To be more specific, though the government has problems related to the funds of health care systems, the politicians are reluctant to increase premiums, because they are afraid to lose the voters from the public. Generally speaking, I prefer to get medical services from Taiwan's medical system.\n",
      "----------------------------------------\n",
      "TW\n",
      "As a Taiwanese, I'm still most intrigued by our own health system. After watching the video, I would say I'm really proud of our health system. Compared to systems in other country, Taiwanese can spend much fewer money but get high-quality medical services. \n",
      "----------------------------------------\n",
      "TW\n",
      "I am most intrigued by the health system in Taiwan. Because people in Taiwan only need to spend a small amount of money to the health insurance system to get a comprehensive healthcare service. In Taiwan, people do not need to make appointments or get referrals to see the doctors, they can access the medical resources easily and immediately when the clinics or the hospitals open. On the other hand, people in Taiwan need to hold the National Health Insurance card (NHI card) to access medical resources. The NHI card contains lots of the information of the patients (e.g. the insurance data, the diagnoses, and the drug prescriptions), which helps the doctors to assess the patients' body condition with the integrated data. \n",
      "----------------------------------------\n",
      "JP\n",
      "As an Asian, I always know Japan has a good reputation in many aspects but I never know anything about its health care system. Besides the longest life expectancy and the lowest infant mortality, its health care system is very convenient and cheap for Japanese patients. All prices of medical-related items are strictly negotiated and set by the government, which maximizes the patients’ right. There is no waiting list and patients can choose any hospital or doctors that they prefer. Although the medical equipment may be cheaper than those in other countries with the same function, based on the quality of Japanese manufacture, patients do not have to worry about medical operation quality. \n",
      "Perhaps, as Professor Saito Hidero said, there may be only one defect of Japanese health care system, which is 50% of hospitals are in financial deficit because hospitals can never earn more money outside the strict procedures. The concerns were raised that the number of hospitals may decrease. However, I think the Japanese government may take some actions to prevent the reduction. Most of all, the Japanese health care system provides patients with the cheapest (relatively) prices and considerable quality of medical care, which intrigues me the most from my perspective.\n",
      "----------------------------------------\n",
      "JP\n",
      "I would prefer to get healthcare from Japan. First of all, there are no GPs so I can see the specialists directly without waiting. Secondly, the price is acceptable. Since the price is unified over Japan and negotiated once a year, the residents would find the price satisfying.  Frankly, if I were a doctor, I would not work in Japan because the salary is not as much as the British. However, just because of this, the health system puts people's needs first.  The patients only need to pay a little part of the bills.\n",
      "----------------------------------------\n",
      "TW\n",
      "The problem between the Medication system and patients may exist permanently. If you want medical bills are affordable, the doctors or hospitals may earn little or the government may spend much more effort.\n",
      "Besides, every country have different nation conditions, some country has huge populations, and wealth is distributed unequally, some country has small populations and the fortune is distributed nearly equally. So is hard to compare wich country's system is good.\n",
      "But if we forget about those preconditions, I prefer Taiwan’s health system. For a patient side, they don't need the waiting line to see doctors. There is no one go bankrupt by medical bills. For the doctor side, government pay the remaining medical bills and hospital don't need to in deficit and doctors isn't earn as little as Japanese doctors. Also, the government and hospital try to lower the cost, they use a kind of ID card to record information. As Taiwan’s health system proficiently use informatics, administration cost is low and paperwork is less. As the cost decrease, the doctor's revenue will increase. \n",
      "----------------------------------------\n",
      "JP\n",
      "I’d like to choose Japan: No Gatekeepers. Patients in Japan can go see any specialist they want. A doctor usually only needs to spend 3-5 minutes to diagnose a patient because the patient’s needs are sometimes very simple and clear. The lack of Gatekeepers reduces the procedures for patients to see a doctor, and also increases the workload of specialist doctors. Nevertheless, the cost of seeing a doctor in Japan is very low, which is a good benefit for ordinary people.\n",
      "----------------------------------------\n",
      "JP\n",
      "After viewed this documentary, in my views, I will vote for Japan's healthcare system, since it more completed and fair for every citizen.\n",
      "1. All the Japanese have carried healthcare insurance by law with cheap price and it provides top level medical services. Besides, the healthcare price has highly restricted by the government and there has no deference between different area and city.\n",
      "2. Japan's healthcare system is more efficiency, people don't need to make an appointment to see the doctors, which is convenient for populous country's residents.\n",
      "3. From the statistics of WHO , Japanese has the highest life expectancy compared to other countries, which  indicated that Japan has a high standard healthcare system except the reason that Japanese have good eating habits.\n",
      "In conclusion, I may choose Japan to live my retire life for living longer.\n",
      "----------------------------------------\n",
      "UK\n",
      "I like UK's NHS system because they provide incentive for doctors to improve well-being of their patients. I haven't seen similar program in the documentary and I found it very useful. same as any other business, providing incentives helps the business and its owner. but because NHS is a tax-paid organization, it provides benefits to the British people by incentivizing doctors to keep people healthy. a surprising fact to me was the 180% incentive for the Doctor who helped his patients stay healthier.  \n",
      "----------------------------------------\n",
      "UK\n",
      "I want to get my healthcare from the United Kingdom. The British system is regarded as \"socialized medicine\" because the government not only provides health care but also pays for health care. Also, there is no family premium. Moreover, reforms are instituted by the British government to help to give patients more choice and make care more competitive, so patients can choose the location where they want to be treated for many procedures.\n",
      " \n",
      "----------------------------------------\n",
      "JP\n",
      "I like the health system of Japan most. I think Japan's health system is the balance of the European countries like the UK and Germany: most of the hospitals are private but all the poor people can enjoy medical care without a bill, while other people rely on the health insurance policy. Unlike Germany, this policy can save a lot of budget for the government but it also can cover all the poor people; therefore, I think Japan's policy is more efficient than many other countries.\n",
      "----------------------------------------\n",
      "JP\n",
      "In my opinion, the health system in Japan is efficient. First, medical products and medical services are uniformly priced and inexpensive in the country. Second, the waiting time for obtaining effective treatment is shorter than in the United Kingdom and Germany, because  people can directly receive treatment from specialist doctors without GP. These are the main reasons why I chose the Japanese health system.\n",
      "----------------------------------------\n",
      "JP\n",
      "I probably prefer the Japanese healthcare system. There are three main reasons. First of all, under this medical system, there is no waiting to see a doctor, so that many patients will not miss the best time to see a doctor. Second, under the Japanese health care system, its charge fairly cheap, and it's charging system with strict rules and restrictions, even wound of different size has different price regulation, this also makes the doctor or hospital can't random to control health care costs, although this may result in many hospitals the fiscal deficit,  through the whole of price regulation is to be able to alleviate this situation. The last point is that in Japan, there are more physical health tests, such as MRIs, which can effectively detect potential diseases in time, so that they can be treated as soon as possible.\n",
      "----------------------------------------\n",
      "CH\n",
      "I think the answer would very much depend on my own personal circumstances! As a health care worker myself, I would advocate for a system that balances affordability and appropriate renumeration to the workers. To that end, the blended approach by the Swiss would be the most attractive to me, for the following reasons\n",
      "- Application of a universal health insurance system,with government coverage those who cannot afford it. Universal cover creates a social safety net for all citizens, and government support / regulation of insurance company profiteering helps to ensure fees are kept accessible for all.\n",
      "- Requiring patients to co-pay for their insurance/healthcare (if they are able to) creates a social reminder that healthcare is a limited resource, and potentially prevents misuse of the service as described in the NHS/Japanese sections - where patients visit doctors for what sounds like social reasons, or minor issues(do you really need to see a specialist for a 3 minute blood pressure checkup??)\n",
      "- Permitting some profit making on supplemental insurance policies. Although this leads to higher overall costs (2nd most expensive in the world) , it promotes sustainability, particularly in view of the increasing complexity and cost of delivering healthcare. It also allows for appropriate wages to be paid to healthcare workers for delivering highly skilled services (remembering the old axiom \"pay peanuts and we get monkeys\").\n",
      "- \n",
      "Cheers\n",
      "Sing\n",
      "----------------------------------------\n",
      "None\n",
      "fdgdfd\n",
      "----------------------------------------\n",
      "TW\n",
      "Of the five health-care systems discussed in “Sick Around the World”, I was the most intrigued by the Taiwan’s single-payer success story. It is fascinating to see that within the short period of 30 years, Taiwan was able to move from a broken health care system (with over 40% not covered by any form of health insurance) to a national health insurance program approved by majority of the population. Through its single-payer system, many ranks Taiwanese health care to be of high-quality, affordable, accessible and innovative.\n",
      "High-quality care: Taiwan is well-known for its first-class quality of medicine and talent. The health insurance provided is comprehensive providing both inpatient and outpatient care which includes dental care, over-the-counter drugs and traditional Chinese medicine.\n",
      "Impressive access and affordability: Patients can choose services from almost any provider with short wait times and be directed to specialty care without a referral. The premiums are paid for by the government, employers and employees. The share paid by each depends on income, with the low-income paying a smaller proportion compared to the wealthy segment.  \n",
      "Innovative and efficient: The Taiwanese program runs with extraordinary efficiency through a simple smart card system which is aided by its advanced IT infrastructure. The medtech also plays a vital role in transforming care across the health value-chain.\n",
      "Whilst it is not a healthcare system without shortcomings, Taiwan’s system is perceived as the rising star in providing adequate care to citizens.\n",
      "----------------------------------------\n",
      "TW\n",
      "‘Sick Around the World’ framed Taiwan as an obvious choice for good universal healthcare. With the ability to fuse together what worked from different like GDP countries, Taiwan has successfully created a system to be admired. Especially, with its growing acceptance and role of technology\n",
      "There was one primary reason that Taiwan stood out for myself. The NHI IC cards which has a complete history of a patient and their associated medication. For someone, such as myself, who has chronic illnesses and is on a number of medications the ability to have it all together available to any doctor, at any location seems brilliant. This would also prove beneficial in an emergency situation when a patient may not be able to verbalise their allergies or medical history.\n",
      "----------------------------------------\n",
      "TW\n",
      "The obvious answer is the Taiwanese health care system as it takes the best attributes from high performing health systems across the world. But the reason it intrigues me is the use of the health care card with their medical information and billing integrated within it. I would love to find out more about how this works. Is there also a network/cloud based solution for those that don't have a card? What kind of information is stored on the card? Is it also used in the same way as our medi-alert wrist bands?\n",
      "----------------------------------------\n",
      "CH\n",
      "Hi Brian\n",
      "I favour Switzerland's system as my preferred health care provider. It appears more financially robust than Taiwan's system and there was no mention of clinician salary issues like those in Germany. Switzerland's non profit insurance companies competed in other ways to attract and retain customers and this results in a better customer experience - from an administration perspective at least. I thought Taiwan's 'no gatekeeper' approach odd in the sense that I would think vetting patients before seeing a specialist is a better use of everyone's time. There was also room in Switzerland's model for people who wanted and could afford better rooms. This supplemental coverage generates competition which is key for investment and driving better outcomes for patients.\n",
      "regards\n",
      "Briette\n",
      "----------------------------------------\n",
      "UK\n",
      "The doco would have benefited from the Inclusion of a comparison of one of the Scandanavian countries where the populations accept high taxes for universal health care and other social benefits.\n",
      " \n",
      "Having worked in three of the reported countries I would say the Swiss system is best. Few delays at a reasonable price with a social catch net. Although the Taiwanese system appeared very efficient.\n",
      " \n",
      "The UK’s NHS waiting times have improved dramatically over the last 20 years or so but many of the Trusts are essentially bankrupt. Despite the difficulty in registering in a GP practice because they have reached their quota the NHS is a source of national pride.  It would take a brave politician to privatise the system which has been mooted on more than one occasion. Tax for national insurance contributions (which also includes pension contributions) is high. It is a surprise obesity is such a problem given the effort invested in preventative medicine. \n",
      " \n",
      "Notwithstanding overwork and high work related alcohol consumption, Japan is interesting as the health of the society is cultural (diet, exercise, regular GP visits). However, during my time, there were many scandals surrounding medical school entry. I know of people whose tumours were only discovered after seeking a second opinion back home in Australia. \n",
      "----------------------------------------\n",
      "CH\n",
      "I pick Switzerland as the healthcare system  ,\n",
      "the waiting list and services were reasonable, the healthcare workers are not underpaid unlike Germany, the healthcare providers are not financially short like Taiwan or Japan, the insurance companies compete over the services they provide not based on their profit, there is no waste on admin while 5% very reasonable \n",
      "with having the healthcare workers satisfied with their wage , the direct effect is on the patient well being, also it does not cut out the next generation to peruse this as a career which is the demand of future,\n",
      "----------------------------------------\n"
     ]
    }
   ],
   "source": [
    "for choice, text in zip(temp, healthsystem_text):\n",
    "    print(choice)\n",
    "    print(text)\n",
    "    print(\"-\"*40)"
   ]
  },
  {
   "cell_type": "markdown",
   "metadata": {},
   "source": [
    "### Use Pandas and Matplotlib to plot counts"
   ]
  },
  {
   "cell_type": "code",
   "execution_count": 19,
   "metadata": {},
   "outputs": [
    {
     "data": {
      "text/plain": [
       "Text(0.5, 0, 'Counts')"
      ]
     },
     "execution_count": 19,
     "metadata": {},
     "output_type": "execute_result"
    },
    {
     "data": {
      "image/png": "[encoded data removed]",
      "text/plain": [
       "<Figure size 1080x1080 with 1 Axes>"
      ]
     },
     "metadata": {
      "needs_background": "light"
     },
     "output_type": "display_data"
    }
   ],
   "source": [
    "f, axs = plt.subplots(1,figsize=(15,15))\n",
    "pd.DataFrame([x for x in temp])[0].value_counts().head(60).plot.barh(axes=axs)\n",
    "axs.set_xlabel(\"Counts\")\n"
   ]
  },
  {
   "cell_type": "code",
   "execution_count": 20,
   "metadata": {},
   "outputs": [],
   "source": [
    "f.savefig(\"identified_healthsystems.png\")"
   ]
  },
  {
   "cell_type": "code",
   "execution_count": null,
   "metadata": {},
   "outputs": [],
   "source": []
  }
 ],
 "metadata": {
  "kernelspec": {
   "display_name": "Python 3",
   "language": "python",
   "name": "python3"
  },
  "language_info": {
   "codemirror_mode": {
    "name": "ipython",
    "version": 3
   },
   "file_extension": ".py",
   "mimetype": "text/x-python",
   "name": "python",
   "nbconvert_exporter": "python",
   "pygments_lexer": "ipython3",
   "version": "3.7.7"
  }
 },
 "nbformat": 4,
 "nbformat_minor": 4
}

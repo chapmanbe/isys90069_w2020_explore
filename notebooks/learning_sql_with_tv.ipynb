{
 "cells": [
  {
   "cell_type": "markdown",
   "metadata": {},
   "source": [
    "## Example: Seinfeld Food Database\n"
   ]
  },
  {
   "cell_type": "code",
   "execution_count": 1,
   "metadata": {},
   "outputs": [],
   "source": [
    "import ibis\n",
    "import os\n",
    "from IPython.display import display, HTML\n",
    "from markdown import markdown as md\n",
    "DATADIR = \"/home/shared\"\n",
    "from cdsutils.mutils import *\n",
    "from cdsutils.sqlite import *\n",
    "from dminteract.creator.utils import *"
   ]
  },
  {
   "cell_type": "code",
   "execution_count": 2,
   "metadata": {},
   "outputs": [],
   "source": [
    "!cp /home/shared/seinfeld_utf8.sqlite3 ."
   ]
  },
  {
   "cell_type": "code",
   "execution_count": 3,
   "metadata": {},
   "outputs": [
    {
     "data": {
      "text/plain": [
       "['episodes', 'food_types', 'foods', 'foods_episodes']"
      ]
     },
     "execution_count": 3,
     "metadata": {},
     "output_type": "execute_result"
    }
   ],
   "source": [
    "conn = ibis.sqlite.connect(\"./seinfeld_utf8.sqlite3\")\n",
    "conn.list_tables()"
   ]
  },
  {
   "cell_type": "code",
   "execution_count": 4,
   "metadata": {},
   "outputs": [],
   "source": [
    "tft = conn.table(\"food_types\")"
   ]
  },
  {
   "cell_type": "code",
   "execution_count": 5,
   "metadata": {},
   "outputs": [
    {
     "name": "stdout",
     "output_type": "stream",
     "text": [
      "SELECT t0.id, t0.name \n",
      "FROM base.food_types AS t0\n"
     ]
    }
   ],
   "source": [
    "print(ibis.sqlite.compile(tft))"
   ]
  },
  {
   "cell_type": "markdown",
   "metadata": {},
   "source": [
    "## What do these tables look like?\n",
    "### Look at the Schema"
   ]
  },
  {
   "cell_type": "code",
   "execution_count": 6,
   "metadata": {},
   "outputs": [
    {
     "data": {
      "text/html": [
       "<h3>Table: episodes</h3>\n",
       "<p>number of rows=181</p>\n",
       "<h4>Schema</h4>"
      ],
      "text/plain": [
       "<IPython.core.display.HTML object>"
      ]
     },
     "metadata": {},
     "output_type": "display_data"
    },
    {
     "data": {
      "text/html": [
       "\n",
       "<table>\n",
       "   <tr>\n",
       "   \n",
       "        <th style=\"text-align:left\"> id </th>\n",
       "   \n",
       "        <th style=\"text-align:left\"> season </th>\n",
       "   \n",
       "        <th style=\"text-align:left\"> name </th>\n",
       "   \n",
       "   </tr>\n",
       "   \n",
       "        <td style=\"text-align:left\"> int32 </td>\n",
       "   \n",
       "        <td style=\"text-align:left\"> int32 </td>\n",
       "   \n",
       "        <td style=\"text-align:left\"> string </td>\n",
       "   \n",
       "   </tr>\n",
       "</table>"
      ],
      "text/plain": [
       "<IPython.core.display.HTML object>"
      ]
     },
     "metadata": {},
     "output_type": "display_data"
    },
    {
     "data": {
      "text/html": [
       "<h3>Table: food_types</h3>\n",
       "<p>number of rows= 15</p>\n",
       "<h4>Schema</h4>"
      ],
      "text/plain": [
       "<IPython.core.display.HTML object>"
      ]
     },
     "metadata": {},
     "output_type": "display_data"
    },
    {
     "data": {
      "text/html": [
       "\n",
       "<table>\n",
       "   <tr>\n",
       "   \n",
       "        <th style=\"text-align:left\"> id </th>\n",
       "   \n",
       "        <th style=\"text-align:left\"> name </th>\n",
       "   \n",
       "   </tr>\n",
       "   \n",
       "        <td style=\"text-align:left\"> int32 </td>\n",
       "   \n",
       "        <td style=\"text-align:left\"> string </td>\n",
       "   \n",
       "   </tr>\n",
       "</table>"
      ],
      "text/plain": [
       "<IPython.core.display.HTML object>"
      ]
     },
     "metadata": {},
     "output_type": "display_data"
    },
    {
     "data": {
      "text/html": [
       "<h3>Table: foods</h3>\n",
       "<p>number of rows=412</p>\n",
       "<h4>Schema</h4>"
      ],
      "text/plain": [
       "<IPython.core.display.HTML object>"
      ]
     },
     "metadata": {},
     "output_type": "display_data"
    },
    {
     "data": {
      "text/html": [
       "\n",
       "<table>\n",
       "   <tr>\n",
       "   \n",
       "        <th style=\"text-align:left\"> id </th>\n",
       "   \n",
       "        <th style=\"text-align:left\"> type_id </th>\n",
       "   \n",
       "        <th style=\"text-align:left\"> name </th>\n",
       "   \n",
       "   </tr>\n",
       "   \n",
       "        <td style=\"text-align:left\"> int32 </td>\n",
       "   \n",
       "        <td style=\"text-align:left\"> int32 </td>\n",
       "   \n",
       "        <td style=\"text-align:left\"> string </td>\n",
       "   \n",
       "   </tr>\n",
       "</table>"
      ],
      "text/plain": [
       "<IPython.core.display.HTML object>"
      ]
     },
     "metadata": {},
     "output_type": "display_data"
    },
    {
     "data": {
      "text/html": [
       "<h3>Table: foods_episodes</h3>\n",
       "<p>number of rows=502</p>\n",
       "<h4>Schema</h4>"
      ],
      "text/plain": [
       "<IPython.core.display.HTML object>"
      ]
     },
     "metadata": {},
     "output_type": "display_data"
    },
    {
     "data": {
      "text/html": [
       "\n",
       "<table>\n",
       "   <tr>\n",
       "   \n",
       "        <th style=\"text-align:left\"> food_id </th>\n",
       "   \n",
       "        <th style=\"text-align:left\"> episode_id </th>\n",
       "   \n",
       "   </tr>\n",
       "   \n",
       "        <td style=\"text-align:left\"> int32 </td>\n",
       "   \n",
       "        <td style=\"text-align:left\"> int32 </td>\n",
       "   \n",
       "   </tr>\n",
       "</table>"
      ],
      "text/plain": [
       "<IPython.core.display.HTML object>"
      ]
     },
     "metadata": {},
     "output_type": "display_data"
    }
   ],
   "source": [
    "for t in conn.list_tables():\n",
    "    tbl = conn.table(t)\n",
    "    nrows = tbl.count().execute()\n",
    "    display(HTML(md(\"### Table: %s\\n\\nnumber of rows=%3d\\n####Schema\"%(t, nrows))))\n",
    "    display(view_dict(tbl.schema(), vertical=False))"
   ]
  },
  {
   "cell_type": "markdown",
   "metadata": {},
   "source": [
    "### Look at the actual data"
   ]
  },
  {
   "cell_type": "markdown",
   "metadata": {},
   "source": [
    "# Putting Data Back Together\n",
    "\n",
    "Since this is a relational database, data has been split across tables so that the data is in __First Normal Form__. To make the data useful we have to put the data back together with __joins__.\n",
    "\n",
    "## Example: _What Food is in Each Episode?_\n",
    "\n",
    "### What tables do we need to put together?\n",
    "\n",
    "- `foods_episodes`: lists `food_id` and `episode_id`\n",
    "\n",
    "Let's try joining `food` with `food_id` so we can see the names of the food\n",
    "\n",
    "#### Problem!\n",
    "\n",
    "Before we start, we need to recognize that we've got a problem. The columns in the tables have overlapping names:\n",
    "\n",
    "- Every table has a column named `id`\n",
    "- `foods`, `episodes` and `food_types` all have columns named `name`"
   ]
  },
  {
   "cell_type": "markdown",
   "metadata": {},
   "source": [
    "#### Create table objects for our two tables"
   ]
  },
  {
   "cell_type": "code",
   "execution_count": 7,
   "metadata": {},
   "outputs": [],
   "source": [
    "tf = conn.table(\"foods\")\n",
    "tfe = conn.table(\"foods_episodes\")"
   ]
  },
  {
   "cell_type": "markdown",
   "metadata": {},
   "source": [
    "### Join the tables\n",
    "\n",
    "To join the tables we use the `join` method for which we need to specify which columns in each table refer to each other. For example `food_id` in `foods_episodes` refers to `id` in `foods`.\n",
    "\n",
    "Both tables have a column named `id` so we will either have to discard one or both of them or rename one or both of them. To start with let's just discard the `id` columns. We will do this by specifically listing what columns to keep. "
   ]
  },
  {
   "cell_type": "code",
   "execution_count": 8,
   "metadata": {},
   "outputs": [
    {
     "data": {
      "application/vnd.jupyter.widget-view+json": {
       "model_id": "276221af17fc4722bf03f292527525cb",
       "version_major": 2,
       "version_minor": 0
      },
      "text/plain": [
       "interactive(children=(IntSlider(value=0, description='start', max=502), Output()), _dom_classes=('widget-inter…"
      ]
     },
     "metadata": {},
     "output_type": "display_data"
    }
   ],
   "source": [
    "tnew = tfe.join(tf, tfe.food_id==tf.id).projection([tf.name, tfe.episode_id])\n",
    "itview(tnew)"
   ]
  },
  {
   "cell_type": "markdown",
   "metadata": {},
   "source": [
    "#### Only Half way there\n",
    "\n",
    "To make this useful, we still need to replace episode_id with something more useful. We need to join with `episodes`. `episode_id` refers to `id` in `episodes`.\n",
    "\n",
    "Now we have to face the overlapping names, namely `name`. We can use the `name()` method to rename columns."
   ]
  },
  {
   "cell_type": "code",
   "execution_count": 9,
   "metadata": {},
   "outputs": [
    {
     "data": {
      "application/vnd.jupyter.widget-view+json": {
       "model_id": "a89ce6551a3441ccacb530c2075197e6",
       "version_major": 2,
       "version_minor": 0
      },
      "text/plain": [
       "interactive(children=(IntSlider(value=0, description='start', max=502), Output()), _dom_classes=('widget-inter…"
      ]
     },
     "metadata": {},
     "output_type": "display_data"
    }
   ],
   "source": [
    "tf = conn.table(\"foods\")\n",
    "tfe = conn.table(\"foods_episodes\")\n",
    "te = conn.table(\"episodes\")\n",
    "\n",
    "\n",
    "tnew = tfe.join(tf, tfe.food_id==tf.id).join(te, tfe.episode_id==te.id).projection([tf.name, te.name.name(\"episode_name\"), tfe.episode_id, te.season])\n",
    "itview(tnew)"
   ]
  },
  {
   "cell_type": "code",
   "execution_count": 10,
   "metadata": {},
   "outputs": [
    {
     "data": {
      "text/plain": [
       "(140, 140)"
      ]
     },
     "execution_count": 10,
     "metadata": {},
     "output_type": "execute_result"
    }
   ],
   "source": [
    "tnew.episode_id.distinct().count().execute(), tnew.episode_name.distinct().count().execute()"
   ]
  },
  {
   "cell_type": "markdown",
   "metadata": {},
   "source": [
    "## A Note on Line breaks in Python\n",
    "\n",
    "The line above where we define `tnew` was very long, hence unreadable, and poor style. So we want to break the line up. However, Python is sensitive to indentation, so you to have careful with how lines are broken up. Here are two different ways we can break the lines up."
   ]
  },
  {
   "cell_type": "code",
   "execution_count": 11,
   "metadata": {},
   "outputs": [],
   "source": [
    "tnew = tfe.join(\n",
    "    tf, tfe.food_id==tf.id).join(\n",
    "        te, tfe.episode_id==te.id).projection(\n",
    "            [tf.name, te.name.name(\"episode_name\"), \n",
    "             tfe.episode_id, te.season])\n"
   ]
  },
  {
   "cell_type": "code",
   "execution_count": 12,
   "metadata": {},
   "outputs": [],
   "source": [
    "tnew = tfe\\\n",
    ".join(tf, tfe.food_id==tf.id)\\\n",
    ".join(te, tfe.episode_id==te.id)\\\n",
    ".projection([tf.name, te.name.name(\"episode_name\"), \n",
    "             tfe.episode_id, te.season])"
   ]
  },
  {
   "cell_type": "markdown",
   "metadata": {},
   "source": [
    "__I kept both `tfe.episode_id` and `te.id` to demonstrate that they really are the same__\n",
    "\n",
    "#### What are we still missing?\n",
    "\n",
    "- The type of food\n",
    "- `join` with `food_types`\n",
    "    - `foods.type_id` refers to `food_types.id`\n",
    "    - rename `food_types.name` to `food_category`"
   ]
  },
  {
   "cell_type": "code",
   "execution_count": 13,
   "metadata": {},
   "outputs": [
    {
     "data": {
      "application/vnd.jupyter.widget-view+json": {
       "model_id": "010c05b2a0964dad8859d7e8f54ec5eb",
       "version_major": 2,
       "version_minor": 0
      },
      "text/plain": [
       "interactive(children=(IntSlider(value=0, description='start', max=502), Output()), _dom_classes=('widget-inter…"
      ]
     },
     "metadata": {},
     "output_type": "display_data"
    }
   ],
   "source": [
    "tf = conn.table(\"foods\")\n",
    "tfe = conn.table(\"foods_episodes\")\n",
    "te = conn.table(\"episodes\")\n",
    "tft = conn.table(\"food_types\")\n",
    "\n",
    "tnew = tfe.join(tf, tfe.food_id==tf.id)\\\n",
    ".join(te, tfe.episode_id==te.id)\\\n",
    ".join(tft, tft.id==tf.type_id)\\\n",
    ".projection(\n",
    "    [tf.name, tft.name.name(\"food_category\"),\n",
    "     te.name.name(\"episode_name\"), \n",
    "     tfe.episode_id, te.season, ])\n",
    "itview(tnew)"
   ]
  },
  {
   "cell_type": "markdown",
   "metadata": {},
   "source": [
    "#### `sort`\n",
    "\n",
    "The order of our results seem less than ideal. We can sort our results using the `sort` method. `name` also seems too generic, so let's rename it to `food_name`."
   ]
  },
  {
   "cell_type": "code",
   "execution_count": 14,
   "metadata": {},
   "outputs": [],
   "source": [
    "tfe = conn.table(\"foods_episodes\")\n",
    "tf = conn.table(\"foods\")\n",
    "te = conn.table(\"episodes\")\n",
    "tft = conn.table(\"food_types\")\n",
    "tnew = te.join(tfe, tfe.episode_id== te.id)\\\n",
    ".join(tf, tfe.food_id==tf.id)\\\n",
    ".join(tft, tf.type_id==tft.id)\\\n",
    ".projection(\n",
    "    [tf.name.name(\"food_name\"),\n",
    "     tft.name.name(\"food_category\"),\n",
    "     te.name.name(\"episode_name\"), \n",
    "     tfe.episode_id, \n",
    "     te.season]).sort_by(\"episode_id\")"
   ]
  },
  {
   "cell_type": "code",
   "execution_count": 15,
   "metadata": {},
   "outputs": [
    {
     "data": {
      "application/vnd.jupyter.widget-view+json": {
       "model_id": "2b307bfc8058468c82249920dad5740d",
       "version_major": 2,
       "version_minor": 0
      },
      "text/plain": [
       "interactive(children=(IntSlider(value=0, description='start', max=502), Output()), _dom_classes=('widget-inter…"
      ]
     },
     "metadata": {},
     "output_type": "display_data"
    }
   ],
   "source": [
    "itview(tnew)"
   ]
  },
  {
   "cell_type": "markdown",
   "metadata": {},
   "source": [
    "# Filtering Data (`filter`/ SQL WHERE)\n",
    "\n",
    "Now that we know how to put things together, we need to look at how to keep the parts we are interested in and discarding the rest. In Ibis this is [`filtering`](https://docs.ibis-project.org/notebooks/tutorial/2-Basics-Aggregate-Filter-Limit.html#Filtering) (corresponding to [`WHERE`](https://bit.ly/2Nv927e) in SQL).\n",
    "\n",
    "We execute a filter by passing a list of expressions that evaluate to True or False.\n",
    "\n",
    "__*Very Important Note*__: In Python if I want to ask if two things are equal, the symbol is __`==`__. A single __`=`__ is an assignment statement, not a question about equality.\n",
    "\n",
    "#### Example\n",
    "\n",
    "Select all the rows that include `Junkfood`"
   ]
  },
  {
   "cell_type": "code",
   "execution_count": 16,
   "metadata": {},
   "outputs": [
    {
     "data": {
      "application/vnd.jupyter.widget-view+json": {
       "model_id": "d44af9253de74c4583d57fdd60814626",
       "version_major": 2,
       "version_minor": 0
      },
      "text/plain": [
       "interactive(children=(IntSlider(value=0, description='start', max=69), Output()), _dom_classes=('widget-intera…"
      ]
     },
     "metadata": {},
     "output_type": "display_data"
    }
   ],
   "source": [
    "itview(tnew.filter([tnew.food_category == \"Junkfood\"]))"
   ]
  },
  {
   "cell_type": "code",
   "execution_count": 17,
   "metadata": {},
   "outputs": [
    {
     "data": {
      "application/vnd.jupyter.widget-view+json": {
       "model_id": "bc104314b35a41a29560c1505db51e5c",
       "version_major": 2,
       "version_minor": 0
      },
      "text/plain": [
       "interactive(children=(IntSlider(value=0, description='start', max=30), Output()), _dom_classes=('widget-intera…"
      ]
     },
     "metadata": {},
     "output_type": "display_data"
    }
   ],
   "source": [
    "itview(tnew.filter([tnew.food_category == \"Junkfood\",\n",
    "                    tnew.season < 6]))"
   ]
  },
  {
   "cell_type": "markdown",
   "metadata": {},
   "source": [
    "### More Filters\n",
    "\n",
    "This dataset is relatively simple in that there are only two types of data:\n",
    "\n",
    "- Integers (e.g. `episode_id`, `season`)\n",
    "- Strings (e.g. `food_name`, `food_category`)\n",
    "\n",
    "Filtering with integers is straightroward (e.g. ==, >, <)\n",
    "\n",
    "Filtering with strings is more complex.\n",
    "\n",
    "#### Filtering with Strings: Partial Matching\n",
    "\n",
    "- __Strings are case sensitive:__ \"Mint\" is not equal to \"mint\"\n",
    "    - __Tip__: Consider convert everything to uppercase or lowercase\n",
    "- __Pattern Matching:__ A variety of options here\n",
    "    - `contains()`\n",
    "        - Does the string contain the \n",
    "    - `like`\n",
    "        - This uses wildcard matches: \n",
    "            - **_** matches any one character\n",
    "            - __%__ matches any one OR MORE character(s)\n",
    "    - `rlike`\n",
    "        - This uses regular expressions. Regular expressions are VERY powerful and VERY trick and so VERY frustrating\n",
    "        - For those who are interested, I'll provide regular expression  materials later."
   ]
  },
  {
   "cell_type": "markdown",
   "metadata": {},
   "source": [
    "#### Example: Finding Minty Foods"
   ]
  },
  {
   "cell_type": "code",
   "execution_count": 18,
   "metadata": {},
   "outputs": [
    {
     "data": {
      "text/html": [
       "<div>\n",
       "<style scoped>\n",
       "    .dataframe tbody tr th:only-of-type {\n",
       "        vertical-align: middle;\n",
       "    }\n",
       "\n",
       "    .dataframe tbody tr th {\n",
       "        vertical-align: top;\n",
       "    }\n",
       "\n",
       "    .dataframe thead th {\n",
       "        text-align: right;\n",
       "    }\n",
       "</style>\n",
       "<table border=\"1\" class=\"dataframe\">\n",
       "  <thead>\n",
       "    <tr style=\"text-align: right;\">\n",
       "      <th></th>\n",
       "      <th>food_name</th>\n",
       "      <th>food_category</th>\n",
       "      <th>episode_name</th>\n",
       "      <th>episode_id</th>\n",
       "      <th>season</th>\n",
       "    </tr>\n",
       "  </thead>\n",
       "  <tbody>\n",
       "    <tr>\n",
       "      <th>0</th>\n",
       "      <td>Doublemint Gum</td>\n",
       "      <td>Junkfood</td>\n",
       "      <td>The Pie</td>\n",
       "      <td>78</td>\n",
       "      <td>5</td>\n",
       "    </tr>\n",
       "  </tbody>\n",
       "</table>\n",
       "</div>"
      ],
      "text/plain": [
       "        food_name food_category episode_name  episode_id  season\n",
       "0  Doublemint Gum      Junkfood      The Pie          78       5"
      ]
     },
     "execution_count": 18,
     "metadata": {},
     "output_type": "execute_result"
    }
   ],
   "source": [
    "tnew.filter([tnew.food_name.contains(\"mint\")]).execute()"
   ]
  },
  {
   "cell_type": "code",
   "execution_count": 19,
   "metadata": {},
   "outputs": [
    {
     "data": {
      "text/html": [
       "<div>\n",
       "<style scoped>\n",
       "    .dataframe tbody tr th:only-of-type {\n",
       "        vertical-align: middle;\n",
       "    }\n",
       "\n",
       "    .dataframe tbody tr th {\n",
       "        vertical-align: top;\n",
       "    }\n",
       "\n",
       "    .dataframe thead th {\n",
       "        text-align: right;\n",
       "    }\n",
       "</style>\n",
       "<table border=\"1\" class=\"dataframe\">\n",
       "  <thead>\n",
       "    <tr style=\"text-align: right;\">\n",
       "      <th></th>\n",
       "      <th>food_name</th>\n",
       "      <th>food_category</th>\n",
       "      <th>episode_name</th>\n",
       "      <th>episode_id</th>\n",
       "      <th>season</th>\n",
       "    </tr>\n",
       "  </thead>\n",
       "  <tbody>\n",
       "    <tr>\n",
       "      <th>0</th>\n",
       "      <td>Mints</td>\n",
       "      <td>Junkfood</td>\n",
       "      <td>The Trip 1</td>\n",
       "      <td>40</td>\n",
       "      <td>4</td>\n",
       "    </tr>\n",
       "    <tr>\n",
       "      <th>1</th>\n",
       "      <td>Junior Mints</td>\n",
       "      <td>Junkfood</td>\n",
       "      <td>The Junior Mint</td>\n",
       "      <td>59</td>\n",
       "      <td>4</td>\n",
       "    </tr>\n",
       "    <tr>\n",
       "      <th>2</th>\n",
       "      <td>Doublemint Gum</td>\n",
       "      <td>Junkfood</td>\n",
       "      <td>The Pie</td>\n",
       "      <td>78</td>\n",
       "      <td>5</td>\n",
       "    </tr>\n",
       "    <tr>\n",
       "      <th>3</th>\n",
       "      <td>Chocolate Chip Mint</td>\n",
       "      <td>Junkfood</td>\n",
       "      <td>The Wait Out</td>\n",
       "      <td>132</td>\n",
       "      <td>7</td>\n",
       "    </tr>\n",
       "    <tr>\n",
       "      <th>4</th>\n",
       "      <td>Mints</td>\n",
       "      <td>Junkfood</td>\n",
       "      <td>The Cartoon</td>\n",
       "      <td>168</td>\n",
       "      <td>9</td>\n",
       "    </tr>\n",
       "  </tbody>\n",
       "</table>\n",
       "</div>"
      ],
      "text/plain": [
       "             food_name food_category     episode_name  episode_id  season\n",
       "0                Mints      Junkfood       The Trip 1          40       4\n",
       "1         Junior Mints      Junkfood  The Junior Mint          59       4\n",
       "2       Doublemint Gum      Junkfood          The Pie          78       5\n",
       "3  Chocolate Chip Mint      Junkfood     The Wait Out         132       7\n",
       "4                Mints      Junkfood      The Cartoon         168       9"
      ]
     },
     "execution_count": 19,
     "metadata": {},
     "output_type": "execute_result"
    }
   ],
   "source": [
    "tnew.filter([tnew.food_name.lower().contains(\"mint\")]).execute()"
   ]
  },
  {
   "cell_type": "markdown",
   "metadata": {},
   "source": [
    "#### Example: Like\n",
    "\n",
    "Find all foods that start with \"P\" in season 5."
   ]
  },
  {
   "cell_type": "code",
   "execution_count": 20,
   "metadata": {},
   "outputs": [
    {
     "data": {
      "text/html": [
       "<div>\n",
       "<style scoped>\n",
       "    .dataframe tbody tr th:only-of-type {\n",
       "        vertical-align: middle;\n",
       "    }\n",
       "\n",
       "    .dataframe tbody tr th {\n",
       "        vertical-align: top;\n",
       "    }\n",
       "\n",
       "    .dataframe thead th {\n",
       "        text-align: right;\n",
       "    }\n",
       "</style>\n",
       "<table border=\"1\" class=\"dataframe\">\n",
       "  <thead>\n",
       "    <tr style=\"text-align: right;\">\n",
       "      <th></th>\n",
       "      <th>food_name</th>\n",
       "      <th>food_category</th>\n",
       "      <th>episode_name</th>\n",
       "      <th>episode_id</th>\n",
       "      <th>season</th>\n",
       "    </tr>\n",
       "  </thead>\n",
       "  <tbody>\n",
       "    <tr>\n",
       "      <th>0</th>\n",
       "      <td>Papaya</td>\n",
       "      <td>Fruit</td>\n",
       "      <td>The Mango</td>\n",
       "      <td>64</td>\n",
       "      <td>5</td>\n",
       "    </tr>\n",
       "    <tr>\n",
       "      <th>1</th>\n",
       "      <td>Peaches</td>\n",
       "      <td>Fruit</td>\n",
       "      <td>The Mango</td>\n",
       "      <td>64</td>\n",
       "      <td>5</td>\n",
       "    </tr>\n",
       "    <tr>\n",
       "      <th>2</th>\n",
       "      <td>Plantains</td>\n",
       "      <td>Fruit</td>\n",
       "      <td>The Mango</td>\n",
       "      <td>64</td>\n",
       "      <td>5</td>\n",
       "    </tr>\n",
       "    <tr>\n",
       "      <th>3</th>\n",
       "      <td>Plumbs</td>\n",
       "      <td>Fruit</td>\n",
       "      <td>The Mango</td>\n",
       "      <td>64</td>\n",
       "      <td>5</td>\n",
       "    </tr>\n",
       "    <tr>\n",
       "      <th>4</th>\n",
       "      <td>Papaya</td>\n",
       "      <td>Fruit</td>\n",
       "      <td>The Glasses</td>\n",
       "      <td>66</td>\n",
       "      <td>5</td>\n",
       "    </tr>\n",
       "    <tr>\n",
       "      <th>5</th>\n",
       "      <td>Pizza</td>\n",
       "      <td>Rice/Pasta</td>\n",
       "      <td>The Sniffing Accountant</td>\n",
       "      <td>67</td>\n",
       "      <td>5</td>\n",
       "    </tr>\n",
       "    <tr>\n",
       "      <th>6</th>\n",
       "      <td>Pea Soup</td>\n",
       "      <td>Soup</td>\n",
       "      <td>The Lip Reader</td>\n",
       "      <td>69</td>\n",
       "      <td>5</td>\n",
       "    </tr>\n",
       "    <tr>\n",
       "      <th>7</th>\n",
       "      <td>Peas</td>\n",
       "      <td>Vegetables</td>\n",
       "      <td>The Lip Reader</td>\n",
       "      <td>69</td>\n",
       "      <td>5</td>\n",
       "    </tr>\n",
       "    <tr>\n",
       "      <th>8</th>\n",
       "      <td>Prune Juice</td>\n",
       "      <td>Drinks</td>\n",
       "      <td>The Cigar Store Indian</td>\n",
       "      <td>73</td>\n",
       "      <td>5</td>\n",
       "    </tr>\n",
       "    <tr>\n",
       "      <th>9</th>\n",
       "      <td>Pie</td>\n",
       "      <td>Bakery</td>\n",
       "      <td>The Stall</td>\n",
       "      <td>75</td>\n",
       "      <td>5</td>\n",
       "    </tr>\n",
       "    <tr>\n",
       "      <th>10</th>\n",
       "      <td>Peanut Butter</td>\n",
       "      <td>Sandwiches</td>\n",
       "      <td>The Stall</td>\n",
       "      <td>75</td>\n",
       "      <td>5</td>\n",
       "    </tr>\n",
       "    <tr>\n",
       "      <th>11</th>\n",
       "      <td>Pepsi</td>\n",
       "      <td>Drinks</td>\n",
       "      <td>The Dinner Party</td>\n",
       "      <td>76</td>\n",
       "      <td>5</td>\n",
       "    </tr>\n",
       "    <tr>\n",
       "      <th>12</th>\n",
       "      <td>Pancakes</td>\n",
       "      <td>Cereal</td>\n",
       "      <td>The Wife</td>\n",
       "      <td>80</td>\n",
       "      <td>5</td>\n",
       "    </tr>\n",
       "    <tr>\n",
       "      <th>13</th>\n",
       "      <td>Paella</td>\n",
       "      <td>Rice/Pasta</td>\n",
       "      <td>The Raincoats 1</td>\n",
       "      <td>81</td>\n",
       "      <td>5</td>\n",
       "    </tr>\n",
       "    <tr>\n",
       "      <th>14</th>\n",
       "      <td>Pertussin with Club Soda</td>\n",
       "      <td>Drinks</td>\n",
       "      <td>The Hamptons</td>\n",
       "      <td>84</td>\n",
       "      <td>5</td>\n",
       "    </tr>\n",
       "    <tr>\n",
       "      <th>15</th>\n",
       "      <td>Popcorn</td>\n",
       "      <td>Junkfood</td>\n",
       "      <td>The Opposite</td>\n",
       "      <td>85</td>\n",
       "      <td>5</td>\n",
       "    </tr>\n",
       "    <tr>\n",
       "      <th>16</th>\n",
       "      <td>Potato Salad</td>\n",
       "      <td>Vegetables</td>\n",
       "      <td>The Opposite</td>\n",
       "      <td>85</td>\n",
       "      <td>5</td>\n",
       "    </tr>\n",
       "  </tbody>\n",
       "</table>\n",
       "</div>"
      ],
      "text/plain": [
       "                   food_name food_category             episode_name  \\\n",
       "0                     Papaya         Fruit                The Mango   \n",
       "1                    Peaches         Fruit                The Mango   \n",
       "2                  Plantains         Fruit                The Mango   \n",
       "3                     Plumbs         Fruit                The Mango   \n",
       "4                     Papaya         Fruit              The Glasses   \n",
       "5                      Pizza    Rice/Pasta  The Sniffing Accountant   \n",
       "6                   Pea Soup          Soup           The Lip Reader   \n",
       "7                       Peas    Vegetables           The Lip Reader   \n",
       "8                Prune Juice        Drinks   The Cigar Store Indian   \n",
       "9                        Pie        Bakery                The Stall   \n",
       "10             Peanut Butter    Sandwiches                The Stall   \n",
       "11                     Pepsi        Drinks         The Dinner Party   \n",
       "12                  Pancakes        Cereal                 The Wife   \n",
       "13                    Paella    Rice/Pasta          The Raincoats 1   \n",
       "14  Pertussin with Club Soda        Drinks             The Hamptons   \n",
       "15                   Popcorn      Junkfood             The Opposite   \n",
       "16              Potato Salad    Vegetables             The Opposite   \n",
       "\n",
       "    episode_id  season  \n",
       "0           64       5  \n",
       "1           64       5  \n",
       "2           64       5  \n",
       "3           64       5  \n",
       "4           66       5  \n",
       "5           67       5  \n",
       "6           69       5  \n",
       "7           69       5  \n",
       "8           73       5  \n",
       "9           75       5  \n",
       "10          75       5  \n",
       "11          76       5  \n",
       "12          80       5  \n",
       "13          81       5  \n",
       "14          84       5  \n",
       "15          85       5  \n",
       "16          85       5  "
      ]
     },
     "execution_count": 20,
     "metadata": {},
     "output_type": "execute_result"
    }
   ],
   "source": [
    "tnew.filter([tnew.food_name.like(\"P%\"),tnew.season==5]).execute()"
   ]
  },
  {
   "cell_type": "markdown",
   "metadata": {},
   "source": [
    "### Negating Filters\n",
    "\n",
    "- You can negate a filter by prepending it with a negative sign (__-__)"
   ]
  },
  {
   "cell_type": "code",
   "execution_count": 21,
   "metadata": {},
   "outputs": [
    {
     "data": {
      "text/html": [
       "<div>\n",
       "<style scoped>\n",
       "    .dataframe tbody tr th:only-of-type {\n",
       "        vertical-align: middle;\n",
       "    }\n",
       "\n",
       "    .dataframe tbody tr th {\n",
       "        vertical-align: top;\n",
       "    }\n",
       "\n",
       "    .dataframe thead th {\n",
       "        text-align: right;\n",
       "    }\n",
       "</style>\n",
       "<table border=\"1\" class=\"dataframe\">\n",
       "  <thead>\n",
       "    <tr style=\"text-align: right;\">\n",
       "      <th></th>\n",
       "      <th>food_name</th>\n",
       "      <th>food_category</th>\n",
       "      <th>episode_name</th>\n",
       "      <th>episode_id</th>\n",
       "      <th>season</th>\n",
       "    </tr>\n",
       "  </thead>\n",
       "  <tbody>\n",
       "    <tr>\n",
       "      <th>0</th>\n",
       "      <td>Avacado</td>\n",
       "      <td>Fruit</td>\n",
       "      <td>The Mango</td>\n",
       "      <td>64</td>\n",
       "      <td>5</td>\n",
       "    </tr>\n",
       "    <tr>\n",
       "      <th>1</th>\n",
       "      <td>Cantaloupe</td>\n",
       "      <td>Fruit</td>\n",
       "      <td>The Mango</td>\n",
       "      <td>64</td>\n",
       "      <td>5</td>\n",
       "    </tr>\n",
       "    <tr>\n",
       "      <th>2</th>\n",
       "      <td>Mangos</td>\n",
       "      <td>Fruit</td>\n",
       "      <td>The Mango</td>\n",
       "      <td>64</td>\n",
       "      <td>5</td>\n",
       "    </tr>\n",
       "    <tr>\n",
       "      <th>3</th>\n",
       "      <td>Rissoto</td>\n",
       "      <td>Rice/Pasta</td>\n",
       "      <td>The Mango</td>\n",
       "      <td>64</td>\n",
       "      <td>5</td>\n",
       "    </tr>\n",
       "    <tr>\n",
       "      <th>4</th>\n",
       "      <td>Grilled Cheese</td>\n",
       "      <td>Sandwiches</td>\n",
       "      <td>The Mango</td>\n",
       "      <td>64</td>\n",
       "      <td>5</td>\n",
       "    </tr>\n",
       "    <tr>\n",
       "      <th>...</th>\n",
       "      <td>...</td>\n",
       "      <td>...</td>\n",
       "      <td>...</td>\n",
       "      <td>...</td>\n",
       "      <td>...</td>\n",
       "    </tr>\n",
       "    <tr>\n",
       "      <th>57</th>\n",
       "      <td>Bologna</td>\n",
       "      <td>Sandwiches</td>\n",
       "      <td>The Opposite</td>\n",
       "      <td>85</td>\n",
       "      <td>5</td>\n",
       "    </tr>\n",
       "    <tr>\n",
       "      <th>58</th>\n",
       "      <td>Chicken Salad on Rye</td>\n",
       "      <td>Sandwiches</td>\n",
       "      <td>The Opposite</td>\n",
       "      <td>85</td>\n",
       "      <td>5</td>\n",
       "    </tr>\n",
       "    <tr>\n",
       "      <th>59</th>\n",
       "      <td>Tuna on toast</td>\n",
       "      <td>Sandwiches</td>\n",
       "      <td>The Opposite</td>\n",
       "      <td>85</td>\n",
       "      <td>5</td>\n",
       "    </tr>\n",
       "    <tr>\n",
       "      <th>60</th>\n",
       "      <td>Salmon</td>\n",
       "      <td>Seafood</td>\n",
       "      <td>The Opposite</td>\n",
       "      <td>85</td>\n",
       "      <td>5</td>\n",
       "    </tr>\n",
       "    <tr>\n",
       "      <th>61</th>\n",
       "      <td>Cole Slaw</td>\n",
       "      <td>Vegetables</td>\n",
       "      <td>The Opposite</td>\n",
       "      <td>85</td>\n",
       "      <td>5</td>\n",
       "    </tr>\n",
       "  </tbody>\n",
       "</table>\n",
       "<p>62 rows × 5 columns</p>\n",
       "</div>"
      ],
      "text/plain": [
       "               food_name food_category  episode_name  episode_id  season\n",
       "0                Avacado         Fruit     The Mango          64       5\n",
       "1             Cantaloupe         Fruit     The Mango          64       5\n",
       "2                 Mangos         Fruit     The Mango          64       5\n",
       "3                Rissoto    Rice/Pasta     The Mango          64       5\n",
       "4         Grilled Cheese    Sandwiches     The Mango          64       5\n",
       "..                   ...           ...           ...         ...     ...\n",
       "57               Bologna    Sandwiches  The Opposite          85       5\n",
       "58  Chicken Salad on Rye    Sandwiches  The Opposite          85       5\n",
       "59         Tuna on toast    Sandwiches  The Opposite          85       5\n",
       "60                Salmon       Seafood  The Opposite          85       5\n",
       "61             Cole Slaw    Vegetables  The Opposite          85       5\n",
       "\n",
       "[62 rows x 5 columns]"
      ]
     },
     "execution_count": 21,
     "metadata": {},
     "output_type": "execute_result"
    }
   ],
   "source": [
    "tnew.filter([-tnew.food_name.like(\"P%\"),tnew.season==5]).execute()"
   ]
  },
  {
   "cell_type": "markdown",
   "metadata": {},
   "source": [
    "### Introducing `count`\n",
    "\n",
    "Often times we just want to see how many rows there are that match a condition.\n",
    "\n",
    "Ibis provides a `count` method that will count the number of resuslting rows.\n",
    "\n",
    "So what if we want to count the number of foods with a capital `P`."
   ]
  },
  {
   "cell_type": "code",
   "execution_count": 22,
   "metadata": {},
   "outputs": [
    {
     "data": {
      "text/plain": [
       "29"
      ]
     },
     "execution_count": 22,
     "metadata": {},
     "output_type": "execute_result"
    }
   ],
   "source": [
    "tnew.filter([tnew.food_name.like(\"%P%\"),tnew.season==5]).count().execute()"
   ]
  },
  {
   "cell_type": "markdown",
   "metadata": {},
   "source": [
    "### What if we want to see how many `p`s there are, upper or lower?\n",
    "\n",
    "Remember we have the `upper` and `lower` methods to convert strings to uppercase or lowercase."
   ]
  },
  {
   "cell_type": "code",
   "execution_count": 23,
   "metadata": {},
   "outputs": [
    {
     "data": {
      "text/plain": [
       "29"
      ]
     },
     "execution_count": 23,
     "metadata": {},
     "output_type": "execute_result"
    }
   ],
   "source": [
    "tnew.filter([tnew.food_name.upper().like(\"%P%\"),tnew.season==5]).count().execute()"
   ]
  },
  {
   "cell_type": "code",
   "execution_count": 24,
   "metadata": {},
   "outputs": [
    {
     "data": {
      "application/vnd.jupyter.widget-view+json": {
       "model_id": "e97436cb40e94dbeb91d2e25b55cdfea",
       "version_major": 2,
       "version_minor": 0
      },
      "text/plain": [
       "TFWidget(children=(Label(value='Question'), HTML(value='<p>The best explanation of what just happened is that …"
      ]
     },
     "metadata": {},
     "output_type": "display_data"
    }
   ],
   "source": [
    "for w in create_question_bank(\"day1_bec.yaml\", tag=\"ibis, food, case\"):\n",
    "    display(w)"
   ]
  },
  {
   "cell_type": "markdown",
   "metadata": {},
   "source": [
    "### `AND` and `OR`\n",
    "\n",
    "Providing multiple filters acts like a logical `AND`:\n",
    "\n",
    "\"Show me all the rows where `food_name` has a `P` __AND__ the eposide is in season 6.\"\n",
    "\n",
    "So if I provide two mutually exclusive filters, I will get no results.\n",
    "\n",
    "\"Show me all the rows where an episode is in season 5 __AND__ the episode is in season 6.\""
   ]
  },
  {
   "cell_type": "code",
   "execution_count": 25,
   "metadata": {},
   "outputs": [
    {
     "data": {
      "text/html": [
       "<div>\n",
       "<style scoped>\n",
       "    .dataframe tbody tr th:only-of-type {\n",
       "        vertical-align: middle;\n",
       "    }\n",
       "\n",
       "    .dataframe tbody tr th {\n",
       "        vertical-align: top;\n",
       "    }\n",
       "\n",
       "    .dataframe thead th {\n",
       "        text-align: right;\n",
       "    }\n",
       "</style>\n",
       "<table border=\"1\" class=\"dataframe\">\n",
       "  <thead>\n",
       "    <tr style=\"text-align: right;\">\n",
       "      <th></th>\n",
       "      <th>food_name</th>\n",
       "      <th>food_category</th>\n",
       "      <th>episode_name</th>\n",
       "      <th>episode_id</th>\n",
       "      <th>season</th>\n",
       "    </tr>\n",
       "  </thead>\n",
       "  <tbody>\n",
       "  </tbody>\n",
       "</table>\n",
       "</div>"
      ],
      "text/plain": [
       "Empty DataFrame\n",
       "Columns: [food_name, food_category, episode_name, episode_id, season]\n",
       "Index: []"
      ]
     },
     "execution_count": 25,
     "metadata": {},
     "output_type": "execute_result"
    }
   ],
   "source": [
    "tnew.filter([tnew.season==5,tnew.season==6]).execute()"
   ]
  },
  {
   "cell_type": "markdown",
   "metadata": {},
   "source": [
    "### `OR` in Ibis\n",
    "\n",
    "- An OR question is something like:\n",
    " - \"Show me all the rows where there is a food name with a `P` and the episode is in season 5 __OR__ in season 6.\n",
    "\n",
    "- I can create an `OR` with the symbol __`|`__.\n",
    "    - There is a similar `AND` operator: `&`\n",
    "\n",
    "__NOTE__: I had to wrap each question for the OR in parentheses so that the `|` operator didn't try to apply to the number 5 and `tnew.season`.\n",
    "\n"
   ]
  },
  {
   "cell_type": "code",
   "execution_count": null,
   "metadata": {},
   "outputs": [],
   "source": []
  },
  {
   "cell_type": "code",
   "execution_count": 26,
   "metadata": {},
   "outputs": [
    {
     "data": {
      "text/html": [
       "<div>\n",
       "<style scoped>\n",
       "    .dataframe tbody tr th:only-of-type {\n",
       "        vertical-align: middle;\n",
       "    }\n",
       "\n",
       "    .dataframe tbody tr th {\n",
       "        vertical-align: top;\n",
       "    }\n",
       "\n",
       "    .dataframe thead th {\n",
       "        text-align: right;\n",
       "    }\n",
       "</style>\n",
       "<table border=\"1\" class=\"dataframe\">\n",
       "  <thead>\n",
       "    <tr style=\"text-align: right;\">\n",
       "      <th></th>\n",
       "      <th>food_name</th>\n",
       "      <th>food_category</th>\n",
       "      <th>episode_name</th>\n",
       "      <th>episode_id</th>\n",
       "      <th>season</th>\n",
       "    </tr>\n",
       "  </thead>\n",
       "  <tbody>\n",
       "    <tr>\n",
       "      <th>0</th>\n",
       "      <td>Cantaloupe</td>\n",
       "      <td>Fruit</td>\n",
       "      <td>The Mango</td>\n",
       "      <td>64</td>\n",
       "      <td>5</td>\n",
       "    </tr>\n",
       "    <tr>\n",
       "      <th>1</th>\n",
       "      <td>Papaya</td>\n",
       "      <td>Fruit</td>\n",
       "      <td>The Mango</td>\n",
       "      <td>64</td>\n",
       "      <td>5</td>\n",
       "    </tr>\n",
       "    <tr>\n",
       "      <th>2</th>\n",
       "      <td>Peaches</td>\n",
       "      <td>Fruit</td>\n",
       "      <td>The Mango</td>\n",
       "      <td>64</td>\n",
       "      <td>5</td>\n",
       "    </tr>\n",
       "    <tr>\n",
       "      <th>3</th>\n",
       "      <td>Plantains</td>\n",
       "      <td>Fruit</td>\n",
       "      <td>The Mango</td>\n",
       "      <td>64</td>\n",
       "      <td>5</td>\n",
       "    </tr>\n",
       "    <tr>\n",
       "      <th>4</th>\n",
       "      <td>Plumbs</td>\n",
       "      <td>Fruit</td>\n",
       "      <td>The Mango</td>\n",
       "      <td>64</td>\n",
       "      <td>5</td>\n",
       "    </tr>\n",
       "    <tr>\n",
       "      <th>5</th>\n",
       "      <td>Cantaloupe</td>\n",
       "      <td>Fruit</td>\n",
       "      <td>The Glasses</td>\n",
       "      <td>66</td>\n",
       "      <td>5</td>\n",
       "    </tr>\n",
       "    <tr>\n",
       "      <th>6</th>\n",
       "      <td>Papaya</td>\n",
       "      <td>Fruit</td>\n",
       "      <td>The Glasses</td>\n",
       "      <td>66</td>\n",
       "      <td>5</td>\n",
       "    </tr>\n",
       "    <tr>\n",
       "      <th>7</th>\n",
       "      <td>Rold Gold Pretzles</td>\n",
       "      <td>Junkfood</td>\n",
       "      <td>The Glasses</td>\n",
       "      <td>66</td>\n",
       "      <td>5</td>\n",
       "    </tr>\n",
       "    <tr>\n",
       "      <th>8</th>\n",
       "      <td>Ketchup</td>\n",
       "      <td>Condiments</td>\n",
       "      <td>The Sniffing Accountant</td>\n",
       "      <td>67</td>\n",
       "      <td>5</td>\n",
       "    </tr>\n",
       "    <tr>\n",
       "      <th>9</th>\n",
       "      <td>Pizza</td>\n",
       "      <td>Rice/Pasta</td>\n",
       "      <td>The Sniffing Accountant</td>\n",
       "      <td>67</td>\n",
       "      <td>5</td>\n",
       "    </tr>\n",
       "    <tr>\n",
       "      <th>10</th>\n",
       "      <td>Carrot Soup</td>\n",
       "      <td>Soup</td>\n",
       "      <td>The Lip Reader</td>\n",
       "      <td>69</td>\n",
       "      <td>5</td>\n",
       "    </tr>\n",
       "    <tr>\n",
       "      <th>11</th>\n",
       "      <td>Pea Soup</td>\n",
       "      <td>Soup</td>\n",
       "      <td>The Lip Reader</td>\n",
       "      <td>69</td>\n",
       "      <td>5</td>\n",
       "    </tr>\n",
       "    <tr>\n",
       "      <th>12</th>\n",
       "      <td>Peas</td>\n",
       "      <td>Vegetables</td>\n",
       "      <td>The Lip Reader</td>\n",
       "      <td>69</td>\n",
       "      <td>5</td>\n",
       "    </tr>\n",
       "    <tr>\n",
       "      <th>13</th>\n",
       "      <td>Prune Juice</td>\n",
       "      <td>Drinks</td>\n",
       "      <td>The Cigar Store Indian</td>\n",
       "      <td>73</td>\n",
       "      <td>5</td>\n",
       "    </tr>\n",
       "    <tr>\n",
       "      <th>14</th>\n",
       "      <td>Pie</td>\n",
       "      <td>Bakery</td>\n",
       "      <td>The Stall</td>\n",
       "      <td>75</td>\n",
       "      <td>5</td>\n",
       "    </tr>\n",
       "    <tr>\n",
       "      <th>15</th>\n",
       "      <td>Peanut Butter</td>\n",
       "      <td>Sandwiches</td>\n",
       "      <td>The Stall</td>\n",
       "      <td>75</td>\n",
       "      <td>5</td>\n",
       "    </tr>\n",
       "    <tr>\n",
       "      <th>16</th>\n",
       "      <td>Pepsi</td>\n",
       "      <td>Drinks</td>\n",
       "      <td>The Dinner Party</td>\n",
       "      <td>76</td>\n",
       "      <td>5</td>\n",
       "    </tr>\n",
       "    <tr>\n",
       "      <th>17</th>\n",
       "      <td>Deli Soup</td>\n",
       "      <td>Soup</td>\n",
       "      <td>The Marine Biologist</td>\n",
       "      <td>77</td>\n",
       "      <td>5</td>\n",
       "    </tr>\n",
       "    <tr>\n",
       "      <th>18</th>\n",
       "      <td>Chocolate Cream Pie</td>\n",
       "      <td>Bakery</td>\n",
       "      <td>The Pie</td>\n",
       "      <td>78</td>\n",
       "      <td>5</td>\n",
       "    </tr>\n",
       "    <tr>\n",
       "      <th>19</th>\n",
       "      <td>Apple Pie</td>\n",
       "      <td>Fruit</td>\n",
       "      <td>The Pie</td>\n",
       "      <td>78</td>\n",
       "      <td>5</td>\n",
       "    </tr>\n",
       "    <tr>\n",
       "      <th>20</th>\n",
       "      <td>Pancakes</td>\n",
       "      <td>Cereal</td>\n",
       "      <td>The Wife</td>\n",
       "      <td>80</td>\n",
       "      <td>5</td>\n",
       "    </tr>\n",
       "    <tr>\n",
       "      <th>21</th>\n",
       "      <td>Maple Syrup</td>\n",
       "      <td>Condiments</td>\n",
       "      <td>The Wife</td>\n",
       "      <td>80</td>\n",
       "      <td>5</td>\n",
       "    </tr>\n",
       "    <tr>\n",
       "      <th>22</th>\n",
       "      <td>Tropicana Orange Juice</td>\n",
       "      <td>Drinks</td>\n",
       "      <td>The Wife</td>\n",
       "      <td>80</td>\n",
       "      <td>5</td>\n",
       "    </tr>\n",
       "    <tr>\n",
       "      <th>23</th>\n",
       "      <td>Paella</td>\n",
       "      <td>Rice/Pasta</td>\n",
       "      <td>The Raincoats 1</td>\n",
       "      <td>81</td>\n",
       "      <td>5</td>\n",
       "    </tr>\n",
       "    <tr>\n",
       "      <th>24</th>\n",
       "      <td>Pertussin with Club Soda</td>\n",
       "      <td>Drinks</td>\n",
       "      <td>The Hamptons</td>\n",
       "      <td>84</td>\n",
       "      <td>5</td>\n",
       "    </tr>\n",
       "    <tr>\n",
       "      <th>25</th>\n",
       "      <td>Hamptons Tomatoes</td>\n",
       "      <td>Fruit</td>\n",
       "      <td>The Hamptons</td>\n",
       "      <td>84</td>\n",
       "      <td>5</td>\n",
       "    </tr>\n",
       "    <tr>\n",
       "      <th>26</th>\n",
       "      <td>Hampton Tomatoes</td>\n",
       "      <td>Vegetables</td>\n",
       "      <td>The Hamptons</td>\n",
       "      <td>84</td>\n",
       "      <td>5</td>\n",
       "    </tr>\n",
       "    <tr>\n",
       "      <th>27</th>\n",
       "      <td>Popcorn</td>\n",
       "      <td>Junkfood</td>\n",
       "      <td>The Opposite</td>\n",
       "      <td>85</td>\n",
       "      <td>5</td>\n",
       "    </tr>\n",
       "    <tr>\n",
       "      <th>28</th>\n",
       "      <td>Potato Salad</td>\n",
       "      <td>Vegetables</td>\n",
       "      <td>The Opposite</td>\n",
       "      <td>85</td>\n",
       "      <td>5</td>\n",
       "    </tr>\n",
       "    <tr>\n",
       "      <th>29</th>\n",
       "      <td>Grape Juice</td>\n",
       "      <td>Drinks</td>\n",
       "      <td>The Couch</td>\n",
       "      <td>90</td>\n",
       "      <td>6</td>\n",
       "    </tr>\n",
       "    <tr>\n",
       "      <th>30</th>\n",
       "      <td>Pizza</td>\n",
       "      <td>Rice/Pasta</td>\n",
       "      <td>The Couch</td>\n",
       "      <td>90</td>\n",
       "      <td>6</td>\n",
       "    </tr>\n",
       "    <tr>\n",
       "      <th>31</th>\n",
       "      <td>Pizza (Paccino's)</td>\n",
       "      <td>Rice/Pasta</td>\n",
       "      <td>The Couch</td>\n",
       "      <td>90</td>\n",
       "      <td>6</td>\n",
       "    </tr>\n",
       "    <tr>\n",
       "      <th>32</th>\n",
       "      <td>Peanut Butter</td>\n",
       "      <td>Junkfood</td>\n",
       "      <td>The Soup</td>\n",
       "      <td>92</td>\n",
       "      <td>6</td>\n",
       "    </tr>\n",
       "    <tr>\n",
       "      <th>33</th>\n",
       "      <td>Tomatoe Soup</td>\n",
       "      <td>Soup</td>\n",
       "      <td>The Soup</td>\n",
       "      <td>92</td>\n",
       "      <td>6</td>\n",
       "    </tr>\n",
       "    <tr>\n",
       "      <th>34</th>\n",
       "      <td>Pretzels (unsalted)</td>\n",
       "      <td>Junkfood</td>\n",
       "      <td>The Mom &amp; Pop Store</td>\n",
       "      <td>93</td>\n",
       "      <td>6</td>\n",
       "    </tr>\n",
       "    <tr>\n",
       "      <th>35</th>\n",
       "      <td>Pastrami</td>\n",
       "      <td>Meat</td>\n",
       "      <td>The Race</td>\n",
       "      <td>95</td>\n",
       "      <td>6</td>\n",
       "    </tr>\n",
       "    <tr>\n",
       "      <th>36</th>\n",
       "      <td>Reese's Peanut-Butter Puffs</td>\n",
       "      <td>Cereal</td>\n",
       "      <td>The Beard</td>\n",
       "      <td>101</td>\n",
       "      <td>6</td>\n",
       "    </tr>\n",
       "    <tr>\n",
       "      <th>37</th>\n",
       "      <td>Ketchup</td>\n",
       "      <td>Condiments</td>\n",
       "      <td>The Kiss Hello</td>\n",
       "      <td>102</td>\n",
       "      <td>6</td>\n",
       "    </tr>\n",
       "    <tr>\n",
       "      <th>38</th>\n",
       "      <td>Kung-Pao Chicken</td>\n",
       "      <td>Chicken/Fowl</td>\n",
       "      <td>The Jimmy</td>\n",
       "      <td>104</td>\n",
       "      <td>6</td>\n",
       "    </tr>\n",
       "    <tr>\n",
       "      <th>39</th>\n",
       "      <td>Cupcakes (upsidedown)</td>\n",
       "      <td>Junkfood</td>\n",
       "      <td>The Jimmy</td>\n",
       "      <td>104</td>\n",
       "      <td>6</td>\n",
       "    </tr>\n",
       "    <tr>\n",
       "      <th>40</th>\n",
       "      <td>Macinaw peaches</td>\n",
       "      <td>Fruit</td>\n",
       "      <td>The Doodle</td>\n",
       "      <td>105</td>\n",
       "      <td>6</td>\n",
       "    </tr>\n",
       "    <tr>\n",
       "      <th>41</th>\n",
       "      <td>Pecan</td>\n",
       "      <td>Junkfood</td>\n",
       "      <td>The Doodle</td>\n",
       "      <td>105</td>\n",
       "      <td>6</td>\n",
       "    </tr>\n",
       "    <tr>\n",
       "      <th>42</th>\n",
       "      <td>Pineapple Italian Ice</td>\n",
       "      <td>Junkfood</td>\n",
       "      <td>The Understudy</td>\n",
       "      <td>109</td>\n",
       "      <td>6</td>\n",
       "    </tr>\n",
       "  </tbody>\n",
       "</table>\n",
       "</div>"
      ],
      "text/plain": [
       "                      food_name food_category             episode_name  \\\n",
       "0                    Cantaloupe         Fruit                The Mango   \n",
       "1                        Papaya         Fruit                The Mango   \n",
       "2                       Peaches         Fruit                The Mango   \n",
       "3                     Plantains         Fruit                The Mango   \n",
       "4                        Plumbs         Fruit                The Mango   \n",
       "5                    Cantaloupe         Fruit              The Glasses   \n",
       "6                        Papaya         Fruit              The Glasses   \n",
       "7            Rold Gold Pretzles      Junkfood              The Glasses   \n",
       "8                       Ketchup    Condiments  The Sniffing Accountant   \n",
       "9                         Pizza    Rice/Pasta  The Sniffing Accountant   \n",
       "10                  Carrot Soup          Soup           The Lip Reader   \n",
       "11                     Pea Soup          Soup           The Lip Reader   \n",
       "12                         Peas    Vegetables           The Lip Reader   \n",
       "13                  Prune Juice        Drinks   The Cigar Store Indian   \n",
       "14                          Pie        Bakery                The Stall   \n",
       "15                Peanut Butter    Sandwiches                The Stall   \n",
       "16                        Pepsi        Drinks         The Dinner Party   \n",
       "17                    Deli Soup          Soup     The Marine Biologist   \n",
       "18          Chocolate Cream Pie        Bakery                  The Pie   \n",
       "19                    Apple Pie         Fruit                  The Pie   \n",
       "20                     Pancakes        Cereal                 The Wife   \n",
       "21                  Maple Syrup    Condiments                 The Wife   \n",
       "22       Tropicana Orange Juice        Drinks                 The Wife   \n",
       "23                       Paella    Rice/Pasta          The Raincoats 1   \n",
       "24     Pertussin with Club Soda        Drinks             The Hamptons   \n",
       "25            Hamptons Tomatoes         Fruit             The Hamptons   \n",
       "26             Hampton Tomatoes    Vegetables             The Hamptons   \n",
       "27                      Popcorn      Junkfood             The Opposite   \n",
       "28                 Potato Salad    Vegetables             The Opposite   \n",
       "29                  Grape Juice        Drinks                The Couch   \n",
       "30                        Pizza    Rice/Pasta                The Couch   \n",
       "31            Pizza (Paccino's)    Rice/Pasta                The Couch   \n",
       "32                Peanut Butter      Junkfood                 The Soup   \n",
       "33                 Tomatoe Soup          Soup                 The Soup   \n",
       "34          Pretzels (unsalted)      Junkfood      The Mom & Pop Store   \n",
       "35                     Pastrami          Meat                 The Race   \n",
       "36  Reese's Peanut-Butter Puffs        Cereal                The Beard   \n",
       "37                      Ketchup    Condiments           The Kiss Hello   \n",
       "38             Kung-Pao Chicken  Chicken/Fowl                The Jimmy   \n",
       "39        Cupcakes (upsidedown)      Junkfood                The Jimmy   \n",
       "40              Macinaw peaches         Fruit               The Doodle   \n",
       "41                        Pecan      Junkfood               The Doodle   \n",
       "42        Pineapple Italian Ice      Junkfood           The Understudy   \n",
       "\n",
       "    episode_id  season  \n",
       "0           64       5  \n",
       "1           64       5  \n",
       "2           64       5  \n",
       "3           64       5  \n",
       "4           64       5  \n",
       "5           66       5  \n",
       "6           66       5  \n",
       "7           66       5  \n",
       "8           67       5  \n",
       "9           67       5  \n",
       "10          69       5  \n",
       "11          69       5  \n",
       "12          69       5  \n",
       "13          73       5  \n",
       "14          75       5  \n",
       "15          75       5  \n",
       "16          76       5  \n",
       "17          77       5  \n",
       "18          78       5  \n",
       "19          78       5  \n",
       "20          80       5  \n",
       "21          80       5  \n",
       "22          80       5  \n",
       "23          81       5  \n",
       "24          84       5  \n",
       "25          84       5  \n",
       "26          84       5  \n",
       "27          85       5  \n",
       "28          85       5  \n",
       "29          90       6  \n",
       "30          90       6  \n",
       "31          90       6  \n",
       "32          92       6  \n",
       "33          92       6  \n",
       "34          93       6  \n",
       "35          95       6  \n",
       "36         101       6  \n",
       "37         102       6  \n",
       "38         104       6  \n",
       "39         104       6  \n",
       "40         105       6  \n",
       "41         105       6  \n",
       "42         109       6  "
      ]
     },
     "execution_count": 26,
     "metadata": {},
     "output_type": "execute_result"
    }
   ],
   "source": [
    "tnew.filter([tnew.food_name.like(\"%P%\"),(tnew.season==5) | (tnew.season==6)]).execute()"
   ]
  },
  {
   "cell_type": "markdown",
   "metadata": {},
   "source": [
    "If I pass a list of conditions to `like` this acts like an __OR__"
   ]
  },
  {
   "cell_type": "code",
   "execution_count": 27,
   "metadata": {},
   "outputs": [
    {
     "data": {
      "text/html": [
       "<div>\n",
       "<style scoped>\n",
       "    .dataframe tbody tr th:only-of-type {\n",
       "        vertical-align: middle;\n",
       "    }\n",
       "\n",
       "    .dataframe tbody tr th {\n",
       "        vertical-align: top;\n",
       "    }\n",
       "\n",
       "    .dataframe thead th {\n",
       "        text-align: right;\n",
       "    }\n",
       "</style>\n",
       "<table border=\"1\" class=\"dataframe\">\n",
       "  <thead>\n",
       "    <tr style=\"text-align: right;\">\n",
       "      <th></th>\n",
       "      <th>food_name</th>\n",
       "      <th>food_category</th>\n",
       "      <th>episode_name</th>\n",
       "      <th>episode_id</th>\n",
       "      <th>season</th>\n",
       "    </tr>\n",
       "  </thead>\n",
       "  <tbody>\n",
       "    <tr>\n",
       "      <th>0</th>\n",
       "      <td>Chocolate Covered Cherries</td>\n",
       "      <td>Junkfood</td>\n",
       "      <td>The Stake Out</td>\n",
       "      <td>2</td>\n",
       "      <td>1</td>\n",
       "    </tr>\n",
       "    <tr>\n",
       "      <th>1</th>\n",
       "      <td>Pepsi</td>\n",
       "      <td>Drinks</td>\n",
       "      <td>The Truth</td>\n",
       "      <td>19</td>\n",
       "      <td>3</td>\n",
       "    </tr>\n",
       "    <tr>\n",
       "      <th>2</th>\n",
       "      <td>Godiva Chocolates</td>\n",
       "      <td>Junkfood</td>\n",
       "      <td>The Stall</td>\n",
       "      <td>75</td>\n",
       "      <td>5</td>\n",
       "    </tr>\n",
       "    <tr>\n",
       "      <th>3</th>\n",
       "      <td>Chocolate Bobka</td>\n",
       "      <td>Bakery</td>\n",
       "      <td>The Dinner Party</td>\n",
       "      <td>76</td>\n",
       "      <td>5</td>\n",
       "    </tr>\n",
       "    <tr>\n",
       "      <th>4</th>\n",
       "      <td>Pepsi</td>\n",
       "      <td>Drinks</td>\n",
       "      <td>The Dinner Party</td>\n",
       "      <td>76</td>\n",
       "      <td>5</td>\n",
       "    </tr>\n",
       "    <tr>\n",
       "      <th>5</th>\n",
       "      <td>Chocolate Cream Pie</td>\n",
       "      <td>Bakery</td>\n",
       "      <td>The Pie</td>\n",
       "      <td>78</td>\n",
       "      <td>5</td>\n",
       "    </tr>\n",
       "    <tr>\n",
       "      <th>6</th>\n",
       "      <td>Chocolates, box of</td>\n",
       "      <td>Junkfood</td>\n",
       "      <td>The Wife</td>\n",
       "      <td>80</td>\n",
       "      <td>5</td>\n",
       "    </tr>\n",
       "    <tr>\n",
       "      <th>7</th>\n",
       "      <td>Chocolate Eclairs</td>\n",
       "      <td>Bakery</td>\n",
       "      <td>The Gymnast</td>\n",
       "      <td>91</td>\n",
       "      <td>6</td>\n",
       "    </tr>\n",
       "    <tr>\n",
       "      <th>8</th>\n",
       "      <td>Chocolate Chip Mint</td>\n",
       "      <td>Junkfood</td>\n",
       "      <td>The Wait Out</td>\n",
       "      <td>132</td>\n",
       "      <td>7</td>\n",
       "    </tr>\n",
       "    <tr>\n",
       "      <th>9</th>\n",
       "      <td>Coca Cola</td>\n",
       "      <td>Drinks</td>\n",
       "      <td>The Abstinence</td>\n",
       "      <td>142</td>\n",
       "      <td>8</td>\n",
       "    </tr>\n",
       "    <tr>\n",
       "      <th>10</th>\n",
       "      <td>Strawberries with Chocolate Sauce</td>\n",
       "      <td>Fruit</td>\n",
       "      <td>The Blood</td>\n",
       "      <td>159</td>\n",
       "      <td>9</td>\n",
       "    </tr>\n",
       "    <tr>\n",
       "      <th>11</th>\n",
       "      <td>Royal Crown Cola</td>\n",
       "      <td>Drinks</td>\n",
       "      <td>The Puerto Rican Day</td>\n",
       "      <td>175</td>\n",
       "      <td>9</td>\n",
       "    </tr>\n",
       "  </tbody>\n",
       "</table>\n",
       "</div>"
      ],
      "text/plain": [
       "                            food_name food_category          episode_name  \\\n",
       "0          Chocolate Covered Cherries      Junkfood         The Stake Out   \n",
       "1                               Pepsi        Drinks             The Truth   \n",
       "2                   Godiva Chocolates      Junkfood             The Stall   \n",
       "3                     Chocolate Bobka        Bakery      The Dinner Party   \n",
       "4                               Pepsi        Drinks      The Dinner Party   \n",
       "5                 Chocolate Cream Pie        Bakery               The Pie   \n",
       "6                  Chocolates, box of      Junkfood              The Wife   \n",
       "7                   Chocolate Eclairs        Bakery           The Gymnast   \n",
       "8                 Chocolate Chip Mint      Junkfood          The Wait Out   \n",
       "9                           Coca Cola        Drinks        The Abstinence   \n",
       "10  Strawberries with Chocolate Sauce         Fruit             The Blood   \n",
       "11                   Royal Crown Cola        Drinks  The Puerto Rican Day   \n",
       "\n",
       "    episode_id  season  \n",
       "0            2       1  \n",
       "1           19       3  \n",
       "2           75       5  \n",
       "3           76       5  \n",
       "4           76       5  \n",
       "5           78       5  \n",
       "6           80       5  \n",
       "7           91       6  \n",
       "8          132       7  \n",
       "9          142       8  \n",
       "10         159       9  \n",
       "11         175       9  "
      ]
     },
     "execution_count": 27,
     "metadata": {},
     "output_type": "execute_result"
    }
   ],
   "source": [
    "tnew.filter([tnew.food_name.like([\"%Pepsi%\", \"%Cola%\"])]).execute()"
   ]
  },
  {
   "cell_type": "code",
   "execution_count": 28,
   "metadata": {},
   "outputs": [
    {
     "data": {
      "application/vnd.jupyter.widget-view+json": {
       "model_id": "f952948fa9f743bab34b1f7bcd6e5f6c",
       "version_major": 2,
       "version_minor": 0
      },
      "text/plain": [
       "MCWidget(children=(Label(value='Select the Correct Answer'), HTML(value='<h4>Fixing the <code>like</code> quer…"
      ]
     },
     "metadata": {},
     "output_type": "display_data"
    }
   ],
   "source": [
    "for w in create_question_bank(\"day1_bec.yaml\", tag=\"ibis,food,like\"):\n",
    "    display(w)\n"
   ]
  },
  {
   "cell_type": "markdown",
   "metadata": {},
   "source": [
    "## Getting Distinct/Unique Values\n",
    "\n",
    "Remember that in relational databases, we are aiming for at least 1st normal form: one distince value in each cell. So in our results we often have multiple rows with the same episode or the same food. What if we want to count the number of episodes that mention pie? Then we can use the `distinct` method."
   ]
  },
  {
   "cell_type": "code",
   "execution_count": 29,
   "metadata": {},
   "outputs": [
    {
     "data": {
      "text/plain": [
       "0     46\n",
       "1     75\n",
       "2     78\n",
       "3    115\n",
       "4    140\n",
       "Name: episode_id, dtype: int32"
      ]
     },
     "execution_count": 29,
     "metadata": {},
     "output_type": "execute_result"
    }
   ],
   "source": [
    "tnew.filter(tnew.food_name.like(\"%pie%\")).episode_id.distinct().execute()"
   ]
  },
  {
   "cell_type": "code",
   "execution_count": 30,
   "metadata": {},
   "outputs": [
    {
     "data": {
      "text/plain": [
       "22"
      ]
     },
     "execution_count": 30,
     "metadata": {},
     "output_type": "execute_result"
    }
   ],
   "source": [
    "tnew.filter([tnew.food_name.like(\"%P%\"),(tnew.season==5) | (tnew.season==6)]).episode_id.distinct().count().execute()"
   ]
  },
  {
   "cell_type": "markdown",
   "metadata": {},
   "source": [
    "## Missing Values\n",
    "\n",
    "When we execute an Ibis query, it returns a Pandas dataframe. In Pandas `NaN` indicates a missing value. In this data set,the _Pilot_, the very first episode of the TV show is not in a season so the `season` value is `NaN`."
   ]
  },
  {
   "cell_type": "code",
   "execution_count": 31,
   "metadata": {},
   "outputs": [
    {
     "data": {
      "text/html": [
       "<div>\n",
       "<style scoped>\n",
       "    .dataframe tbody tr th:only-of-type {\n",
       "        vertical-align: middle;\n",
       "    }\n",
       "\n",
       "    .dataframe tbody tr th {\n",
       "        vertical-align: top;\n",
       "    }\n",
       "\n",
       "    .dataframe thead th {\n",
       "        text-align: right;\n",
       "    }\n",
       "</style>\n",
       "<table border=\"1\" class=\"dataframe\">\n",
       "  <thead>\n",
       "    <tr style=\"text-align: right;\">\n",
       "      <th></th>\n",
       "      <th>food_name</th>\n",
       "      <th>food_category</th>\n",
       "      <th>episode_name</th>\n",
       "      <th>episode_id</th>\n",
       "      <th>season</th>\n",
       "    </tr>\n",
       "  </thead>\n",
       "  <tbody>\n",
       "    <tr>\n",
       "      <th>0</th>\n",
       "      <td>Salad Dressing</td>\n",
       "      <td>Condiments</td>\n",
       "      <td>Good News Bad News</td>\n",
       "      <td>0</td>\n",
       "      <td>NaN</td>\n",
       "    </tr>\n",
       "    <tr>\n",
       "      <th>1</th>\n",
       "      <td>Decaf Coffee</td>\n",
       "      <td>Drinks</td>\n",
       "      <td>Good News Bad News</td>\n",
       "      <td>0</td>\n",
       "      <td>NaN</td>\n",
       "    </tr>\n",
       "    <tr>\n",
       "      <th>2</th>\n",
       "      <td>Meat Loaf</td>\n",
       "      <td>Meat</td>\n",
       "      <td>Male Unbonding</td>\n",
       "      <td>1</td>\n",
       "      <td>1.0</td>\n",
       "    </tr>\n",
       "    <tr>\n",
       "      <th>3</th>\n",
       "      <td>Pizza</td>\n",
       "      <td>Rice/Pasta</td>\n",
       "      <td>Male Unbonding</td>\n",
       "      <td>1</td>\n",
       "      <td>1.0</td>\n",
       "    </tr>\n",
       "    <tr>\n",
       "      <th>4</th>\n",
       "      <td>Egg Salad</td>\n",
       "      <td>Sandwiches</td>\n",
       "      <td>Male Unbonding</td>\n",
       "      <td>1</td>\n",
       "      <td>1.0</td>\n",
       "    </tr>\n",
       "  </tbody>\n",
       "</table>\n",
       "</div>"
      ],
      "text/plain": [
       "        food_name food_category        episode_name  episode_id  season\n",
       "0  Salad Dressing    Condiments  Good News Bad News           0     NaN\n",
       "1    Decaf Coffee        Drinks  Good News Bad News           0     NaN\n",
       "2       Meat Loaf          Meat      Male Unbonding           1     1.0\n",
       "3           Pizza    Rice/Pasta      Male Unbonding           1     1.0\n",
       "4       Egg Salad    Sandwiches      Male Unbonding           1     1.0"
      ]
     },
     "execution_count": 31,
     "metadata": {},
     "output_type": "execute_result"
    }
   ],
   "source": [
    "tnew.execute(limit=5)"
   ]
  },
  {
   "cell_type": "markdown",
   "metadata": {},
   "source": [
    "### `notnull`\n",
    "\n",
    "Ibis provides a `notnull` method that allows us to filter by out missing values."
   ]
  },
  {
   "cell_type": "code",
   "execution_count": 32,
   "metadata": {},
   "outputs": [
    {
     "data": {
      "text/html": [
       "<div>\n",
       "<style scoped>\n",
       "    .dataframe tbody tr th:only-of-type {\n",
       "        vertical-align: middle;\n",
       "    }\n",
       "\n",
       "    .dataframe tbody tr th {\n",
       "        vertical-align: top;\n",
       "    }\n",
       "\n",
       "    .dataframe thead th {\n",
       "        text-align: right;\n",
       "    }\n",
       "</style>\n",
       "<table border=\"1\" class=\"dataframe\">\n",
       "  <thead>\n",
       "    <tr style=\"text-align: right;\">\n",
       "      <th></th>\n",
       "      <th>food_name</th>\n",
       "      <th>food_category</th>\n",
       "      <th>episode_name</th>\n",
       "      <th>episode_id</th>\n",
       "      <th>season</th>\n",
       "    </tr>\n",
       "  </thead>\n",
       "  <tbody>\n",
       "    <tr>\n",
       "      <th>0</th>\n",
       "      <td>Bosco</td>\n",
       "      <td>Drinks</td>\n",
       "      <td>The Baby Shower</td>\n",
       "      <td>8</td>\n",
       "      <td>2</td>\n",
       "    </tr>\n",
       "    <tr>\n",
       "      <th>1</th>\n",
       "      <td>Club Soda</td>\n",
       "      <td>Drinks</td>\n",
       "      <td>The Jacket</td>\n",
       "      <td>9</td>\n",
       "      <td>2</td>\n",
       "    </tr>\n",
       "    <tr>\n",
       "      <th>2</th>\n",
       "      <td>Cranberry juice with two limes</td>\n",
       "      <td>Drinks</td>\n",
       "      <td>The Jacket</td>\n",
       "      <td>9</td>\n",
       "      <td>2</td>\n",
       "    </tr>\n",
       "    <tr>\n",
       "      <th>3</th>\n",
       "      <td>Scotch</td>\n",
       "      <td>Drinks</td>\n",
       "      <td>The Jacket</td>\n",
       "      <td>9</td>\n",
       "      <td>2</td>\n",
       "    </tr>\n",
       "    <tr>\n",
       "      <th>4</th>\n",
       "      <td>Coffe</td>\n",
       "      <td>Drinks</td>\n",
       "      <td>The Phone Message</td>\n",
       "      <td>11</td>\n",
       "      <td>2</td>\n",
       "    </tr>\n",
       "    <tr>\n",
       "      <th>...</th>\n",
       "      <td>...</td>\n",
       "      <td>...</td>\n",
       "      <td>...</td>\n",
       "      <td>...</td>\n",
       "      <td>...</td>\n",
       "    </tr>\n",
       "    <tr>\n",
       "      <th>71</th>\n",
       "      <td>Peach Schnapps</td>\n",
       "      <td>Drinks</td>\n",
       "      <td>The Betrayal</td>\n",
       "      <td>163</td>\n",
       "      <td>9</td>\n",
       "    </tr>\n",
       "    <tr>\n",
       "      <th>72</th>\n",
       "      <td>Cocoa</td>\n",
       "      <td>Drinks</td>\n",
       "      <td>The Bookstore</td>\n",
       "      <td>172</td>\n",
       "      <td>9</td>\n",
       "    </tr>\n",
       "    <tr>\n",
       "      <th>73</th>\n",
       "      <td>Dr. Pepper (diet)</td>\n",
       "      <td>Drinks</td>\n",
       "      <td>The Puerto Rican Day</td>\n",
       "      <td>175</td>\n",
       "      <td>9</td>\n",
       "    </tr>\n",
       "    <tr>\n",
       "      <th>74</th>\n",
       "      <td>Royal Crown Cola</td>\n",
       "      <td>Drinks</td>\n",
       "      <td>The Puerto Rican Day</td>\n",
       "      <td>175</td>\n",
       "      <td>9</td>\n",
       "    </tr>\n",
       "    <tr>\n",
       "      <th>75</th>\n",
       "      <td>Milkshake</td>\n",
       "      <td>Drinks</td>\n",
       "      <td>The Finale 1</td>\n",
       "      <td>178</td>\n",
       "      <td>9</td>\n",
       "    </tr>\n",
       "  </tbody>\n",
       "</table>\n",
       "<p>76 rows × 5 columns</p>\n",
       "</div>"
      ],
      "text/plain": [
       "                         food_name food_category          episode_name  \\\n",
       "0                            Bosco        Drinks       The Baby Shower   \n",
       "1                        Club Soda        Drinks            The Jacket   \n",
       "2   Cranberry juice with two limes        Drinks            The Jacket   \n",
       "3                           Scotch        Drinks            The Jacket   \n",
       "4                            Coffe        Drinks     The Phone Message   \n",
       "..                             ...           ...                   ...   \n",
       "71                  Peach Schnapps        Drinks          The Betrayal   \n",
       "72                           Cocoa        Drinks         The Bookstore   \n",
       "73               Dr. Pepper (diet)        Drinks  The Puerto Rican Day   \n",
       "74                Royal Crown Cola        Drinks  The Puerto Rican Day   \n",
       "75                       Milkshake        Drinks          The Finale 1   \n",
       "\n",
       "    episode_id  season  \n",
       "0            8       2  \n",
       "1            9       2  \n",
       "2            9       2  \n",
       "3            9       2  \n",
       "4           11       2  \n",
       "..         ...     ...  \n",
       "71         163       9  \n",
       "72         172       9  \n",
       "73         175       9  \n",
       "74         175       9  \n",
       "75         178       9  \n",
       "\n",
       "[76 rows x 5 columns]"
      ]
     },
     "execution_count": 32,
     "metadata": {},
     "output_type": "execute_result"
    }
   ],
   "source": [
    "tnew.filter([tnew.food_category==\"Drinks\", tnew.season.notnull()]).sort_by(\"food_name\").execute()"
   ]
  },
  {
   "cell_type": "code",
   "execution_count": 33,
   "metadata": {},
   "outputs": [
    {
     "data": {
      "text/html": [
       "<div>\n",
       "<style scoped>\n",
       "    .dataframe tbody tr th:only-of-type {\n",
       "        vertical-align: middle;\n",
       "    }\n",
       "\n",
       "    .dataframe tbody tr th {\n",
       "        vertical-align: top;\n",
       "    }\n",
       "\n",
       "    .dataframe thead th {\n",
       "        text-align: right;\n",
       "    }\n",
       "</style>\n",
       "<table border=\"1\" class=\"dataframe\">\n",
       "  <thead>\n",
       "    <tr style=\"text-align: right;\">\n",
       "      <th></th>\n",
       "      <th>food_name</th>\n",
       "      <th>food_category</th>\n",
       "      <th>episode_name</th>\n",
       "      <th>episode_id</th>\n",
       "      <th>season</th>\n",
       "    </tr>\n",
       "  </thead>\n",
       "  <tbody>\n",
       "    <tr>\n",
       "      <th>0</th>\n",
       "      <td>Egg Salad</td>\n",
       "      <td>Sandwiches</td>\n",
       "      <td>Male Unbonding</td>\n",
       "      <td>1</td>\n",
       "      <td>1</td>\n",
       "    </tr>\n",
       "    <tr>\n",
       "      <th>1</th>\n",
       "      <td>Meat Loaf</td>\n",
       "      <td>Meat</td>\n",
       "      <td>Male Unbonding</td>\n",
       "      <td>1</td>\n",
       "      <td>1</td>\n",
       "    </tr>\n",
       "    <tr>\n",
       "      <th>2</th>\n",
       "      <td>Pizza</td>\n",
       "      <td>Rice/Pasta</td>\n",
       "      <td>Male Unbonding</td>\n",
       "      <td>1</td>\n",
       "      <td>1</td>\n",
       "    </tr>\n",
       "    <tr>\n",
       "      <th>3</th>\n",
       "      <td>Turkey Roll</td>\n",
       "      <td>Sandwiches</td>\n",
       "      <td>Male Unbonding</td>\n",
       "      <td>1</td>\n",
       "      <td>1</td>\n",
       "    </tr>\n",
       "    <tr>\n",
       "      <th>4</th>\n",
       "      <td>Bouillabaisse</td>\n",
       "      <td>Soup</td>\n",
       "      <td>The Stake Out</td>\n",
       "      <td>2</td>\n",
       "      <td>1</td>\n",
       "    </tr>\n",
       "    <tr>\n",
       "      <th>5</th>\n",
       "      <td>Chocolate Covered Cherries</td>\n",
       "      <td>Junkfood</td>\n",
       "      <td>The Stake Out</td>\n",
       "      <td>2</td>\n",
       "      <td>1</td>\n",
       "    </tr>\n",
       "    <tr>\n",
       "      <th>6</th>\n",
       "      <td>BLT</td>\n",
       "      <td>Sandwiches</td>\n",
       "      <td>The Robbery</td>\n",
       "      <td>3</td>\n",
       "      <td>1</td>\n",
       "    </tr>\n",
       "    <tr>\n",
       "      <th>7</th>\n",
       "      <td>Brisket Sandwich</td>\n",
       "      <td>Sandwiches</td>\n",
       "      <td>The Robbery</td>\n",
       "      <td>3</td>\n",
       "      <td>1</td>\n",
       "    </tr>\n",
       "    <tr>\n",
       "      <th>8</th>\n",
       "      <td>Egg Salad</td>\n",
       "      <td>Sandwiches</td>\n",
       "      <td>The Stock Tip</td>\n",
       "      <td>4</td>\n",
       "      <td>1</td>\n",
       "    </tr>\n",
       "    <tr>\n",
       "      <th>9</th>\n",
       "      <td>Grape</td>\n",
       "      <td>Fruit</td>\n",
       "      <td>The Stock Tip</td>\n",
       "      <td>4</td>\n",
       "      <td>1</td>\n",
       "    </tr>\n",
       "  </tbody>\n",
       "</table>\n",
       "</div>"
      ],
      "text/plain": [
       "                    food_name food_category    episode_name  episode_id  \\\n",
       "0                   Egg Salad    Sandwiches  Male Unbonding           1   \n",
       "1                   Meat Loaf          Meat  Male Unbonding           1   \n",
       "2                       Pizza    Rice/Pasta  Male Unbonding           1   \n",
       "3                 Turkey Roll    Sandwiches  Male Unbonding           1   \n",
       "4               Bouillabaisse          Soup   The Stake Out           2   \n",
       "5  Chocolate Covered Cherries      Junkfood   The Stake Out           2   \n",
       "6                         BLT    Sandwiches     The Robbery           3   \n",
       "7            Brisket Sandwich    Sandwiches     The Robbery           3   \n",
       "8                   Egg Salad    Sandwiches   The Stock Tip           4   \n",
       "9                       Grape         Fruit   The Stock Tip           4   \n",
       "\n",
       "   season  \n",
       "0       1  \n",
       "1       1  \n",
       "2       1  \n",
       "3       1  \n",
       "4       1  \n",
       "5       1  \n",
       "6       1  \n",
       "7       1  \n",
       "8       1  \n",
       "9       1  "
      ]
     },
     "execution_count": 33,
     "metadata": {},
     "output_type": "execute_result"
    }
   ],
   "source": [
    "tnew.filter([tnew.season.notnull()]).sort_by(\"food_name\").execute(limit=10)"
   ]
  },
  {
   "cell_type": "markdown",
   "metadata": {},
   "source": [
    "## Practice"
   ]
  },
  {
   "cell_type": "code",
   "execution_count": 34,
   "metadata": {},
   "outputs": [
    {
     "data": {
      "application/vnd.jupyter.widget-view+json": {
       "model_id": "606206800d5c48ca951f463568981bcc",
       "version_major": 2,
       "version_minor": 0
      },
      "text/plain": [
       "TFWidget(children=(Label(value='Question'), HTML(value='<p>There are no duplicated episode names.</p>'), Radio…"
      ]
     },
     "metadata": {},
     "output_type": "display_data"
    },
    {
     "data": {
      "application/vnd.jupyter.widget-view+json": {
       "model_id": "e4380b64de574137aa58606594006ec1",
       "version_major": 2,
       "version_minor": 0
      },
      "text/plain": [
       "MCWidget(children=(Label(value='Select the Correct Answer'), HTML(value='<p>What is the name of the episode th…"
      ]
     },
     "metadata": {},
     "output_type": "display_data"
    },
    {
     "data": {
      "application/vnd.jupyter.widget-view+json": {
       "model_id": "179c0af25d5448a28846e2de89f12bf9",
       "version_major": 2,
       "version_minor": 0
      },
      "text/plain": [
       "TFWidget(children=(Label(value='Question'), HTML(value='<p>Six seasons have episodes that mention some form of…"
      ]
     },
     "metadata": {},
     "output_type": "display_data"
    },
    {
     "data": {
      "application/vnd.jupyter.widget-view+json": {
       "model_id": "8b360db3814d466aaa11f399d6dc3af3",
       "version_major": 2,
       "version_minor": 0
      },
      "text/plain": [
       "ATWidget(children=(Label(value='Select all True Answers'), HTML(value='<p>Which of the following episodes DOES…"
      ]
     },
     "metadata": {},
     "output_type": "display_data"
    },
    {
     "data": {
      "application/vnd.jupyter.widget-view+json": {
       "model_id": "519825d6debb4239bfaa07701b4e6a7a",
       "version_major": 2,
       "version_minor": 0
      },
      "text/plain": [
       "TFWidget(children=(Label(value='Question'), HTML(value='<p>There are three episodes in season 4 that mention s…"
      ]
     },
     "metadata": {},
     "output_type": "display_data"
    }
   ],
   "source": [
    "for w in create_question_bank(\"day1_bec.yaml\", tag=\"ibis,practice\"):\n",
    "    display(w)"
   ]
  },
  {
   "cell_type": "code",
   "execution_count": null,
   "metadata": {},
   "outputs": [],
   "source": []
  }
 ],
 "metadata": {
  "kernelspec": {
   "display_name": "Python 3",
   "language": "python",
   "name": "python3"
  },
  "language_info": {
   "codemirror_mode": {
    "name": "ipython",
    "version": 3
   },
   "file_extension": ".py",
   "mimetype": "text/x-python",
   "name": "python",
   "nbconvert_exporter": "python",
   "pygments_lexer": "ipython3",
   "version": "3.7.6"
  }
 },
 "nbformat": 4,
 "nbformat_minor": 4
}

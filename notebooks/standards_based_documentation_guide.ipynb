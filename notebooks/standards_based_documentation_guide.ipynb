{
 "cells": [
  {
   "cell_type": "markdown",
   "metadata": {},
   "source": [
    "# Documentation with Standards\n",
    "\n",
    "The roots of this lesson go back to the mid-1990s when my wife and I were graduate students studying medical informatics at the University of Utah. My wife, Wendy, was being mentored by Dr. Peter Haug for her dissertation research. Dr. Haug was an enthusiastic proponent of natural language processing (NLP), the discipline of computer science dedicated to extracting meaning from written texts. Peter was a visionary, anticipating the day when we would interact with our computers \"naturally\" through speech. In its naive form in medical informatics, NLP is a _post hoc_ solution: let the clinicians generate their text reports as they normally would and let NLP \"clean up\" everything later.\n",
    "\n",
    "Al Pryor was an informaticist who had worked with Homer Warner since the 1960s. In fact he built the very foundations of the HELP system, creating the multitasking operating system HELP ran on. He was a character, probably more of a character than even Larry Weed. He adopted Glen Campbell's song as his career theme song, pointing to the lyrics\n",
    "\n",
    "_There's been a load of compromisin'  \n",
    "On the road to my horizon_  \n",
    "\n",
    "When Wendy was defending her dissertation plan, Dr. Pryor was a bit skeptical. To Al, NLP was a compromise that was going too far. In his words, it was \"giving up.\" While NLP is a hard problem that is not solved now and was far from solved in the 1990s, this was not Pryor's primary concern. His concern was that everything is done _post hoc_---after the fact---you have lost the opportunity to ensure that the document is __complete__ and of high __quality__. Al Pryor wanted to make sure that all documentation was __complete__---every relevant clinical question was addressed---and of high quality---lacking contradictions, ambiguity, etc.\n",
    "\n",
    "Consequently, Al Pryor preferred structured inputs. This is the path that most traditional EHRs have taken: allowing free text when you have to, but trying to capture as much documentation as possible with forms populated with drop down menus. \n",
    "\n",
    "<table style=\"width:75%\">\n",
    "  <tr>\n",
    "    <th>Peter Haug</th>\n",
    "    <th>T. Allan Pryor</th>\n",
    "  </tr>\n",
    "  <tr>\n",
    "    <td><img src=\"https://securembm.uuhsc.utah.edu/zeus/public/mbm-media/faculty-profile?facultyPK=FM00004739\" alt=\"Girl in a jacket\" height=\"239\" style=\"float:center\">\n",
    "</td>\n",
    "    <td><img src=\"media/InfoFair_1990_Speaker_T_Allan_Pryor_Ph_D_.jpg\" alt=\"Al Pryor\" height=\"239\" style=\"float:center\"></td>\n",
    "  </tr>\n",
    "</table>\n",
    "\n",
    "Designing such forms is far from trivial, suffering from a combinatorics explosion due to the huge domain that is being documented. This results in having to click through menu after after menu to get to the appropriate sub menu which is then probably inadequate. Here are two excerpts from _The Digital Doctor_ that address this.\n",
    "\n",
    ">Ross Koppel, the Penn sociologist, has spent the past decade observing IT systems. While he believes the potential for benefit is large, he has observed a galaxy of glitches: lab results buried in screens filled with irrelevant data; endless scrolling required to find information that should be contiguous; drop-down menus missing essential options or offering irrational ones; identical icons (say, an image of a pen) representing several different actions. In a 2012 article, Koppel added, “Sign-ons and sign-offs vary by sub-menu within the same system (i.e., ‘end,’ ‘finish,’ ‘submit,’ ‘quit,’ ‘done,’ ‘next’) and can all do very different things, some with dire consequences for patients.” Even more worrisome, he noted, “Physicians who voice such observations are labeled technophobic, resistant, and uncooperative.” (Wachter, Robert M. . _The Digital Doctor: Hope, Hype, and Harm at the Dawn of Medicine’s Computer Age_ (p. 86). McGraw-Hill Education. Kindle Edition.)\n",
    "\n",
    "---------------------\n",
    "\n",
    ">This checkbox mentality has even turned Larry Weed’s beloved Problem-Oriented Medical Record—in which the patients’ issues are articulated, assessed, and addressed—into a desiccated wasteland, devoid of thought or narrative arc. Part of the catch is that, while it is useful to enumerate problems one at a time, the real art of medical diagnosis comes in seeing the connections between problems—realizing that the patient’s fever, heart murmur, and stroke, when woven together, add up to a diagnosis of bacterial endocarditis, an infection of a heart valve. Moreover, in addition to the clinical diagnosis, we need to consider each case in its context: that the patient is scared, her mother died of cancer at an early age, she can’t afford her medications, and she has a teenager at home who’s struggling with Asperger’s. How, exactly, does one tell that story by robotically checking a bunch of electronic boxes? (Wachter, Robert M. ._The Digital Doctor: Hope, Hype, and Harm at the Dawn of Medicine’s Computer Age_ (pp. 79-80). McGraw-Hill Education. Kindle Edition.)\n",
    "\n",
    "In the subsequent 25 years since Al Pryor criticized NLP, there have been many technical advancements---speech recognition, high speed internet, improved NLP, JavaScript---that have made the possibility of natural documentation that is both complete and high quality more feasible but still difficult. In the following notebooks we will look at some very simple examples of trying to create innovative, standards based documentation. The examples are simple primarily due to my limited programming skill in JavaScript. If you are more expert at this than me, I'd love to see what you could do on your own."
   ]
  },
  {
   "cell_type": "markdown",
   "metadata": {},
   "source": [
    "- [Creating Reports with Templates](./templated_documentation.ipynb)\n",
    "- [Making a Structured Report](./structured_report_with_bioportal.ipynb)\n",
    "- [Using NLP to generate structure](./nlp-bioportal-ner.ipynb)"
   ]
  },
  {
   "cell_type": "code",
   "execution_count": null,
   "metadata": {},
   "outputs": [],
   "source": []
  }
 ],
 "metadata": {
  "kernelspec": {
   "display_name": "Python 3",
   "language": "python",
   "name": "python3"
  },
  "language_info": {
   "codemirror_mode": {
    "name": "ipython",
    "version": 3
   },
   "file_extension": ".py",
   "mimetype": "text/x-python",
   "name": "python",
   "nbconvert_exporter": "python",
   "pygments_lexer": "ipython3",
   "version": "3.7.6"
  }
 },
 "nbformat": 4,
 "nbformat_minor": 4
}

{
 "cells": [
  {
   "cell_type": "markdown",
   "metadata": {},
   "source": [
    "# Plot example data for a single patient\n",
    "\n",
    "This is a modification of the notebook available from [this](https://github.com/MIT-LCP/mimic-iii-paper) repository. It has been modified so as to run on a SQLite3 instance of the MIMIC III demo database. SQLite3 is not handling dates correctly, so I handle dates, times, and deltas in Pandas.\n"
   ]
  },
  {
   "cell_type": "code",
   "execution_count": 327,
   "metadata": {},
   "outputs": [],
   "source": [
    "# Import libraries\n",
    "import numpy as np\n",
    "import pandas as pd\n",
    "import matplotlib.pyplot as plt\n",
    "import sqlite3 as sq\n",
    "import random\n",
    "%matplotlib inline"
   ]
  },
  {
   "cell_type": "code",
   "execution_count": 328,
   "metadata": {
    "collapsed": false,
    "jupyter": {
     "outputs_hidden": false
    }
   },
   "outputs": [],
   "source": [
    "# Config\n",
    "sqluser = 'postgres'\n",
    "dbname = 'mimic'\n",
    "schema_name = 'mimiciii'"
   ]
  },
  {
   "cell_type": "code",
   "execution_count": 329,
   "metadata": {},
   "outputs": [],
   "source": [
    "# Connect to MIMIC\n",
    "con = sq.connect(\"../notebooks/mimic3.db\")\n",
    "cur = con.cursor()\n",
    "#cur.execute('SET search_path to ' + schema_name)\n",
    "# cur.close()\n",
    "# con.close()"
   ]
  },
  {
   "cell_type": "code",
   "execution_count": 330,
   "metadata": {},
   "outputs": [],
   "source": [
    "ids = list(pd.read_sql(\"\"\"SELECT icustay_id FROM icustays\"\"\", con).icustay_id)"
   ]
  },
  {
   "cell_type": "code",
   "execution_count": 331,
   "metadata": {},
   "outputs": [
    {
     "data": {
      "text/plain": [
       "279183"
      ]
     },
     "execution_count": 331,
     "metadata": {},
     "output_type": "execute_result"
    }
   ],
   "source": [
    "# Select a single ICU stay\n",
    "icustay_id = random.choice(ids)\n",
    "icustay_id"
   ]
  },
  {
   "cell_type": "code",
   "execution_count": 332,
   "metadata": {
    "collapsed": false,
    "jupyter": {
     "outputs_hidden": false
    }
   },
   "outputs": [],
   "source": [
    "# Load admissions\n",
    "query = \"\"\"\n",
    "SELECT ad.subject_id\n",
    "  , ad.hadm_id\n",
    "  , ad.admission_type\n",
    "  , ad.diagnosis\n",
    "  , ic.icustay_id\n",
    "  , ic.first_careunit\n",
    "  , ic.last_careunit\n",
    "  , ic.intime as icu_intime\n",
    "  , ad.hospital_expire_flag\n",
    "  , pa.expire_flag\n",
    "FROM admissions ad\n",
    "INNER JOIN icustays ic\n",
    "ON ad.subject_id = ic.subject_id\n",
    "INNER JOIN patients pa\n",
    "ON ad.subject_id = pa.subject_id\n",
    "WHERE ic.icustay_id = \"\"\" + str(icustay_id) + \"\"\" \n",
    "ORDER BY ic.intime\n",
    "\"\"\"\n",
    "\n",
    "admissions = pd.read_sql_query(query,con)"
   ]
  },
  {
   "cell_type": "code",
   "execution_count": 333,
   "metadata": {
    "collapsed": false,
    "jupyter": {
     "outputs_hidden": false
    }
   },
   "outputs": [
    {
     "data": {
      "text/html": [
       "<div>\n",
       "<style scoped>\n",
       "    .dataframe tbody tr th:only-of-type {\n",
       "        vertical-align: middle;\n",
       "    }\n",
       "\n",
       "    .dataframe tbody tr th {\n",
       "        vertical-align: top;\n",
       "    }\n",
       "\n",
       "    .dataframe thead th {\n",
       "        text-align: right;\n",
       "    }\n",
       "</style>\n",
       "<table border=\"1\" class=\"dataframe\">\n",
       "  <thead>\n",
       "    <tr style=\"text-align: right;\">\n",
       "      <th></th>\n",
       "      <th>subject_id</th>\n",
       "      <th>hadm_id</th>\n",
       "      <th>admission_type</th>\n",
       "      <th>diagnosis</th>\n",
       "      <th>icustay_id</th>\n",
       "      <th>first_careunit</th>\n",
       "      <th>last_careunit</th>\n",
       "      <th>icu_intime</th>\n",
       "      <th>hospital_expire_flag</th>\n",
       "      <th>expire_flag</th>\n",
       "    </tr>\n",
       "  </thead>\n",
       "  <tbody>\n",
       "    <tr>\n",
       "      <th>0</th>\n",
       "      <td>40687</td>\n",
       "      <td>129273</td>\n",
       "      <td>EMERGENCY</td>\n",
       "      <td>ABDOMINAL PAIN</td>\n",
       "      <td>279183</td>\n",
       "      <td>MICU</td>\n",
       "      <td>MICU</td>\n",
       "      <td>2155-03-10 01:54:58</td>\n",
       "      <td>1</td>\n",
       "      <td>1</td>\n",
       "    </tr>\n",
       "  </tbody>\n",
       "</table>\n",
       "</div>"
      ],
      "text/plain": [
       "   subject_id  hadm_id admission_type       diagnosis  icustay_id  \\\n",
       "0       40687   129273      EMERGENCY  ABDOMINAL PAIN      279183   \n",
       "\n",
       "  first_careunit last_careunit           icu_intime  hospital_expire_flag  \\\n",
       "0           MICU          MICU  2155-03-10 01:54:58                     1   \n",
       "\n",
       "   expire_flag  \n",
       "0            1  "
      ]
     },
     "execution_count": 333,
     "metadata": {},
     "output_type": "execute_result"
    }
   ],
   "source": [
    "# First few rows of admissions\n",
    "admissions.head()"
   ]
  },
  {
   "cell_type": "code",
   "execution_count": 334,
   "metadata": {
    "collapsed": false,
    "jupyter": {
     "outputs_hidden": false
    }
   },
   "outputs": [],
   "source": [
    "# Load chartevents\n",
    "query = \"\"\"\n",
    "SELECT ce.icustay_id\n",
    "  , ce.charttime\n",
    "  , ie.intime\n",
    "  , di.label\n",
    "  , ce.value\n",
    "  , ce.valuenum\n",
    "  , ce.valueuom\n",
    "FROM chartevents ce\n",
    "INNER join d_items di\n",
    "ON ce.itemid = di.itemid\n",
    "INNER join icustays ie\n",
    "ON ce.icustay_id = ie.icustay_id\n",
    "WHERE ce.icustay_id = \"\"\" + str(icustay_id) + \"\"\"\n",
    "AND error != 1\n",
    "ORDER BY ce.charttime\n",
    "\"\"\"\n",
    "\n",
    "charts = pd.read_sql_query(query,con)"
   ]
  },
  {
   "cell_type": "code",
   "execution_count": 335,
   "metadata": {
    "collapsed": false,
    "jupyter": {
     "outputs_hidden": false
    }
   },
   "outputs": [
    {
     "data": {
      "text/html": [
       "<div>\n",
       "<style scoped>\n",
       "    .dataframe tbody tr th:only-of-type {\n",
       "        vertical-align: middle;\n",
       "    }\n",
       "\n",
       "    .dataframe tbody tr th {\n",
       "        vertical-align: top;\n",
       "    }\n",
       "\n",
       "    .dataframe thead th {\n",
       "        text-align: right;\n",
       "    }\n",
       "</style>\n",
       "<table border=\"1\" class=\"dataframe\">\n",
       "  <thead>\n",
       "    <tr style=\"text-align: right;\">\n",
       "      <th></th>\n",
       "      <th>icustay_id</th>\n",
       "      <th>charttime</th>\n",
       "      <th>intime</th>\n",
       "      <th>label</th>\n",
       "      <th>value</th>\n",
       "      <th>valuenum</th>\n",
       "      <th>valueuom</th>\n",
       "    </tr>\n",
       "  </thead>\n",
       "  <tbody>\n",
       "    <tr>\n",
       "      <th>0</th>\n",
       "      <td>279183.0</td>\n",
       "      <td>2155-03-10 01:45:00</td>\n",
       "      <td>2155-03-10 01:54:58</td>\n",
       "      <td>O2 Flow</td>\n",
       "      <td>15</td>\n",
       "      <td>15.0</td>\n",
       "      <td>L/min</td>\n",
       "    </tr>\n",
       "    <tr>\n",
       "      <th>1</th>\n",
       "      <td>279183.0</td>\n",
       "      <td>2155-03-10 01:45:00</td>\n",
       "      <td>2155-03-10 01:54:58</td>\n",
       "      <td>Inspired O2 Fraction</td>\n",
       "      <td>100</td>\n",
       "      <td>100.0</td>\n",
       "      <td>None</td>\n",
       "    </tr>\n",
       "    <tr>\n",
       "      <th>2</th>\n",
       "      <td>279183.0</td>\n",
       "      <td>2155-03-10 01:45:00</td>\n",
       "      <td>2155-03-10 01:54:58</td>\n",
       "      <td>O2 Delivery Device(s)</td>\n",
       "      <td>Non-rebreather</td>\n",
       "      <td>NaN</td>\n",
       "      <td>None</td>\n",
       "    </tr>\n",
       "    <tr>\n",
       "      <th>3</th>\n",
       "      <td>279183.0</td>\n",
       "      <td>2155-03-10 01:52:00</td>\n",
       "      <td>2155-03-10 01:54:58</td>\n",
       "      <td>Hemoglobin</td>\n",
       "      <td>11.4</td>\n",
       "      <td>11.4</td>\n",
       "      <td>g/dl</td>\n",
       "    </tr>\n",
       "    <tr>\n",
       "      <th>4</th>\n",
       "      <td>279183.0</td>\n",
       "      <td>2155-03-10 01:52:00</td>\n",
       "      <td>2155-03-10 01:54:58</td>\n",
       "      <td>Hematocrit (serum)</td>\n",
       "      <td>34.3</td>\n",
       "      <td>34.3</td>\n",
       "      <td>%</td>\n",
       "    </tr>\n",
       "  </tbody>\n",
       "</table>\n",
       "</div>"
      ],
      "text/plain": [
       "   icustay_id            charttime               intime  \\\n",
       "0    279183.0  2155-03-10 01:45:00  2155-03-10 01:54:58   \n",
       "1    279183.0  2155-03-10 01:45:00  2155-03-10 01:54:58   \n",
       "2    279183.0  2155-03-10 01:45:00  2155-03-10 01:54:58   \n",
       "3    279183.0  2155-03-10 01:52:00  2155-03-10 01:54:58   \n",
       "4    279183.0  2155-03-10 01:52:00  2155-03-10 01:54:58   \n",
       "\n",
       "                   label           value  valuenum valueuom  \n",
       "0                O2 Flow              15      15.0    L/min  \n",
       "1   Inspired O2 Fraction             100     100.0     None  \n",
       "2  O2 Delivery Device(s)  Non-rebreather       NaN     None  \n",
       "3             Hemoglobin            11.4      11.4     g/dl  \n",
       "4     Hematocrit (serum)            34.3      34.3        %  "
      ]
     },
     "execution_count": 335,
     "metadata": {},
     "output_type": "execute_result"
    }
   ],
   "source": [
    "# First few rows of charts\n",
    "charts.head()"
   ]
  },
  {
   "cell_type": "code",
   "execution_count": 336,
   "metadata": {
    "collapsed": false,
    "jupyter": {
     "outputs_hidden": false
    }
   },
   "outputs": [],
   "source": [
    "# Load outputevents\n",
    "query = \"\"\"\n",
    "SELECT oe.icustay_id\n",
    "  , oe.charttime\n",
    "  , ie.intime\n",
    "  , di.label\n",
    "  , oe.value\n",
    "  , oe.valueuom\n",
    "FROM outputevents oe \n",
    "INNER JOIN icustays ie\n",
    "  ON oe.icustay_id = ie.icustay_id\n",
    "INNER JOIN d_items di\n",
    "  ON oe.itemid = di.itemid\n",
    "WHERE oe.icustay_id = \"\"\" + str(icustay_id) + \"\"\"\n",
    "ORDER BY oe.charttime\n",
    "\"\"\"\n",
    "\n",
    "outputs = pd.read_sql_query(query,con)"
   ]
  },
  {
   "cell_type": "code",
   "execution_count": 337,
   "metadata": {
    "collapsed": false,
    "jupyter": {
     "outputs_hidden": false
    }
   },
   "outputs": [
    {
     "data": {
      "text/html": [
       "<div>\n",
       "<style scoped>\n",
       "    .dataframe tbody tr th:only-of-type {\n",
       "        vertical-align: middle;\n",
       "    }\n",
       "\n",
       "    .dataframe tbody tr th {\n",
       "        vertical-align: top;\n",
       "    }\n",
       "\n",
       "    .dataframe thead th {\n",
       "        text-align: right;\n",
       "    }\n",
       "</style>\n",
       "<table border=\"1\" class=\"dataframe\">\n",
       "  <thead>\n",
       "    <tr style=\"text-align: right;\">\n",
       "      <th></th>\n",
       "      <th>icustay_id</th>\n",
       "      <th>charttime</th>\n",
       "      <th>intime</th>\n",
       "      <th>label</th>\n",
       "      <th>value</th>\n",
       "      <th>valueuom</th>\n",
       "    </tr>\n",
       "  </thead>\n",
       "  <tbody>\n",
       "    <tr>\n",
       "      <th>0</th>\n",
       "      <td>279183.0</td>\n",
       "      <td>2155-03-10 02:00:00</td>\n",
       "      <td>2155-03-10 01:54:58</td>\n",
       "      <td>Foley</td>\n",
       "      <td>100.0</td>\n",
       "      <td>mL</td>\n",
       "    </tr>\n",
       "    <tr>\n",
       "      <th>1</th>\n",
       "      <td>279183.0</td>\n",
       "      <td>2155-03-10 03:00:00</td>\n",
       "      <td>2155-03-10 01:54:58</td>\n",
       "      <td>Foley</td>\n",
       "      <td>80.0</td>\n",
       "      <td>mL</td>\n",
       "    </tr>\n",
       "    <tr>\n",
       "      <th>2</th>\n",
       "      <td>279183.0</td>\n",
       "      <td>2155-03-10 04:00:00</td>\n",
       "      <td>2155-03-10 01:54:58</td>\n",
       "      <td>Foley</td>\n",
       "      <td>40.0</td>\n",
       "      <td>mL</td>\n",
       "    </tr>\n",
       "    <tr>\n",
       "      <th>3</th>\n",
       "      <td>279183.0</td>\n",
       "      <td>2155-03-10 06:00:00</td>\n",
       "      <td>2155-03-10 01:54:58</td>\n",
       "      <td>Foley</td>\n",
       "      <td>35.0</td>\n",
       "      <td>mL</td>\n",
       "    </tr>\n",
       "    <tr>\n",
       "      <th>4</th>\n",
       "      <td>279183.0</td>\n",
       "      <td>2155-03-10 09:31:00</td>\n",
       "      <td>2155-03-10 01:54:58</td>\n",
       "      <td>Foley</td>\n",
       "      <td>540.0</td>\n",
       "      <td>mL</td>\n",
       "    </tr>\n",
       "  </tbody>\n",
       "</table>\n",
       "</div>"
      ],
      "text/plain": [
       "   icustay_id            charttime               intime  label  value valueuom\n",
       "0    279183.0  2155-03-10 02:00:00  2155-03-10 01:54:58  Foley  100.0       mL\n",
       "1    279183.0  2155-03-10 03:00:00  2155-03-10 01:54:58  Foley   80.0       mL\n",
       "2    279183.0  2155-03-10 04:00:00  2155-03-10 01:54:58  Foley   40.0       mL\n",
       "3    279183.0  2155-03-10 06:00:00  2155-03-10 01:54:58  Foley   35.0       mL\n",
       "4    279183.0  2155-03-10 09:31:00  2155-03-10 01:54:58  Foley  540.0       mL"
      ]
     },
     "execution_count": 337,
     "metadata": {},
     "output_type": "execute_result"
    }
   ],
   "source": [
    "# First few rows of outputs\n",
    "outputs.head()"
   ]
  },
  {
   "cell_type": "code",
   "execution_count": 338,
   "metadata": {
    "collapsed": false,
    "jupyter": {
     "outputs_hidden": false
    }
   },
   "outputs": [],
   "source": [
    "# Load inputevents\n",
    "query = \"\"\"\n",
    "SELECT inp.icustay_id\n",
    "  , inp.starttime\n",
    "  , inp.endtime\n",
    "  , ie.intime\n",
    "  , di.label\n",
    "  , inp.amount\n",
    "  , inp.amountuom\n",
    "  , inp.rate\n",
    "  , inp.rateuom\n",
    "FROM inputevents_mv inp \n",
    "INNER join icustays ie\n",
    "  ON inp.icustay_id = ie.icustay_id\n",
    "INNER join d_items di\n",
    "  ON inp.itemid = di.itemid\n",
    "WHERE inp.icustay_id = \"\"\" + str(icustay_id) + \"\"\"\n",
    "AND lower(inp.statusdescription) != 'rewritten'\n",
    "ORDER BY inp.starttime\n",
    "\"\"\"\n",
    "\n",
    "inputs = pd.read_sql_query(query,con)"
   ]
  },
  {
   "cell_type": "code",
   "execution_count": 339,
   "metadata": {
    "collapsed": false,
    "jupyter": {
     "outputs_hidden": false
    }
   },
   "outputs": [
    {
     "data": {
      "text/html": [
       "<div>\n",
       "<style scoped>\n",
       "    .dataframe tbody tr th:only-of-type {\n",
       "        vertical-align: middle;\n",
       "    }\n",
       "\n",
       "    .dataframe tbody tr th {\n",
       "        vertical-align: top;\n",
       "    }\n",
       "\n",
       "    .dataframe thead th {\n",
       "        text-align: right;\n",
       "    }\n",
       "</style>\n",
       "<table border=\"1\" class=\"dataframe\">\n",
       "  <thead>\n",
       "    <tr style=\"text-align: right;\">\n",
       "      <th></th>\n",
       "      <th>icustay_id</th>\n",
       "      <th>starttime</th>\n",
       "      <th>endtime</th>\n",
       "      <th>intime</th>\n",
       "      <th>label</th>\n",
       "      <th>amount</th>\n",
       "      <th>amountuom</th>\n",
       "      <th>rate</th>\n",
       "      <th>rateuom</th>\n",
       "    </tr>\n",
       "  </thead>\n",
       "  <tbody>\n",
       "    <tr>\n",
       "      <th>0</th>\n",
       "      <td>279183</td>\n",
       "      <td>2155-03-10 05:30:00</td>\n",
       "      <td>2155-03-11 17:58:00</td>\n",
       "      <td>2155-03-10 01:54:58</td>\n",
       "      <td>NaCl 0.9%</td>\n",
       "      <td>182.333339</td>\n",
       "      <td>ml</td>\n",
       "      <td>5.0</td>\n",
       "      <td>mL/hour</td>\n",
       "    </tr>\n",
       "    <tr>\n",
       "      <th>1</th>\n",
       "      <td>279183</td>\n",
       "      <td>2155-03-10 06:00:00</td>\n",
       "      <td>2155-03-10 06:01:00</td>\n",
       "      <td>2155-03-10 01:54:58</td>\n",
       "      <td>Piperacillin/Tazobactam (Zosyn)</td>\n",
       "      <td>1.000000</td>\n",
       "      <td>dose</td>\n",
       "      <td>NaN</td>\n",
       "      <td>None</td>\n",
       "    </tr>\n",
       "    <tr>\n",
       "      <th>2</th>\n",
       "      <td>279183</td>\n",
       "      <td>2155-03-10 06:00:00</td>\n",
       "      <td>2155-03-10 06:01:00</td>\n",
       "      <td>2155-03-10 01:54:58</td>\n",
       "      <td>Dextrose 5%</td>\n",
       "      <td>100.000000</td>\n",
       "      <td>ml</td>\n",
       "      <td>NaN</td>\n",
       "      <td>None</td>\n",
       "    </tr>\n",
       "    <tr>\n",
       "      <th>3</th>\n",
       "      <td>279183</td>\n",
       "      <td>2155-03-10 10:03:00</td>\n",
       "      <td>2155-03-10 10:04:00</td>\n",
       "      <td>2155-03-10 01:54:58</td>\n",
       "      <td>Piperacillin/Tazobactam (Zosyn)</td>\n",
       "      <td>1.000000</td>\n",
       "      <td>dose</td>\n",
       "      <td>NaN</td>\n",
       "      <td>None</td>\n",
       "    </tr>\n",
       "    <tr>\n",
       "      <th>4</th>\n",
       "      <td>279183</td>\n",
       "      <td>2155-03-10 10:03:00</td>\n",
       "      <td>2155-03-10 10:04:00</td>\n",
       "      <td>2155-03-10 01:54:58</td>\n",
       "      <td>Dextrose 5%</td>\n",
       "      <td>100.000000</td>\n",
       "      <td>ml</td>\n",
       "      <td>NaN</td>\n",
       "      <td>None</td>\n",
       "    </tr>\n",
       "  </tbody>\n",
       "</table>\n",
       "</div>"
      ],
      "text/plain": [
       "   icustay_id            starttime              endtime               intime  \\\n",
       "0      279183  2155-03-10 05:30:00  2155-03-11 17:58:00  2155-03-10 01:54:58   \n",
       "1      279183  2155-03-10 06:00:00  2155-03-10 06:01:00  2155-03-10 01:54:58   \n",
       "2      279183  2155-03-10 06:00:00  2155-03-10 06:01:00  2155-03-10 01:54:58   \n",
       "3      279183  2155-03-10 10:03:00  2155-03-10 10:04:00  2155-03-10 01:54:58   \n",
       "4      279183  2155-03-10 10:03:00  2155-03-10 10:04:00  2155-03-10 01:54:58   \n",
       "\n",
       "                             label      amount amountuom  rate  rateuom  \n",
       "0                        NaCl 0.9%  182.333339        ml   5.0  mL/hour  \n",
       "1  Piperacillin/Tazobactam (Zosyn)    1.000000      dose   NaN     None  \n",
       "2                      Dextrose 5%  100.000000        ml   NaN     None  \n",
       "3  Piperacillin/Tazobactam (Zosyn)    1.000000      dose   NaN     None  \n",
       "4                      Dextrose 5%  100.000000        ml   NaN     None  "
      ]
     },
     "execution_count": 339,
     "metadata": {},
     "output_type": "execute_result"
    }
   ],
   "source": [
    "# First few rows of inputs\n",
    "inputs.head()"
   ]
  },
  {
   "cell_type": "code",
   "execution_count": 340,
   "metadata": {
    "collapsed": false,
    "jupyter": {
     "outputs_hidden": false
    }
   },
   "outputs": [],
   "source": [
    "# Load labevents\n",
    "query = \"\"\"\n",
    "SELECT le.subject_id\n",
    "  , ie.icustay_id\n",
    "  , le.charttime\n",
    "  , ie.intime \n",
    "  , di.label\n",
    "  , le.value\n",
    "  , le.valuenum\n",
    "  , le.valueuom\n",
    "FROM labevents le\n",
    "INNER join icustays ie\n",
    "  ON le.subject_id = ie.subject_id\n",
    "  AND le.charttime >= ie.intime\n",
    "  AND le.charttime <= ie.outtime\n",
    "INNER JOIN d_labitems di\n",
    "  ON le.itemid = di.itemid\n",
    "WHERE ie.icustay_id = \"\"\" + str(icustay_id) + \"\"\"\n",
    "ORDER BY le.charttime\n",
    "\"\"\"\n",
    "\n",
    "labs = pd.read_sql_query(query,con)"
   ]
  },
  {
   "cell_type": "code",
   "execution_count": 341,
   "metadata": {
    "collapsed": false,
    "jupyter": {
     "outputs_hidden": false
    }
   },
   "outputs": [
    {
     "name": "stdout",
     "output_type": "stream",
     "text": [
      "icustay_id    float64\n",
      "charttime      object\n",
      "intime         object\n",
      "label          object\n",
      "value          object\n",
      "valuenum      float64\n",
      "valueuom       object\n",
      "dtype: object\n"
     ]
    },
    {
     "data": {
      "text/html": [
       "<div>\n",
       "<style scoped>\n",
       "    .dataframe tbody tr th:only-of-type {\n",
       "        vertical-align: middle;\n",
       "    }\n",
       "\n",
       "    .dataframe tbody tr th {\n",
       "        vertical-align: top;\n",
       "    }\n",
       "\n",
       "    .dataframe thead th {\n",
       "        text-align: right;\n",
       "    }\n",
       "</style>\n",
       "<table border=\"1\" class=\"dataframe\">\n",
       "  <thead>\n",
       "    <tr style=\"text-align: right;\">\n",
       "      <th></th>\n",
       "      <th>icustay_id</th>\n",
       "      <th>starttime</th>\n",
       "      <th>endtime</th>\n",
       "      <th>intime</th>\n",
       "      <th>label</th>\n",
       "      <th>amount</th>\n",
       "      <th>amountuom</th>\n",
       "      <th>rate</th>\n",
       "      <th>rateuom</th>\n",
       "    </tr>\n",
       "  </thead>\n",
       "  <tbody>\n",
       "    <tr>\n",
       "      <th>0</th>\n",
       "      <td>279183</td>\n",
       "      <td>2155-03-10 05:30:00</td>\n",
       "      <td>2155-03-11 17:58:00</td>\n",
       "      <td>2155-03-10 01:54:58</td>\n",
       "      <td>NaCl 0.9%</td>\n",
       "      <td>182.333339</td>\n",
       "      <td>ml</td>\n",
       "      <td>5.0</td>\n",
       "      <td>mL/hour</td>\n",
       "    </tr>\n",
       "    <tr>\n",
       "      <th>1</th>\n",
       "      <td>279183</td>\n",
       "      <td>2155-03-10 06:00:00</td>\n",
       "      <td>2155-03-10 06:01:00</td>\n",
       "      <td>2155-03-10 01:54:58</td>\n",
       "      <td>Piperacillin/Tazobactam (Zosyn)</td>\n",
       "      <td>1.000000</td>\n",
       "      <td>dose</td>\n",
       "      <td>NaN</td>\n",
       "      <td>None</td>\n",
       "    </tr>\n",
       "    <tr>\n",
       "      <th>2</th>\n",
       "      <td>279183</td>\n",
       "      <td>2155-03-10 06:00:00</td>\n",
       "      <td>2155-03-10 06:01:00</td>\n",
       "      <td>2155-03-10 01:54:58</td>\n",
       "      <td>Dextrose 5%</td>\n",
       "      <td>100.000000</td>\n",
       "      <td>ml</td>\n",
       "      <td>NaN</td>\n",
       "      <td>None</td>\n",
       "    </tr>\n",
       "    <tr>\n",
       "      <th>3</th>\n",
       "      <td>279183</td>\n",
       "      <td>2155-03-10 10:03:00</td>\n",
       "      <td>2155-03-10 10:04:00</td>\n",
       "      <td>2155-03-10 01:54:58</td>\n",
       "      <td>Piperacillin/Tazobactam (Zosyn)</td>\n",
       "      <td>1.000000</td>\n",
       "      <td>dose</td>\n",
       "      <td>NaN</td>\n",
       "      <td>None</td>\n",
       "    </tr>\n",
       "    <tr>\n",
       "      <th>4</th>\n",
       "      <td>279183</td>\n",
       "      <td>2155-03-10 10:03:00</td>\n",
       "      <td>2155-03-10 10:04:00</td>\n",
       "      <td>2155-03-10 01:54:58</td>\n",
       "      <td>Dextrose 5%</td>\n",
       "      <td>100.000000</td>\n",
       "      <td>ml</td>\n",
       "      <td>NaN</td>\n",
       "      <td>None</td>\n",
       "    </tr>\n",
       "  </tbody>\n",
       "</table>\n",
       "</div>"
      ],
      "text/plain": [
       "   icustay_id            starttime              endtime               intime  \\\n",
       "0      279183  2155-03-10 05:30:00  2155-03-11 17:58:00  2155-03-10 01:54:58   \n",
       "1      279183  2155-03-10 06:00:00  2155-03-10 06:01:00  2155-03-10 01:54:58   \n",
       "2      279183  2155-03-10 06:00:00  2155-03-10 06:01:00  2155-03-10 01:54:58   \n",
       "3      279183  2155-03-10 10:03:00  2155-03-10 10:04:00  2155-03-10 01:54:58   \n",
       "4      279183  2155-03-10 10:03:00  2155-03-10 10:04:00  2155-03-10 01:54:58   \n",
       "\n",
       "                             label      amount amountuom  rate  rateuom  \n",
       "0                        NaCl 0.9%  182.333339        ml   5.0  mL/hour  \n",
       "1  Piperacillin/Tazobactam (Zosyn)    1.000000      dose   NaN     None  \n",
       "2                      Dextrose 5%  100.000000        ml   NaN     None  \n",
       "3  Piperacillin/Tazobactam (Zosyn)    1.000000      dose   NaN     None  \n",
       "4                      Dextrose 5%  100.000000        ml   NaN     None  "
      ]
     },
     "execution_count": 341,
     "metadata": {},
     "output_type": "execute_result"
    }
   ],
   "source": [
    "# First few rows of labs\n",
    "print(charts.dtypes)\n",
    "inputs.head()"
   ]
  },
  {
   "cell_type": "code",
   "execution_count": 342,
   "metadata": {},
   "outputs": [
    {
     "data": {
      "text/plain": [
       "dtype('<M8[ns]')"
      ]
     },
     "execution_count": 342,
     "metadata": {},
     "output_type": "execute_result"
    }
   ],
   "source": [
    "pd.to_datetime(outputs[\"charttime\"], format=\"%Y-%m-%d %H:%M:%S\").dtype"
   ]
  },
  {
   "cell_type": "markdown",
   "metadata": {},
   "source": [
    "### Dates are not converting"
   ]
  },
  {
   "cell_type": "code",
   "execution_count": 343,
   "metadata": {},
   "outputs": [],
   "source": [
    "admissions[\"icu_intime\"] = admissions[\"icu_intime\"].apply(pd.to_datetime) #format=\"%Y-%m-%d %H:%M:%S\")\n",
    "charts[[\"charttime\", \"intime\"]] = charts[[\"charttime\", \"intime\"]].apply(pd.to_datetime)#, format=\"%Y-%m-%d %H:%M:%S\")\n",
    "outputs[[\"charttime\", \"intime\"]] = outputs[[\"charttime\", \"intime\"]].apply(pd.to_datetime)#, format=\"%Y-%m-%d %H:%M:%S\")\n",
    "inputs[[\"starttime\", \"intime\", \"endtime\"]] = inputs[[\"starttime\", \"intime\", \"endtime\"]].apply(pd.to_datetime)#, format=\"%Y-%m-%d %H:%M:%S\")\n",
    "labs[[\"charttime\", \"intime\"]] = labs[[\"charttime\", \"intime\"]].apply(pd.to_datetime)#, format=\"%Y-%m-%d %H:%M:%S\")"
   ]
  },
  {
   "cell_type": "code",
   "execution_count": 344,
   "metadata": {},
   "outputs": [
    {
     "data": {
      "text/plain": [
       "icustay_id           float64\n",
       "charttime     datetime64[ns]\n",
       "intime        datetime64[ns]\n",
       "label                 object\n",
       "value                float64\n",
       "valueuom              object\n",
       "dtype: object"
      ]
     },
     "execution_count": 344,
     "metadata": {},
     "output_type": "execute_result"
    }
   ],
   "source": [
    "outputs.dtypes"
   ]
  },
  {
   "cell_type": "code",
   "execution_count": 345,
   "metadata": {},
   "outputs": [],
   "source": [
    "labs[\"icutime\"] = labs.charttime - labs.intime\n",
    "inputs[\"icustarttime\"] = inputs.starttime - inputs.intime\n",
    "inputs[\"icuendtime\"] = inputs.endtime - inputs.intime\n",
    "outputs[\"icutime\"]= outputs.charttime - outputs.intime \n",
    "charts[\"icutime\"] = charts.charttime - charts.intime"
   ]
  },
  {
   "cell_type": "code",
   "execution_count": null,
   "metadata": {},
   "outputs": [],
   "source": []
  },
  {
   "cell_type": "code",
   "execution_count": null,
   "metadata": {},
   "outputs": [],
   "source": []
  },
  {
   "cell_type": "code",
   "execution_count": 346,
   "metadata": {
    "collapsed": false,
    "jupyter": {
     "outputs_hidden": false
    }
   },
   "outputs": [],
   "source": [
    "# Snip data to specified number of days\n",
    "maxdays = 5;\n",
    "charts = charts.loc[charts.icutime.dt.days<=maxdays]\n",
    "outputs = outputs.loc[outputs.icutime.dt.days<=maxdays]\n",
    "inputs = inputs.loc[inputs.icustarttime.dt.days<=maxdays]\n",
    "labs = labs.loc[labs.icutime.dt.days<=maxdays]"
   ]
  },
  {
   "cell_type": "code",
   "execution_count": 347,
   "metadata": {
    "collapsed": false,
    "jupyter": {
     "outputs_hidden": false
    }
   },
   "outputs": [],
   "source": [
    "# Create column with minutes from ICU intime\n",
    "charts['icutimehr'] = (charts['icutime'].dt.seconds/60/60)+(charts['icutime'].dt.days*24)\n",
    "outputs['icutimehr'] = (outputs['icutime'].dt.seconds/60/60)+(outputs['icutime'].dt.days*24)\n",
    "inputs['icustarttimehr'] = (inputs['icustarttime'].dt.seconds/60/60)+(inputs['icustarttime'].dt.days*24)\n",
    "inputs['icuendtimehr'] = (inputs['icuendtime'].dt.seconds/60/60)+(inputs['icuendtime'].dt.days*24)\n",
    "labs['icutimehr'] = (labs['icutime'].dt.seconds/60/60)+(labs['icutime'].dt.days*24)"
   ]
  },
  {
   "cell_type": "code",
   "execution_count": 348,
   "metadata": {
    "collapsed": false,
    "jupyter": {
     "outputs_hidden": false
    }
   },
   "outputs": [
    {
     "data": {
      "text/plain": [
       "O2 saturation pulseoxymetry         37\n",
       "Heart Rate                          37\n",
       "Heart Rhythm                        36\n",
       "Respiratory Rate                    36\n",
       "Non Invasive Blood Pressure mean    35\n",
       "Name: label, dtype: int64"
      ]
     },
     "execution_count": 348,
     "metadata": {},
     "output_type": "execute_result"
    }
   ],
   "source": [
    "# What are the most commonly measured variables in charts?\n",
    "charts['label'].value_counts().head()"
   ]
  },
  {
   "cell_type": "code",
   "execution_count": 349,
   "metadata": {
    "collapsed": false,
    "jupyter": {
     "outputs_hidden": false
    }
   },
   "outputs": [
    {
     "data": {
      "text/plain": [
       "Foley    19\n",
       "Name: label, dtype: int64"
      ]
     },
     "execution_count": 349,
     "metadata": {},
     "output_type": "execute_result"
    }
   ],
   "source": [
    "# What are the most commonly measured variables in charts?\n",
    "outputs['label'].value_counts().head()"
   ]
  },
  {
   "cell_type": "code",
   "execution_count": 350,
   "metadata": {
    "collapsed": false,
    "jupyter": {
     "outputs_hidden": false
    }
   },
   "outputs": [
    {
     "data": {
      "text/plain": [
       "Dextrose 5%                        6\n",
       "Piperacillin/Tazobactam (Zosyn)    5\n",
       "Furosemide (Lasix)                 2\n",
       "Haloperidol (Haldol)               1\n",
       "Morphine Sulfate                   1\n",
       "Name: label, dtype: int64"
      ]
     },
     "execution_count": 350,
     "metadata": {},
     "output_type": "execute_result"
    }
   ],
   "source": [
    "# What are the most commonly measured variables in charts?\n",
    "inputs['label'].value_counts().head()"
   ]
  },
  {
   "cell_type": "code",
   "execution_count": 351,
   "metadata": {
    "collapsed": false,
    "jupyter": {
     "outputs_hidden": false
    }
   },
   "outputs": [
    {
     "data": {
      "text/plain": [
       "subject_id                     40687\n",
       "icustay_id                    279183\n",
       "valuenum                     32.4165\n",
       "icutime       0 days 18:01:23.250000\n",
       "icutimehr                    18.0231\n",
       "dtype: object"
      ]
     },
     "execution_count": 351,
     "metadata": {},
     "output_type": "execute_result"
    }
   ],
   "source": [
    "# What are the most commonly measured variables in charts?\n",
    "labs.mean()"
   ]
  },
  {
   "cell_type": "code",
   "execution_count": 352,
   "metadata": {
    "collapsed": false,
    "jupyter": {
     "outputs_hidden": false
    }
   },
   "outputs": [
    {
     "name": "stdout",
     "output_type": "stream",
     "text": [
      "Mean HR is: 112.54\n",
      "Mean BP is: 17.17\n",
      "Mean temp, C is: 35.80\n"
     ]
    }
   ],
   "source": [
    "# Get average values\n",
    "hr_mean = charts.valuenum[charts.label=='Heart Rate'].mean()\n",
    "bp_mean = charts.icutimehr[charts.label=='Non Invasive Blood Pressure mean'].mean()\n",
    "temp_mean = ((charts.valuenum[charts.label=='Temperature Fahrenheit']-32)/1.8).mean()\n",
    "\n",
    "# Print averages\n",
    "print(\"Mean HR is: {0:.2f}\".format(hr_mean))\n",
    "print(\"Mean BP is: {0:.2f}\".format(bp_mean))\n",
    "print(\"Mean temp, C is: {0:.2f}\".format(temp_mean))\n"
   ]
  },
  {
   "cell_type": "code",
   "execution_count": 353,
   "metadata": {
    "collapsed": false,
    "jupyter": {
     "outputs_hidden": false
    }
   },
   "outputs": [
    {
     "data": {
      "image/png": "[encoded data removed]",
      "text/plain": [
       "<Figure size 1584x1440 with 1 Axes>"
      ]
     },
     "metadata": {
      "needs_background": "light"
     },
     "output_type": "display_data"
    }
   ],
   "source": [
    "# Plot sample data over first 24 hours from admission to ICU\n",
    "# Credit: Randal Olson for styling (http://www.randalolson.com/2014/06/28/)\n",
    "\n",
    "# Prepare the size of the figure\n",
    "fig = plt.figure(figsize=(22, 20))\n",
    "plt.rcParams.update({'font.size': 22})\n",
    "\n",
    "# \"Tableau 20\" colors as RGB.   \n",
    "tableau20 = [(31, 119, 180), (174, 199, 232), (255, 127, 14), (255, 187, 120),    \n",
    "             (44, 160, 44), (152, 223, 138), (214, 39, 40), (255, 152, 150),    \n",
    "             (148, 103, 189), (197, 176, 213), (140, 86, 75), (196, 156, 148),    \n",
    "             (227, 119, 194), (247, 182, 210), (127, 127, 127), (199, 199, 199),    \n",
    "             (188, 189, 34), (219, 219, 141), (23, 190, 207), (158, 218, 229)]  \n",
    "  \n",
    "# Scale the RGB values to the [0, 1] range, which is the format matplotlib accepts.    \n",
    "for i in range(len(tableau20)):    \n",
    "    r, g, b = tableau20[i]    \n",
    "    tableau20[i] = (r / 255., g / 255., b / 255.)\n",
    "    \n",
    "# Remove the plot frame lines. \n",
    "ax = plt.subplot(111)    \n",
    "ax.spines[\"top\"].set_visible(False)    \n",
    "ax.spines[\"bottom\"].set_visible(True)    \n",
    "ax.spines[\"right\"].set_visible(False)    \n",
    "ax.spines[\"left\"].set_visible(True)    \n",
    "  \n",
    "# Ensure that the axis ticks only show up on the bottom and left of the plot.      \n",
    "ax.get_xaxis().tick_bottom()    \n",
    "ax.get_yaxis().tick_left() \n",
    "ax.axis([0,60,0,225])\n",
    "\n",
    "# Plot vital signs\n",
    "plt.plot(charts.icutimehr[charts.label=='Heart Rate'], \n",
    "         charts.valuenum[charts.label=='Heart Rate'],\n",
    "         color=tableau20[6], lw=2.5,\n",
    "         marker='o', markersize=6, label='Heart rate')\n",
    "\n",
    "plt.plot(charts.icutimehr[charts.label=='O2 saturation pulseoxymetry'], \n",
    "         charts.valuenum[charts.label=='O2 saturation pulseoxymetry'],\n",
    "         color=tableau20[1], lw=2.5, \n",
    "         marker='o', markersize=6, label='O2 saturation')\n",
    "\n",
    "plt.plot(charts.icutimehr[charts.label=='Non Invasive Blood Pressure mean'], \n",
    "         charts.valuenum[charts.label=='Non Invasive Blood Pressure mean'],\n",
    "         color=tableau20[4], lw=2.5,\n",
    "         marker='o', markersize=6, label='NIBP, mean')\n",
    "\n",
    "plt.plot(charts.icutimehr[charts.label=='Respiratory Rate'], \n",
    "         charts.valuenum[charts.label=='Respiratory Rate'],\n",
    "         color=tableau20[2], lw=2.5,\n",
    "         marker='o', markersize=6, label='Respiratory rate')\n",
    "\n",
    "# for i, txt in enumerate(charts.value[charts.label=='Temperature Fahrenheit'].values):\n",
    "#         plt.annotate(txt,(charts.icutimehr[charts.label=='Temperature Fahrenheit'].\n",
    "#                            values[i],140),fontsize=15)\n",
    "\n",
    "# Plot input/output events\n",
    "plt.plot(inputs.icustarttimehr[inputs.amountuom=='mL'], \n",
    "         inputs.amount[inputs.amountuom=='mL'].cumsum()/100, \n",
    "         color=tableau20[9], lw=2.5,\n",
    "         marker='o', markersize=6, label='Intake volume, dL')\n",
    "\n",
    "plt.plot(outputs.icutimehr, \n",
    "         outputs.value.cumsum()/100, \n",
    "         color=tableau20[10], lw=2.5,\n",
    "         marker='o', markersize=6, label='Output volume, dL')\n",
    "\n",
    "# Plot intravenous meds\n",
    "plt.text(-10,150,'NaCl 0.9%',fontsize=17)\n",
    "for i,row in inputs.loc[(inputs[\"label\"] =='NaCl 0.9%') & (inputs[\"rate\"] > 0)].iterrows():\n",
    "    plt.plot([row['icustarttimehr'],row['icuendtimehr']],[150]*2,\n",
    "             color=tableau20[16], lw=4,marker='o', markersize=6)\n",
    "    plt.text(row['icustarttimehr'],150,\n",
    "             str(round(row['rate'],1)) + ' ' + str(row['rateuom']),\n",
    "             fontsize=15)\n",
    "\n",
    "plt.text(-10,145,'Amiodarone',fontsize=17)\n",
    "for i,row in inputs.loc[(inputs[\"label\"] =='Amiodarone 600/500') & (inputs[\"rate\"] > 0)].iterrows():\n",
    "    plt.plot([row['icustarttimehr'],row['icuendtimehr']],[145]*2,\n",
    "             color=tableau20[16], lw=4,marker='o', markersize=6)\n",
    "    plt.text(row['icustarttimehr'],145,\n",
    "             str(round(row['rate'],1)) + ' ' + str(row['rateuom']),\n",
    "             fontsize=15)    \n",
    "\n",
    "plt.text(-10,140,'Dextrose 5%',fontsize=17)\n",
    "for i,row in inputs.loc[(inputs[\"label\"] =='Dextrose 5%') \n",
    "                        & (inputs[\"rate\"] > 0) & (inputs[\"rate\"] < 500)].iterrows():\n",
    "    plt.plot([row['icustarttimehr'],row['icuendtimehr']],[140]*2,\n",
    "             color=tableau20[16], lw=4,marker='o', markersize=6)\n",
    "    plt.text(row['icustarttimehr'],140,\n",
    "             str(round(row['rate'],1)) + ' ' + str(row['rateuom']),\n",
    "             fontsize=15)    \n",
    "\n",
    "plt.text(-10,165,'Morphine Sulfate',fontsize=17)\n",
    "plt.plot(inputs.icustarttimehr[inputs.label=='Morphine Sulfate'],\n",
    "          [165]*len(inputs[inputs.label=='Morphine Sulfate']),\n",
    "          color=tableau20[16], lw=0, marker='o', markersize=6)   \n",
    "    \n",
    "plt.text(-10,160,'Vancomycin (1 dose)',fontsize=17)\n",
    "plt.plot(inputs.icustarttimehr[inputs.label=='Vancomycin'],\n",
    "          [160]*len(inputs[inputs.label=='Vancomycin']),\n",
    "          color=tableau20[16], lw=0, marker='o', markersize=6)\n",
    "    \n",
    "plt.text(-10,155,'Piperacillin (1 dose)',fontsize=17)\n",
    "plt.plot(inputs.icustarttimehr[inputs.label=='Piperacillin/Tazobactam (Zosyn)'],\n",
    "         [155]*len(inputs[inputs.label=='Piperacillin/Tazobactam (Zosyn)']),\n",
    "         color=tableau20[16], lw=0, marker='o', markersize=6)\n",
    "\n",
    "\n",
    "# Plot labs\n",
    "plt.text(-10,175,'Neutrophil, %',fontsize=17)\n",
    "for i, txt in enumerate(labs.value[labs.label=='NEUTROPHILS'].values):\n",
    "        plt.annotate(txt, (labs.icutimehr[labs.label=='NEUTROPHILS'].\n",
    "                           values[i],175),fontsize=17) \n",
    "\n",
    "plt.text(-10,180,'White blood cell, K/uL',fontsize=17)\n",
    "for i, txt in enumerate(labs.value[labs.label=='WHITE BLOOD CELLS'].values):\n",
    "        plt.annotate(txt, (labs.icutimehr[labs.label=='WHITE BLOOD CELLS'].\n",
    "                           values[i],180),fontsize=17)\n",
    "\n",
    "plt.text(-10,185,'Creatinine, mg/dL',fontsize=17)        \n",
    "for i, txt in enumerate(labs.value[labs.label=='CREATININE'].values):\n",
    "        plt.annotate(txt, (labs.icutimehr[labs.label=='CREATININE'].\n",
    "                           values[i],185),fontsize=17)\n",
    "\n",
    "plt.text(-10,190,'Platelet, K/uL',fontsize=17)\n",
    "for i, txt in enumerate(labs.value[labs.label=='PLATELET COUNT'].values):\n",
    "        plt.annotate(txt, (labs.icutimehr[labs.label=='PLATELET COUNT'].\n",
    "                           values[i],190),fontsize=17)\n",
    "\n",
    "# Plot Glasgow Coma Scale\n",
    "plt.text(-10,200,'GCS: Eye',fontsize=17)\n",
    "for i, txt in enumerate(charts.value[charts.label=='GCS - Eye Opening'].values):\n",
    "    if np.mod(i,2)==0 and i < 65:\n",
    "        plt.annotate(txt, (charts.icutimehr[charts.label=='GCS - Eye Opening'].\n",
    "                           values[i],200),fontsize=17)\n",
    "\n",
    "plt.text(-10,205,'GCS: Motor',fontsize=17)\n",
    "for i, txt in enumerate(charts.value[charts.label=='GCS - Motor Response'].values):\n",
    "    if np.mod(i,2)==0 and i < 65:\n",
    "        plt.annotate(txt, (charts.icutimehr[charts.label=='GCS - Motor Response'].\n",
    "                           values[i],205),fontsize=17)\n",
    "\n",
    "plt.text(-10,210,'GCS: Verbal',fontsize=17)  \n",
    "for i, txt in enumerate(charts.value[charts.label=='GCS - Verbal Response'].values):\n",
    "    if np.mod(i,2)==0 and i < 65:\n",
    "        plt.annotate(txt, (charts.icutimehr[charts.label=='GCS - Verbal Response'].\n",
    "                           values[i],210),fontsize=17)\n",
    "\n",
    "# Plot code status\n",
    "plt.text(-10,220,'Code status',fontsize=17) \n",
    "for i, txt in enumerate(charts.value[charts.label=='Code Status'].values):\n",
    "        plt.annotate(txt, (charts.icutimehr[charts.label=='Code Status'].\n",
    "                           values[i],220),fontsize=17)\n",
    "        \n",
    "plt.legend(loc=5,fontsize=18)\n",
    "plt.xlabel('Time after admission to the intensive care unit, hours', fontsize=22)\n",
    "plt.ylabel('Measurement, absolute value', fontsize=22)\n",
    "plt.yticks(np.arange(0, 140, 20))\n",
    "\n",
    "# Save the figure\n",
    "fig.savefig('examplepatient_%s.pdf'%icustay_id, bbox_inches='tight')"
   ]
  },
  {
   "cell_type": "code",
   "execution_count": null,
   "metadata": {},
   "outputs": [],
   "source": []
  }
 ],
 "metadata": {
  "kernelspec": {
   "display_name": "Python 3",
   "language": "python",
   "name": "python3"
  },
  "language_info": {
   "codemirror_mode": {
    "name": "ipython",
    "version": 3
   },
   "file_extension": ".py",
   "mimetype": "text/x-python",
   "name": "python",
   "nbconvert_exporter": "python",
   "pygments_lexer": "ipython3",
   "version": "3.7.6"
  }
 },
 "nbformat": 4,
 "nbformat_minor": 4
}

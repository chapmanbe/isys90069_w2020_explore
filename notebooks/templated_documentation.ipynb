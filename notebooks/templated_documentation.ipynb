{
 "cells": [
  {
   "cell_type": "code",
   "execution_count": null,
   "metadata": {},
   "outputs": [],
   "source": [
    "from IPython.display import HTML, display, IFrame"
   ]
  },
  {
   "cell_type": "code",
   "execution_count": null,
   "metadata": {},
   "outputs": [],
   "source": [
    "IFrame(\"https://www.radreport.org/home/79/2009-12-01%2000:00:00\",700, 600)"
   ]
  },
  {
   "cell_type": "markdown",
   "metadata": {},
   "source": [
    "### MetaData\n",
    "\n",
    "- The teplate provides metadata regarding who defined it, coded it, etc."
   ]
  },
  {
   "cell_type": "markdown",
   "metadata": {},
   "source": [
    "```HTML\n",
    "<head>\n",
    "<meta charset=\"UTF-8\"/>\n",
    "<meta content=\"NM Bone Scan\" name=\"dcterms.title\"/>\n",
    "<meta content=\"NM Bone Scan template :: Authored by Pryma DA, et al.\" name=\"dcterms.description\"/>\n",
    "<meta content=\"http://www.radreport.org/template/0000079\" name=\"dcterms.identifier\"/>\n",
    "<meta content=\"en\" name=\"dcterms.language\"/>\n",
    "<meta content=\"IMAGE_REPORT_TEMPLATE\" name=\"dcterms.type\"/>\n",
    "<meta content=\"Radiological Society of North America (RSNA)\" name=\"dcterms.publisher\"/>\n",
    "<meta content=\"May be used gratis, subject to license agreement\" name=\"dcterms.rights\"/>\n",
    "<meta content=\"http://www.radreport.org/license.pdf\" name=\"dcterms.license\"/>\n",
    "<meta content=\"2012-07-19\" name=\"dcterms.date\"/>\n",
    "<meta content=\"Pryma DA, et al.\" name=\"dcterms.creator\"/>\n",
    "<meta content=\"Hong Y [coder]\" name=\"dcterms.contributor\"/>\n",
    "<meta content=\"Kahn CE Jr [editor]\" name=\"dcterms.contributor\"/>\n",
    "<link rel=\"stylesheet\" type=\"text/css\" href=\"IHE_Template_Style.css\"/>\n",
    "<!-- The absolute link to the CSS file is http://www.radreport.org/html/IHE_Template_Style.css -->\n",
    "```"
   ]
  },
  {
   "cell_type": "markdown",
   "metadata": {},
   "source": [
    "### XML Script\n",
    "\n",
    "- This is beyond my expertise, but the script provides a script that defines the ontologies that are being used and the terms used to define the meaning of the form inputs."
   ]
  },
  {
   "cell_type": "markdown",
   "metadata": {},
   "source": [
    "```HTML\n",
    "<script type=\"text/xml\">\n",
    "<!--\n",
    "<template_attributes>\n",
    "<top-level-flag>true</top-level-flag>\n",
    "<status>ACTIVE</status>\n",
    "<coding_schemes>\n",
    " <coding_scheme name=\"RadLex\" designator=\"2.16.840.1.113883.6.256\" />\n",
    " <coding_scheme name=\"SNOMEDCT\" designator=\"2.16.840.1.113883.6.96\" />\n",
    " <coding_scheme name=\"LOINC\" designator=\"2.16.840.1.113883.6.1\" />\n",
    "</coding_schemes>\n",
    "<term>\n",
    " <code meaning=\"scintigraphy\" value=\"RID34428\" scheme=\"RadLex\">\n",
    "</term>\n",
    "<term>\n",
    " <code meaning=\"skeletal system\" value=\"RID13208\" scheme=\"RadLex\">\n",
    "</term>\n",
    "<coded_content>\n",
    "<entry ORIGTXT=\"T79_15\">\n",
    " <term>\n",
    "  <code meaning=\"radiopharmaceutical\" value=\"RID11692\" scheme=\"RadLex\">\n",
    " </term>\n",
    "</entry>\n",
    "<entry ORIGTXT=\"T79_19\">\n",
    " <term>\n",
    "  <code meaning=\"activity at injection site\" value=\"RID11320\" scheme=\"RadLex\">\n",
    " </term>\n",
    "</entry>\n",
    "<entry ORIGTXT=\"T79_36\">\n",
    " <term>\n",
    "  <code meaning=\"clinical information\" value=\"RID13166\" scheme=\"RadLex\">\n",
    " </term>\n",
    "</entry>\n",
    "<entry ORIGTXT=\"T79_44\">\n",
    " <term>\n",
    "  <code meaning=\"comparison\" value=\"RID28483\" scheme=\"RadLex\">\n",
    " </term>\n",
    "</entry>\n",
    "<entry ORIGTXT=\"T79_80\">\n",
    " <term>\n",
    "  <code meaning=\"bone organ\" value=\"RID13197\" scheme=\"RadLex\">\n",
    " </term>\n",
    "</entry>\n",
    "<entry ORIGTXT=\"T79_82\">\n",
    " <term>\n",
    "  <code meaning=\"soft tissue administration\" value=\"RID11185\" scheme=\"RadLex\">\n",
    " </term>\n",
    "</entry>\n",
    "<entry ORIGTXT=\"T79_84\">\n",
    " <term>\n",
    "  <code meaning=\"kidney\" value=\"RID205\" scheme=\"RadLex\">\n",
    " </term>\n",
    "</entry>\n",
    "<entry ORIGTXT=\"T79_87\">\n",
    " <term>\n",
    "  <code meaning=\"impression section\" value=\"RID13170\" scheme=\"RadLex\">\n",
    " </term>\n",
    "</entry>\n",
    "</coded_content>\n",
    "</template_attributes>\n",
    "-->\n",
    "</script>\n",
    "<title>NM Bone Scan</title>\n",
    "</head>\n",
    "```"
   ]
  },
  {
   "cell_type": "markdown",
   "metadata": {},
   "source": [
    "### The Form\n",
    "\n",
    "- The form is a combination of free text and structured input. \n",
    "    - Note that there is some minimal data validation going on.\n",
    "- Default values provided for some text fields."
   ]
  },
  {
   "cell_type": "markdown",
   "metadata": {},
   "source": [
    "<body>\n",
    "<section data-section-name=\"Procedure\">\n",
    "<header class=\"level1\">NM Bone Scan</header>\n",
    "<p>\n",
    "<label for=\"T79_15\">Radiopharmaceutical: Tc-99m MDP</label>\n",
    "<input type=\"number\" id=\"T79_15\" name=\"Radiopharmaceutical Tc-99m MDP\" data-field-units=\"mCi\" min=\"0\" max=\"\"/> <label for=\"T79_15\">mCi IV</label>\n",
    "</p>\n",
    "<p>\n",
    "<label for=\"T79_19\">Injection site:</label>\n",
    "<input type=\"text\" id=\"T79_19\" name=\"Injection site\" value=\"\"/>\n",
    "</p>\n",
    "<p>\n",
    "<label for=\"T79_35\">Post-injection imaging delay:</label>\n",
    "<input type=\"number\" id=\"T79_35\" name=\"Post-injection imaging delay\" data-field-units=\"hr\" min=\"\" max=\"\"/> <label for=\"T79_35\">hr</label>\n",
    "</p>\n",
    "</section>\n",
    "<section data-section-name=\"Clinical information\">\n",
    "<header class=\"level1\">Clinical information</header>\n",
    "<p>\n",
    "<textarea id=\"T79_36\" name=\"Clinical information\"> </textarea>\n",
    "</p>\n",
    "</section>\n",
    "<section data-section-name=\"Comparison\">\n",
    "<header class=\"level1\">Comparison</header>\n",
    "<p>\n",
    "<textarea id=\"T79_44\" name=\"Comparison\">None. </textarea>\n",
    "</p>\n",
    "</section>\n",
    "<section data-section-name=\"Findings\">\n",
    "<header class=\"level1\">Findings</header>\n",
    "<p>\n",
    "<label for=\"T79_80\">Bone lesions:</label>\n",
    "<input type=\"text\" id=\"T79_80\" name=\"Bone lesions\" value=\"There are no osseous lesions suspicious for metastatic disease. \"/>\n",
    "</p>\n",
    "<p>\n",
    "<label for=\"T79_82\">Soft tissue contours:</label>\n",
    "<input type=\"text\" id=\"T79_82\" name=\"Soft tissue contours\" value=\"Normal. \"/>\n",
    "</p>\n",
    "<p>\n",
    "<label for=\"T79_84\">Kidneys:</label>\n",
    "<input type=\"text\" id=\"T79_84\" name=\"Kidneys\" value=\"Normal. \"/>\n",
    "</p>\n",
    "<p>\n",
    "<label for=\"T79_86\">Other findings:</label>\n",
    "<input type=\"text\" id=\"T79_86\" name=\"Other findings\" value=\"None. \"/>\n",
    "</p>\n",
    "</section>\n",
    "<section data-section-name=\"Impression\">\n",
    "<header class=\"level1\">Impression</header>\n",
    "<p>\n",
    "<textarea id=\"T79_87\" name=\"Impression\">No evidence of osseous metastatic disease. </textarea>\n",
    "</p>\n",
    "</section>\n",
    "</body>\n",
    "</html>"
   ]
  },
  {
   "cell_type": "markdown",
   "metadata": {},
   "source": [
    "## What Happens After the Fact?\n",
    "\n",
    "These templates are probably a pretty good solution. They allow for free text dictation or typing so feel natural to the radiologist. The structure pushes the report towards completeness. But we are still left with the potential challenge of the radiologist using obfuscating, obscure, and/or non-standard language in the free text inputs. \n",
    "\n",
    "But perhaps a bigger problem is what happens to the form after the fact. Often the entire forms are simply converted into free text, losing all the metadata definitions. "
   ]
  }
 ],
 "metadata": {
  "kernelspec": {
   "display_name": "Python 3",
   "language": "python",
   "name": "python3"
  },
  "language_info": {
   "codemirror_mode": {
    "name": "ipython",
    "version": 3
   },
   "file_extension": ".py",
   "mimetype": "text/x-python",
   "name": "python",
   "nbconvert_exporter": "python",
   "pygments_lexer": "ipython3",
   "version": "3.7.6"
  }
 },
 "nbformat": 4,
 "nbformat_minor": 4
}

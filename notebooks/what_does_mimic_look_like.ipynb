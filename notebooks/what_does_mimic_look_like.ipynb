{
 "cells": [
  {
   "cell_type": "markdown",
   "metadata": {},
   "source": [
    "# A Quick Look at the MIMIC III Data Set\n",
    "\n"
   ]
  },
  {
   "cell_type": "code",
   "execution_count": 6,
   "metadata": {
    "deletable": true
   },
   "outputs": [],
   "source": [
    "import warnings\n",
    "warnings.simplefilter(\"ignore\")\n",
    "from cdsutils.mutils import *\n",
    "from cdsutils.mysql import *\n",
    "import numpy as np\n",
    "import numpy.random as ra\n",
    "import ipywidgets as ipw\n",
    "from getpass import getpass\n",
    "schema=None"
   ]
  },
  {
   "cell_type": "markdown",
   "metadata": {},
   "source": [
    "MIMIC III data are stored in a relational database. This is not an exploration of relational database theory or data modeling, but here is my novice quick description.\n",
    "\n",
    "* Relational databases seek to achieve accurate data representation by eliminating (reducing)  data redundancies and thus the opportunities for data inconsistencies.\n",
    "\n",
    "This is achieved by splitting data across **tables** and then **joining** the data back together when required."
   ]
  },
  {
   "cell_type": "markdown",
   "metadata": {},
   "source": [
    "### First we need to generate a connection to the MIMIC database\n",
    "\n",
    "As you work through this notebook, you might occasionally get an error that looks something like this (although much longer):\n",
    "\n",
    "```Python\n",
    "OperationalError: (psycopg2.OperationalError) server closed the connection unexpectedly\n",
    "\tThis probably means the server terminated abnormally\n",
    "\tbefore or while processing the request.\n",
    "\n",
    "```\n",
    "\n",
    "This just means that the connection with the database has timed out. All you need to do is come back up here and rerun the code below to get a new database connection."
   ]
  },
  {
   "cell_type": "code",
   "execution_count": 3,
   "metadata": {},
   "outputs": [],
   "source": [
    "conn = get_mimic_connection()"
   ]
  },
  {
   "cell_type": "markdown",
   "metadata": {
    "deletable": true,
    "editable": true
   },
   "source": [
    "## Let's take a look at the tables\n",
    "\n",
    ">Before you can do anything, you have to understand tables. If you don't have a table, you have nothing to work on. The table is the standard unit of information in a relational database. Everything revolves around tables. Tables are composed of rows and columns. And while that sounds simple, the sad truth is that tables are not simple. (*The Definitive Guide to SQLite*, p. 80 [owens2006definitive})\n",
    "\n",
    "\n",
    "Since I said data are split across tables, let's look at the tables in the MIMIC II demo database.\n",
    "\n",
    "### Take a look at the Tables in the Database"
   ]
  },
  {
   "cell_type": "code",
   "execution_count": 4,
   "metadata": {
    "deletable": true
   },
   "outputs": [
    {
     "data": {
      "text/html": [
       "<table>\n",
       "  <tr>\n",
       "    <td>a_chartdurations</td>\n",
       "    <td>a_iodurations</td>\n",
       "    <td>a_meddurations</td>\n",
       "    <td>additives</td>\n",
       "    <td>admissions</td>\n",
       "    <td>censusevents</td>\n",
       "    <td>chartevents</td>\n",
       "  </tr>\n",
       "  <tr>\n",
       "    <td>comorbidity_scores</td>\n",
       "    <td>d_caregivers</td>\n",
       "    <td>d_careunits</td>\n",
       "    <td>d_chartitems</td>\n",
       "    <td>d_chartitems_detail</td>\n",
       "    <td>d_codeditems</td>\n",
       "    <td>d_demographicitems</td>\n",
       "  </tr>\n",
       "  <tr>\n",
       "    <td>d_ioitems</td>\n",
       "    <td>d_labitems</td>\n",
       "    <td>d_meditems</td>\n",
       "    <td>d_parammap_items</td>\n",
       "    <td>d_patients</td>\n",
       "    <td>db_schema</td>\n",
       "    <td>deliveries</td>\n",
       "  </tr>\n",
       "  <tr>\n",
       "    <td>demographic_detail</td>\n",
       "    <td>demographicevents</td>\n",
       "    <td>drgevents</td>\n",
       "    <td>icd9</td>\n",
       "    <td>icustay_days</td>\n",
       "    <td>icustay_detail</td>\n",
       "    <td>icustayevents</td>\n",
       "  </tr>\n",
       "  <tr>\n",
       "    <td>ioevents</td>\n",
       "    <td>labevents</td>\n",
       "    <td>medevents</td>\n",
       "    <td>microbiologyevents</td>\n",
       "    <td>noteevents</td>\n",
       "    <td>parameter_mapping</td>\n",
       "    <td>poe_med</td>\n",
       "  </tr>\n",
       "  <tr>\n",
       "    <td>poe_order</td>\n",
       "    <td>procedureevents</td>\n",
       "    <td>totalbalevents</td>\n",
       "    <td>&nbsp;</td>\n",
       "    <td>&nbsp;</td>\n",
       "    <td>&nbsp;</td>\n",
       "    <td>&nbsp;</td>\n",
       "  </tr>\n",
       "</table>"
      ],
      "text/plain": [
       "<IPython.core.display.HTML object>"
      ]
     },
     "execution_count": 4,
     "metadata": {},
     "output_type": "execute_result"
    }
   ],
   "source": [
    "HTML(dlist(conn.list_tables(), ncols=7, sort=True))"
   ]
  },
  {
   "cell_type": "code",
   "execution_count": 8,
   "metadata": {},
   "outputs": [
    {
     "data": {
      "text/html": [
       "<div>\n",
       "<style scoped>\n",
       "    .dataframe tbody tr th:only-of-type {\n",
       "        vertical-align: middle;\n",
       "    }\n",
       "\n",
       "    .dataframe tbody tr th {\n",
       "        vertical-align: top;\n",
       "    }\n",
       "\n",
       "    .dataframe thead th {\n",
       "        text-align: right;\n",
       "    }\n",
       "</style>\n",
       "<table border=\"1\" class=\"dataframe\">\n",
       "  <thead>\n",
       "    <tr style=\"text-align: right;\">\n",
       "      <th></th>\n",
       "      <th>hadm_id</th>\n",
       "      <th>subject_id</th>\n",
       "      <th>admit_dt</th>\n",
       "      <th>disch_dt</th>\n",
       "    </tr>\n",
       "  </thead>\n",
       "  <tbody>\n",
       "    <tr>\n",
       "      <th>0</th>\n",
       "      <td>2</td>\n",
       "      <td>24807</td>\n",
       "      <td>3033-07-08 00:00:00</td>\n",
       "      <td>3033-07-17 00:00:00</td>\n",
       "    </tr>\n",
       "    <tr>\n",
       "      <th>1</th>\n",
       "      <td>3</td>\n",
       "      <td>7675</td>\n",
       "      <td>3388-05-16 00:00:00</td>\n",
       "      <td>3388-05-21 00:00:00</td>\n",
       "    </tr>\n",
       "    <tr>\n",
       "      <th>2</th>\n",
       "      <td>6</td>\n",
       "      <td>23547</td>\n",
       "      <td>3381-04-03 00:00:00</td>\n",
       "      <td>3381-04-22 00:00:00</td>\n",
       "    </tr>\n",
       "    <tr>\n",
       "      <th>3</th>\n",
       "      <td>10</td>\n",
       "      <td>14884</td>\n",
       "      <td>3015-08-28 00:00:00</td>\n",
       "      <td>3015-09-05 00:00:00</td>\n",
       "    </tr>\n",
       "    <tr>\n",
       "      <th>4</th>\n",
       "      <td>12</td>\n",
       "      <td>8652</td>\n",
       "      <td>3125-09-11 00:00:00</td>\n",
       "      <td>3125-09-22 00:00:00</td>\n",
       "    </tr>\n",
       "    <tr>\n",
       "      <th>...</th>\n",
       "      <td>...</td>\n",
       "      <td>...</td>\n",
       "      <td>...</td>\n",
       "      <td>...</td>\n",
       "    </tr>\n",
       "    <tr>\n",
       "      <th>5069</th>\n",
       "      <td>36005</td>\n",
       "      <td>29309</td>\n",
       "      <td>2541-12-11 00:00:00</td>\n",
       "      <td>2541-12-20 00:00:00</td>\n",
       "    </tr>\n",
       "    <tr>\n",
       "      <th>5070</th>\n",
       "      <td>36069</td>\n",
       "      <td>32711</td>\n",
       "      <td>3143-05-20 00:00:00</td>\n",
       "      <td>3143-05-22 00:00:00</td>\n",
       "    </tr>\n",
       "    <tr>\n",
       "      <th>5071</th>\n",
       "      <td>36071</td>\n",
       "      <td>32667</td>\n",
       "      <td>2866-02-18 00:00:00</td>\n",
       "      <td>2866-02-27 00:00:00</td>\n",
       "    </tr>\n",
       "    <tr>\n",
       "      <th>5072</th>\n",
       "      <td>36077</td>\n",
       "      <td>31134</td>\n",
       "      <td>2724-04-24 00:00:00</td>\n",
       "      <td>2724-04-27 00:00:00</td>\n",
       "    </tr>\n",
       "    <tr>\n",
       "      <th>5073</th>\n",
       "      <td>36103</td>\n",
       "      <td>28191</td>\n",
       "      <td>2675-04-27 00:00:00</td>\n",
       "      <td>2675-04-28 00:00:00</td>\n",
       "    </tr>\n",
       "  </tbody>\n",
       "</table>\n",
       "<p>5074 rows × 4 columns</p>\n",
       "</div>"
      ],
      "text/plain": [
       "      hadm_id  subject_id             admit_dt             disch_dt\n",
       "0           2       24807  3033-07-08 00:00:00  3033-07-17 00:00:00\n",
       "1           3        7675  3388-05-16 00:00:00  3388-05-21 00:00:00\n",
       "2           6       23547  3381-04-03 00:00:00  3381-04-22 00:00:00\n",
       "3          10       14884  3015-08-28 00:00:00  3015-09-05 00:00:00\n",
       "4          12        8652  3125-09-11 00:00:00  3125-09-22 00:00:00\n",
       "...       ...         ...                  ...                  ...\n",
       "5069    36005       29309  2541-12-11 00:00:00  2541-12-20 00:00:00\n",
       "5070    36069       32711  3143-05-20 00:00:00  3143-05-22 00:00:00\n",
       "5071    36071       32667  2866-02-18 00:00:00  2866-02-27 00:00:00\n",
       "5072    36077       31134  2724-04-24 00:00:00  2724-04-27 00:00:00\n",
       "5073    36103       28191  2675-04-27 00:00:00  2675-04-28 00:00:00\n",
       "\n",
       "[5074 rows x 4 columns]"
      ]
     },
     "execution_count": 8,
     "metadata": {},
     "output_type": "execute_result"
    }
   ],
   "source": [
    "ta = conn.table(\"admissions\", schema=schema)\n",
    "ta.execute()"
   ]
  },
  {
   "cell_type": "markdown",
   "metadata": {
    "deletable": true,
    "editable": true
   },
   "source": [
    "## What are in the tables?\n",
    "### Ibis Provides two ways to see the definitions of each table\n",
    "\n",
    "1. `info()`\n",
    "1. `schema()1\n",
    "#### `info`"
   ]
  },
  {
   "cell_type": "code",
   "execution_count": 11,
   "metadata": {},
   "outputs": [
    {
     "name": "stdout",
     "output_type": "stream",
     "text": [
      "Table rows: 5844\n",
      "\n",
      "Column    Type      Non-null #\n",
      "------    ----      ----------\n",
      "icustay_idint32[non-nullable]5844      \n",
      "subject_idint32[non-nullable]5844      \n",
      "intime    Timestamp(timezone=None, nullable=False)5844      \n",
      "outtime   Timestamp(timezone=None, nullable=False)5844      \n",
      "los       float64[non-nullable]5844      \n",
      "first_careunitint32     5844      \n",
      "last_careunitint32     5844      \n"
     ]
    }
   ],
   "source": [
    "t = conn.table(\"icustayevents\", schema=schema)\n",
    "t.info()\n"
   ]
  },
  {
   "cell_type": "markdown",
   "metadata": {},
   "source": [
    "This is fairly ugly output, but tells us quite a bit about the table\n",
    "\n",
    "- `Column`: This is the column name\n",
    "- `Type`: This provides two pieces of information\n",
    "    - The data type used to represent the data (e.g. `int32` (a 32 bit integer)\n",
    "    - Whether the value is `nullable` (can be missing)\n",
    "        - Example: `row_id` is represented with a 32 bit integer and CANNOT be missing\n",
    "        - Example: `outtime` is represented with a `TimeStamp` and CAN be missing\n",
    "- `Non-NULL #`: The number of rows in the table with non-NULL values for that column"
   ]
  },
  {
   "cell_type": "markdown",
   "metadata": {},
   "source": [
    "#### `schema()`\n",
    "\n",
    "`schema()` returns a dictionary-like object that provides the column names and the data tuype for the column, but does not provide any information about whether the value can be missing or not."
   ]
  },
  {
   "cell_type": "code",
   "execution_count": 12,
   "metadata": {},
   "outputs": [
    {
     "data": {
      "text/html": [
       "\n",
       "<table>\n",
       "   <tr>\n",
       "   \n",
       "        <th style=\"text-align:left\"> icustay_id </th>\n",
       "   \n",
       "        <th style=\"text-align:left\"> subject_id </th>\n",
       "   \n",
       "        <th style=\"text-align:left\"> intime </th>\n",
       "   \n",
       "        <th style=\"text-align:left\"> outtime </th>\n",
       "   \n",
       "        <th style=\"text-align:left\"> los </th>\n",
       "   \n",
       "        <th style=\"text-align:left\"> first_careunit </th>\n",
       "   \n",
       "        <th style=\"text-align:left\"> last_careunit </th>\n",
       "   \n",
       "   </tr>\n",
       "   \n",
       "        <td style=\"text-align:left\"> int32 </td>\n",
       "   \n",
       "        <td style=\"text-align:left\"> int32 </td>\n",
       "   \n",
       "        <td style=\"text-align:left\"> timestamp </td>\n",
       "   \n",
       "        <td style=\"text-align:left\"> timestamp </td>\n",
       "   \n",
       "        <td style=\"text-align:left\"> float64 </td>\n",
       "   \n",
       "        <td style=\"text-align:left\"> int32 </td>\n",
       "   \n",
       "        <td style=\"text-align:left\"> int32 </td>\n",
       "   \n",
       "   </tr>\n",
       "</table>"
      ],
      "text/plain": [
       "<IPython.core.display.HTML object>"
      ]
     },
     "execution_count": 12,
     "metadata": {},
     "output_type": "execute_result"
    }
   ],
   "source": [
    "view_dict(t.schema())"
   ]
  },
  {
   "cell_type": "code",
   "execution_count": null,
   "metadata": {},
   "outputs": [],
   "source": [
    "view_table(\"diagnoses_icd\", conn)"
   ]
  },
  {
   "cell_type": "markdown",
   "metadata": {
    "deletable": true,
    "editable": true
   },
   "source": [
    "### Take a look at `d_patients`\n",
    "\n",
    "This is the table that defines the individuals in the rest of the database. Each individual is  characterized by a unique identifer (`subject_id`), their sex described by a single-character, a date of birth, a date of death, and a single-character flag indicating whether the patient died in the hospital. "
   ]
  },
  {
   "cell_type": "code",
   "execution_count": 13,
   "metadata": {
    "scrolled": true
   },
   "outputs": [
    {
     "data": {
      "application/vnd.jupyter.widget-view+json": {
       "model_id": "33b82695716b45fca27a5576fdd9f38e",
       "version_major": 2,
       "version_minor": 0
      },
      "text/plain": [
       "interactive(children=(IntSlider(value=5, description='num', max=20, min=5), IntSlider(value=0, description='st…"
      ]
     },
     "metadata": {},
     "output_type": "display_data"
    }
   ],
   "source": [
    "view_table(\"d_patients\", conn)"
   ]
  },
  {
   "cell_type": "markdown",
   "metadata": {},
   "source": [
    "The [documentation](https://mimic.physionet.org/mimictables/patients/) tell us that this table links to `admission` and `icustays` vis the  `subject_id` value.\n",
    "\n",
    "There are three different date of death columns. You can read about the differences and decide which value you would want to use.\n",
    "\n",
    "- `NaT` represents a __missing time__.\n",
    "- `gender`: `GENDER is the genotypical sex of the patient`\n",
    "\n",
    "According to the WHO\n",
    "\n",
    ">Humans are born with 46 chromosomes in 23 pairs. The X and Y chromosomes determine a person’s sex. Most women are 46XX and most men are 46XY. Research suggests, however, that in a few births per thousand some individuals will be born with a single sex chromosome (45X or 45Y) (sex monosomies) and some with three or more sex chromosomes (47XXX, 47XYY or 47XXY, etc.) (sex polysomies). In addition, some males are born 46XX due to the translocation of a tiny section of the sex determining region of the Y chromosome. Similarly some females are also born 46XY due to mutations in the Y chromosome. Clearly, there are not only females who are XX and males who are XY, but rather, there is a range of chromosome complements, hormone balances, and phenotypic variations that determine sex. ([\"Gender and Genetics\"](https://www.who.int/genomics/gender/en/index1.html#:~:text=The%20X%20and%20Y%20chromosomes,47XYY%20or%2047XXY%2C%20etc.)))\n",
    "\n",
    "So how many different genders are in the database?\n",
    "\n",
    "We can use the `dictinct` method to get the unique values in a column:"
   ]
  },
  {
   "cell_type": "code",
   "execution_count": null,
   "metadata": {},
   "outputs": [],
   "source": [
    "t_pat = conn.table(\"patients\", schema=schema)\n",
    "t_pat['gender'].distinct().execute(limit=None)"
   ]
  },
  {
   "cell_type": "code",
   "execution_count": null,
   "metadata": {
    "scrolled": true
   },
   "outputs": [],
   "source": [
    "t_pat.filter([t_pat.gender=='M']).count().execute(limit=None)"
   ]
  },
  {
   "cell_type": "markdown",
   "metadata": {},
   "source": [
    "## How many total patients are there?\n",
    "\n",
    "- `count()` counts the number of rows in the table\n",
    "- A Note about execute: "
   ]
  },
  {
   "cell_type": "code",
   "execution_count": null,
   "metadata": {},
   "outputs": [],
   "source": [
    "t_pat.count().execute(limit=None)"
   ]
  },
  {
   "cell_type": "markdown",
   "metadata": {},
   "source": [
    "### Look at [`admissions`](https://mimic.physionet.org/mimictables/admissions/) "
   ]
  },
  {
   "cell_type": "code",
   "execution_count": null,
   "metadata": {},
   "outputs": [],
   "source": [
    "view_table(\"admissions\", conn)"
   ]
  },
  {
   "cell_type": "markdown",
   "metadata": {},
   "source": [
    "In addition to the admission, and discharge information, this table also contains demographic information."
   ]
  },
  {
   "cell_type": "markdown",
   "metadata": {
    "deletable": true,
    "editable": true
   },
   "source": [
    "### Examine [`prescriptions`](https://mimic.physionet.org/mimictables/prescriptions/)\n",
    "\n",
    "For a patient being given medication (medication event), we would want to know things like who was the medicine given to, who gave it to them, what was the medicine, when was it given, etc.\n",
    "\n",
    "Examining the `prescription` table we an see  the nature of a relational database\n"
   ]
  },
  {
   "cell_type": "code",
   "execution_count": null,
   "metadata": {},
   "outputs": [],
   "source": [
    "t_pre = conn.table(\"prescriptions\", schema=schema)\n",
    "t_pre.info()"
   ]
  },
  {
   "cell_type": "code",
   "execution_count": null,
   "metadata": {
    "deletable": true,
    "editable": true
   },
   "outputs": [],
   "source": [
    "display(view_dict(conn.table(\"prescriptions\", schema=schema).schema()))\n",
    "view_table(\"prescriptions\", conn)"
   ]
  }
 ],
 "metadata": {
  "kernelspec": {
   "display_name": "Python 3",
   "language": "python",
   "name": "python3"
  },
  "language_info": {
   "codemirror_mode": {
    "name": "ipython",
    "version": 3
   },
   "file_extension": ".py",
   "mimetype": "text/x-python",
   "name": "python",
   "nbconvert_exporter": "python",
   "pygments_lexer": "ipython3",
   "version": "3.7.6"
  }
 },
 "nbformat": 4,
 "nbformat_minor": 4
}
